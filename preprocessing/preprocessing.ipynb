{
 "cells": [
  {
   "cell_type": "markdown",
   "metadata": {},
   "source": [
    "# Исследование надёжности заёмщиков\n",
    "\n",
    "Заказчик — кредитный отдел банка. Нужно разобраться, влияет ли семейное положение и количество детей клиента на факт погашения кредита в срок. Входные данные от банка — статистика о платёжеспособности клиентов.\n",
    "\n",
    "Результаты исследования будут учтены при построении модели **кредитного скоринга** — специальной системы, которая оценивает способность потенциального заёмщика вернуть кредит банку."
   ]
  },
  {
   "cell_type": "markdown",
   "metadata": {},
   "source": [
    "# Шаг 1. Откройте файл с данными и изучите общую информацию"
   ]
  },
  {
   "cell_type": "code",
   "execution_count": 1,
   "metadata": {},
   "outputs": [],
   "source": [
    "#используемые библиотеки\n",
    "\n",
    "import pandas as pd"
   ]
  },
  {
   "cell_type": "code",
   "execution_count": 2,
   "metadata": {
    "scrolled": true
   },
   "outputs": [
    {
     "data": {
      "text/html": [
       "<div>\n",
       "<style scoped>\n",
       "    .dataframe tbody tr th:only-of-type {\n",
       "        vertical-align: middle;\n",
       "    }\n",
       "\n",
       "    .dataframe tbody tr th {\n",
       "        vertical-align: top;\n",
       "    }\n",
       "\n",
       "    .dataframe thead th {\n",
       "        text-align: right;\n",
       "    }\n",
       "</style>\n",
       "<table border=\"1\" class=\"dataframe\">\n",
       "  <thead>\n",
       "    <tr style=\"text-align: right;\">\n",
       "      <th></th>\n",
       "      <th>children</th>\n",
       "      <th>days_employed</th>\n",
       "      <th>dob_years</th>\n",
       "      <th>education</th>\n",
       "      <th>education_id</th>\n",
       "      <th>family_status</th>\n",
       "      <th>family_status_id</th>\n",
       "      <th>gender</th>\n",
       "      <th>income_type</th>\n",
       "      <th>debt</th>\n",
       "      <th>total_income</th>\n",
       "      <th>purpose</th>\n",
       "    </tr>\n",
       "  </thead>\n",
       "  <tbody>\n",
       "    <tr>\n",
       "      <td>0</td>\n",
       "      <td>1</td>\n",
       "      <td>-8437.673028</td>\n",
       "      <td>42</td>\n",
       "      <td>высшее</td>\n",
       "      <td>0</td>\n",
       "      <td>женат / замужем</td>\n",
       "      <td>0</td>\n",
       "      <td>F</td>\n",
       "      <td>сотрудник</td>\n",
       "      <td>0</td>\n",
       "      <td>253875.639453</td>\n",
       "      <td>покупка жилья</td>\n",
       "    </tr>\n",
       "    <tr>\n",
       "      <td>1</td>\n",
       "      <td>1</td>\n",
       "      <td>-4024.803754</td>\n",
       "      <td>36</td>\n",
       "      <td>среднее</td>\n",
       "      <td>1</td>\n",
       "      <td>женат / замужем</td>\n",
       "      <td>0</td>\n",
       "      <td>F</td>\n",
       "      <td>сотрудник</td>\n",
       "      <td>0</td>\n",
       "      <td>112080.014102</td>\n",
       "      <td>приобретение автомобиля</td>\n",
       "    </tr>\n",
       "    <tr>\n",
       "      <td>2</td>\n",
       "      <td>0</td>\n",
       "      <td>-5623.422610</td>\n",
       "      <td>33</td>\n",
       "      <td>Среднее</td>\n",
       "      <td>1</td>\n",
       "      <td>женат / замужем</td>\n",
       "      <td>0</td>\n",
       "      <td>M</td>\n",
       "      <td>сотрудник</td>\n",
       "      <td>0</td>\n",
       "      <td>145885.952297</td>\n",
       "      <td>покупка жилья</td>\n",
       "    </tr>\n",
       "    <tr>\n",
       "      <td>3</td>\n",
       "      <td>3</td>\n",
       "      <td>-4124.747207</td>\n",
       "      <td>32</td>\n",
       "      <td>среднее</td>\n",
       "      <td>1</td>\n",
       "      <td>женат / замужем</td>\n",
       "      <td>0</td>\n",
       "      <td>M</td>\n",
       "      <td>сотрудник</td>\n",
       "      <td>0</td>\n",
       "      <td>267628.550329</td>\n",
       "      <td>дополнительное образование</td>\n",
       "    </tr>\n",
       "    <tr>\n",
       "      <td>4</td>\n",
       "      <td>0</td>\n",
       "      <td>340266.072047</td>\n",
       "      <td>53</td>\n",
       "      <td>среднее</td>\n",
       "      <td>1</td>\n",
       "      <td>гражданский брак</td>\n",
       "      <td>1</td>\n",
       "      <td>F</td>\n",
       "      <td>пенсионер</td>\n",
       "      <td>0</td>\n",
       "      <td>158616.077870</td>\n",
       "      <td>сыграть свадьбу</td>\n",
       "    </tr>\n",
       "    <tr>\n",
       "      <td>...</td>\n",
       "      <td>...</td>\n",
       "      <td>...</td>\n",
       "      <td>...</td>\n",
       "      <td>...</td>\n",
       "      <td>...</td>\n",
       "      <td>...</td>\n",
       "      <td>...</td>\n",
       "      <td>...</td>\n",
       "      <td>...</td>\n",
       "      <td>...</td>\n",
       "      <td>...</td>\n",
       "      <td>...</td>\n",
       "    </tr>\n",
       "    <tr>\n",
       "      <td>21520</td>\n",
       "      <td>1</td>\n",
       "      <td>-4529.316663</td>\n",
       "      <td>43</td>\n",
       "      <td>среднее</td>\n",
       "      <td>1</td>\n",
       "      <td>гражданский брак</td>\n",
       "      <td>1</td>\n",
       "      <td>F</td>\n",
       "      <td>компаньон</td>\n",
       "      <td>0</td>\n",
       "      <td>224791.862382</td>\n",
       "      <td>операции с жильем</td>\n",
       "    </tr>\n",
       "    <tr>\n",
       "      <td>21521</td>\n",
       "      <td>0</td>\n",
       "      <td>343937.404131</td>\n",
       "      <td>67</td>\n",
       "      <td>среднее</td>\n",
       "      <td>1</td>\n",
       "      <td>женат / замужем</td>\n",
       "      <td>0</td>\n",
       "      <td>F</td>\n",
       "      <td>пенсионер</td>\n",
       "      <td>0</td>\n",
       "      <td>155999.806512</td>\n",
       "      <td>сделка с автомобилем</td>\n",
       "    </tr>\n",
       "    <tr>\n",
       "      <td>21522</td>\n",
       "      <td>1</td>\n",
       "      <td>-2113.346888</td>\n",
       "      <td>38</td>\n",
       "      <td>среднее</td>\n",
       "      <td>1</td>\n",
       "      <td>гражданский брак</td>\n",
       "      <td>1</td>\n",
       "      <td>M</td>\n",
       "      <td>сотрудник</td>\n",
       "      <td>1</td>\n",
       "      <td>89672.561153</td>\n",
       "      <td>недвижимость</td>\n",
       "    </tr>\n",
       "    <tr>\n",
       "      <td>21523</td>\n",
       "      <td>3</td>\n",
       "      <td>-3112.481705</td>\n",
       "      <td>38</td>\n",
       "      <td>среднее</td>\n",
       "      <td>1</td>\n",
       "      <td>женат / замужем</td>\n",
       "      <td>0</td>\n",
       "      <td>M</td>\n",
       "      <td>сотрудник</td>\n",
       "      <td>1</td>\n",
       "      <td>244093.050500</td>\n",
       "      <td>на покупку своего автомобиля</td>\n",
       "    </tr>\n",
       "    <tr>\n",
       "      <td>21524</td>\n",
       "      <td>2</td>\n",
       "      <td>-1984.507589</td>\n",
       "      <td>40</td>\n",
       "      <td>среднее</td>\n",
       "      <td>1</td>\n",
       "      <td>женат / замужем</td>\n",
       "      <td>0</td>\n",
       "      <td>F</td>\n",
       "      <td>сотрудник</td>\n",
       "      <td>0</td>\n",
       "      <td>82047.418899</td>\n",
       "      <td>на покупку автомобиля</td>\n",
       "    </tr>\n",
       "  </tbody>\n",
       "</table>\n",
       "<p>21525 rows × 12 columns</p>\n",
       "</div>"
      ],
      "text/plain": [
       "       children  days_employed  dob_years education  education_id  \\\n",
       "0             1   -8437.673028         42    высшее             0   \n",
       "1             1   -4024.803754         36   среднее             1   \n",
       "2             0   -5623.422610         33   Среднее             1   \n",
       "3             3   -4124.747207         32   среднее             1   \n",
       "4             0  340266.072047         53   среднее             1   \n",
       "...         ...            ...        ...       ...           ...   \n",
       "21520         1   -4529.316663         43   среднее             1   \n",
       "21521         0  343937.404131         67   среднее             1   \n",
       "21522         1   -2113.346888         38   среднее             1   \n",
       "21523         3   -3112.481705         38   среднее             1   \n",
       "21524         2   -1984.507589         40   среднее             1   \n",
       "\n",
       "          family_status  family_status_id gender income_type  debt  \\\n",
       "0       женат / замужем                 0      F   сотрудник     0   \n",
       "1       женат / замужем                 0      F   сотрудник     0   \n",
       "2       женат / замужем                 0      M   сотрудник     0   \n",
       "3       женат / замужем                 0      M   сотрудник     0   \n",
       "4      гражданский брак                 1      F   пенсионер     0   \n",
       "...                 ...               ...    ...         ...   ...   \n",
       "21520  гражданский брак                 1      F   компаньон     0   \n",
       "21521   женат / замужем                 0      F   пенсионер     0   \n",
       "21522  гражданский брак                 1      M   сотрудник     1   \n",
       "21523   женат / замужем                 0      M   сотрудник     1   \n",
       "21524   женат / замужем                 0      F   сотрудник     0   \n",
       "\n",
       "        total_income                       purpose  \n",
       "0      253875.639453                 покупка жилья  \n",
       "1      112080.014102       приобретение автомобиля  \n",
       "2      145885.952297                 покупка жилья  \n",
       "3      267628.550329    дополнительное образование  \n",
       "4      158616.077870               сыграть свадьбу  \n",
       "...              ...                           ...  \n",
       "21520  224791.862382             операции с жильем  \n",
       "21521  155999.806512          сделка с автомобилем  \n",
       "21522   89672.561153                  недвижимость  \n",
       "21523  244093.050500  на покупку своего автомобиля  \n",
       "21524   82047.418899         на покупку автомобиля  \n",
       "\n",
       "[21525 rows x 12 columns]"
      ]
     },
     "execution_count": 2,
     "metadata": {},
     "output_type": "execute_result"
    }
   ],
   "source": [
    "#загрузка данных\n",
    "\n",
    "from io import BytesIO\n",
    "import requests\n",
    "spreadsheet_id = '1BcksdDMjtj_VVBuAznyyzSM_ru1LgXF1HkfkliNHotA'\n",
    "file_name = 'https://docs.google.com/spreadsheets/d/{}/export?format=csv'.format(spreadsheet_id)\n",
    "r = requests.get(file_name)\n",
    "data = pd.read_csv(BytesIO(r.content))\n",
    "data"
   ]
  },
  {
   "cell_type": "markdown",
   "metadata": {},
   "source": [
    "    Для удобства и во избежание дальнейших ошибок, переведем весь тест в нижний регистр."
   ]
  },
  {
   "cell_type": "code",
   "execution_count": 3,
   "metadata": {},
   "outputs": [
    {
     "data": {
      "text/html": [
       "<div>\n",
       "<style scoped>\n",
       "    .dataframe tbody tr th:only-of-type {\n",
       "        vertical-align: middle;\n",
       "    }\n",
       "\n",
       "    .dataframe tbody tr th {\n",
       "        vertical-align: top;\n",
       "    }\n",
       "\n",
       "    .dataframe thead th {\n",
       "        text-align: right;\n",
       "    }\n",
       "</style>\n",
       "<table border=\"1\" class=\"dataframe\">\n",
       "  <thead>\n",
       "    <tr style=\"text-align: right;\">\n",
       "      <th></th>\n",
       "      <th>children</th>\n",
       "      <th>days_employed</th>\n",
       "      <th>dob_years</th>\n",
       "      <th>education</th>\n",
       "      <th>education_id</th>\n",
       "      <th>family_status</th>\n",
       "      <th>family_status_id</th>\n",
       "      <th>gender</th>\n",
       "      <th>income_type</th>\n",
       "      <th>debt</th>\n",
       "      <th>total_income</th>\n",
       "      <th>purpose</th>\n",
       "    </tr>\n",
       "  </thead>\n",
       "  <tbody>\n",
       "    <tr>\n",
       "      <td>0</td>\n",
       "      <td>1</td>\n",
       "      <td>-8437.673028</td>\n",
       "      <td>42</td>\n",
       "      <td>высшее</td>\n",
       "      <td>0</td>\n",
       "      <td>женат / замужем</td>\n",
       "      <td>0</td>\n",
       "      <td>F</td>\n",
       "      <td>сотрудник</td>\n",
       "      <td>0</td>\n",
       "      <td>253875.639453</td>\n",
       "      <td>покупка жилья</td>\n",
       "    </tr>\n",
       "    <tr>\n",
       "      <td>1</td>\n",
       "      <td>1</td>\n",
       "      <td>-4024.803754</td>\n",
       "      <td>36</td>\n",
       "      <td>среднее</td>\n",
       "      <td>1</td>\n",
       "      <td>женат / замужем</td>\n",
       "      <td>0</td>\n",
       "      <td>F</td>\n",
       "      <td>сотрудник</td>\n",
       "      <td>0</td>\n",
       "      <td>112080.014102</td>\n",
       "      <td>приобретение автомобиля</td>\n",
       "    </tr>\n",
       "    <tr>\n",
       "      <td>2</td>\n",
       "      <td>0</td>\n",
       "      <td>-5623.422610</td>\n",
       "      <td>33</td>\n",
       "      <td>среднее</td>\n",
       "      <td>1</td>\n",
       "      <td>женат / замужем</td>\n",
       "      <td>0</td>\n",
       "      <td>M</td>\n",
       "      <td>сотрудник</td>\n",
       "      <td>0</td>\n",
       "      <td>145885.952297</td>\n",
       "      <td>покупка жилья</td>\n",
       "    </tr>\n",
       "    <tr>\n",
       "      <td>3</td>\n",
       "      <td>3</td>\n",
       "      <td>-4124.747207</td>\n",
       "      <td>32</td>\n",
       "      <td>среднее</td>\n",
       "      <td>1</td>\n",
       "      <td>женат / замужем</td>\n",
       "      <td>0</td>\n",
       "      <td>M</td>\n",
       "      <td>сотрудник</td>\n",
       "      <td>0</td>\n",
       "      <td>267628.550329</td>\n",
       "      <td>дополнительное образование</td>\n",
       "    </tr>\n",
       "    <tr>\n",
       "      <td>4</td>\n",
       "      <td>0</td>\n",
       "      <td>340266.072047</td>\n",
       "      <td>53</td>\n",
       "      <td>среднее</td>\n",
       "      <td>1</td>\n",
       "      <td>гражданский брак</td>\n",
       "      <td>1</td>\n",
       "      <td>F</td>\n",
       "      <td>пенсионер</td>\n",
       "      <td>0</td>\n",
       "      <td>158616.077870</td>\n",
       "      <td>сыграть свадьбу</td>\n",
       "    </tr>\n",
       "    <tr>\n",
       "      <td>5</td>\n",
       "      <td>0</td>\n",
       "      <td>-926.185831</td>\n",
       "      <td>27</td>\n",
       "      <td>высшее</td>\n",
       "      <td>0</td>\n",
       "      <td>гражданский брак</td>\n",
       "      <td>1</td>\n",
       "      <td>M</td>\n",
       "      <td>компаньон</td>\n",
       "      <td>0</td>\n",
       "      <td>255763.565419</td>\n",
       "      <td>покупка жилья</td>\n",
       "    </tr>\n",
       "    <tr>\n",
       "      <td>6</td>\n",
       "      <td>0</td>\n",
       "      <td>-2879.202052</td>\n",
       "      <td>43</td>\n",
       "      <td>высшее</td>\n",
       "      <td>0</td>\n",
       "      <td>женат / замужем</td>\n",
       "      <td>0</td>\n",
       "      <td>F</td>\n",
       "      <td>компаньон</td>\n",
       "      <td>0</td>\n",
       "      <td>240525.971920</td>\n",
       "      <td>операции с жильем</td>\n",
       "    </tr>\n",
       "    <tr>\n",
       "      <td>7</td>\n",
       "      <td>0</td>\n",
       "      <td>-152.779569</td>\n",
       "      <td>50</td>\n",
       "      <td>среднее</td>\n",
       "      <td>1</td>\n",
       "      <td>женат / замужем</td>\n",
       "      <td>0</td>\n",
       "      <td>M</td>\n",
       "      <td>сотрудник</td>\n",
       "      <td>0</td>\n",
       "      <td>135823.934197</td>\n",
       "      <td>образование</td>\n",
       "    </tr>\n",
       "    <tr>\n",
       "      <td>8</td>\n",
       "      <td>2</td>\n",
       "      <td>-6929.865299</td>\n",
       "      <td>35</td>\n",
       "      <td>высшее</td>\n",
       "      <td>0</td>\n",
       "      <td>гражданский брак</td>\n",
       "      <td>1</td>\n",
       "      <td>F</td>\n",
       "      <td>сотрудник</td>\n",
       "      <td>0</td>\n",
       "      <td>95856.832424</td>\n",
       "      <td>на проведение свадьбы</td>\n",
       "    </tr>\n",
       "    <tr>\n",
       "      <td>9</td>\n",
       "      <td>0</td>\n",
       "      <td>-2188.756445</td>\n",
       "      <td>41</td>\n",
       "      <td>среднее</td>\n",
       "      <td>1</td>\n",
       "      <td>женат / замужем</td>\n",
       "      <td>0</td>\n",
       "      <td>M</td>\n",
       "      <td>сотрудник</td>\n",
       "      <td>0</td>\n",
       "      <td>144425.938277</td>\n",
       "      <td>покупка жилья для семьи</td>\n",
       "    </tr>\n",
       "  </tbody>\n",
       "</table>\n",
       "</div>"
      ],
      "text/plain": [
       "   children  days_employed  dob_years education  education_id  \\\n",
       "0         1   -8437.673028         42    высшее             0   \n",
       "1         1   -4024.803754         36   среднее             1   \n",
       "2         0   -5623.422610         33   среднее             1   \n",
       "3         3   -4124.747207         32   среднее             1   \n",
       "4         0  340266.072047         53   среднее             1   \n",
       "5         0    -926.185831         27    высшее             0   \n",
       "6         0   -2879.202052         43    высшее             0   \n",
       "7         0    -152.779569         50   среднее             1   \n",
       "8         2   -6929.865299         35    высшее             0   \n",
       "9         0   -2188.756445         41   среднее             1   \n",
       "\n",
       "      family_status  family_status_id gender income_type  debt   total_income  \\\n",
       "0   женат / замужем                 0      F   сотрудник     0  253875.639453   \n",
       "1   женат / замужем                 0      F   сотрудник     0  112080.014102   \n",
       "2   женат / замужем                 0      M   сотрудник     0  145885.952297   \n",
       "3   женат / замужем                 0      M   сотрудник     0  267628.550329   \n",
       "4  гражданский брак                 1      F   пенсионер     0  158616.077870   \n",
       "5  гражданский брак                 1      M   компаньон     0  255763.565419   \n",
       "6   женат / замужем                 0      F   компаньон     0  240525.971920   \n",
       "7   женат / замужем                 0      M   сотрудник     0  135823.934197   \n",
       "8  гражданский брак                 1      F   сотрудник     0   95856.832424   \n",
       "9   женат / замужем                 0      M   сотрудник     0  144425.938277   \n",
       "\n",
       "                      purpose  \n",
       "0               покупка жилья  \n",
       "1     приобретение автомобиля  \n",
       "2               покупка жилья  \n",
       "3  дополнительное образование  \n",
       "4             сыграть свадьбу  \n",
       "5               покупка жилья  \n",
       "6           операции с жильем  \n",
       "7                 образование  \n",
       "8       на проведение свадьбы  \n",
       "9     покупка жилья для семьи  "
      ]
     },
     "metadata": {},
     "output_type": "display_data"
    }
   ],
   "source": [
    "data['education'] = data['education'].str.lower() #перевод в нижний регистр\n",
    "display(data.head(10))"
   ]
  },
  {
   "cell_type": "markdown",
   "metadata": {},
   "source": [
    "**Выводы**"
   ]
  },
  {
   "cell_type": "markdown",
   "metadata": {},
   "source": [
    "При первом просмотре в данных обнаружены следующие недочеты:\n",
    "1. Отрицательные значения, нецелые в столбце 'days_employed'\n",
    "2. Разный регистр в столбце 'education'"
   ]
  },
  {
   "cell_type": "markdown",
   "metadata": {},
   "source": [
    "# Шаг 2. Предобработка данных"
   ]
  },
  {
   "cell_type": "markdown",
   "metadata": {},
   "source": [
    "## Обработка пропусков"
   ]
  },
  {
   "cell_type": "code",
   "execution_count": 4,
   "metadata": {},
   "outputs": [
    {
     "name": "stdout",
     "output_type": "stream",
     "text": [
      "Количество пропусков:\n",
      "children               0\n",
      "days_employed       2174\n",
      "dob_years              0\n",
      "education              0\n",
      "education_id           0\n",
      "family_status          0\n",
      "family_status_id       0\n",
      "gender                 0\n",
      "income_type            0\n",
      "debt                   0\n",
      "total_income        2174\n",
      "purpose                0\n",
      "dtype: int64\n"
     ]
    }
   ],
   "source": [
    "print('Количество пропусков:')\n",
    "print(data.isnull().sum())"
   ]
  },
  {
   "cell_type": "markdown",
   "metadata": {},
   "source": [
    "**Вывод**"
   ]
  },
  {
   "cell_type": "markdown",
   "metadata": {},
   "source": [
    "1. Пропущенные значения есть в столбцах 'days_employed' и 'total_income'. Их колличество слишком велико, чтобы просто удалить эти строки.\n",
    "   Пропущенных значений около 10%, вероятно, имеет место систематическая ошибка. Чтобы заполнить значения дохода, берем медианное значение, чтобы исключить вероятность большого разброса в значениях\n",
    "\n",
    "2. Так как в данной задаче трудовой стаж не явяется важной переменной, заменим пустые значения на выбранное значение (1000). Если позже оно нам встретится, мы точно будем знать откуда оно, так как в отличие от остальных значений этого столбца это значение круглое и целое.\n",
    "    Также смущает, что значение трудового стажа, указанного в днях, не целочисленно."
   ]
  },
  {
   "cell_type": "code",
   "execution_count": 5,
   "metadata": {},
   "outputs": [
    {
     "name": "stdout",
     "output_type": "stream",
     "text": [
      "Количество пропусков в \"total_income\" после замены: 0\n",
      "\n",
      "Количество пропусков в \"days_employed\" после замены: 0\n"
     ]
    }
   ],
   "source": [
    "total_income_median = data['total_income'].median()\n",
    "data['total_income'] = data['total_income'].fillna(total_income_median) #замена отсутсвующих значений в 'total_income' на медианное\n",
    "print('Количество пропусков в \"total_income\" после замены:', data['total_income'].isnull().sum())\n",
    "\n",
    "data['days_employed'] = data['days_employed'].fillna(1000)\n",
    "print()\n",
    "print('Количество пропусков в \"days_employed\" после замены:', data['days_employed'].isnull().sum())"
   ]
  },
  {
   "cell_type": "markdown",
   "metadata": {},
   "source": [
    "### Замена типа данных"
   ]
  },
  {
   "cell_type": "code",
   "execution_count": 6,
   "metadata": {},
   "outputs": [
    {
     "name": "stdout",
     "output_type": "stream",
     "text": [
      "<class 'pandas.core.frame.DataFrame'>\n",
      "RangeIndex: 21525 entries, 0 to 21524\n",
      "Data columns (total 12 columns):\n",
      "children            21525 non-null int64\n",
      "days_employed       21525 non-null float64\n",
      "dob_years           21525 non-null int64\n",
      "education           21525 non-null object\n",
      "education_id        21525 non-null int64\n",
      "family_status       21525 non-null object\n",
      "family_status_id    21525 non-null int64\n",
      "gender              21525 non-null object\n",
      "income_type         21525 non-null object\n",
      "debt                21525 non-null int64\n",
      "total_income        21525 non-null float64\n",
      "purpose             21525 non-null object\n",
      "dtypes: float64(2), int64(5), object(5)\n",
      "memory usage: 2.0+ MB\n"
     ]
    }
   ],
   "source": [
    "data['days_employed'] = pd.to_numeric(data['days_employed'], errors='coerce') #перевод значений в тип float\n",
    "data.info()"
   ]
  },
  {
   "cell_type": "markdown",
   "metadata": {},
   "source": [
    "**Вывод**"
   ]
  },
  {
   "cell_type": "markdown",
   "metadata": {},
   "source": [
    "1. Для столбца 'days_employed' выполнен перевод в числовой тип (тип столбца стал float64)."
   ]
  },
  {
   "cell_type": "markdown",
   "metadata": {},
   "source": [
    "### Обработка дубликатов"
   ]
  },
  {
   "cell_type": "code",
   "execution_count": 7,
   "metadata": {},
   "outputs": [
    {
     "name": "stdout",
     "output_type": "stream",
     "text": [
      "Колличество дубликатов изначально: 71\n",
      "Доля дубликатов от общего числа данных, %: 0.32984901277584205\n",
      "Колличество дубликатов после удаления: 0\n"
     ]
    }
   ],
   "source": [
    "print('Колличество дубликатов изначально:', data.duplicated().sum()) \n",
    "duplicat = (data.duplicated().sum()/data['days_employed'].count())*100\n",
    "print('Доля дубликатов от общего числа данных, %:', duplicat) \n",
    "data = data.drop_duplicates().reset_index(drop=True) #так как дуюликатов меньше 1% их удаление никак не скажется на статистике\n",
    "print('Колличество дубликатов после удаления:', data.duplicated().sum())"
   ]
  },
  {
   "cell_type": "markdown",
   "metadata": {},
   "source": [
    "**Вывод**"
   ]
  },
  {
   "cell_type": "markdown",
   "metadata": {},
   "source": [
    "Количество дубликатов очень мало, поэтому их удаление не скажется на финальных данных."
   ]
  },
  {
   "cell_type": "markdown",
   "metadata": {},
   "source": [
    "### Лемматизация"
   ]
  },
  {
   "cell_type": "markdown",
   "metadata": {},
   "source": [
    "Для того, чтобы определить самые популярные цели кредитования, необходимо обработать столбец \"purpose\". \n",
    "Для определения цели кредитования используем метод лемматизации. Этот метод позволяет выделить лемму (начальную форму) слова и работать с ней."
   ]
  },
  {
   "cell_type": "code",
   "execution_count": 8,
   "metadata": {},
   "outputs": [
    {
     "data": {
      "text/plain": [
       "Counter({'покупка': 10,\n",
       "         ' ': 59,\n",
       "         'жилье': 7,\n",
       "         '\\n': 38,\n",
       "         'приобретение': 1,\n",
       "         'автомобиль': 9,\n",
       "         'дополнительный': 2,\n",
       "         'образование': 9,\n",
       "         'сыграть': 1,\n",
       "         'свадьба': 3,\n",
       "         'операция': 4,\n",
       "         'с': 5,\n",
       "         'на': 4,\n",
       "         'проведение': 1,\n",
       "         'для': 2,\n",
       "         'семья': 1,\n",
       "         'недвижимость': 10,\n",
       "         'коммерческий': 2,\n",
       "         'жилой': 2,\n",
       "         'строительство': 3,\n",
       "         'собственный': 1,\n",
       "         'подержать': 1,\n",
       "         'свой': 4,\n",
       "         'со': 1,\n",
       "         'заниматься': 2,\n",
       "         'сделка': 2,\n",
       "         'подержанный': 1,\n",
       "         'получение': 3,\n",
       "         'высокий': 3,\n",
       "         'профильный': 1,\n",
       "         'сдача': 1,\n",
       "         'ремонт': 1})"
      ]
     },
     "metadata": {},
     "output_type": "display_data"
    }
   ],
   "source": [
    "from pymystem3 import Mystem #импортируем библиотеку\n",
    "m = Mystem()\n",
    "\n",
    "data_purpose_unique = data['purpose'].unique() #выделяем уникальные значения столбца 'purpose'\n",
    "lemm_list=[]\n",
    "\n",
    "for element in data_purpose_unique:\n",
    "    lemm_list.extend((m.lemmatize(element))) #проводим лемматизацию выделенных значений\n",
    "\n",
    "from collections import Counter\n",
    "lemm_list_counter = (Counter(lemm_list)) #далее считаем количество их упоминаний\n",
    "display(lemm_list_counter)\n",
    "#display(lemm_list)"
   ]
  },
  {
   "cell_type": "markdown",
   "metadata": {},
   "source": [
    "**Вывод**"
   ]
  },
  {
   "cell_type": "markdown",
   "metadata": {},
   "source": [
    "1. На основе прведенной лемматизации видно, что распространенные цели кредита это: недвижимость(жилье (7 упоминаний), недвижимость(10)), образование (9), автомобиль (9).\n",
    "    Эти категории и будут приняты за основные при категоризации данных."
   ]
  },
  {
   "cell_type": "markdown",
   "metadata": {},
   "source": [
    "### Категоризация данных"
   ]
  },
  {
   "cell_type": "markdown",
   "metadata": {},
   "source": [
    "Так как основной целью задачи является поиск зависимости между наличием детей и возвратом кредита, было принято решение категоризировать клиентов по количеству детей."
   ]
  },
  {
   "cell_type": "code",
   "execution_count": 9,
   "metadata": {},
   "outputs": [
    {
     "name": "stdout",
     "output_type": "stream",
     "text": [
      "бездетный      14091\n",
      "с детьми        7237\n",
      "многодетный      126\n",
      "Name: purpose_category, dtype: int64\n"
     ]
    }
   ],
   "source": [
    "#категоризировать данные предлагается по количеству детей\n",
    "\n",
    "def function_group(children): #создаем функцию для категоризации\n",
    "    \n",
    "    if children == 0:\n",
    "        return 'бездетный'\n",
    "    \n",
    "    if children <= 3:\n",
    "        return 'с детьми' \n",
    "    return 'многодетный'\n",
    "\n",
    "data['purpose_category'] = data['children'].apply(function_group) #применяем функцию на весь датафрейм\n",
    "#print(data.head())\n",
    "print(data['purpose_category'].value_counts()) #подсчитываем кол-во клиентов в каждой категории"
   ]
  },
  {
   "cell_type": "markdown",
   "metadata": {},
   "source": [
    "**Вывод**"
   ]
  },
  {
   "cell_type": "markdown",
   "metadata": {},
   "source": [
    "1. После категоризации видно, что больше всего клиентов без детей, далее идут клиенты с детьми, и совсем не много многодетных клиентов."
   ]
  },
  {
   "cell_type": "markdown",
   "metadata": {},
   "source": [
    "## Шаг 3. Ответьте на вопросы"
   ]
  },
  {
   "cell_type": "markdown",
   "metadata": {},
   "source": [
    "- **Есть ли зависимость между наличием детей и возвратом кредита в срок?**"
   ]
  },
  {
   "cell_type": "markdown",
   "metadata": {},
   "source": [
    "Для ответа на это вопрос посчитаем какую долю от должников составляют клиенты с детьми и без детей. "
   ]
  },
  {
   "cell_type": "code",
   "execution_count": 10,
   "metadata": {},
   "outputs": [
    {
     "name": "stdout",
     "output_type": "stream",
     "text": [
      "Количество должников без детей: 1063\n",
      "Доля должников с детьми от общего кол-ва должников, %: 7.5%\n",
      "\n",
      "Количество должников с детьми: 678\n",
      "Доля должников с детьми от общего кол-ва должников, %: 9.2%\n"
     ]
    }
   ],
   "source": [
    "debtors_without_children = data[(data['children']==0) & (data['debt']!=0)] \n",
    "#с помощью метода .loc создаем таблицу, в которой логическими условиями выделяем клиентов без детей, но с долгами \n",
    "data_without_children = data[data['children']==0]\n",
    "procent_without_children = len(debtors_without_children)/len(data_without_children)\n",
    "print('Количество должников без детей:', len(debtors_without_children)) #методом len() определяем количество нужных нам значений\n",
    "print('Доля должников с детьми от общего кол-ва должников, %:', '{:.1%}'.format(procent_without_children))\n",
    "print()\n",
    "\n",
    "debtors_with_children = data[(data['children']!=0) & (data['debt']!=0)] #дублирует принцип для клиентов с детьми и с долгами\n",
    "print('Количество должников с детьми:', len(debtors_with_children))\n",
    "data_with_children = data[data['children']!=0]\n",
    "procent_with_children = len(debtors_with_children)/len(data_with_children)\n",
    "print('Доля должников с детьми от общего кол-ва должников, %:', '{:.1%}'.format(procent_with_children))"
   ]
  },
  {
   "cell_type": "markdown",
   "metadata": {},
   "source": [
    "**Вывод**"
   ]
  },
  {
   "cell_type": "markdown",
   "metadata": {},
   "source": [
    "Количество должников c детьми на 1,7% больше, чем должников без детей. Следовательно, клиенты с детьми будут более рисковой группой."
   ]
  },
  {
   "cell_type": "markdown",
   "metadata": {},
   "source": [
    "- **Есть ли зависимость между семейным положением и возвратом кредита в срок?**"
   ]
  },
  {
   "cell_type": "markdown",
   "metadata": {},
   "source": [
    "Так как долги в столбце 'debt' указаны как логический тип, среднее арифметическое и будет процентом должников."
   ]
  },
  {
   "cell_type": "code",
   "execution_count": 11,
   "metadata": {},
   "outputs": [
    {
     "name": "stdout",
     "output_type": "stream",
     "text": [
      "family_status\n",
      "Не женат / не замужем    0.097509\n",
      "в разводе                0.071130\n",
      "вдовец / вдова           0.065693\n",
      "гражданский брак         0.093471\n",
      "женат / замужем          0.075452\n",
      "Name: debt, dtype: float64\n"
     ]
    }
   ],
   "source": [
    "print(data.groupby('family_status')['debt'].mean()) #сгруппируем данные по семейному положению и найдем среднее арифметическое"
   ]
  },
  {
   "cell_type": "markdown",
   "metadata": {},
   "source": [
    "**Вывод**"
   ]
  },
  {
   "cell_type": "markdown",
   "metadata": {},
   "source": [
    "1. Самая рисковая группа с 9,8% должников - Не женат / не замужем.\n",
    "2. Самая безопасная группа с 6,6% должников - вдовец / вдова."
   ]
  },
  {
   "cell_type": "markdown",
   "metadata": {},
   "source": [
    "- **Есть ли зависимость между уровнем дохода и возвратом кредита в срок?**"
   ]
  },
  {
   "cell_type": "markdown",
   "metadata": {},
   "source": [
    "Для того, чтобы ответить на этот вопрос, проведем категоризацию клиентов по доходам. Низкий дохад был принят ниже медианного, средний - от медианного до третьего квартиля и высокий доход - выше третьего квартиля."
   ]
  },
  {
   "cell_type": "code",
   "execution_count": 12,
   "metadata": {},
   "outputs": [
    {
     "name": "stdout",
     "output_type": "stream",
     "text": [
      "categorize\n",
      "высокий    0.071402\n",
      "низкий     0.083267\n",
      "средний    0.091145\n",
      "Name: debt, dtype: float64\n"
     ]
    }
   ],
   "source": [
    "total_income_mean = data['total_income'].mean() #найдено среднее значение дохода\n",
    "#print(data.describe()) #выводим метод 'describe' \n",
    "data_75 = 195814\n",
    "\n",
    "def categorize(row):\n",
    "    income = row['total_income']\n",
    "    if income <= total_income_mean:\n",
    "        return 'низкий'\n",
    "    if income <= data_75:\n",
    "        return 'средний'\n",
    "    return 'высокий'\n",
    "\n",
    "data['categorize'] = data.apply(categorize, axis=1)\n",
    "#display(data.head())\n",
    "\n",
    "print(data.groupby('categorize')['debt'].mean()) #группируем по уровню дозода и находим "
   ]
  },
  {
   "cell_type": "markdown",
   "metadata": {},
   "source": [
    "**Выводы**"
   ]
  },
  {
   "cell_type": "markdown",
   "metadata": {},
   "source": [
    "1. Рисковой группой с процентом должников 9,1% являются клиенты со средним доходом. \n",
    "2. Самая безопасная группа (7,1% должников) - клиенты с высоким доходом."
   ]
  },
  {
   "cell_type": "markdown",
   "metadata": {},
   "source": [
    "- **Как разные цели кредита влияют на его возврат в срок?**"
   ]
  },
  {
   "cell_type": "markdown",
   "metadata": {},
   "source": [
    "На основании проведенной выше лемматизации, выделяем самые популярные цели кредитования. После этого рассчитываем долю должников для каждой цели кредита."
   ]
  },
  {
   "cell_type": "code",
   "execution_count": null,
   "metadata": {},
   "outputs": [],
   "source": [
    "def categorize_purpose(purpose):\n",
    "    row_lemmatized = m.lemmatize(purpose)\n",
    "\n",
    "    if \"автомобиль\" in row_lemmatized:\n",
    "        return \"автомобиль\"\n",
    "    elif \"недвижимость\" in row_lemmatized or \"жилье\" in row_lemmatized:\n",
    "        return \"жилье\"\n",
    "\n",
    "data['purpose'] = data['purpose'].apply(categorize_purpose) \n",
    "\n",
    "data['purpose'] = data['purpose'].fillna(\"другое\") #заполняем отсутствующие значения"
   ]
  },
  {
   "cell_type": "code",
   "execution_count": null,
   "metadata": {},
   "outputs": [],
   "source": [
    "print(data.groupby('purpose')['debt'].mean())"
   ]
  },
  {
   "cell_type": "markdown",
   "metadata": {},
   "source": [
    "**Вывод**"
   ]
  },
  {
   "cell_type": "markdown",
   "metadata": {},
   "source": [
    "1. Cамой надежной целью кредитования является недвижимость (7,2% должников).\n",
    "\n",
    "2. Самая рисковая категория - автомобиль (9,4% должников)."
   ]
  },
  {
   "cell_type": "markdown",
   "metadata": {},
   "source": [
    "## Общий вывод"
   ]
  },
  {
   "cell_type": "markdown",
   "metadata": {},
   "source": [
    "По запросу заказчика были проверены несколько теорий по о влиянии различных факторов на вероятность выплаты кредита в срок. В рамках данной работы были сделаны следующие выводы: \n",
    "\n",
    "    1. Клиенты без детей более платежеспособны, чем клиенты с детьми. Среди должников клиенты без детей составляют 7,5%, в то вреям как клиенты с детьми - 9,2%.\n",
    "    2. Выявлена зависимость между семейный положением и возвратом кредита в срок. Самая надежная группа заемщиков - вдова/вдовец (6,6% среди должников), самая рисковая группа - не замужем/не женат (9,8% среди должников).\n",
    "    3. Закономерность для уровня доходов следующая: высокий доход - 7,1% должников, низкий доход - 8,3% должников, средний доход - 9,1%.\n",
    "    4. Самой рисковой целью кредитовая является автомобиль (9,4% должников), в то время как самой надежной - недвижимость (7,2% должников)."
   ]
  },
  {
   "cell_type": "code",
   "execution_count": null,
   "metadata": {},
   "outputs": [],
   "source": []
  }
 ],
 "metadata": {
  "ExecuteTimeLog": [
   {
    "duration": 1344,
    "start_time": "2021-07-17T15:34:20.844Z"
   },
   {
    "duration": 129,
    "start_time": "2021-07-17T15:36:05.698Z"
   },
   {
    "duration": 393,
    "start_time": "2021-07-17T15:36:16.472Z"
   },
   {
    "duration": 365,
    "start_time": "2021-07-17T15:36:24.030Z"
   },
   {
    "duration": 391,
    "start_time": "2021-07-17T15:38:03.741Z"
   },
   {
    "duration": 395,
    "start_time": "2021-07-17T15:38:07.034Z"
   },
   {
    "duration": 81,
    "start_time": "2021-07-17T15:38:30.721Z"
   },
   {
    "duration": 97,
    "start_time": "2021-07-17T15:40:43.433Z"
   },
   {
    "duration": 457,
    "start_time": "2021-07-17T15:50:04.312Z"
   },
   {
    "duration": 68,
    "start_time": "2021-07-17T15:50:35.687Z"
   },
   {
    "duration": 70,
    "start_time": "2021-07-17T15:51:33.128Z"
   },
   {
    "duration": 71,
    "start_time": "2021-07-17T15:52:40.450Z"
   },
   {
    "duration": 9019,
    "start_time": "2021-07-17T15:56:59.720Z"
   },
   {
    "duration": 71,
    "start_time": "2021-07-17T15:57:26.807Z"
   },
   {
    "duration": 78,
    "start_time": "2021-07-17T15:58:05.690Z"
   },
   {
    "duration": 88,
    "start_time": "2021-07-17T15:58:22.256Z"
   },
   {
    "duration": 405,
    "start_time": "2021-07-17T15:59:53.478Z"
   },
   {
    "duration": 119,
    "start_time": "2021-07-17T16:00:03.649Z"
   },
   {
    "duration": 75,
    "start_time": "2021-07-17T16:02:14.541Z"
   },
   {
    "duration": 1509,
    "start_time": "2021-07-17T16:06:05.385Z"
   },
   {
    "duration": 89,
    "start_time": "2021-07-17T16:07:27.434Z"
   },
   {
    "duration": 446,
    "start_time": "2021-07-17T16:10:52.788Z"
   },
   {
    "duration": 93,
    "start_time": "2021-07-17T16:11:11.926Z"
   },
   {
    "duration": 477,
    "start_time": "2021-07-17T16:12:09.202Z"
   },
   {
    "duration": 90,
    "start_time": "2021-07-17T16:13:17.179Z"
   },
   {
    "duration": 96,
    "start_time": "2021-07-17T16:14:00.395Z"
   },
   {
    "duration": 91,
    "start_time": "2021-07-17T16:14:41.867Z"
   },
   {
    "duration": 104,
    "start_time": "2021-07-17T16:15:11.583Z"
   },
   {
    "duration": 86,
    "start_time": "2021-07-17T16:15:27.920Z"
   },
   {
    "duration": 497,
    "start_time": "2021-07-17T16:31:02.224Z"
   },
   {
    "duration": 416,
    "start_time": "2021-07-17T16:33:14.287Z"
   },
   {
    "duration": 415,
    "start_time": "2021-07-17T16:33:29.105Z"
   },
   {
    "duration": 572,
    "start_time": "2021-07-17T16:34:35.991Z"
   },
   {
    "duration": 608,
    "start_time": "2021-07-17T16:35:21.823Z"
   },
   {
    "duration": 86,
    "start_time": "2021-07-17T16:40:51.960Z"
   },
   {
    "duration": 460,
    "start_time": "2021-07-17T16:43:13.221Z"
   },
   {
    "duration": 75,
    "start_time": "2021-07-17T16:43:34.310Z"
   },
   {
    "duration": 78,
    "start_time": "2021-07-17T16:45:19.703Z"
   },
   {
    "duration": 118,
    "start_time": "2021-07-17T16:45:39.237Z"
   },
   {
    "duration": 89,
    "start_time": "2021-07-17T16:46:21.775Z"
   },
   {
    "duration": 102,
    "start_time": "2021-07-17T16:46:36.962Z"
   },
   {
    "duration": 80,
    "start_time": "2021-07-17T16:48:36.312Z"
   },
   {
    "duration": 107,
    "start_time": "2021-07-17T16:49:03.996Z"
   },
   {
    "duration": 87,
    "start_time": "2021-07-17T16:50:41.657Z"
   },
   {
    "duration": 118,
    "start_time": "2021-07-17T16:50:47.791Z"
   },
   {
    "duration": 100,
    "start_time": "2021-07-17T16:51:57.383Z"
   },
   {
    "duration": 93,
    "start_time": "2021-07-17T17:44:01.116Z"
   },
   {
    "duration": 442,
    "start_time": "2021-07-17T17:45:33.438Z"
   },
   {
    "duration": 95,
    "start_time": "2021-07-17T17:47:17.928Z"
   },
   {
    "duration": 116,
    "start_time": "2021-07-17T17:47:26.154Z"
   },
   {
    "duration": 101,
    "start_time": "2021-07-17T17:49:33.711Z"
   },
   {
    "duration": 141,
    "start_time": "2021-07-17T17:51:16.519Z"
   },
   {
    "duration": 121,
    "start_time": "2021-07-17T17:51:53.454Z"
   },
   {
    "duration": 146,
    "start_time": "2021-07-17T17:52:42.649Z"
   },
   {
    "duration": 206,
    "start_time": "2021-07-17T17:53:01.635Z"
   },
   {
    "duration": 118,
    "start_time": "2021-07-17T17:53:26.046Z"
   },
   {
    "duration": 139,
    "start_time": "2021-07-17T17:54:23.849Z"
   },
   {
    "duration": 451,
    "start_time": "2021-07-17T18:05:40.876Z"
   },
   {
    "duration": 488,
    "start_time": "2021-07-17T18:14:56.592Z"
   },
   {
    "duration": 496,
    "start_time": "2021-07-17T18:15:44.197Z"
   },
   {
    "duration": 139,
    "start_time": "2021-07-17T18:16:06.338Z"
   },
   {
    "duration": 108,
    "start_time": "2021-07-17T18:16:21.092Z"
   },
   {
    "duration": 108,
    "start_time": "2021-07-17T18:16:36.029Z"
   },
   {
    "duration": 479,
    "start_time": "2021-07-17T18:16:41.692Z"
   },
   {
    "duration": 1610,
    "start_time": "2021-07-17T18:19:05.604Z"
   },
   {
    "duration": 743,
    "start_time": "2021-07-17T18:19:40.659Z"
   },
   {
    "duration": 1580,
    "start_time": "2021-07-17T18:19:54.454Z"
   },
   {
    "duration": 1079,
    "start_time": "2021-07-17T18:20:42.853Z"
   },
   {
    "duration": 1170,
    "start_time": "2021-07-17T18:21:18.435Z"
   },
   {
    "duration": 1086,
    "start_time": "2021-07-17T18:21:43.511Z"
   },
   {
    "duration": 1057,
    "start_time": "2021-07-17T18:22:59.910Z"
   },
   {
    "duration": 1051,
    "start_time": "2021-07-17T18:25:07.819Z"
   },
   {
    "duration": 1628,
    "start_time": "2021-07-17T18:25:44.540Z"
   },
   {
    "duration": 3077,
    "start_time": "2021-07-17T18:25:52.354Z"
   },
   {
    "duration": 116,
    "start_time": "2021-07-17T18:26:46.979Z"
   },
   {
    "duration": 1671,
    "start_time": "2021-07-17T18:26:54.324Z"
   },
   {
    "duration": 1659,
    "start_time": "2021-07-17T18:40:33.697Z"
   },
   {
    "duration": 480,
    "start_time": "2021-07-17T19:06:01.980Z"
   },
   {
    "duration": 462,
    "start_time": "2021-07-17T19:06:12.951Z"
   },
   {
    "duration": 498,
    "start_time": "2021-07-17T19:06:22.096Z"
   },
   {
    "duration": 119,
    "start_time": "2021-07-17T19:06:32.669Z"
   },
   {
    "duration": 831,
    "start_time": "2021-07-18T20:11:04.217Z"
   },
   {
    "duration": 114,
    "start_time": "2021-07-18T22:33:30.977Z"
   },
   {
    "duration": 20,
    "start_time": "2021-07-18T22:33:31.095Z"
   },
   {
    "duration": 20,
    "start_time": "2021-07-18T22:33:31.119Z"
   },
   {
    "duration": 96,
    "start_time": "2021-07-18T22:33:31.142Z"
   },
   {
    "duration": 956,
    "start_time": "2021-07-18T22:33:31.241Z"
   },
   {
    "duration": 18,
    "start_time": "2021-07-18T22:33:32.201Z"
   },
   {
    "duration": 680,
    "start_time": "2021-07-18T22:33:32.222Z"
   },
   {
    "duration": 19,
    "start_time": "2021-07-18T22:35:58.729Z"
   },
   {
    "duration": 8,
    "start_time": "2021-07-18T22:36:07.437Z"
   },
   {
    "duration": 611,
    "start_time": "2021-07-18T22:36:58.891Z"
   },
   {
    "duration": 551,
    "start_time": "2021-07-18T22:37:43.741Z"
   },
   {
    "duration": 9165,
    "start_time": "2021-07-18T22:40:05.376Z"
   },
   {
    "duration": 605,
    "start_time": "2021-07-18T22:41:44.870Z"
   },
   {
    "duration": 327,
    "start_time": "2021-07-19T20:59:51.881Z"
   },
   {
    "duration": 273,
    "start_time": "2021-07-19T21:00:19.946Z"
   },
   {
    "duration": 837,
    "start_time": "2021-07-19T21:00:35.138Z"
   },
   {
    "duration": 98,
    "start_time": "2021-07-19T21:00:40.081Z"
   },
   {
    "duration": 16,
    "start_time": "2021-07-19T21:00:40.181Z"
   },
   {
    "duration": 14,
    "start_time": "2021-07-19T21:00:40.201Z"
   },
   {
    "duration": 88,
    "start_time": "2021-07-19T21:00:40.218Z"
   },
   {
    "duration": 930,
    "start_time": "2021-07-19T21:00:40.309Z"
   },
   {
    "duration": 21,
    "start_time": "2021-07-19T21:00:41.241Z"
   },
   {
    "duration": 304,
    "start_time": "2021-07-19T21:00:41.265Z"
   },
   {
    "duration": 5529,
    "start_time": "2021-07-19T21:00:56.702Z"
   },
   {
    "duration": 6153,
    "start_time": "2021-07-19T21:02:35.235Z"
   },
   {
    "duration": 6149,
    "start_time": "2021-07-19T21:03:41.153Z"
   },
   {
    "duration": 6408,
    "start_time": "2021-07-19T21:04:26.742Z"
   },
   {
    "duration": 6711,
    "start_time": "2021-07-19T21:04:39.556Z"
   },
   {
    "duration": 6168,
    "start_time": "2021-07-19T21:06:30.867Z"
   },
   {
    "duration": 4678,
    "start_time": "2021-07-19T21:08:29.595Z"
   },
   {
    "duration": 8,
    "start_time": "2021-07-19T21:09:07.737Z"
   },
   {
    "duration": 4654,
    "start_time": "2021-07-19T21:10:36.315Z"
   },
   {
    "duration": 96,
    "start_time": "2021-07-19T21:12:33.551Z"
   },
   {
    "duration": 84,
    "start_time": "2021-07-19T21:12:49.650Z"
   },
   {
    "duration": 22,
    "start_time": "2021-07-19T21:13:01.683Z"
   },
   {
    "duration": 7,
    "start_time": "2021-07-19T21:13:28.578Z"
   },
   {
    "duration": 8,
    "start_time": "2021-07-19T21:13:44.686Z"
   },
   {
    "duration": 22,
    "start_time": "2021-07-19T21:14:01.637Z"
   },
   {
    "duration": 258,
    "start_time": "2021-07-19T21:14:14.781Z"
   },
   {
    "duration": 13,
    "start_time": "2021-07-19T21:14:21.134Z"
   },
   {
    "duration": 269,
    "start_time": "2021-07-19T21:15:03.480Z"
   },
   {
    "duration": 95,
    "start_time": "2021-07-19T21:15:19.417Z"
   },
   {
    "duration": 256,
    "start_time": "2021-07-19T21:15:25.711Z"
   },
   {
    "duration": 22,
    "start_time": "2021-07-19T21:15:37.751Z"
   },
   {
    "duration": 33,
    "start_time": "2021-07-19T21:15:48.286Z"
   },
   {
    "duration": 38,
    "start_time": "2021-07-19T21:16:16.112Z"
   },
   {
    "duration": 102,
    "start_time": "2021-07-19T21:17:06.550Z"
   },
   {
    "duration": 18,
    "start_time": "2021-07-19T21:17:11.602Z"
   },
   {
    "duration": 17,
    "start_time": "2021-07-19T21:17:24.969Z"
   },
   {
    "duration": 22,
    "start_time": "2021-07-19T21:18:38.060Z"
   },
   {
    "duration": 535,
    "start_time": "2021-07-19T21:19:21.605Z"
   },
   {
    "duration": 13,
    "start_time": "2021-07-19T21:20:00.671Z"
   },
   {
    "duration": 16,
    "start_time": "2021-07-19T21:20:45.885Z"
   },
   {
    "duration": 12,
    "start_time": "2021-07-19T21:21:02.474Z"
   },
   {
    "duration": 7,
    "start_time": "2021-07-19T21:40:33.892Z"
   },
   {
    "duration": 9,
    "start_time": "2021-07-19T21:41:29.858Z"
   },
   {
    "duration": 13,
    "start_time": "2021-07-19T21:42:15.423Z"
   },
   {
    "duration": 6,
    "start_time": "2021-07-19T22:01:00.096Z"
   },
   {
    "duration": 14,
    "start_time": "2021-07-19T22:01:31.090Z"
   },
   {
    "duration": 18,
    "start_time": "2021-07-19T22:10:59.194Z"
   },
   {
    "duration": 6,
    "start_time": "2021-07-19T22:12:41.266Z"
   },
   {
    "duration": 92,
    "start_time": "2021-07-19T22:15:30.680Z"
   },
   {
    "duration": 9,
    "start_time": "2021-07-19T22:15:43.869Z"
   },
   {
    "duration": 21,
    "start_time": "2021-07-19T22:16:09.708Z"
   },
   {
    "duration": 10,
    "start_time": "2021-07-19T22:17:05.286Z"
   },
   {
    "duration": 23,
    "start_time": "2021-07-19T22:17:49.580Z"
   },
   {
    "duration": 16,
    "start_time": "2021-07-19T22:23:37.134Z"
   },
   {
    "duration": 14,
    "start_time": "2021-07-19T22:24:29.237Z"
   },
   {
    "duration": 16,
    "start_time": "2021-07-19T22:24:49.415Z"
   },
   {
    "duration": 17,
    "start_time": "2021-07-19T22:32:04.963Z"
   },
   {
    "duration": 15,
    "start_time": "2021-07-19T22:32:16.439Z"
   },
   {
    "duration": 16,
    "start_time": "2021-07-19T22:34:38.006Z"
   },
   {
    "duration": 17,
    "start_time": "2021-07-19T22:37:15.364Z"
   },
   {
    "duration": 48,
    "start_time": "2021-07-19T22:38:30.365Z"
   },
   {
    "duration": 308,
    "start_time": "2021-07-19T22:38:54.246Z"
   },
   {
    "duration": 24,
    "start_time": "2021-07-19T22:39:06.677Z"
   },
   {
    "duration": 27,
    "start_time": "2021-07-19T22:39:27.063Z"
   },
   {
    "duration": 335,
    "start_time": "2021-07-20T11:57:04.742Z"
   },
   {
    "duration": 850,
    "start_time": "2021-07-20T11:57:09.642Z"
   },
   {
    "duration": 18,
    "start_time": "2021-07-20T11:57:10.494Z"
   },
   {
    "duration": 15,
    "start_time": "2021-07-20T11:57:10.515Z"
   },
   {
    "duration": 80,
    "start_time": "2021-07-20T11:57:10.533Z"
   },
   {
    "duration": 884,
    "start_time": "2021-07-20T11:57:10.615Z"
   },
   {
    "duration": 17,
    "start_time": "2021-07-20T11:57:11.502Z"
   },
   {
    "duration": 36,
    "start_time": "2021-07-20T11:57:11.521Z"
   },
   {
    "duration": 13,
    "start_time": "2021-07-20T11:57:11.560Z"
   },
   {
    "duration": 27,
    "start_time": "2021-07-20T11:57:11.575Z"
   },
   {
    "duration": 926,
    "start_time": "2021-07-20T12:19:52.073Z"
   },
   {
    "duration": 9,
    "start_time": "2021-07-20T12:24:05.761Z"
   },
   {
    "duration": 921,
    "start_time": "2021-07-20T12:35:54.628Z"
   },
   {
    "duration": 277,
    "start_time": "2021-07-20T12:47:02.459Z"
   },
   {
    "duration": 1718,
    "start_time": "2021-07-20T12:48:31.973Z"
   },
   {
    "duration": 1741,
    "start_time": "2021-07-20T12:49:18.100Z"
   },
   {
    "duration": 1992,
    "start_time": "2021-07-20T12:49:25.266Z"
   },
   {
    "duration": 1737,
    "start_time": "2021-07-20T12:49:47.926Z"
   },
   {
    "duration": 89,
    "start_time": "2021-07-20T12:51:03.599Z"
   },
   {
    "duration": 91,
    "start_time": "2021-07-20T12:51:09.716Z"
   },
   {
    "duration": 6,
    "start_time": "2021-07-20T12:51:47.518Z"
   },
   {
    "duration": 9,
    "start_time": "2021-07-20T13:03:06.037Z"
   },
   {
    "duration": 7,
    "start_time": "2021-07-20T13:03:18.267Z"
   },
   {
    "duration": 271,
    "start_time": "2021-07-20T13:05:03.309Z"
   },
   {
    "duration": 300,
    "start_time": "2021-07-20T13:05:46.398Z"
   },
   {
    "duration": 8,
    "start_time": "2021-07-20T13:06:31.842Z"
   },
   {
    "duration": 7,
    "start_time": "2021-07-20T13:06:44.465Z"
   },
   {
    "duration": 460,
    "start_time": "2021-07-20T13:08:02.157Z"
   },
   {
    "duration": 7,
    "start_time": "2021-07-20T13:08:23.724Z"
   },
   {
    "duration": 256,
    "start_time": "2021-07-20T13:11:41.607Z"
   },
   {
    "duration": 265,
    "start_time": "2021-07-20T13:13:04.322Z"
   },
   {
    "duration": 7,
    "start_time": "2021-07-20T13:13:12.864Z"
   },
   {
    "duration": 6,
    "start_time": "2021-07-20T13:16:51.367Z"
   },
   {
    "duration": 270,
    "start_time": "2021-07-20T13:16:57.653Z"
   },
   {
    "duration": 7917,
    "start_time": "2021-07-20T13:18:58.152Z"
   },
   {
    "duration": 287,
    "start_time": "2021-07-20T13:19:23.697Z"
   },
   {
    "duration": 744,
    "start_time": "2021-07-20T13:20:06.209Z"
   },
   {
    "duration": 467,
    "start_time": "2021-07-20T13:20:37.244Z"
   },
   {
    "duration": 275,
    "start_time": "2021-07-20T13:24:56.415Z"
   },
   {
    "duration": 6,
    "start_time": "2021-07-20T13:26:08.014Z"
   },
   {
    "duration": 7,
    "start_time": "2021-07-20T13:26:30.848Z"
   },
   {
    "duration": 254,
    "start_time": "2021-07-20T13:28:17.483Z"
   },
   {
    "duration": 261,
    "start_time": "2021-07-20T13:28:35.611Z"
   },
   {
    "duration": 294,
    "start_time": "2021-07-20T13:29:47.225Z"
   },
   {
    "duration": 252,
    "start_time": "2021-07-20T13:30:14.140Z"
   },
   {
    "duration": 258,
    "start_time": "2021-07-20T13:37:14.682Z"
   },
   {
    "duration": 8,
    "start_time": "2021-07-20T13:38:05.122Z"
   },
   {
    "duration": 290,
    "start_time": "2021-07-20T13:39:52.237Z"
   },
   {
    "duration": 277,
    "start_time": "2021-07-20T13:40:28.341Z"
   },
   {
    "duration": 269,
    "start_time": "2021-07-20T13:40:38.509Z"
   },
   {
    "duration": 248,
    "start_time": "2021-07-20T13:40:49.660Z"
   },
   {
    "duration": 272,
    "start_time": "2021-07-20T13:43:05.027Z"
   },
   {
    "duration": 907,
    "start_time": "2021-07-20T13:44:51.921Z"
   },
   {
    "duration": 256,
    "start_time": "2021-07-20T13:45:08.993Z"
   },
   {
    "duration": 1217,
    "start_time": "2021-07-20T13:45:44.222Z"
   },
   {
    "duration": 902,
    "start_time": "2021-07-20T13:46:06.877Z"
   },
   {
    "duration": 965,
    "start_time": "2021-07-20T13:46:19.424Z"
   },
   {
    "duration": 933,
    "start_time": "2021-07-20T13:46:34.207Z"
   },
   {
    "duration": 10,
    "start_time": "2021-07-20T13:46:57.508Z"
   },
   {
    "duration": 294,
    "start_time": "2021-07-20T13:56:58.083Z"
   },
   {
    "duration": 103,
    "start_time": "2021-07-20T13:57:49.859Z"
   },
   {
    "duration": 85,
    "start_time": "2021-07-20T13:58:45.171Z"
   },
   {
    "duration": 78,
    "start_time": "2021-07-20T13:59:54.457Z"
   },
   {
    "duration": 257,
    "start_time": "2021-07-20T14:00:00.764Z"
   },
   {
    "duration": 4222,
    "start_time": "2021-07-20T14:00:13.293Z"
   },
   {
    "duration": 4348,
    "start_time": "2021-07-20T14:01:52.629Z"
   },
   {
    "duration": 6679,
    "start_time": "2021-07-20T14:10:24.716Z"
   },
   {
    "duration": 977,
    "start_time": "2021-07-20T14:10:55.502Z"
   },
   {
    "duration": 1028,
    "start_time": "2021-07-20T14:11:16.619Z"
   },
   {
    "duration": 218,
    "start_time": "2021-07-20T14:11:32.067Z"
   },
   {
    "duration": 6838,
    "start_time": "2021-07-20T14:12:18.003Z"
   },
   {
    "duration": 475,
    "start_time": "2021-07-20T14:12:40.058Z"
   },
   {
    "duration": 916,
    "start_time": "2021-07-20T14:13:08.432Z"
   },
   {
    "duration": 273,
    "start_time": "2021-07-20T14:13:25.431Z"
   },
   {
    "duration": 4493,
    "start_time": "2021-07-20T14:18:30.180Z"
   },
   {
    "duration": 4697,
    "start_time": "2021-07-20T14:18:51.794Z"
   },
   {
    "duration": 465,
    "start_time": "2021-07-20T14:19:04.179Z"
   },
   {
    "duration": 4304,
    "start_time": "2021-07-20T14:22:25.578Z"
   },
   {
    "duration": 4378,
    "start_time": "2021-07-20T14:22:39.087Z"
   },
   {
    "duration": 92,
    "start_time": "2021-07-20T14:24:52.153Z"
   },
   {
    "duration": 4310,
    "start_time": "2021-07-20T14:25:23.526Z"
   },
   {
    "duration": 93,
    "start_time": "2021-07-20T14:26:33.145Z"
   },
   {
    "duration": 308,
    "start_time": "2021-07-20T14:27:06.980Z"
   },
   {
    "duration": 19,
    "start_time": "2021-07-20T14:41:42.449Z"
   },
   {
    "duration": 22,
    "start_time": "2021-07-20T14:42:13.534Z"
   },
   {
    "duration": 17,
    "start_time": "2021-07-20T14:43:59.652Z"
   },
   {
    "duration": 13,
    "start_time": "2021-07-20T14:44:07.672Z"
   },
   {
    "duration": 437,
    "start_time": "2021-07-20T14:45:00.187Z"
   },
   {
    "duration": 696,
    "start_time": "2021-07-20T14:45:07.283Z"
   },
   {
    "duration": 85,
    "start_time": "2021-07-20T14:45:12.857Z"
   },
   {
    "duration": 436,
    "start_time": "2021-07-20T14:45:22.004Z"
   },
   {
    "duration": 392,
    "start_time": "2021-07-20T14:45:27.228Z"
   },
   {
    "duration": 420,
    "start_time": "2021-07-20T14:45:41.097Z"
   },
   {
    "duration": 360,
    "start_time": "2021-07-20T14:49:31.250Z"
   },
   {
    "duration": 354,
    "start_time": "2021-07-20T14:51:11.106Z"
   },
   {
    "duration": 105,
    "start_time": "2021-07-20T14:51:38.624Z"
   },
   {
    "duration": 35,
    "start_time": "2021-07-20T14:51:38.733Z"
   },
   {
    "duration": 16,
    "start_time": "2021-07-20T14:51:38.771Z"
   },
   {
    "duration": 91,
    "start_time": "2021-07-20T14:51:38.791Z"
   },
   {
    "duration": 886,
    "start_time": "2021-07-20T14:51:38.885Z"
   },
   {
    "duration": 271,
    "start_time": "2021-07-20T14:51:39.774Z"
   },
   {
    "duration": 364,
    "start_time": "2021-07-20T14:51:39.684Z"
   },
   {
    "duration": 360,
    "start_time": "2021-07-20T14:51:39.690Z"
   },
   {
    "duration": 357,
    "start_time": "2021-07-20T14:51:39.694Z"
   },
   {
    "duration": 356,
    "start_time": "2021-07-20T14:51:39.697Z"
   },
   {
    "duration": 103,
    "start_time": "2021-07-20T14:51:52.114Z"
   },
   {
    "duration": 35,
    "start_time": "2021-07-20T14:51:52.220Z"
   },
   {
    "duration": 17,
    "start_time": "2021-07-20T14:51:52.259Z"
   },
   {
    "duration": 82,
    "start_time": "2021-07-20T14:51:52.279Z"
   },
   {
    "duration": 900,
    "start_time": "2021-07-20T14:51:52.364Z"
   },
   {
    "duration": 247,
    "start_time": "2021-07-20T14:51:53.267Z"
   },
   {
    "duration": 336,
    "start_time": "2021-07-20T14:51:53.181Z"
   },
   {
    "duration": 333,
    "start_time": "2021-07-20T14:51:53.186Z"
   },
   {
    "duration": 332,
    "start_time": "2021-07-20T14:51:53.188Z"
   },
   {
    "duration": 330,
    "start_time": "2021-07-20T14:51:53.191Z"
   },
   {
    "duration": 32,
    "start_time": "2021-07-20T14:51:56.319Z"
   },
   {
    "duration": 357,
    "start_time": "2021-07-20T14:51:58.839Z"
   },
   {
    "duration": 7,
    "start_time": "2021-07-20T14:59:24.839Z"
   },
   {
    "duration": 214,
    "start_time": "2021-07-20T15:11:41.458Z"
   },
   {
    "duration": 217,
    "start_time": "2021-07-20T15:12:04.641Z"
   },
   {
    "duration": 358,
    "start_time": "2021-07-20T15:12:36.497Z"
   },
   {
    "duration": 3301,
    "start_time": "2021-07-20T15:13:58.245Z"
   },
   {
    "duration": 1167,
    "start_time": "2021-07-20T15:15:26.279Z"
   },
   {
    "duration": 216,
    "start_time": "2021-07-20T15:16:06.789Z"
   },
   {
    "duration": 258,
    "start_time": "2021-07-20T15:17:46.443Z"
   },
   {
    "duration": 306,
    "start_time": "2021-07-20T15:18:08.053Z"
   },
   {
    "duration": 7390,
    "start_time": "2021-07-20T15:18:28.723Z"
   },
   {
    "duration": 7126,
    "start_time": "2021-07-20T15:25:34.639Z"
   },
   {
    "duration": 6243,
    "start_time": "2021-07-20T15:25:42.464Z"
   },
   {
    "duration": 218,
    "start_time": "2021-07-20T15:26:11.376Z"
   },
   {
    "duration": 203,
    "start_time": "2021-07-20T15:26:47.688Z"
   },
   {
    "duration": 210,
    "start_time": "2021-07-20T15:27:30.064Z"
   },
   {
    "duration": 932,
    "start_time": "2021-07-20T15:30:01.925Z"
   },
   {
    "duration": 1173,
    "start_time": "2021-07-20T15:30:22.792Z"
   },
   {
    "duration": 887,
    "start_time": "2021-07-20T15:30:42.706Z"
   },
   {
    "duration": 1222,
    "start_time": "2021-07-20T15:31:04.903Z"
   },
   {
    "duration": 895,
    "start_time": "2021-07-20T15:31:22.703Z"
   },
   {
    "duration": 931,
    "start_time": "2021-07-20T15:34:57.252Z"
   },
   {
    "duration": 923,
    "start_time": "2021-07-20T15:35:17.235Z"
   },
   {
    "duration": 1220,
    "start_time": "2021-07-20T15:42:30.712Z"
   },
   {
    "duration": 946,
    "start_time": "2021-07-20T15:42:38.998Z"
   },
   {
    "duration": 1469,
    "start_time": "2021-07-20T15:45:15.849Z"
   },
   {
    "duration": 1029,
    "start_time": "2021-07-20T15:46:38.175Z"
   },
   {
    "duration": 1239,
    "start_time": "2021-07-20T15:46:51.267Z"
   },
   {
    "duration": 108,
    "start_time": "2021-07-20T15:48:13.816Z"
   },
   {
    "duration": 28,
    "start_time": "2021-07-20T15:48:13.927Z"
   },
   {
    "duration": 18,
    "start_time": "2021-07-20T15:48:13.959Z"
   },
   {
    "duration": 94,
    "start_time": "2021-07-20T15:48:13.980Z"
   },
   {
    "duration": 998,
    "start_time": "2021-07-20T15:48:14.077Z"
   },
   {
    "duration": 1216,
    "start_time": "2021-07-20T15:48:15.079Z"
   },
   {
    "duration": 371,
    "start_time": "2021-07-20T15:48:15.927Z"
   },
   {
    "duration": 368,
    "start_time": "2021-07-20T15:48:15.931Z"
   },
   {
    "duration": 366,
    "start_time": "2021-07-20T15:48:15.935Z"
   },
   {
    "duration": 364,
    "start_time": "2021-07-20T15:48:15.938Z"
   },
   {
    "duration": 1104,
    "start_time": "2021-07-20T15:49:31.558Z"
   },
   {
    "duration": 1397,
    "start_time": "2021-07-20T15:49:50.072Z"
   },
   {
    "duration": 1621,
    "start_time": "2021-07-20T15:50:53.334Z"
   },
   {
    "duration": 1925,
    "start_time": "2021-07-20T15:51:46.683Z"
   },
   {
    "duration": 1252,
    "start_time": "2021-07-20T15:51:58.452Z"
   },
   {
    "duration": 221,
    "start_time": "2021-07-20T15:52:34.230Z"
   },
   {
    "duration": 1311,
    "start_time": "2021-07-20T15:57:46.810Z"
   },
   {
    "duration": 1811,
    "start_time": "2021-07-20T15:58:00.825Z"
   },
   {
    "duration": 1287,
    "start_time": "2021-07-20T15:58:56.890Z"
   },
   {
    "duration": 1452,
    "start_time": "2021-07-20T16:09:59.766Z"
   },
   {
    "duration": 1256,
    "start_time": "2021-07-20T16:10:20.928Z"
   },
   {
    "duration": 1244,
    "start_time": "2021-07-20T16:10:37.285Z"
   },
   {
    "duration": 444,
    "start_time": "2021-07-20T16:11:30.338Z"
   },
   {
    "duration": 433,
    "start_time": "2021-07-20T16:11:49.329Z"
   },
   {
    "duration": 5,
    "start_time": "2021-07-20T16:13:25.968Z"
   },
   {
    "duration": 5,
    "start_time": "2021-07-20T16:13:30.930Z"
   },
   {
    "duration": 19,
    "start_time": "2021-07-20T16:14:21.306Z"
   },
   {
    "duration": 23,
    "start_time": "2021-07-20T16:15:19.910Z"
   },
   {
    "duration": 16,
    "start_time": "2021-07-20T16:15:33.175Z"
   },
   {
    "duration": 920,
    "start_time": "2021-07-20T16:18:14.847Z"
   },
   {
    "duration": 39,
    "start_time": "2021-07-20T17:42:52.851Z"
   },
   {
    "duration": 252,
    "start_time": "2021-07-20T17:45:50.886Z"
   },
   {
    "duration": 12,
    "start_time": "2021-07-20T18:01:43.061Z"
   },
   {
    "duration": 968,
    "start_time": "2021-07-20T18:02:41.375Z"
   },
   {
    "duration": 945,
    "start_time": "2021-07-20T18:03:01.600Z"
   },
   {
    "duration": 1018,
    "start_time": "2021-07-20T18:03:15.861Z"
   },
   {
    "duration": 889,
    "start_time": "2021-07-20T18:03:29.091Z"
   },
   {
    "duration": 928,
    "start_time": "2021-07-20T18:05:30.511Z"
   },
   {
    "duration": 940,
    "start_time": "2021-07-20T18:07:40.198Z"
   },
   {
    "duration": 4542,
    "start_time": "2021-07-20T18:08:44.755Z"
   },
   {
    "duration": 32,
    "start_time": "2021-07-20T18:25:13.609Z"
   },
   {
    "duration": 942,
    "start_time": "2021-07-20T18:30:25.253Z"
   },
   {
    "duration": 108,
    "start_time": "2021-07-20T18:47:48.018Z"
   },
   {
    "duration": 320,
    "start_time": "2021-07-20T18:48:03.084Z"
   },
   {
    "duration": 3690,
    "start_time": "2021-07-20T18:48:28.429Z"
   },
   {
    "duration": 1272,
    "start_time": "2021-07-20T19:24:58.718Z"
   },
   {
    "duration": 1307,
    "start_time": "2021-07-20T19:25:35.536Z"
   },
   {
    "duration": 1269,
    "start_time": "2021-07-20T19:26:19.631Z"
   },
   {
    "duration": 1363,
    "start_time": "2021-07-20T19:27:35.073Z"
   },
   {
    "duration": 7,
    "start_time": "2021-07-20T19:34:10.498Z"
   },
   {
    "duration": 1165,
    "start_time": "2021-07-20T19:36:45.737Z"
   },
   {
    "duration": 11722,
    "start_time": "2021-07-20T19:37:01.896Z"
   },
   {
    "duration": 2015,
    "start_time": "2021-07-20T19:37:20.584Z"
   },
   {
    "duration": 1989,
    "start_time": "2021-07-20T19:37:37.060Z"
   },
   {
    "duration": 1982,
    "start_time": "2021-07-20T19:44:35.464Z"
   },
   {
    "duration": 498,
    "start_time": "2021-07-20T19:45:21.898Z"
   },
   {
    "duration": 2574,
    "start_time": "2021-07-20T19:45:28.527Z"
   },
   {
    "duration": 85,
    "start_time": "2021-07-20T19:46:21.216Z"
   },
   {
    "duration": 1909,
    "start_time": "2021-07-20T19:46:32.455Z"
   },
   {
    "duration": 2302,
    "start_time": "2021-07-20T20:00:35.416Z"
   },
   {
    "duration": 88,
    "start_time": "2021-07-20T20:02:37.301Z"
   },
   {
    "duration": 5092,
    "start_time": "2021-07-20T20:02:42.804Z"
   },
   {
    "duration": 56376,
    "start_time": "2021-07-20T20:07:39.039Z"
   },
   {
    "duration": 1317,
    "start_time": "2021-07-20T20:13:53.677Z"
   },
   {
    "duration": 1531,
    "start_time": "2021-07-20T20:14:04.580Z"
   },
   {
    "duration": 1520,
    "start_time": "2021-07-20T20:14:58.221Z"
   },
   {
    "duration": 515,
    "start_time": "2021-07-20T20:26:43.563Z"
   },
   {
    "duration": 99,
    "start_time": "2021-07-20T20:26:58.113Z"
   },
   {
    "duration": 4796,
    "start_time": "2021-07-20T20:27:08.069Z"
   },
   {
    "duration": 12681,
    "start_time": "2021-07-20T20:28:03.719Z"
   },
   {
    "duration": 469,
    "start_time": "2021-07-20T20:29:20.876Z"
   },
   {
    "duration": 470,
    "start_time": "2021-07-20T20:29:42.088Z"
   },
   {
    "duration": 417,
    "start_time": "2021-07-20T20:30:16.781Z"
   },
   {
    "duration": 428,
    "start_time": "2021-07-20T20:30:26.727Z"
   },
   {
    "duration": 113,
    "start_time": "2021-07-20T20:30:30.162Z"
   },
   {
    "duration": 107,
    "start_time": "2021-07-20T20:30:52.401Z"
   },
   {
    "duration": 417,
    "start_time": "2021-07-20T20:31:44.317Z"
   },
   {
    "duration": 12,
    "start_time": "2021-07-20T20:33:50.996Z"
   },
   {
    "duration": 133,
    "start_time": "2021-07-20T20:38:00.882Z"
   },
   {
    "duration": 88,
    "start_time": "2021-07-20T20:38:09.848Z"
   },
   {
    "duration": 14,
    "start_time": "2021-07-20T20:38:49.295Z"
   },
   {
    "duration": 30,
    "start_time": "2021-07-20T20:39:12.994Z"
   },
   {
    "duration": 24,
    "start_time": "2021-07-20T20:39:28.188Z"
   },
   {
    "duration": 306,
    "start_time": "2021-07-20T20:40:08.694Z"
   },
   {
    "duration": 22,
    "start_time": "2021-07-20T20:48:57.797Z"
   },
   {
    "duration": 22,
    "start_time": "2021-07-20T20:49:25.176Z"
   },
   {
    "duration": 85,
    "start_time": "2021-07-20T20:50:25.600Z"
   },
   {
    "duration": 98,
    "start_time": "2021-07-20T20:50:32.773Z"
   },
   {
    "duration": 277,
    "start_time": "2021-07-20T20:50:53.282Z"
   },
   {
    "duration": 17,
    "start_time": "2021-07-20T20:51:06.150Z"
   },
   {
    "duration": 16,
    "start_time": "2021-07-20T20:53:15.349Z"
   },
   {
    "duration": 17,
    "start_time": "2021-07-20T20:53:23.038Z"
   },
   {
    "duration": 16,
    "start_time": "2021-07-20T20:53:51.625Z"
   },
   {
    "duration": 16,
    "start_time": "2021-07-20T20:54:23.053Z"
   },
   {
    "duration": 31,
    "start_time": "2021-07-20T21:00:14.333Z"
   },
   {
    "duration": 20,
    "start_time": "2021-07-20T21:05:05.084Z"
   },
   {
    "duration": 27,
    "start_time": "2021-07-20T21:07:08.318Z"
   },
   {
    "duration": 31,
    "start_time": "2021-07-20T21:08:29.020Z"
   },
   {
    "duration": 144,
    "start_time": "2021-07-21T11:12:37.726Z"
   },
   {
    "duration": 841,
    "start_time": "2021-07-21T11:13:43.700Z"
   },
   {
    "duration": 18,
    "start_time": "2021-07-21T11:13:44.544Z"
   },
   {
    "duration": 30,
    "start_time": "2021-07-21T11:13:44.565Z"
   },
   {
    "duration": 60,
    "start_time": "2021-07-21T11:13:44.597Z"
   },
   {
    "duration": 907,
    "start_time": "2021-07-21T11:13:44.683Z"
   },
   {
    "duration": 18,
    "start_time": "2021-07-21T11:13:45.594Z"
   },
   {
    "duration": 16,
    "start_time": "2021-07-21T11:13:45.615Z"
   },
   {
    "duration": 11,
    "start_time": "2021-07-21T11:13:45.635Z"
   },
   {
    "duration": 60,
    "start_time": "2021-07-21T11:13:45.649Z"
   },
   {
    "duration": 31,
    "start_time": "2021-07-21T11:13:45.711Z"
   },
   {
    "duration": 7,
    "start_time": "2021-07-21T11:17:06.392Z"
   },
   {
    "duration": 7,
    "start_time": "2021-07-21T11:23:43.629Z"
   },
   {
    "duration": 598,
    "start_time": "2021-07-22T18:30:54.567Z"
   },
   {
    "duration": 826,
    "start_time": "2021-07-22T18:31:03.457Z"
   },
   {
    "duration": 22,
    "start_time": "2021-07-22T18:31:09.087Z"
   },
   {
    "duration": 17,
    "start_time": "2021-07-22T18:31:38.856Z"
   },
   {
    "duration": 108,
    "start_time": "2021-07-22T18:31:51.302Z"
   },
   {
    "duration": 17,
    "start_time": "2021-07-22T18:31:51.412Z"
   },
   {
    "duration": 34,
    "start_time": "2021-07-22T18:31:51.432Z"
   },
   {
    "duration": 73,
    "start_time": "2021-07-22T18:31:51.469Z"
   },
   {
    "duration": 878,
    "start_time": "2021-07-22T18:31:51.544Z"
   },
   {
    "duration": 19,
    "start_time": "2021-07-22T18:31:52.425Z"
   },
   {
    "duration": 21,
    "start_time": "2021-07-22T18:31:52.446Z"
   },
   {
    "duration": 42,
    "start_time": "2021-07-22T18:31:52.469Z"
   },
   {
    "duration": 27,
    "start_time": "2021-07-22T18:31:52.515Z"
   },
   {
    "duration": 59,
    "start_time": "2021-07-22T18:31:52.545Z"
   },
   {
    "duration": 7,
    "start_time": "2021-07-22T18:31:52.607Z"
   },
   {
    "duration": 95,
    "start_time": "2021-07-22T18:32:27.535Z"
   },
   {
    "duration": 99,
    "start_time": "2021-07-22T18:32:38.814Z"
   },
   {
    "duration": 20,
    "start_time": "2021-07-22T18:33:01.799Z"
   },
   {
    "duration": 18,
    "start_time": "2021-07-22T18:33:44.950Z"
   },
   {
    "duration": 367,
    "start_time": "2021-07-22T18:40:19.811Z"
   },
   {
    "duration": 358,
    "start_time": "2021-07-22T18:40:41.159Z"
   },
   {
    "duration": 297,
    "start_time": "2021-07-22T18:41:17.946Z"
   },
   {
    "duration": 294,
    "start_time": "2021-07-22T18:41:53.753Z"
   },
   {
    "duration": 510,
    "start_time": "2021-07-22T18:44:06.800Z"
   },
   {
    "duration": 104,
    "start_time": "2021-07-22T18:45:18.511Z"
   },
   {
    "duration": 272,
    "start_time": "2021-07-22T18:45:56.549Z"
   },
   {
    "duration": 102,
    "start_time": "2021-07-22T18:46:37.398Z"
   },
   {
    "duration": 16,
    "start_time": "2021-07-22T18:47:02.588Z"
   },
   {
    "duration": 19,
    "start_time": "2021-07-22T18:47:24.094Z"
   },
   {
    "duration": 21,
    "start_time": "2021-07-22T18:51:25.355Z"
   },
   {
    "duration": 23,
    "start_time": "2021-07-22T18:51:35.871Z"
   },
   {
    "duration": 22,
    "start_time": "2021-07-22T18:52:22.075Z"
   },
   {
    "duration": 22,
    "start_time": "2021-07-22T18:52:28.706Z"
   },
   {
    "duration": 21,
    "start_time": "2021-07-22T18:52:34.383Z"
   },
   {
    "duration": 26,
    "start_time": "2021-07-22T18:53:31.144Z"
   },
   {
    "duration": 23,
    "start_time": "2021-07-22T18:58:55.480Z"
   },
   {
    "duration": 264,
    "start_time": "2021-07-22T19:05:52.942Z"
   },
   {
    "duration": 31,
    "start_time": "2021-07-22T19:06:02.821Z"
   },
   {
    "duration": 26,
    "start_time": "2021-07-22T19:07:28.795Z"
   },
   {
    "duration": 27,
    "start_time": "2021-07-22T19:07:54.136Z"
   },
   {
    "duration": 26,
    "start_time": "2021-07-22T19:08:10.252Z"
   },
   {
    "duration": 31,
    "start_time": "2021-07-22T19:14:55.698Z"
   },
   {
    "duration": 14,
    "start_time": "2021-07-22T19:17:31.904Z"
   },
   {
    "duration": 1114,
    "start_time": "2021-07-22T19:20:34.158Z"
   },
   {
    "duration": 705,
    "start_time": "2021-07-22T19:20:53.186Z"
   },
   {
    "duration": 94,
    "start_time": "2021-07-22T19:21:51.552Z"
   },
   {
    "duration": 17,
    "start_time": "2021-07-22T19:21:54.814Z"
   },
   {
    "duration": 19,
    "start_time": "2021-07-22T19:22:45.612Z"
   },
   {
    "duration": 18,
    "start_time": "2021-07-22T19:22:52.982Z"
   },
   {
    "duration": 21,
    "start_time": "2021-07-22T19:23:24.914Z"
   },
   {
    "duration": 23,
    "start_time": "2021-07-22T19:23:59.354Z"
   },
   {
    "duration": 21,
    "start_time": "2021-07-22T19:24:30.772Z"
   },
   {
    "duration": 24,
    "start_time": "2021-07-22T19:25:00.276Z"
   },
   {
    "duration": 23,
    "start_time": "2021-07-22T19:25:26.612Z"
   },
   {
    "duration": 18,
    "start_time": "2021-07-22T19:28:03.433Z"
   },
   {
    "duration": 18,
    "start_time": "2021-07-22T19:29:01.107Z"
   },
   {
    "duration": 20,
    "start_time": "2021-07-22T19:29:55.515Z"
   },
   {
    "duration": 112,
    "start_time": "2021-07-22T19:30:02.067Z"
   },
   {
    "duration": 33,
    "start_time": "2021-07-22T19:30:02.183Z"
   },
   {
    "duration": 21,
    "start_time": "2021-07-22T19:30:02.220Z"
   },
   {
    "duration": 94,
    "start_time": "2021-07-22T19:30:02.244Z"
   },
   {
    "duration": 987,
    "start_time": "2021-07-22T19:30:02.341Z"
   },
   {
    "duration": 20,
    "start_time": "2021-07-22T19:30:03.331Z"
   },
   {
    "duration": 59,
    "start_time": "2021-07-22T19:30:03.354Z"
   },
   {
    "duration": 21,
    "start_time": "2021-07-22T19:30:03.417Z"
   },
   {
    "duration": 30,
    "start_time": "2021-07-22T19:30:03.441Z"
   },
   {
    "duration": 32,
    "start_time": "2021-07-22T19:30:03.502Z"
   },
   {
    "duration": 6,
    "start_time": "2021-07-22T19:30:03.536Z"
   },
   {
    "duration": 18,
    "start_time": "2021-07-22T19:31:05.648Z"
   },
   {
    "duration": 17,
    "start_time": "2021-07-22T19:33:21.556Z"
   },
   {
    "duration": 36,
    "start_time": "2021-07-22T19:33:42.825Z"
   },
   {
    "duration": 30,
    "start_time": "2021-07-22T19:35:15.935Z"
   },
   {
    "duration": 23,
    "start_time": "2021-07-22T19:35:32.108Z"
   },
   {
    "duration": 11,
    "start_time": "2021-07-22T19:42:38.472Z"
   },
   {
    "duration": 337,
    "start_time": "2021-07-23T21:38:08.131Z"
   },
   {
    "duration": 810,
    "start_time": "2021-07-23T21:38:18.130Z"
   },
   {
    "duration": 17,
    "start_time": "2021-07-23T21:38:18.944Z"
   },
   {
    "duration": 43,
    "start_time": "2021-07-23T21:38:18.964Z"
   },
   {
    "duration": 59,
    "start_time": "2021-07-23T21:38:19.009Z"
   },
   {
    "duration": 915,
    "start_time": "2021-07-23T21:38:19.070Z"
   },
   {
    "duration": 26,
    "start_time": "2021-07-23T21:38:19.988Z"
   },
   {
    "duration": 26,
    "start_time": "2021-07-23T21:38:20.017Z"
   },
   {
    "duration": 9,
    "start_time": "2021-07-23T21:38:20.046Z"
   },
   {
    "duration": 70,
    "start_time": "2021-07-23T21:38:20.057Z"
   },
   {
    "duration": 28,
    "start_time": "2021-07-23T21:38:20.130Z"
   },
   {
    "duration": 10,
    "start_time": "2021-07-23T21:38:20.161Z"
   },
   {
    "duration": 31,
    "start_time": "2021-07-23T21:39:43.798Z"
   },
   {
    "duration": 9,
    "start_time": "2021-07-23T22:20:27.712Z"
   },
   {
    "duration": 44,
    "start_time": "2021-07-23T22:29:21.527Z"
   },
   {
    "duration": 7230,
    "start_time": "2021-07-23T22:31:51.104Z"
   },
   {
    "duration": 1960,
    "start_time": "2021-07-23T22:32:48.473Z"
   },
   {
    "duration": 101,
    "start_time": "2021-07-23T22:53:43.013Z"
   },
   {
    "duration": 45,
    "start_time": "2021-07-23T22:54:25.178Z"
   },
   {
    "duration": 421,
    "start_time": "2021-07-23T23:06:34.154Z"
   },
   {
    "duration": 446,
    "start_time": "2021-07-23T23:07:04.581Z"
   },
   {
    "duration": 217,
    "start_time": "2021-07-26T10:53:28.228Z"
   },
   {
    "duration": 659,
    "start_time": "2021-07-26T10:53:31.278Z"
   },
   {
    "duration": 11,
    "start_time": "2021-07-26T10:53:31.938Z"
   },
   {
    "duration": 11,
    "start_time": "2021-07-26T10:53:31.951Z"
   },
   {
    "duration": 60,
    "start_time": "2021-07-26T10:53:31.963Z"
   },
   {
    "duration": 654,
    "start_time": "2021-07-26T10:53:32.026Z"
   },
   {
    "duration": 18,
    "start_time": "2021-07-26T10:53:32.685Z"
   },
   {
    "duration": 17,
    "start_time": "2021-07-26T10:53:32.705Z"
   },
   {
    "duration": 7,
    "start_time": "2021-07-26T10:53:32.725Z"
   },
   {
    "duration": 261,
    "start_time": "2021-07-26T10:53:32.734Z"
   },
   {
    "duration": 25,
    "start_time": "2021-07-26T10:53:32.997Z"
   },
   {
    "duration": 4,
    "start_time": "2021-07-26T10:53:33.024Z"
   },
   {
    "duration": 234,
    "start_time": "2021-07-26T10:59:10.689Z"
   },
   {
    "duration": 57,
    "start_time": "2021-07-26T11:11:27.349Z"
   },
   {
    "duration": 207,
    "start_time": "2021-07-26T11:11:37.374Z"
   },
   {
    "duration": 81,
    "start_time": "2021-07-26T11:12:39.484Z"
   },
   {
    "duration": 27,
    "start_time": "2021-07-26T11:12:39.567Z"
   },
   {
    "duration": 12,
    "start_time": "2021-07-26T11:12:39.597Z"
   },
   {
    "duration": 38,
    "start_time": "2021-07-26T11:12:39.611Z"
   },
   {
    "duration": 713,
    "start_time": "2021-07-26T11:12:39.651Z"
   },
   {
    "duration": 22,
    "start_time": "2021-07-26T11:12:40.367Z"
   },
   {
    "duration": 24,
    "start_time": "2021-07-26T11:12:40.391Z"
   },
   {
    "duration": 8,
    "start_time": "2021-07-26T11:12:40.418Z"
   },
   {
    "duration": 272,
    "start_time": "2021-07-26T11:12:40.428Z"
   },
   {
    "duration": 181,
    "start_time": "2021-07-26T11:12:40.702Z"
   },
   {
    "duration": 1311,
    "start_time": "2021-07-26T11:12:39.574Z"
   },
   {
    "duration": 194,
    "start_time": "2021-07-26T11:12:48.043Z"
   },
   {
    "duration": 201,
    "start_time": "2021-07-26T11:13:15.482Z"
   },
   {
    "duration": 2859,
    "start_time": "2021-07-26T11:13:36.614Z"
   },
   {
    "duration": 944,
    "start_time": "2021-07-26T11:13:55.903Z"
   },
   {
    "duration": 817,
    "start_time": "2021-07-26T11:14:40.302Z"
   },
   {
    "duration": 903,
    "start_time": "2021-07-26T11:16:08.952Z"
   },
   {
    "duration": 8,
    "start_time": "2021-07-26T11:22:34.463Z"
   },
   {
    "duration": 18,
    "start_time": "2021-07-26T11:22:48.062Z"
   },
   {
    "duration": 834,
    "start_time": "2021-07-26T11:23:01.575Z"
   },
   {
    "duration": 809,
    "start_time": "2021-07-26T11:26:03.660Z"
   },
   {
    "duration": 189,
    "start_time": "2021-07-26T11:32:30.127Z"
   },
   {
    "duration": 19,
    "start_time": "2021-07-26T11:38:38.772Z"
   },
   {
    "duration": 18,
    "start_time": "2021-07-26T11:43:26.218Z"
   },
   {
    "duration": 18,
    "start_time": "2021-07-26T12:48:51.733Z"
   },
   {
    "duration": 17,
    "start_time": "2021-07-26T12:51:06.301Z"
   },
   {
    "duration": 1405,
    "start_time": "2021-07-26T13:22:24.969Z"
   },
   {
    "duration": 18,
    "start_time": "2021-07-26T13:45:30.069Z"
   },
   {
    "duration": 14,
    "start_time": "2021-07-26T13:46:46.427Z"
   },
   {
    "duration": 14,
    "start_time": "2021-07-26T13:47:35.498Z"
   },
   {
    "duration": 11,
    "start_time": "2021-07-26T13:47:42.800Z"
   },
   {
    "duration": 14,
    "start_time": "2021-07-26T13:48:08.597Z"
   },
   {
    "duration": 14,
    "start_time": "2021-07-26T13:48:40.533Z"
   },
   {
    "duration": 16,
    "start_time": "2021-07-26T13:49:14.711Z"
   },
   {
    "duration": 1250,
    "start_time": "2021-07-26T13:49:36.669Z"
   },
   {
    "duration": 13,
    "start_time": "2021-07-26T13:50:13.572Z"
   },
   {
    "duration": 13,
    "start_time": "2021-07-26T13:50:26.909Z"
   },
   {
    "duration": 13,
    "start_time": "2021-07-26T13:50:32.527Z"
   },
   {
    "duration": 806,
    "start_time": "2021-07-26T13:50:47.173Z"
   },
   {
    "duration": 14,
    "start_time": "2021-07-26T13:50:56.094Z"
   },
   {
    "duration": 15,
    "start_time": "2021-07-26T13:52:38.300Z"
   },
   {
    "duration": 13,
    "start_time": "2021-07-26T13:53:02.682Z"
   },
   {
    "duration": 14,
    "start_time": "2021-07-26T13:55:09.337Z"
   },
   {
    "duration": 489,
    "start_time": "2021-07-26T13:55:21.805Z"
   },
   {
    "duration": 14,
    "start_time": "2021-07-26T13:55:22.296Z"
   },
   {
    "duration": 11,
    "start_time": "2021-07-26T13:55:22.313Z"
   },
   {
    "duration": 72,
    "start_time": "2021-07-26T13:55:22.327Z"
   },
   {
    "duration": 677,
    "start_time": "2021-07-26T13:55:22.401Z"
   },
   {
    "duration": 13,
    "start_time": "2021-07-26T13:55:23.084Z"
   },
   {
    "duration": 29,
    "start_time": "2021-07-26T13:55:23.100Z"
   },
   {
    "duration": 7,
    "start_time": "2021-07-26T13:55:23.131Z"
   },
   {
    "duration": 280,
    "start_time": "2021-07-26T13:55:23.140Z"
   },
   {
    "duration": 15,
    "start_time": "2021-07-26T13:55:23.422Z"
   },
   {
    "duration": 5,
    "start_time": "2021-07-26T13:55:23.439Z"
   },
   {
    "duration": 184,
    "start_time": "2021-07-26T13:56:18.122Z"
   },
   {
    "duration": 2844,
    "start_time": "2021-07-26T13:56:33.577Z"
   },
   {
    "duration": 813,
    "start_time": "2021-07-26T13:57:04.880Z"
   },
   {
    "duration": 1265,
    "start_time": "2021-07-26T13:57:32.532Z"
   },
   {
    "duration": 1275,
    "start_time": "2021-07-26T13:57:50.966Z"
   },
   {
    "duration": 792,
    "start_time": "2021-07-26T13:58:09.212Z"
   },
   {
    "duration": 797,
    "start_time": "2021-07-26T14:23:50.623Z"
   },
   {
    "duration": 814,
    "start_time": "2021-07-26T14:24:22.720Z"
   },
   {
    "duration": 8,
    "start_time": "2021-07-26T14:24:32.507Z"
   },
   {
    "duration": 10,
    "start_time": "2021-07-26T14:24:43.300Z"
   },
   {
    "duration": 14,
    "start_time": "2021-07-26T14:24:48.405Z"
   },
   {
    "duration": 9,
    "start_time": "2021-07-26T14:25:00.257Z"
   },
   {
    "duration": 13,
    "start_time": "2021-07-26T14:25:13.530Z"
   },
   {
    "duration": 14,
    "start_time": "2021-07-26T14:25:23.752Z"
   },
   {
    "duration": 17,
    "start_time": "2021-07-26T15:01:50.438Z"
   },
   {
    "duration": 107,
    "start_time": "2021-07-26T15:02:08.067Z"
   },
   {
    "duration": 11,
    "start_time": "2021-07-26T15:02:08.176Z"
   },
   {
    "duration": 11,
    "start_time": "2021-07-26T15:02:08.189Z"
   },
   {
    "duration": 43,
    "start_time": "2021-07-26T15:02:08.202Z"
   },
   {
    "duration": 702,
    "start_time": "2021-07-26T15:02:08.247Z"
   },
   {
    "duration": 14,
    "start_time": "2021-07-26T15:02:08.951Z"
   },
   {
    "duration": 28,
    "start_time": "2021-07-26T15:02:08.967Z"
   },
   {
    "duration": 7,
    "start_time": "2021-07-26T15:02:08.997Z"
   },
   {
    "duration": 253,
    "start_time": "2021-07-26T15:02:09.006Z"
   },
   {
    "duration": 31,
    "start_time": "2021-07-26T15:02:09.261Z"
   },
   {
    "duration": 4,
    "start_time": "2021-07-26T15:02:09.294Z"
   },
   {
    "duration": 15,
    "start_time": "2021-07-26T15:02:52.547Z"
   },
   {
    "duration": 2586,
    "start_time": "2021-07-26T15:03:09.915Z"
   },
   {
    "duration": 1246,
    "start_time": "2021-07-26T15:20:57.000Z"
   },
   {
    "duration": 182,
    "start_time": "2021-07-27T12:45:06.381Z"
   }
  ],
  "kernelspec": {
   "display_name": "Python 3 (ipykernel)",
   "language": "python",
   "name": "python3"
  },
  "language_info": {
   "codemirror_mode": {
    "name": "ipython",
    "version": 3
   },
   "file_extension": ".py",
   "mimetype": "text/x-python",
   "name": "python",
   "nbconvert_exporter": "python",
   "pygments_lexer": "ipython3",
   "version": "3.7.8"
  },
  "toc": {
   "base_numbering": 1,
   "nav_menu": {},
   "number_sections": true,
   "sideBar": true,
   "skip_h1_title": true,
   "title_cell": "Table of Contents",
   "title_sidebar": "Contents",
   "toc_cell": false,
   "toc_position": {},
   "toc_section_display": true,
   "toc_window_display": false
  }
 },
 "nbformat": 4,
 "nbformat_minor": 2
}
