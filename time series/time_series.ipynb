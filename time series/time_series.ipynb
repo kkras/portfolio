{
 "cells": [
  {
   "cell_type": "markdown",
   "metadata": {},
   "source": [
    "# Проект по временным рядам"
   ]
  },
  {
   "cell_type": "markdown",
   "metadata": {
    "toc": true
   },
   "source": [
    "<h1>Содержание<span class=\"tocSkip\"></span></h1>\n",
    "<div class=\"toc\"><ul class=\"toc-item\"><li><span><a href=\"#Подготовка\" data-toc-modified-id=\"Подготовка-1\"><span class=\"toc-item-num\">1&nbsp;&nbsp;</span>Подготовка</a></span></li><li><span><a href=\"#Анализ\" data-toc-modified-id=\"Анализ-2\"><span class=\"toc-item-num\">2&nbsp;&nbsp;</span>Анализ</a></span></li><li><span><a href=\"#Обучение-модели\" data-toc-modified-id=\"Обучение-модели-3\"><span class=\"toc-item-num\">3&nbsp;&nbsp;</span>Обучение модели</a></span></li><li><span><a href=\"#Тестирование\" data-toc-modified-id=\"Тестирование-4\"><span class=\"toc-item-num\">4&nbsp;&nbsp;</span>Тестирование</a></span></li><li><span><a href=\"#Выводы\" data-toc-modified-id=\"Выводы-5\"><span class=\"toc-item-num\">5&nbsp;&nbsp;</span>Выводы</a></span></li></ul></div>"
   ]
  },
  {
   "cell_type": "markdown",
   "metadata": {},
   "source": [
    "#  Прогнозирование заказов такси"
   ]
  },
  {
   "cell_type": "markdown",
   "metadata": {},
   "source": [
    "**Исходные данные:** исторические данные о заказах такси в аэропортах.\n",
    "\n",
    "**Цель работы:** спрогнозировать количество заказов на следующий час. При этом значение метрики *RMSE* на тестовой выборке должно быть не больше 48.\n"
   ]
  },
  {
   "cell_type": "markdown",
   "metadata": {},
   "source": [
    "## Подготовка"
   ]
  },
  {
   "cell_type": "code",
   "execution_count": 1,
   "metadata": {},
   "outputs": [],
   "source": [
    "#используемые библиотеки\n",
    "import pandas as pd\n",
    "\n",
    "from statsmodels.tsa.seasonal import seasonal_decompose\n",
    "import matplotlib.pyplot as plt\n",
    "from sklearn.model_selection import train_test_split\n",
    "\n",
    "from sklearn.linear_model import LinearRegression\n",
    "from sklearn.ensemble import RandomForestRegressor\n",
    "from sklearn.metrics import mean_squared_error\n",
    "from sklearn.model_selection import cross_val_score\n",
    "\n",
    "import matplotlib.pyplot as plt\n",
    "\n",
    "import warnings\n",
    "warnings.filterwarnings(\"ignore\")"
   ]
  },
  {
   "cell_type": "markdown",
   "metadata": {},
   "source": [
    "Загрузим необходимые нам данные, проверим их формат."
   ]
  },
  {
   "cell_type": "code",
   "execution_count": 2,
   "metadata": {
    "scrolled": true
   },
   "outputs": [
    {
     "data": {
      "text/html": [
       "<div>\n",
       "<style scoped>\n",
       "    .dataframe tbody tr th:only-of-type {\n",
       "        vertical-align: middle;\n",
       "    }\n",
       "\n",
       "    .dataframe tbody tr th {\n",
       "        vertical-align: top;\n",
       "    }\n",
       "\n",
       "    .dataframe thead th {\n",
       "        text-align: right;\n",
       "    }\n",
       "</style>\n",
       "<table border=\"1\" class=\"dataframe\">\n",
       "  <thead>\n",
       "    <tr style=\"text-align: right;\">\n",
       "      <th></th>\n",
       "      <th>num_orders</th>\n",
       "    </tr>\n",
       "    <tr>\n",
       "      <th>datetime</th>\n",
       "      <th></th>\n",
       "    </tr>\n",
       "  </thead>\n",
       "  <tbody>\n",
       "    <tr>\n",
       "      <td>2018-03-01 00:00:00</td>\n",
       "      <td>9</td>\n",
       "    </tr>\n",
       "    <tr>\n",
       "      <td>2018-03-01 00:10:00</td>\n",
       "      <td>14</td>\n",
       "    </tr>\n",
       "    <tr>\n",
       "      <td>2018-03-01 00:20:00</td>\n",
       "      <td>28</td>\n",
       "    </tr>\n",
       "    <tr>\n",
       "      <td>2018-03-01 00:30:00</td>\n",
       "      <td>20</td>\n",
       "    </tr>\n",
       "    <tr>\n",
       "      <td>2018-03-01 00:40:00</td>\n",
       "      <td>32</td>\n",
       "    </tr>\n",
       "    <tr>\n",
       "      <td>...</td>\n",
       "      <td>...</td>\n",
       "    </tr>\n",
       "    <tr>\n",
       "      <td>2018-08-31 23:10:00</td>\n",
       "      <td>32</td>\n",
       "    </tr>\n",
       "    <tr>\n",
       "      <td>2018-08-31 23:20:00</td>\n",
       "      <td>24</td>\n",
       "    </tr>\n",
       "    <tr>\n",
       "      <td>2018-08-31 23:30:00</td>\n",
       "      <td>27</td>\n",
       "    </tr>\n",
       "    <tr>\n",
       "      <td>2018-08-31 23:40:00</td>\n",
       "      <td>39</td>\n",
       "    </tr>\n",
       "    <tr>\n",
       "      <td>2018-08-31 23:50:00</td>\n",
       "      <td>53</td>\n",
       "    </tr>\n",
       "  </tbody>\n",
       "</table>\n",
       "<p>26496 rows × 1 columns</p>\n",
       "</div>"
      ],
      "text/plain": [
       "                     num_orders\n",
       "datetime                       \n",
       "2018-03-01 00:00:00           9\n",
       "2018-03-01 00:10:00          14\n",
       "2018-03-01 00:20:00          28\n",
       "2018-03-01 00:30:00          20\n",
       "2018-03-01 00:40:00          32\n",
       "...                         ...\n",
       "2018-08-31 23:10:00          32\n",
       "2018-08-31 23:20:00          24\n",
       "2018-08-31 23:30:00          27\n",
       "2018-08-31 23:40:00          39\n",
       "2018-08-31 23:50:00          53\n",
       "\n",
       "[26496 rows x 1 columns]"
      ]
     },
     "execution_count": 2,
     "metadata": {},
     "output_type": "execute_result"
    }
   ],
   "source": [
    "from io import BytesIO\n",
    "import requests\n",
    "spreadsheet_id = '*имя файла*'\n",
    "file_name = 'https://docs.google.com/spreadsheets/d/{}/export?format=csv'.format(spreadsheet_id)\n",
    "r = requests.get(file_name)\n",
    "data = pd.read_csv(BytesIO(r.content), index_col=[0], parse_dates=[0])\n",
    "data"
   ]
  },
  {
   "cell_type": "markdown",
   "metadata": {},
   "source": [
    "Для дальнейшего построения графика дублируем данные в переменную _data_rolling_."
   ]
  },
  {
   "cell_type": "code",
   "execution_count": 3,
   "metadata": {
    "scrolled": true
   },
   "outputs": [
    {
     "name": "stdout",
     "output_type": "stream",
     "text": [
      "<class 'pandas.core.frame.DataFrame'>\n",
      "DatetimeIndex: 26496 entries, 2018-03-01 00:00:00 to 2018-08-31 23:50:00\n",
      "Data columns (total 1 columns):\n",
      "num_orders    26496 non-null int64\n",
      "dtypes: int64(1)\n",
      "memory usage: 414.0 KB\n",
      "\n",
      "<class 'pandas.core.frame.DataFrame'>\n",
      "DatetimeIndex: 26496 entries, 2018-03-01 00:00:00 to 2018-08-31 23:50:00\n",
      "Data columns (total 1 columns):\n",
      "num_orders    26496 non-null int64\n",
      "dtypes: int64(1)\n",
      "memory usage: 414.0 KB\n"
     ]
    },
    {
     "data": {
      "text/html": [
       "<div>\n",
       "<style scoped>\n",
       "    .dataframe tbody tr th:only-of-type {\n",
       "        vertical-align: middle;\n",
       "    }\n",
       "\n",
       "    .dataframe tbody tr th {\n",
       "        vertical-align: top;\n",
       "    }\n",
       "\n",
       "    .dataframe thead th {\n",
       "        text-align: right;\n",
       "    }\n",
       "</style>\n",
       "<table border=\"1\" class=\"dataframe\">\n",
       "  <thead>\n",
       "    <tr style=\"text-align: right;\">\n",
       "      <th></th>\n",
       "      <th>num_orders</th>\n",
       "    </tr>\n",
       "    <tr>\n",
       "      <th>datetime</th>\n",
       "      <th></th>\n",
       "    </tr>\n",
       "  </thead>\n",
       "  <tbody>\n",
       "    <tr>\n",
       "      <td>2018-03-01 00:00:00</td>\n",
       "      <td>9</td>\n",
       "    </tr>\n",
       "    <tr>\n",
       "      <td>2018-03-01 00:10:00</td>\n",
       "      <td>14</td>\n",
       "    </tr>\n",
       "    <tr>\n",
       "      <td>2018-03-01 00:20:00</td>\n",
       "      <td>28</td>\n",
       "    </tr>\n",
       "    <tr>\n",
       "      <td>2018-03-01 00:30:00</td>\n",
       "      <td>20</td>\n",
       "    </tr>\n",
       "    <tr>\n",
       "      <td>2018-03-01 00:40:00</td>\n",
       "      <td>32</td>\n",
       "    </tr>\n",
       "  </tbody>\n",
       "</table>\n",
       "</div>"
      ],
      "text/plain": [
       "                     num_orders\n",
       "datetime                       \n",
       "2018-03-01 00:00:00           9\n",
       "2018-03-01 00:10:00          14\n",
       "2018-03-01 00:20:00          28\n",
       "2018-03-01 00:30:00          20\n",
       "2018-03-01 00:40:00          32"
      ]
     },
     "metadata": {},
     "output_type": "display_data"
    }
   ],
   "source": [
    "data_rolling = pd.read_csv(BytesIO(r.content), index_col=[0], parse_dates=[0])\n",
    "\n",
    "data.info()\n",
    "print()\n",
    "data_rolling.info()\n",
    "display(data_rolling.head())"
   ]
  },
  {
   "cell_type": "markdown",
   "metadata": {},
   "source": [
    "**Вывод**\n",
    "\n",
    "Пропущенных значений в данных нет, тип данных корректен."
   ]
  },
  {
   "cell_type": "code",
   "execution_count": 4,
   "metadata": {
    "scrolled": true
   },
   "outputs": [
    {
     "data": {
      "text/plain": [
       "<matplotlib.axes._subplots.AxesSubplot at 0x1d36f7f6288>"
      ]
     },
     "execution_count": 4,
     "metadata": {},
     "output_type": "execute_result"
    },
    {
     "data": {
      "image/png": "[encoded data removed]",
      "text/plain": [
       "<Figure size 504x504 with 1 Axes>"
      ]
     },
     "metadata": {
      "needs_background": "light"
     },
     "output_type": "display_data"
    }
   ],
   "source": [
    "#проверка значений на адекватность\n",
    "data.boxplot(figsize=(7,7))"
   ]
  },
  {
   "cell_type": "markdown",
   "metadata": {},
   "source": [
    "С помощью боксплота проверяем данные на возможные вбросы или неадекватные значения. Согласно диаграмме вбросов достаточно много, но они находятся в разумных пределах (100 заказов такси в час в аэропорту - вполне реально). Значение 120 заказов/час проверим отдельно."
   ]
  },
  {
   "cell_type": "code",
   "execution_count": 5,
   "metadata": {
    "scrolled": true
   },
   "outputs": [
    {
     "name": "stdout",
     "output_type": "stream",
     "text": [
      "                     num_orders\n",
      "datetime                       \n",
      "2018-08-13 02:20:00         119\n",
      "2018-08-27 02:10:00         119\n"
     ]
    }
   ],
   "source": [
    "print(data.query('num_orders>100'))"
   ]
  },
  {
   "cell_type": "markdown",
   "metadata": {},
   "source": [
    "Посмотрим когда именно было совершено самое большое количество заказов. Оба показателя это два часа ночи, когда общественный транспорт уже не ходит. Оставим эти значения в выборке."
   ]
  },
  {
   "cell_type": "code",
   "execution_count": 6,
   "metadata": {},
   "outputs": [],
   "source": [
    "#ресемплирование\n",
    "data.sort_index(inplace=True)\n",
    "data = data.resample('1H').sum()"
   ]
  },
  {
   "cell_type": "markdown",
   "metadata": {},
   "source": [
    "Так как прогноз необходимо делать на час вперед, то и ресемплирование сдедаем на час."
   ]
  },
  {
   "cell_type": "markdown",
   "metadata": {},
   "source": [
    "## Анализ"
   ]
  },
  {
   "cell_type": "markdown",
   "metadata": {},
   "source": [
    "Построим тред и проанализируем его."
   ]
  },
  {
   "cell_type": "code",
   "execution_count": 7,
   "metadata": {},
   "outputs": [
    {
     "data": {
      "text/plain": [
       "<matplotlib.axes._subplots.AxesSubplot at 0x1d36e967748>"
      ]
     },
     "execution_count": 7,
     "metadata": {},
     "output_type": "execute_result"
    },
    {
     "data": {
      "image/png": "[encoded data removed]",
      "text/plain": [
       "<Figure size 432x288 with 1 Axes>"
      ]
     },
     "metadata": {
      "needs_background": "light"
     },
     "output_type": "display_data"
    }
   ],
   "source": [
    "data_rolling['rolling_mean'] = data_rolling.rolling(10).mean()\n",
    "data_rolling.plot()"
   ]
  },
  {
   "cell_type": "markdown",
   "metadata": {},
   "source": [
    "**Вывод**\n",
    "\n",
    "1. Масштаб графика слишком большой, чтобы можно было сделать конкретные выводы по тренду или скользящему среднему. "
   ]
  },
  {
   "cell_type": "code",
   "execution_count": 8,
   "metadata": {},
   "outputs": [
    {
     "data": {
      "image/png": "[encoded data removed]",
      "text/plain": [
       "<Figure size 432x576 with 3 Axes>"
      ]
     },
     "metadata": {
      "needs_background": "light"
     },
     "output_type": "display_data"
    }
   ],
   "source": [
    "#вычисление трендов и сезонности\n",
    "\n",
    "decomposed = seasonal_decompose(data)\n",
    "\n",
    "plt.figure(figsize=(6, 8))\n",
    "plt.subplot(311)\n",
    "decomposed.trend.plot(ax=plt.gca())\n",
    "plt.title('Trend')\n",
    "plt.subplot(312)\n",
    "decomposed.seasonal.plot(ax=plt.gca())\n",
    "plt.title('Seasonality')\n",
    "plt.subplot(313)\n",
    "decomposed.resid.plot(ax=plt.gca())\n",
    "plt.title('Residuals')\n",
    "plt.tight_layout()"
   ]
  },
  {
   "cell_type": "markdown",
   "metadata": {},
   "source": [
    "**Вывод**\n",
    "1. Тренд показывает нам постепенный прирост заказов такси к осени.\n",
    "2. Очевидно, что масштаб графика для отображения сезонности слишком большой. Попробуем посмотреть в течении недели или суток.\n"
   ]
  },
  {
   "cell_type": "code",
   "execution_count": 9,
   "metadata": {
    "scrolled": false
   },
   "outputs": [
    {
     "data": {
      "text/plain": [
       "Text(0.5, 1.0, 'Seasonality')"
      ]
     },
     "execution_count": 9,
     "metadata": {},
     "output_type": "execute_result"
    },
    {
     "data": {
      "image/png": "[encoded data removed]",
      "text/plain": [
       "<Figure size 432x576 with 1 Axes>"
      ]
     },
     "metadata": {
      "needs_background": "light"
     },
     "output_type": "display_data"
    }
   ],
   "source": [
    "#более крупный масштаб для сезонности\n",
    "\n",
    "plt.figure(figsize=(6, 8))\n",
    "plt.subplot(312)\n",
    "decomposed.seasonal.plot(ax=plt.gca(), xlim=(['2018-06-01' , '2018-06-10']))\n",
    "plt.title('Seasonality')"
   ]
  },
  {
   "cell_type": "markdown",
   "metadata": {},
   "source": [
    "**Вывод**\n",
    "1. Для наблюдения за сезонностью был выбран период в 10 дней. На графике видно четкую повторяющуюся закономерность. Увеличим масштаб до суток, чтобы понять на какое время приходится пиковая активность.\n",
    "2. Для того, чтобы анализ был более полным рассмотрим сезонность в будний день и в выходной"
   ]
  },
  {
   "cell_type": "code",
   "execution_count": 10,
   "metadata": {
    "scrolled": false
   },
   "outputs": [
    {
     "data": {
      "text/plain": [
       "Text(0.5, 1.0, 'Seasonality')"
      ]
     },
     "execution_count": 10,
     "metadata": {},
     "output_type": "execute_result"
    },
    {
     "data": {
      "image/png": "[encoded data removed]",
      "text/plain": [
       "<Figure size 432x864 with 1 Axes>"
      ]
     },
     "metadata": {
      "needs_background": "light"
     },
     "output_type": "display_data"
    }
   ],
   "source": [
    "#сезонность для буднего дня\n",
    "\n",
    "plt.figure(figsize=(6, 12))\n",
    "plt.subplot(312)\n",
    "decomposed.seasonal.plot(ax=plt.gca(), xlim=(['2018-06-11' , '2018-06-12']), grid=True)\n",
    "plt.title('Seasonality')"
   ]
  },
  {
   "cell_type": "code",
   "execution_count": 11,
   "metadata": {},
   "outputs": [
    {
     "data": {
      "text/plain": [
       "Text(0.5, 1.0, 'Seasonality')"
      ]
     },
     "execution_count": 11,
     "metadata": {},
     "output_type": "execute_result"
    },
    {
     "data": {
      "image/png": "[encoded data removed]",
      "text/plain": [
       "<Figure size 432x864 with 1 Axes>"
      ]
     },
     "metadata": {
      "needs_background": "light"
     },
     "output_type": "display_data"
    }
   ],
   "source": [
    "#сезонность для выходного дня\n",
    "\n",
    "plt.figure(figsize=(6, 12))\n",
    "plt.subplot(312)\n",
    "decomposed.seasonal.plot(ax=plt.gca(), xlim=(['2018-06-16' , '2018-06-17']), grid=True)\n",
    "plt.title('Seasonality')"
   ]
  },
  {
   "cell_type": "markdown",
   "metadata": {},
   "source": [
    "**Вывод**\n",
    "1. Графики вызова такси в будний и выходной день очень похожи, поэтому будет рассматривать только один из них. Возьмем первый график.\n",
    "2. Пиковая активность такси приходится на полночь. Скорей всего это связано с тем, что общественный транспорт перестает работать в это время. Также пики активности наблюдаются около 18:00 и 11:00.\n",
    "3. Минимум активности - утро (06:00)."
   ]
  },
  {
   "cell_type": "markdown",
   "metadata": {},
   "source": [
    "## Обучение модели"
   ]
  },
  {
   "cell_type": "markdown",
   "metadata": {},
   "source": [
    "При работе с временными рядами необходимо создать ряд новых признаков, по которым будет идти обучение. Для этого введем новые переменные: день недели, скользящее среднее и отстающие значения.\n",
    "\n",
    "В качестве календарного значения оставим день недели, так как требуемое предсказание всего на 1 час, остальные данные (число, месяц) не потребуются."
   ]
  },
  {
   "cell_type": "code",
   "execution_count": 12,
   "metadata": {
    "scrolled": true
   },
   "outputs": [
    {
     "data": {
      "text/html": [
       "<div>\n",
       "<style scoped>\n",
       "    .dataframe tbody tr th:only-of-type {\n",
       "        vertical-align: middle;\n",
       "    }\n",
       "\n",
       "    .dataframe tbody tr th {\n",
       "        vertical-align: top;\n",
       "    }\n",
       "\n",
       "    .dataframe thead th {\n",
       "        text-align: right;\n",
       "    }\n",
       "</style>\n",
       "<table border=\"1\" class=\"dataframe\">\n",
       "  <thead>\n",
       "    <tr style=\"text-align: right;\">\n",
       "      <th></th>\n",
       "      <th>num_orders</th>\n",
       "      <th>dayofweek</th>\n",
       "      <th>lag_1</th>\n",
       "      <th>lag_2</th>\n",
       "      <th>lag_3</th>\n",
       "      <th>lag_4</th>\n",
       "      <th>lag_5</th>\n",
       "      <th>lag_6</th>\n",
       "      <th>lag_7</th>\n",
       "      <th>lag_8</th>\n",
       "      <th>...</th>\n",
       "      <th>lag_22</th>\n",
       "      <th>lag_23</th>\n",
       "      <th>lag_24</th>\n",
       "      <th>lag_25</th>\n",
       "      <th>lag_26</th>\n",
       "      <th>lag_27</th>\n",
       "      <th>lag_28</th>\n",
       "      <th>lag_29</th>\n",
       "      <th>lag_30</th>\n",
       "      <th>rolling_mean</th>\n",
       "    </tr>\n",
       "    <tr>\n",
       "      <th>datetime</th>\n",
       "      <th></th>\n",
       "      <th></th>\n",
       "      <th></th>\n",
       "      <th></th>\n",
       "      <th></th>\n",
       "      <th></th>\n",
       "      <th></th>\n",
       "      <th></th>\n",
       "      <th></th>\n",
       "      <th></th>\n",
       "      <th></th>\n",
       "      <th></th>\n",
       "      <th></th>\n",
       "      <th></th>\n",
       "      <th></th>\n",
       "      <th></th>\n",
       "      <th></th>\n",
       "      <th></th>\n",
       "      <th></th>\n",
       "      <th></th>\n",
       "      <th></th>\n",
       "    </tr>\n",
       "  </thead>\n",
       "  <tbody>\n",
       "    <tr>\n",
       "      <td>2018-03-01 00:00:00</td>\n",
       "      <td>124</td>\n",
       "      <td>3</td>\n",
       "      <td>NaN</td>\n",
       "      <td>NaN</td>\n",
       "      <td>NaN</td>\n",
       "      <td>NaN</td>\n",
       "      <td>NaN</td>\n",
       "      <td>NaN</td>\n",
       "      <td>NaN</td>\n",
       "      <td>NaN</td>\n",
       "      <td>...</td>\n",
       "      <td>NaN</td>\n",
       "      <td>NaN</td>\n",
       "      <td>NaN</td>\n",
       "      <td>NaN</td>\n",
       "      <td>NaN</td>\n",
       "      <td>NaN</td>\n",
       "      <td>NaN</td>\n",
       "      <td>NaN</td>\n",
       "      <td>NaN</td>\n",
       "      <td>NaN</td>\n",
       "    </tr>\n",
       "    <tr>\n",
       "      <td>2018-03-01 01:00:00</td>\n",
       "      <td>85</td>\n",
       "      <td>3</td>\n",
       "      <td>124.0</td>\n",
       "      <td>NaN</td>\n",
       "      <td>NaN</td>\n",
       "      <td>NaN</td>\n",
       "      <td>NaN</td>\n",
       "      <td>NaN</td>\n",
       "      <td>NaN</td>\n",
       "      <td>NaN</td>\n",
       "      <td>...</td>\n",
       "      <td>NaN</td>\n",
       "      <td>NaN</td>\n",
       "      <td>NaN</td>\n",
       "      <td>NaN</td>\n",
       "      <td>NaN</td>\n",
       "      <td>NaN</td>\n",
       "      <td>NaN</td>\n",
       "      <td>NaN</td>\n",
       "      <td>NaN</td>\n",
       "      <td>NaN</td>\n",
       "    </tr>\n",
       "    <tr>\n",
       "      <td>2018-03-01 02:00:00</td>\n",
       "      <td>71</td>\n",
       "      <td>3</td>\n",
       "      <td>85.0</td>\n",
       "      <td>124.0</td>\n",
       "      <td>NaN</td>\n",
       "      <td>NaN</td>\n",
       "      <td>NaN</td>\n",
       "      <td>NaN</td>\n",
       "      <td>NaN</td>\n",
       "      <td>NaN</td>\n",
       "      <td>...</td>\n",
       "      <td>NaN</td>\n",
       "      <td>NaN</td>\n",
       "      <td>NaN</td>\n",
       "      <td>NaN</td>\n",
       "      <td>NaN</td>\n",
       "      <td>NaN</td>\n",
       "      <td>NaN</td>\n",
       "      <td>NaN</td>\n",
       "      <td>NaN</td>\n",
       "      <td>NaN</td>\n",
       "    </tr>\n",
       "    <tr>\n",
       "      <td>2018-03-01 03:00:00</td>\n",
       "      <td>66</td>\n",
       "      <td>3</td>\n",
       "      <td>71.0</td>\n",
       "      <td>85.0</td>\n",
       "      <td>124.0</td>\n",
       "      <td>NaN</td>\n",
       "      <td>NaN</td>\n",
       "      <td>NaN</td>\n",
       "      <td>NaN</td>\n",
       "      <td>NaN</td>\n",
       "      <td>...</td>\n",
       "      <td>NaN</td>\n",
       "      <td>NaN</td>\n",
       "      <td>NaN</td>\n",
       "      <td>NaN</td>\n",
       "      <td>NaN</td>\n",
       "      <td>NaN</td>\n",
       "      <td>NaN</td>\n",
       "      <td>NaN</td>\n",
       "      <td>NaN</td>\n",
       "      <td>NaN</td>\n",
       "    </tr>\n",
       "    <tr>\n",
       "      <td>2018-03-01 04:00:00</td>\n",
       "      <td>43</td>\n",
       "      <td>3</td>\n",
       "      <td>66.0</td>\n",
       "      <td>71.0</td>\n",
       "      <td>85.0</td>\n",
       "      <td>124.0</td>\n",
       "      <td>NaN</td>\n",
       "      <td>NaN</td>\n",
       "      <td>NaN</td>\n",
       "      <td>NaN</td>\n",
       "      <td>...</td>\n",
       "      <td>NaN</td>\n",
       "      <td>NaN</td>\n",
       "      <td>NaN</td>\n",
       "      <td>NaN</td>\n",
       "      <td>NaN</td>\n",
       "      <td>NaN</td>\n",
       "      <td>NaN</td>\n",
       "      <td>NaN</td>\n",
       "      <td>NaN</td>\n",
       "      <td>NaN</td>\n",
       "    </tr>\n",
       "  </tbody>\n",
       "</table>\n",
       "<p>5 rows × 33 columns</p>\n",
       "</div>"
      ],
      "text/plain": [
       "                     num_orders  dayofweek  lag_1  lag_2  lag_3  lag_4  lag_5  \\\n",
       "datetime                                                                        \n",
       "2018-03-01 00:00:00         124          3    NaN    NaN    NaN    NaN    NaN   \n",
       "2018-03-01 01:00:00          85          3  124.0    NaN    NaN    NaN    NaN   \n",
       "2018-03-01 02:00:00          71          3   85.0  124.0    NaN    NaN    NaN   \n",
       "2018-03-01 03:00:00          66          3   71.0   85.0  124.0    NaN    NaN   \n",
       "2018-03-01 04:00:00          43          3   66.0   71.0   85.0  124.0    NaN   \n",
       "\n",
       "                     lag_6  lag_7  lag_8  ...  lag_22  lag_23  lag_24  lag_25  \\\n",
       "datetime                                  ...                                   \n",
       "2018-03-01 00:00:00    NaN    NaN    NaN  ...     NaN     NaN     NaN     NaN   \n",
       "2018-03-01 01:00:00    NaN    NaN    NaN  ...     NaN     NaN     NaN     NaN   \n",
       "2018-03-01 02:00:00    NaN    NaN    NaN  ...     NaN     NaN     NaN     NaN   \n",
       "2018-03-01 03:00:00    NaN    NaN    NaN  ...     NaN     NaN     NaN     NaN   \n",
       "2018-03-01 04:00:00    NaN    NaN    NaN  ...     NaN     NaN     NaN     NaN   \n",
       "\n",
       "                     lag_26  lag_27  lag_28  lag_29  lag_30  rolling_mean  \n",
       "datetime                                                                   \n",
       "2018-03-01 00:00:00     NaN     NaN     NaN     NaN     NaN           NaN  \n",
       "2018-03-01 01:00:00     NaN     NaN     NaN     NaN     NaN           NaN  \n",
       "2018-03-01 02:00:00     NaN     NaN     NaN     NaN     NaN           NaN  \n",
       "2018-03-01 03:00:00     NaN     NaN     NaN     NaN     NaN           NaN  \n",
       "2018-03-01 04:00:00     NaN     NaN     NaN     NaN     NaN           NaN  \n",
       "\n",
       "[5 rows x 33 columns]"
      ]
     },
     "metadata": {},
     "output_type": "display_data"
    }
   ],
   "source": [
    "#выделение признаков\n",
    "def make_features(data, max_lag, rolling_mean_size):\n",
    "    data['dayofweek'] = data.index.dayofweek\n",
    "    \n",
    "    for lag in range(1, max_lag + 1):\n",
    "        data['lag_{}'.format(lag)] = data['num_orders'].shift(lag)\n",
    "\n",
    "    data['rolling_mean'] = data['num_orders'].shift().rolling(rolling_mean_size).mean()\n",
    "\n",
    "\n",
    "make_features(data, 30, 10)\n",
    "display(data.head())"
   ]
  },
  {
   "cell_type": "markdown",
   "metadata": {},
   "source": [
    "Делим данные на тестовую и обучающие выборки для проведения математического моделирования."
   ]
  },
  {
   "cell_type": "code",
   "execution_count": 13,
   "metadata": {},
   "outputs": [],
   "source": [
    "#разделение данных\n",
    "train, test = train_test_split(data, shuffle=False, test_size=0.1)\n",
    "train = train.dropna()"
   ]
  },
  {
   "cell_type": "markdown",
   "metadata": {},
   "source": [
    "Делим данные на тестовую и обучающие выборки для проведения математического моделирования."
   ]
  },
  {
   "cell_type": "code",
   "execution_count": 14,
   "metadata": {},
   "outputs": [],
   "source": [
    "#выделение признаков и целевого признака\n",
    "features_train = train.drop(['num_orders'], axis=1)\n",
    "target_train = train['num_orders']\n",
    "                        \n",
    "features_test = test.drop(['num_orders'], axis=1)\n",
    "target_test = test['num_orders']"
   ]
  },
  {
   "cell_type": "markdown",
   "metadata": {},
   "source": [
    "Сперва возьмем для обучения простые модели и посмотрим на результат. Значение метрики RMSE на тестовой выборке должно быть не больше 48."
   ]
  },
  {
   "cell_type": "code",
   "execution_count": 15,
   "metadata": {},
   "outputs": [
    {
     "name": "stdout",
     "output_type": "stream",
     "text": [
      "RSME для модели линейной регрессии: 25.578383551979595\n"
     ]
    }
   ],
   "source": [
    "#модель линейной регрессии\n",
    "model = LinearRegression()\n",
    "model.fit(features_train, target_train) \n",
    "predictions_train = model.predict(features_train) \n",
    "\n",
    "mse = mean_squared_error(target_train, predictions_train)\n",
    "rsme = mse**0.5\n",
    "print('RSME для модели линейной регрессии:', rsme)"
   ]
  },
  {
   "cell_type": "code",
   "execution_count": 16,
   "metadata": {
    "scrolled": false
   },
   "outputs": [
    {
     "name": "stdout",
     "output_type": "stream",
     "text": [
      "RSME для модели случайного леса: 8.909071638439013\n"
     ]
    }
   ],
   "source": [
    "#модель случайного леса\n",
    "model_forest = RandomForestRegressor(random_state=12345, n_estimators=50, max_depth=20)\n",
    "model_forest.fit(features_train, target_train) \n",
    "predictions_train = model_forest.predict(features_train)\n",
    "\n",
    "mse_forest = mean_squared_error(target_train, predictions_train)\n",
    "rsme_forest = mse_forest**0.5\n",
    "print('RSME для модели случайного леса:', rsme_forest)"
   ]
  },
  {
   "cell_type": "markdown",
   "metadata": {},
   "source": [
    "**Вывод**\n",
    "1. На данном этапе лучший результат дает модель случайного леса (RMSE=8.91)"
   ]
  },
  {
   "cell_type": "markdown",
   "metadata": {},
   "source": [
    "## Тестирование"
   ]
  },
  {
   "cell_type": "markdown",
   "metadata": {},
   "source": [
    "Проверим лучшие модели на тестовой выборке "
   ]
  },
  {
   "cell_type": "code",
   "execution_count": 17,
   "metadata": {},
   "outputs": [
    {
     "name": "stdout",
     "output_type": "stream",
     "text": [
      "RSME для модели линейной регрессии: 45.0986095181678\n"
     ]
    }
   ],
   "source": [
    "#тест линейной регрессии\n",
    "\n",
    "predictions_test = model.predict(features_test) \n",
    "\n",
    "mse_test = mean_squared_error(target_test, predictions_test)\n",
    "rsme_test = mse_test**0.5\n",
    "print('RSME для модели линейной регрессии:', rsme_test)"
   ]
  },
  {
   "cell_type": "code",
   "execution_count": 18,
   "metadata": {
    "scrolled": true
   },
   "outputs": [
    {
     "name": "stdout",
     "output_type": "stream",
     "text": [
      "RSME для модели случайного леса: 43.14601272183152\n"
     ]
    }
   ],
   "source": [
    "#тест случайного леса\n",
    "\n",
    "predictions_test_forest = model_forest.predict(features_test)\n",
    "\n",
    "mse_forest_test = mean_squared_error(target_test, predictions_test_forest)\n",
    "rsme_forest_test = mse_forest_test**0.5\n",
    "print('RSME для модели случайного леса:', rsme_forest_test)"
   ]
  },
  {
   "cell_type": "markdown",
   "metadata": {},
   "source": [
    "**Вывод**\n",
    "1. На тестовой выборке лучшей моделью является модель случайного леса с RMSE=43.49"
   ]
  },
  {
   "cell_type": "code",
   "execution_count": 19,
   "metadata": {},
   "outputs": [],
   "source": [
    "#график предсказаний/реальных данных\n",
    "predictions = pd.Series(data=predictions_test_forest, name='predictions')\n",
    "\n",
    "test = test.reset_index()\n",
    "\n",
    "test = test.join(predictions)"
   ]
  },
  {
   "cell_type": "markdown",
   "metadata": {},
   "source": [
    "Для визуализации полученных результатов построим график "
   ]
  },
  {
   "cell_type": "code",
   "execution_count": 20,
   "metadata": {
    "scrolled": false
   },
   "outputs": [
    {
     "data": {
      "text/plain": [
       "<matplotlib.axes._subplots.AxesSubplot at 0x1d36f100b88>"
      ]
     },
     "execution_count": 20,
     "metadata": {},
     "output_type": "execute_result"
    },
    {
     "data": {
      "image/png": "[encoded data removed]",
      "text/plain": [
       "<Figure size 432x288 with 1 Axes>"
      ]
     },
     "metadata": {
      "needs_background": "light"
     },
     "output_type": "display_data"
    }
   ],
   "source": [
    "test_plot = test.loc[365:413]\n",
    "\n",
    "ax=test_plot.plot('datetime', 'num_orders', legend=True, grid=True, title='Количество заказов')\n",
    "\n",
    "test_plot.plot('datetime', 'predictions', legend=True, grid=True, title='Количество заказов', ax=ax)"
   ]
  },
  {
   "cell_type": "markdown",
   "metadata": {},
   "source": [
    "На графике видно, что линия предсказаний хорошо отмечает пиковые значения заказов. Значит, с помощью данной модели можно понять, когда потребуется больше водителей, а когда меньше."
   ]
  },
  {
   "cell_type": "markdown",
   "metadata": {},
   "source": [
    "## Выводы"
   ]
  },
  {
   "cell_type": "markdown",
   "metadata": {},
   "source": [
    "- В ходе проведенной работы была разработана модель, которая способна предсказывать заказы такси на следующий час с точностью на тестовой выборке RMSE=43.49. \n",
    "\n",
    "- Модель построена на основе алгоритма случайный лес. \n",
    "\n",
    "- Для создания признаков, необходимых для обучения, испольльзовался метод \"отстающих значений\", также календарные признаки были выделены отдельно. \n",
    "\n"
   ]
  },
  {
   "cell_type": "code",
   "execution_count": null,
   "metadata": {},
   "outputs": [],
   "source": []
  }
 ],
 "metadata": {
  "ExecuteTimeLog": [
   {
    "duration": 563,
    "start_time": "2021-12-17T10:55:59.091Z"
   },
   {
    "duration": 45,
    "start_time": "2021-12-17T10:56:29.230Z"
   },
   {
    "duration": 40,
    "start_time": "2021-12-17T10:58:48.191Z"
   },
   {
    "duration": 8,
    "start_time": "2021-12-17T11:51:05.496Z"
   },
   {
    "duration": 7,
    "start_time": "2021-12-17T11:52:42.735Z"
   },
   {
    "duration": 783,
    "start_time": "2021-12-17T15:24:01.182Z"
   },
   {
    "duration": 71,
    "start_time": "2021-12-17T15:24:01.968Z"
   },
   {
    "duration": 13,
    "start_time": "2021-12-17T15:24:02.042Z"
   },
   {
    "duration": 669,
    "start_time": "2021-12-17T15:24:42.879Z"
   },
   {
    "duration": 523,
    "start_time": "2021-12-17T15:26:05.348Z"
   },
   {
    "duration": 431,
    "start_time": "2021-12-17T15:26:37.409Z"
   },
   {
    "duration": 281,
    "start_time": "2021-12-17T15:26:47.824Z"
   },
   {
    "duration": 339,
    "start_time": "2021-12-17T15:27:29.241Z"
   },
   {
    "duration": 4,
    "start_time": "2021-12-17T15:28:00.258Z"
   },
   {
    "duration": 68,
    "start_time": "2021-12-17T15:28:00.265Z"
   },
   {
    "duration": 11,
    "start_time": "2021-12-17T15:28:00.336Z"
   },
   {
    "duration": 28,
    "start_time": "2021-12-17T15:28:00.350Z"
   },
   {
    "duration": 673,
    "start_time": "2021-12-17T15:28:00.380Z"
   },
   {
    "duration": 96,
    "start_time": "2021-12-17T15:28:01.055Z"
   },
   {
    "duration": 1379,
    "start_time": "2021-12-17T15:28:56.128Z"
   },
   {
    "duration": 62,
    "start_time": "2021-12-17T15:28:57.516Z"
   },
   {
    "duration": 4,
    "start_time": "2021-12-17T15:28:57.580Z"
   },
   {
    "duration": 37,
    "start_time": "2021-12-17T15:28:57.586Z"
   },
   {
    "duration": 3,
    "start_time": "2021-12-17T15:28:57.625Z"
   },
   {
    "duration": 512,
    "start_time": "2021-12-17T15:28:57.630Z"
   },
   {
    "duration": 98,
    "start_time": "2021-12-17T15:28:58.144Z"
   },
   {
    "duration": 1530,
    "start_time": "2021-12-17T15:30:25.521Z"
   },
   {
    "duration": 13,
    "start_time": "2021-12-17T15:33:23.873Z"
   },
   {
    "duration": 1363,
    "start_time": "2021-12-17T15:33:26.002Z"
   },
   {
    "duration": 1785,
    "start_time": "2021-12-17T15:33:45.713Z"
   },
   {
    "duration": 470,
    "start_time": "2021-12-17T15:41:18.980Z"
   },
   {
    "duration": 448,
    "start_time": "2021-12-17T15:41:23.204Z"
   },
   {
    "duration": 412,
    "start_time": "2021-12-17T15:42:37.773Z"
   },
   {
    "duration": 306,
    "start_time": "2021-12-17T15:42:41.350Z"
   },
   {
    "duration": 413,
    "start_time": "2021-12-17T15:42:58.893Z"
   },
   {
    "duration": 291,
    "start_time": "2021-12-17T15:43:01.165Z"
   },
   {
    "duration": 1351,
    "start_time": "2021-12-17T15:43:10.859Z"
   },
   {
    "duration": 61,
    "start_time": "2021-12-17T15:43:12.213Z"
   },
   {
    "duration": 3,
    "start_time": "2021-12-17T15:43:12.280Z"
   },
   {
    "duration": 37,
    "start_time": "2021-12-17T15:43:12.285Z"
   },
   {
    "duration": 517,
    "start_time": "2021-12-17T15:43:12.324Z"
   },
   {
    "duration": 429,
    "start_time": "2021-12-17T15:43:12.844Z"
   },
   {
    "duration": 489,
    "start_time": "2021-12-17T15:43:32.842Z"
   },
   {
    "duration": 507,
    "start_time": "2021-12-17T15:44:15.236Z"
   },
   {
    "duration": 1401,
    "start_time": "2021-12-17T15:44:58.337Z"
   },
   {
    "duration": 76,
    "start_time": "2021-12-17T15:44:59.741Z"
   },
   {
    "duration": 3,
    "start_time": "2021-12-17T15:44:59.821Z"
   },
   {
    "duration": 14,
    "start_time": "2021-12-17T15:44:59.827Z"
   },
   {
    "duration": 557,
    "start_time": "2021-12-17T15:44:59.844Z"
   },
   {
    "duration": 1631,
    "start_time": "2021-12-17T15:45:00.403Z"
   },
   {
    "duration": 485,
    "start_time": "2021-12-17T15:45:25.487Z"
   },
   {
    "duration": 10,
    "start_time": "2021-12-17T15:46:46.823Z"
   },
   {
    "duration": 15,
    "start_time": "2021-12-17T15:47:06.799Z"
   },
   {
    "duration": 99,
    "start_time": "2021-12-17T15:48:01.337Z"
   },
   {
    "duration": 14,
    "start_time": "2021-12-17T15:48:10.151Z"
   },
   {
    "duration": 1138,
    "start_time": "2021-12-17T15:48:35.259Z"
   },
   {
    "duration": 426,
    "start_time": "2021-12-17T15:49:30.784Z"
   },
   {
    "duration": 4,
    "start_time": "2021-12-17T15:49:49.237Z"
   },
   {
    "duration": 93,
    "start_time": "2021-12-17T15:49:49.243Z"
   },
   {
    "duration": 3,
    "start_time": "2021-12-17T15:49:49.340Z"
   },
   {
    "duration": 12,
    "start_time": "2021-12-17T15:49:49.346Z"
   },
   {
    "duration": 1098,
    "start_time": "2021-12-17T15:49:49.361Z"
   },
   {
    "duration": 1596,
    "start_time": "2021-12-17T15:49:50.461Z"
   },
   {
    "duration": 4,
    "start_time": "2021-12-17T16:07:48.223Z"
   },
   {
    "duration": 109,
    "start_time": "2021-12-17T16:07:48.230Z"
   },
   {
    "duration": 358,
    "start_time": "2021-12-17T16:07:48.342Z"
   },
   {
    "duration": 17,
    "start_time": "2021-12-17T16:07:48.703Z"
   },
   {
    "duration": 1620,
    "start_time": "2021-12-17T16:07:48.722Z"
   },
   {
    "duration": 2282,
    "start_time": "2021-12-17T16:07:50.345Z"
   },
   {
    "duration": 3,
    "start_time": "2021-12-17T16:07:52.630Z"
   },
   {
    "duration": 90,
    "start_time": "2021-12-17T16:08:15.591Z"
   },
   {
    "duration": 345,
    "start_time": "2021-12-17T16:08:18.197Z"
   },
   {
    "duration": 7327,
    "start_time": "2021-12-17T16:09:05.606Z"
   },
   {
    "duration": 6934,
    "start_time": "2021-12-17T16:09:40.551Z"
   },
   {
    "duration": 11,
    "start_time": "2021-12-17T16:11:00.095Z"
   },
   {
    "duration": 11,
    "start_time": "2021-12-17T16:11:23.782Z"
   },
   {
    "duration": 269,
    "start_time": "2021-12-17T16:11:36.744Z"
   },
   {
    "duration": 10,
    "start_time": "2021-12-17T16:11:48.183Z"
   },
   {
    "duration": 89,
    "start_time": "2021-12-17T16:11:56.226Z"
   },
   {
    "duration": 361,
    "start_time": "2021-12-17T16:11:59.968Z"
   },
   {
    "duration": 546,
    "start_time": "2021-12-17T16:14:33.072Z"
   },
   {
    "duration": 8,
    "start_time": "2021-12-17T16:14:44.010Z"
   },
   {
    "duration": 88,
    "start_time": "2021-12-17T16:17:27.371Z"
   },
   {
    "duration": 491,
    "start_time": "2021-12-17T16:23:23.243Z"
   },
   {
    "duration": 94,
    "start_time": "2021-12-17T16:26:21.484Z"
   },
   {
    "duration": 319,
    "start_time": "2021-12-17T16:26:34.556Z"
   },
   {
    "duration": 403,
    "start_time": "2021-12-17T16:27:36.413Z"
   },
   {
    "duration": 84,
    "start_time": "2021-12-17T16:28:16.452Z"
   },
   {
    "duration": 300,
    "start_time": "2021-12-17T16:28:25.132Z"
   },
   {
    "duration": 321,
    "start_time": "2021-12-17T16:28:53.965Z"
   },
   {
    "duration": 296,
    "start_time": "2021-12-17T16:29:01.973Z"
   },
   {
    "duration": 319,
    "start_time": "2021-12-17T16:30:35.270Z"
   },
   {
    "duration": 4,
    "start_time": "2021-12-17T16:30:54.338Z"
   },
   {
    "duration": 285,
    "start_time": "2021-12-17T16:31:02.038Z"
   },
   {
    "duration": 482,
    "start_time": "2021-12-17T16:31:24.473Z"
   },
   {
    "duration": 4,
    "start_time": "2021-12-17T16:31:33.295Z"
   },
   {
    "duration": 93,
    "start_time": "2021-12-17T16:31:33.302Z"
   },
   {
    "duration": 261,
    "start_time": "2021-12-17T16:31:33.398Z"
   },
   {
    "duration": 9,
    "start_time": "2021-12-17T16:31:33.661Z"
   },
   {
    "duration": 23,
    "start_time": "2021-12-17T16:31:33.672Z"
   },
   {
    "duration": 1029,
    "start_time": "2021-12-17T16:31:33.698Z"
   },
   {
    "duration": 1714,
    "start_time": "2021-12-17T16:31:34.730Z"
   },
   {
    "duration": 462,
    "start_time": "2021-12-17T16:31:36.447Z"
   },
   {
    "duration": 89,
    "start_time": "2021-12-17T16:32:06.702Z"
   },
   {
    "duration": 336,
    "start_time": "2021-12-17T16:32:14.013Z"
   },
   {
    "duration": 360,
    "start_time": "2021-12-17T16:32:25.710Z"
   },
   {
    "duration": 397,
    "start_time": "2021-12-17T16:32:34.030Z"
   },
   {
    "duration": 326,
    "start_time": "2021-12-17T16:32:43.246Z"
   },
   {
    "duration": 365,
    "start_time": "2021-12-17T16:32:51.698Z"
   },
   {
    "duration": 340,
    "start_time": "2021-12-17T16:33:05.584Z"
   },
   {
    "duration": 358,
    "start_time": "2021-12-17T16:37:25.922Z"
   },
   {
    "duration": 446,
    "start_time": "2021-12-17T16:37:32.535Z"
   },
   {
    "duration": 328,
    "start_time": "2021-12-17T16:37:46.143Z"
   },
   {
    "duration": 533,
    "start_time": "2021-12-17T16:37:50.801Z"
   },
   {
    "duration": 219,
    "start_time": "2021-12-17T16:46:40.195Z"
   },
   {
    "duration": 6,
    "start_time": "2021-12-17T16:47:14.148Z"
   },
   {
    "duration": 39,
    "start_time": "2021-12-17T16:50:47.269Z"
   },
   {
    "duration": 32,
    "start_time": "2021-12-17T16:51:02.981Z"
   },
   {
    "duration": 7,
    "start_time": "2021-12-17T16:52:45.310Z"
   },
   {
    "duration": 10,
    "start_time": "2021-12-17T16:53:49.341Z"
   },
   {
    "duration": 10,
    "start_time": "2021-12-17T16:54:27.094Z"
   },
   {
    "duration": 4,
    "start_time": "2021-12-17T17:10:49.773Z"
   },
   {
    "duration": 783,
    "start_time": "2021-12-17T17:10:59.821Z"
   },
   {
    "duration": 24,
    "start_time": "2021-12-17T17:11:24.069Z"
   },
   {
    "duration": 87,
    "start_time": "2021-12-17T17:11:28.341Z"
   },
   {
    "duration": 208,
    "start_time": "2021-12-17T17:12:46.214Z"
   },
   {
    "duration": 75,
    "start_time": "2021-12-17T17:12:58.642Z"
   },
   {
    "duration": 321,
    "start_time": "2021-12-17T17:24:04.433Z"
   },
   {
    "duration": 32,
    "start_time": "2021-12-17T17:24:28.874Z"
   },
   {
    "duration": 302,
    "start_time": "2021-12-17T17:24:33.010Z"
   },
   {
    "duration": 5,
    "start_time": "2021-12-17T17:24:51.914Z"
   },
   {
    "duration": 313,
    "start_time": "2021-12-17T17:24:56.498Z"
   },
   {
    "duration": 985,
    "start_time": "2021-12-17T17:25:06.682Z"
   },
   {
    "duration": 99,
    "start_time": "2021-12-17T17:33:56.574Z"
   },
   {
    "duration": 155,
    "start_time": "2021-12-17T17:34:05.512Z"
   },
   {
    "duration": 268,
    "start_time": "2021-12-17T17:34:17.406Z"
   },
   {
    "duration": 188,
    "start_time": "2021-12-17T17:36:25.879Z"
   },
   {
    "duration": 1519,
    "start_time": "2021-12-17T18:14:14.202Z"
   },
   {
    "duration": 93,
    "start_time": "2021-12-17T18:14:15.724Z"
   },
   {
    "duration": 276,
    "start_time": "2021-12-17T18:14:15.823Z"
   },
   {
    "duration": 19,
    "start_time": "2021-12-17T18:14:16.102Z"
   },
   {
    "duration": 14,
    "start_time": "2021-12-17T18:14:16.123Z"
   },
   {
    "duration": 1080,
    "start_time": "2021-12-17T18:14:16.139Z"
   },
   {
    "duration": 1520,
    "start_time": "2021-12-17T18:14:17.222Z"
   },
   {
    "duration": 366,
    "start_time": "2021-12-17T18:14:18.745Z"
   },
   {
    "duration": 371,
    "start_time": "2021-12-17T18:14:19.116Z"
   },
   {
    "duration": 48,
    "start_time": "2021-12-17T18:14:19.489Z"
   },
   {
    "duration": 9,
    "start_time": "2021-12-17T18:14:19.539Z"
   },
   {
    "duration": 6,
    "start_time": "2021-12-17T18:14:19.551Z"
   },
   {
    "duration": 63,
    "start_time": "2021-12-17T18:14:19.560Z"
   },
   {
    "duration": 323,
    "start_time": "2021-12-17T18:14:19.626Z"
   },
   {
    "duration": 11,
    "start_time": "2021-12-17T18:16:41.686Z"
   },
   {
    "duration": 7,
    "start_time": "2021-12-17T18:17:44.321Z"
   },
   {
    "duration": 14,
    "start_time": "2021-12-17T18:18:25.882Z"
   },
   {
    "duration": 7,
    "start_time": "2021-12-17T18:18:27.906Z"
   },
   {
    "duration": 283,
    "start_time": "2021-12-17T18:18:34.139Z"
   },
   {
    "duration": 11,
    "start_time": "2021-12-17T18:18:39.010Z"
   },
   {
    "duration": 851,
    "start_time": "2021-12-17T18:18:47.676Z"
   },
   {
    "duration": 17,
    "start_time": "2021-12-17T18:18:50.690Z"
   },
   {
    "duration": 1194,
    "start_time": "2021-12-17T18:18:56.490Z"
   },
   {
    "duration": 18,
    "start_time": "2021-12-17T18:19:00.306Z"
   },
   {
    "duration": 35,
    "start_time": "2021-12-17T18:19:04.837Z"
   },
   {
    "duration": 11,
    "start_time": "2021-12-17T18:19:13.079Z"
   },
   {
    "duration": 7,
    "start_time": "2021-12-17T18:19:14.579Z"
   },
   {
    "duration": 1670,
    "start_time": "2021-12-17T18:19:16.682Z"
   },
   {
    "duration": 20,
    "start_time": "2021-12-17T18:19:20.868Z"
   },
   {
    "duration": 49,
    "start_time": "2021-12-17T18:19:33.442Z"
   },
   {
    "duration": 58,
    "start_time": "2021-12-17T18:19:36.386Z"
   },
   {
    "duration": 28,
    "start_time": "2021-12-17T18:19:36.448Z"
   },
   {
    "duration": 10,
    "start_time": "2021-12-17T18:19:36.481Z"
   },
   {
    "duration": 26,
    "start_time": "2021-12-17T18:19:36.495Z"
   },
   {
    "duration": 2597,
    "start_time": "2021-12-17T18:19:36.526Z"
   },
   {
    "duration": 9,
    "start_time": "2021-12-17T18:19:39.126Z"
   },
   {
    "duration": 181,
    "start_time": "2021-12-17T18:19:39.140Z"
   },
   {
    "duration": 42,
    "start_time": "2021-12-17T18:19:56.838Z"
   },
   {
    "duration": 46,
    "start_time": "2021-12-17T18:19:59.566Z"
   },
   {
    "duration": 9,
    "start_time": "2021-12-17T18:19:59.615Z"
   },
   {
    "duration": 9,
    "start_time": "2021-12-17T18:19:59.627Z"
   },
   {
    "duration": 179,
    "start_time": "2021-12-17T18:19:59.639Z"
   },
   {
    "duration": 2446,
    "start_time": "2021-12-17T18:19:59.821Z"
   },
   {
    "duration": 65,
    "start_time": "2021-12-17T18:20:02.270Z"
   },
   {
    "duration": 21,
    "start_time": "2021-12-17T18:20:02.418Z"
   },
   {
    "duration": 44,
    "start_time": "2021-12-17T18:21:01.186Z"
   },
   {
    "duration": 44,
    "start_time": "2021-12-17T18:21:10.534Z"
   },
   {
    "duration": 11,
    "start_time": "2021-12-17T18:21:10.580Z"
   },
   {
    "duration": 23,
    "start_time": "2021-12-17T18:21:10.594Z"
   },
   {
    "duration": 198,
    "start_time": "2021-12-17T18:21:10.620Z"
   },
   {
    "duration": 2412,
    "start_time": "2021-12-17T18:21:10.821Z"
   },
   {
    "duration": 12,
    "start_time": "2021-12-17T18:21:13.235Z"
   },
   {
    "duration": 110,
    "start_time": "2021-12-17T18:21:13.319Z"
   },
   {
    "duration": 3566,
    "start_time": "2021-12-17T18:21:27.443Z"
   },
   {
    "duration": 21,
    "start_time": "2021-12-17T18:21:34.469Z"
   },
   {
    "duration": 1539,
    "start_time": "2021-12-17T18:22:16.197Z"
   },
   {
    "duration": 96,
    "start_time": "2021-12-17T18:22:17.738Z"
   },
   {
    "duration": 283,
    "start_time": "2021-12-17T18:22:17.837Z"
   },
   {
    "duration": 13,
    "start_time": "2021-12-17T18:22:18.122Z"
   },
   {
    "duration": 14,
    "start_time": "2021-12-17T18:22:18.137Z"
   },
   {
    "duration": 1129,
    "start_time": "2021-12-17T18:22:18.153Z"
   },
   {
    "duration": 1572,
    "start_time": "2021-12-17T18:22:19.284Z"
   },
   {
    "duration": 404,
    "start_time": "2021-12-17T18:22:20.860Z"
   },
   {
    "duration": 402,
    "start_time": "2021-12-17T18:22:21.267Z"
   },
   {
    "duration": 77,
    "start_time": "2021-12-17T18:22:21.672Z"
   },
   {
    "duration": 15,
    "start_time": "2021-12-17T18:22:21.752Z"
   },
   {
    "duration": 8,
    "start_time": "2021-12-17T18:22:21.769Z"
   },
   {
    "duration": 239,
    "start_time": "2021-12-17T18:22:21.780Z"
   },
   {
    "duration": 3692,
    "start_time": "2021-12-17T18:22:22.022Z"
   },
   {
    "duration": 101,
    "start_time": "2021-12-17T18:22:25.716Z"
   },
   {
    "duration": 111,
    "start_time": "2021-12-17T18:22:25.820Z"
   },
   {
    "duration": 19,
    "start_time": "2021-12-17T18:22:46.455Z"
   },
   {
    "duration": 5019,
    "start_time": "2021-12-17T18:23:09.314Z"
   },
   {
    "duration": 27,
    "start_time": "2021-12-17T18:23:20.175Z"
   },
   {
    "duration": 48,
    "start_time": "2021-12-17T18:24:08.977Z"
   },
   {
    "duration": 45,
    "start_time": "2021-12-17T18:24:14.210Z"
   },
   {
    "duration": 11,
    "start_time": "2021-12-17T18:24:14.258Z"
   },
   {
    "duration": 8,
    "start_time": "2021-12-17T18:24:14.272Z"
   },
   {
    "duration": 235,
    "start_time": "2021-12-17T18:24:14.283Z"
   },
   {
    "duration": 6071,
    "start_time": "2021-12-17T18:24:14.521Z"
   },
   {
    "duration": 38,
    "start_time": "2021-12-17T18:24:20.594Z"
   },
   {
    "duration": 118,
    "start_time": "2021-12-17T18:24:20.724Z"
   },
   {
    "duration": 57,
    "start_time": "2021-12-17T18:24:33.128Z"
   },
   {
    "duration": 48,
    "start_time": "2021-12-17T18:24:38.155Z"
   },
   {
    "duration": 11,
    "start_time": "2021-12-17T18:24:38.205Z"
   },
   {
    "duration": 8,
    "start_time": "2021-12-17T18:24:38.218Z"
   },
   {
    "duration": 296,
    "start_time": "2021-12-17T18:24:38.229Z"
   },
   {
    "duration": 8559,
    "start_time": "2021-12-17T18:24:38.529Z"
   },
   {
    "duration": 30,
    "start_time": "2021-12-17T18:24:47.090Z"
   },
   {
    "duration": 196,
    "start_time": "2021-12-17T18:24:47.124Z"
   },
   {
    "duration": 8396,
    "start_time": "2021-12-17T18:25:01.844Z"
   },
   {
    "duration": 6023,
    "start_time": "2021-12-17T18:25:15.104Z"
   },
   {
    "duration": 4014,
    "start_time": "2021-12-17T18:25:23.128Z"
   },
   {
    "duration": 5742,
    "start_time": "2021-12-17T18:25:31.681Z"
   },
   {
    "duration": 4508,
    "start_time": "2021-12-17T18:25:43.395Z"
   },
   {
    "duration": 26,
    "start_time": "2021-12-17T18:25:47.906Z"
   },
   {
    "duration": 190,
    "start_time": "2021-12-17T18:25:47.937Z"
   },
   {
    "duration": 1492,
    "start_time": "2021-12-17T18:38:45.942Z"
   },
   {
    "duration": 92,
    "start_time": "2021-12-17T18:38:47.436Z"
   },
   {
    "duration": 290,
    "start_time": "2021-12-17T18:38:47.531Z"
   },
   {
    "duration": 11,
    "start_time": "2021-12-17T18:38:47.823Z"
   },
   {
    "duration": 15,
    "start_time": "2021-12-17T18:38:47.837Z"
   },
   {
    "duration": 1095,
    "start_time": "2021-12-17T18:38:47.855Z"
   },
   {
    "duration": 1586,
    "start_time": "2021-12-17T18:38:48.952Z"
   },
   {
    "duration": 368,
    "start_time": "2021-12-17T18:38:50.541Z"
   },
   {
    "duration": 374,
    "start_time": "2021-12-17T18:38:50.918Z"
   },
   {
    "duration": 173,
    "start_time": "2021-12-17T18:38:51.296Z"
   },
   {
    "duration": 13,
    "start_time": "2021-12-17T18:38:51.471Z"
   },
   {
    "duration": 8,
    "start_time": "2021-12-17T18:38:51.487Z"
   },
   {
    "duration": 204,
    "start_time": "2021-12-17T18:38:51.517Z"
   },
   {
    "duration": 4471,
    "start_time": "2021-12-17T18:38:51.724Z"
   },
   {
    "duration": 23,
    "start_time": "2021-12-17T18:38:56.198Z"
   },
   {
    "duration": 193,
    "start_time": "2021-12-17T18:38:56.225Z"
   },
   {
    "duration": 1193,
    "start_time": "2021-12-17T19:32:56.632Z"
   },
   {
    "duration": 113,
    "start_time": "2021-12-17T19:32:58.222Z"
   },
   {
    "duration": 152,
    "start_time": "2021-12-17T19:33:02.623Z"
   },
   {
    "duration": 11,
    "start_time": "2021-12-17T19:33:13.379Z"
   },
   {
    "duration": 9,
    "start_time": "2021-12-17T19:33:13.569Z"
   },
   {
    "duration": 749,
    "start_time": "2021-12-17T19:33:58.824Z"
   },
   {
    "duration": 928,
    "start_time": "2021-12-17T19:34:00.916Z"
   },
   {
    "duration": 236,
    "start_time": "2021-12-17T19:34:02.718Z"
   },
   {
    "duration": 215,
    "start_time": "2021-12-17T19:34:06.875Z"
   },
   {
    "duration": 130,
    "start_time": "2021-12-17T19:34:33.954Z"
   },
   {
    "duration": 11,
    "start_time": "2021-12-17T19:35:23.260Z"
   },
   {
    "duration": 6,
    "start_time": "2021-12-17T19:35:23.882Z"
   },
   {
    "duration": 96,
    "start_time": "2021-12-17T19:35:24.875Z"
   },
   {
    "duration": 3365,
    "start_time": "2021-12-17T19:35:25.079Z"
   },
   {
    "duration": 14,
    "start_time": "2021-12-17T19:35:58.967Z"
   },
   {
    "duration": 13,
    "start_time": "2021-12-17T19:35:59.388Z"
   },
   {
    "duration": 2147,
    "start_time": "2021-12-22T15:19:31.776Z"
   },
   {
    "duration": 109,
    "start_time": "2021-12-22T15:19:33.927Z"
   },
   {
    "duration": 415,
    "start_time": "2021-12-22T15:19:34.040Z"
   },
   {
    "duration": 17,
    "start_time": "2021-12-22T15:19:34.458Z"
   },
   {
    "duration": 18,
    "start_time": "2021-12-22T15:19:34.477Z"
   },
   {
    "duration": 1163,
    "start_time": "2021-12-22T15:19:34.498Z"
   },
   {
    "duration": 1717,
    "start_time": "2021-12-22T15:19:35.667Z"
   },
   {
    "duration": 430,
    "start_time": "2021-12-22T15:19:37.388Z"
   },
   {
    "duration": 561,
    "start_time": "2021-12-22T15:19:37.820Z"
   },
   {
    "duration": 125,
    "start_time": "2021-12-22T15:19:38.384Z"
   },
   {
    "duration": 654,
    "start_time": "2021-12-22T15:19:37.858Z"
   },
   {
    "duration": 644,
    "start_time": "2021-12-22T15:19:37.869Z"
   },
   {
    "duration": 640,
    "start_time": "2021-12-22T15:19:37.875Z"
   },
   {
    "duration": 637,
    "start_time": "2021-12-22T15:19:37.880Z"
   },
   {
    "duration": 637,
    "start_time": "2021-12-22T15:19:37.883Z"
   },
   {
    "duration": 637,
    "start_time": "2021-12-22T15:19:37.885Z"
   },
   {
    "duration": 626,
    "start_time": "2021-12-22T15:19:37.897Z"
   },
   {
    "duration": 71,
    "start_time": "2021-12-22T15:20:07.736Z"
   },
   {
    "duration": 50,
    "start_time": "2021-12-22T15:20:10.299Z"
   },
   {
    "duration": 16,
    "start_time": "2021-12-22T15:20:10.351Z"
   },
   {
    "duration": 8,
    "start_time": "2021-12-22T15:20:10.370Z"
   },
   {
    "duration": 187,
    "start_time": "2021-12-22T15:20:10.381Z"
   },
   {
    "duration": 4257,
    "start_time": "2021-12-22T15:20:10.571Z"
   },
   {
    "duration": 41,
    "start_time": "2021-12-22T15:20:14.831Z"
   },
   {
    "duration": 23,
    "start_time": "2021-12-22T15:20:14.967Z"
   },
   {
    "duration": 5,
    "start_time": "2021-12-22T15:45:42.761Z"
   },
   {
    "duration": 404,
    "start_time": "2021-12-22T21:49:50.279Z"
   },
   {
    "duration": 284,
    "start_time": "2021-12-22T21:49:56.944Z"
   },
   {
    "duration": 1556,
    "start_time": "2021-12-22T21:50:00.267Z"
   },
   {
    "duration": 105,
    "start_time": "2021-12-22T21:50:01.825Z"
   },
   {
    "duration": 316,
    "start_time": "2021-12-22T21:50:01.932Z"
   },
   {
    "duration": 19,
    "start_time": "2021-12-22T21:50:02.250Z"
   },
   {
    "duration": 23,
    "start_time": "2021-12-22T21:50:02.271Z"
   },
   {
    "duration": 1183,
    "start_time": "2021-12-22T21:50:02.297Z"
   },
   {
    "duration": 1828,
    "start_time": "2021-12-22T21:50:03.483Z"
   },
   {
    "duration": 385,
    "start_time": "2021-12-22T21:50:05.315Z"
   },
   {
    "duration": 424,
    "start_time": "2021-12-22T21:50:05.703Z"
   },
   {
    "duration": 87,
    "start_time": "2021-12-22T21:50:06.130Z"
   },
   {
    "duration": 14,
    "start_time": "2021-12-22T21:50:06.219Z"
   },
   {
    "duration": 6,
    "start_time": "2021-12-22T21:50:06.236Z"
   },
   {
    "duration": 346,
    "start_time": "2021-12-22T21:50:06.244Z"
   },
   {
    "duration": 4387,
    "start_time": "2021-12-22T21:50:06.593Z"
   },
   {
    "duration": 16,
    "start_time": "2021-12-22T21:50:10.983Z"
   },
   {
    "duration": 104,
    "start_time": "2021-12-22T21:50:11.067Z"
   },
   {
    "duration": 1299,
    "start_time": "2021-12-22T21:50:11.174Z"
   },
   {
    "duration": 1291,
    "start_time": "2021-12-22T21:58:16.165Z"
   },
   {
    "duration": 452,
    "start_time": "2021-12-22T22:10:29.955Z"
   },
   {
    "duration": 7,
    "start_time": "2021-12-22T22:44:15.677Z"
   },
   {
    "duration": 442,
    "start_time": "2021-12-22T22:52:25.117Z"
   },
   {
    "duration": 33,
    "start_time": "2021-12-22T22:52:47.847Z"
   },
   {
    "duration": 18,
    "start_time": "2021-12-22T22:53:07.444Z"
   },
   {
    "duration": 22,
    "start_time": "2021-12-22T22:53:13.352Z"
   },
   {
    "duration": 325,
    "start_time": "2021-12-22T22:53:16.781Z"
   },
   {
    "duration": 28,
    "start_time": "2021-12-22T22:54:21.764Z"
   },
   {
    "duration": 44,
    "start_time": "2021-12-22T22:54:38.469Z"
   },
   {
    "duration": 32,
    "start_time": "2021-12-22T22:55:43.975Z"
   },
   {
    "duration": 7460,
    "start_time": "2021-12-22T22:56:47.704Z"
   },
   {
    "duration": 732,
    "start_time": "2021-12-22T22:57:51.278Z"
   },
   {
    "duration": 350,
    "start_time": "2021-12-22T22:59:02.699Z"
   },
   {
    "duration": 357,
    "start_time": "2021-12-22T22:59:34.782Z"
   },
   {
    "duration": 352,
    "start_time": "2021-12-22T22:59:50.471Z"
   },
   {
    "duration": 319,
    "start_time": "2021-12-22T22:59:57.328Z"
   },
   {
    "duration": 7808,
    "start_time": "2021-12-22T23:00:19.188Z"
   },
   {
    "duration": 311,
    "start_time": "2021-12-22T23:00:40.354Z"
   },
   {
    "duration": 19,
    "start_time": "2021-12-22T23:00:52.624Z"
   },
   {
    "duration": 113,
    "start_time": "2021-12-22T23:01:19.760Z"
   },
   {
    "duration": 26,
    "start_time": "2021-12-22T23:01:22.271Z"
   },
   {
    "duration": 28,
    "start_time": "2021-12-22T23:02:36.864Z"
   },
   {
    "duration": 351,
    "start_time": "2021-12-22T23:03:21.350Z"
   },
   {
    "duration": 5,
    "start_time": "2021-12-22T23:03:55.426Z"
   },
   {
    "duration": 350,
    "start_time": "2021-12-22T23:05:34.289Z"
   },
   {
    "duration": 315,
    "start_time": "2021-12-22T23:07:14.929Z"
   },
   {
    "duration": 310,
    "start_time": "2021-12-22T23:07:58.933Z"
   },
   {
    "duration": 311,
    "start_time": "2021-12-22T23:08:19.521Z"
   },
   {
    "duration": 7689,
    "start_time": "2021-12-22T23:12:00.508Z"
   },
   {
    "duration": 8,
    "start_time": "2021-12-22T23:12:15.773Z"
   },
   {
    "duration": 120,
    "start_time": "2021-12-22T23:12:15.785Z"
   },
   {
    "duration": 314,
    "start_time": "2021-12-22T23:12:15.908Z"
   },
   {
    "duration": 10,
    "start_time": "2021-12-22T23:12:16.225Z"
   },
   {
    "duration": 31,
    "start_time": "2021-12-22T23:12:16.238Z"
   },
   {
    "duration": 1234,
    "start_time": "2021-12-22T23:12:16.272Z"
   },
   {
    "duration": 1712,
    "start_time": "2021-12-22T23:12:17.508Z"
   },
   {
    "duration": 413,
    "start_time": "2021-12-22T23:12:19.224Z"
   },
   {
    "duration": 547,
    "start_time": "2021-12-22T23:12:19.640Z"
   },
   {
    "duration": 85,
    "start_time": "2021-12-22T23:12:20.190Z"
   },
   {
    "duration": 14,
    "start_time": "2021-12-22T23:12:20.277Z"
   },
   {
    "duration": 8,
    "start_time": "2021-12-22T23:12:20.294Z"
   },
   {
    "duration": 168,
    "start_time": "2021-12-22T23:12:20.305Z"
   },
   {
    "duration": 4522,
    "start_time": "2021-12-22T23:12:20.476Z"
   },
   {
    "duration": 178,
    "start_time": "2021-12-22T23:12:25.001Z"
   },
   {
    "duration": 19,
    "start_time": "2021-12-22T23:12:25.182Z"
   },
   {
    "duration": 63,
    "start_time": "2021-12-22T23:12:25.204Z"
   },
   {
    "duration": 631,
    "start_time": "2021-12-22T23:12:25.271Z"
   },
   {
    "duration": 371,
    "start_time": "2021-12-22T23:15:20.691Z"
   },
   {
    "duration": 315,
    "start_time": "2021-12-22T23:15:39.082Z"
   },
   {
    "duration": 1499,
    "start_time": "2021-12-22T23:17:09.520Z"
   },
   {
    "duration": 98,
    "start_time": "2021-12-22T23:17:11.021Z"
   },
   {
    "duration": 287,
    "start_time": "2021-12-22T23:17:11.122Z"
   },
   {
    "duration": 14,
    "start_time": "2021-12-22T23:17:11.412Z"
   },
   {
    "duration": 13,
    "start_time": "2021-12-22T23:17:11.428Z"
   },
   {
    "duration": 1267,
    "start_time": "2021-12-22T23:17:11.444Z"
   },
   {
    "duration": 1783,
    "start_time": "2021-12-22T23:17:12.714Z"
   },
   {
    "duration": 412,
    "start_time": "2021-12-22T23:17:14.501Z"
   },
   {
    "duration": 428,
    "start_time": "2021-12-22T23:17:14.916Z"
   },
   {
    "duration": 82,
    "start_time": "2021-12-22T23:17:15.347Z"
   },
   {
    "duration": 15,
    "start_time": "2021-12-22T23:17:15.431Z"
   },
   {
    "duration": 8,
    "start_time": "2021-12-22T23:17:15.467Z"
   },
   {
    "duration": 290,
    "start_time": "2021-12-22T23:17:15.478Z"
   },
   {
    "duration": 4278,
    "start_time": "2021-12-22T23:17:15.774Z"
   },
   {
    "duration": 29,
    "start_time": "2021-12-22T23:17:20.055Z"
   },
   {
    "duration": 110,
    "start_time": "2021-12-22T23:17:20.167Z"
   },
   {
    "duration": 6,
    "start_time": "2021-12-22T23:17:20.280Z"
   },
   {
    "duration": 10,
    "start_time": "2021-12-22T23:17:20.289Z"
   },
   {
    "duration": 469,
    "start_time": "2021-12-22T23:17:20.301Z"
   },
   {
    "duration": 132,
    "start_time": "2021-12-22T23:17:38.751Z"
   },
   {
    "duration": 23,
    "start_time": "2021-12-22T23:17:42.600Z"
   },
   {
    "duration": 17,
    "start_time": "2021-12-22T23:17:54.943Z"
   },
   {
    "duration": 18,
    "start_time": "2021-12-22T23:18:10.297Z"
   },
   {
    "duration": 320,
    "start_time": "2021-12-22T23:19:30.106Z"
   },
   {
    "duration": 34,
    "start_time": "2021-12-22T23:21:17.266Z"
   },
   {
    "duration": 1613,
    "start_time": "2021-12-22T23:21:27.902Z"
   },
   {
    "duration": 107,
    "start_time": "2021-12-22T23:21:29.517Z"
   },
   {
    "duration": 322,
    "start_time": "2021-12-22T23:21:29.627Z"
   },
   {
    "duration": 32,
    "start_time": "2021-12-22T23:21:29.952Z"
   },
   {
    "duration": 15,
    "start_time": "2021-12-22T23:21:29.986Z"
   },
   {
    "duration": 1217,
    "start_time": "2021-12-22T23:21:30.004Z"
   },
   {
    "duration": 1791,
    "start_time": "2021-12-22T23:21:31.224Z"
   },
   {
    "duration": 418,
    "start_time": "2021-12-22T23:21:33.019Z"
   },
   {
    "duration": 427,
    "start_time": "2021-12-22T23:21:33.440Z"
   },
   {
    "duration": 69,
    "start_time": "2021-12-22T23:21:33.870Z"
   },
   {
    "duration": 41,
    "start_time": "2021-12-22T23:21:33.942Z"
   },
   {
    "duration": 10,
    "start_time": "2021-12-22T23:21:33.986Z"
   },
   {
    "duration": 177,
    "start_time": "2021-12-22T23:21:33.999Z"
   },
   {
    "duration": 4406,
    "start_time": "2021-12-22T23:21:34.180Z"
   },
   {
    "duration": 10,
    "start_time": "2021-12-22T23:21:38.589Z"
   },
   {
    "duration": 102,
    "start_time": "2021-12-22T23:21:38.667Z"
   },
   {
    "duration": 34,
    "start_time": "2021-12-22T23:21:38.772Z"
   },
   {
    "duration": 8542,
    "start_time": "2021-12-22T23:21:38.809Z"
   },
   {
    "duration": 351,
    "start_time": "2021-12-22T23:21:47.003Z"
   },
   {
    "duration": 303,
    "start_time": "2021-12-22T23:21:59.183Z"
   },
   {
    "duration": 1762,
    "start_time": "2021-12-23T22:13:41.841Z"
   },
   {
    "duration": 166,
    "start_time": "2021-12-23T22:13:43.607Z"
   },
   {
    "duration": 291,
    "start_time": "2021-12-23T22:13:43.776Z"
   },
   {
    "duration": 19,
    "start_time": "2021-12-23T22:13:44.070Z"
   },
   {
    "duration": 16,
    "start_time": "2021-12-23T22:13:44.092Z"
   },
   {
    "duration": 1252,
    "start_time": "2021-12-23T22:13:44.111Z"
   },
   {
    "duration": 1713,
    "start_time": "2021-12-23T22:13:45.365Z"
   },
   {
    "duration": 471,
    "start_time": "2021-12-23T22:13:47.082Z"
   },
   {
    "duration": 417,
    "start_time": "2021-12-23T22:13:47.564Z"
   },
   {
    "duration": 113,
    "start_time": "2021-12-23T22:13:47.985Z"
   },
   {
    "duration": 19,
    "start_time": "2021-12-23T22:13:48.102Z"
   },
   {
    "duration": 9,
    "start_time": "2021-12-23T22:13:48.124Z"
   },
   {
    "duration": 227,
    "start_time": "2021-12-23T22:13:48.135Z"
   },
   {
    "duration": 4472,
    "start_time": "2021-12-23T22:13:48.366Z"
   },
   {
    "duration": 25,
    "start_time": "2021-12-23T22:13:52.841Z"
   },
   {
    "duration": 196,
    "start_time": "2021-12-23T22:13:52.870Z"
   },
   {
    "duration": 32,
    "start_time": "2021-12-23T22:13:53.069Z"
   },
   {
    "duration": 6054,
    "start_time": "2021-12-23T22:13:53.103Z"
   },
   {
    "duration": 773,
    "start_time": "2021-12-23T22:13:58.388Z"
   },
   {
    "duration": 26,
    "start_time": "2021-12-23T22:16:02.924Z"
   },
   {
    "duration": 100,
    "start_time": "2021-12-23T22:16:10.092Z"
   },
   {
    "duration": 6726,
    "start_time": "2021-12-23T22:17:36.522Z"
   },
   {
    "duration": 19,
    "start_time": "2021-12-23T22:22:13.219Z"
   },
   {
    "duration": 7224,
    "start_time": "2021-12-23T22:22:17.669Z"
   },
   {
    "duration": 6137,
    "start_time": "2021-12-23T22:22:30.276Z"
   },
   {
    "duration": 292,
    "start_time": "2021-12-23T22:23:20.906Z"
   },
   {
    "duration": 251,
    "start_time": "2021-12-23T22:28:29.190Z"
   },
   {
    "duration": 1133,
    "start_time": "2021-12-23T22:28:35.149Z"
   },
   {
    "duration": 450,
    "start_time": "2021-12-23T22:28:52.029Z"
   },
   {
    "duration": 407,
    "start_time": "2021-12-23T22:29:19.173Z"
   },
   {
    "duration": 506,
    "start_time": "2021-12-23T22:43:21.730Z"
   },
   {
    "duration": 83,
    "start_time": "2021-12-23T22:44:03.051Z"
   },
   {
    "duration": 313,
    "start_time": "2021-12-23T22:44:07.234Z"
   },
   {
    "duration": 321,
    "start_time": "2021-12-23T22:45:49.458Z"
   },
   {
    "duration": 654,
    "start_time": "2021-12-23T22:46:31.643Z"
   },
   {
    "duration": 300,
    "start_time": "2021-12-23T22:46:55.803Z"
   },
   {
    "duration": 687,
    "start_time": "2021-12-23T22:46:58.778Z"
   },
   {
    "duration": 364,
    "start_time": "2021-12-23T22:47:15.371Z"
   },
   {
    "duration": 6,
    "start_time": "2021-12-23T22:48:38.796Z"
   },
   {
    "duration": 43,
    "start_time": "2021-12-23T22:48:49.350Z"
   },
   {
    "duration": 303,
    "start_time": "2021-12-23T22:49:06.384Z"
   },
   {
    "duration": 324,
    "start_time": "2021-12-23T22:49:13.005Z"
   },
   {
    "duration": 245,
    "start_time": "2021-12-23T22:49:27.283Z"
   },
   {
    "duration": 1760,
    "start_time": "2021-12-23T22:49:37.671Z"
   },
   {
    "duration": 110,
    "start_time": "2021-12-23T22:49:39.435Z"
   },
   {
    "duration": 310,
    "start_time": "2021-12-23T22:49:39.548Z"
   },
   {
    "duration": 16,
    "start_time": "2021-12-23T22:49:39.863Z"
   },
   {
    "duration": 13,
    "start_time": "2021-12-23T22:49:39.882Z"
   },
   {
    "duration": 1172,
    "start_time": "2021-12-23T22:49:39.898Z"
   },
   {
    "duration": 1847,
    "start_time": "2021-12-23T22:49:41.073Z"
   },
   {
    "duration": 458,
    "start_time": "2021-12-23T22:49:42.927Z"
   },
   {
    "duration": 396,
    "start_time": "2021-12-23T22:49:43.389Z"
   },
   {
    "duration": 105,
    "start_time": "2021-12-23T22:49:43.787Z"
   },
   {
    "duration": 19,
    "start_time": "2021-12-23T22:49:43.895Z"
   },
   {
    "duration": 7,
    "start_time": "2021-12-23T22:49:43.916Z"
   },
   {
    "duration": 238,
    "start_time": "2021-12-23T22:49:43.926Z"
   },
   {
    "duration": 4357,
    "start_time": "2021-12-23T22:49:44.167Z"
   },
   {
    "duration": 47,
    "start_time": "2021-12-23T22:49:48.527Z"
   },
   {
    "duration": 19,
    "start_time": "2021-12-23T22:49:48.665Z"
   },
   {
    "duration": 412,
    "start_time": "2021-12-23T22:49:48.687Z"
   },
   {
    "duration": 547,
    "start_time": "2021-12-23T22:49:49.102Z"
   },
   {
    "duration": 13,
    "start_time": "2021-12-23T22:49:49.651Z"
   },
   {
    "duration": 36,
    "start_time": "2021-12-23T22:49:49.666Z"
   },
   {
    "duration": 456,
    "start_time": "2021-12-23T23:00:59.419Z"
   },
   {
    "duration": 412,
    "start_time": "2021-12-23T23:01:19.202Z"
   },
   {
    "duration": 1642,
    "start_time": "2021-12-23T23:01:39.842Z"
   },
   {
    "duration": 94,
    "start_time": "2021-12-23T23:01:41.488Z"
   },
   {
    "duration": 324,
    "start_time": "2021-12-23T23:01:41.587Z"
   },
   {
    "duration": 16,
    "start_time": "2021-12-23T23:01:41.913Z"
   },
   {
    "duration": 34,
    "start_time": "2021-12-23T23:01:41.932Z"
   },
   {
    "duration": 1157,
    "start_time": "2021-12-23T23:01:41.969Z"
   },
   {
    "duration": 2002,
    "start_time": "2021-12-23T23:01:43.129Z"
   },
   {
    "duration": 463,
    "start_time": "2021-12-23T23:01:45.135Z"
   },
   {
    "duration": 429,
    "start_time": "2021-12-23T23:01:45.601Z"
   },
   {
    "duration": 108,
    "start_time": "2021-12-23T23:01:46.034Z"
   },
   {
    "duration": 27,
    "start_time": "2021-12-23T23:01:46.146Z"
   },
   {
    "duration": 10,
    "start_time": "2021-12-23T23:01:46.176Z"
   },
   {
    "duration": 183,
    "start_time": "2021-12-23T23:01:46.189Z"
   },
   {
    "duration": 4425,
    "start_time": "2021-12-23T23:01:46.375Z"
   },
   {
    "duration": 68,
    "start_time": "2021-12-23T23:01:50.803Z"
   },
   {
    "duration": 105,
    "start_time": "2021-12-23T23:01:50.875Z"
   },
   {
    "duration": 358,
    "start_time": "2021-12-23T23:01:50.984Z"
   },
   {
    "duration": 468,
    "start_time": "2021-12-23T23:01:51.344Z"
   },
   {
    "duration": 4,
    "start_time": "2021-12-23T23:01:51.816Z"
   },
   {
    "duration": 70,
    "start_time": "2021-12-23T23:01:51.823Z"
   },
   {
    "duration": 4,
    "start_time": "2021-12-23T23:04:28.317Z"
   },
   {
    "duration": 505,
    "start_time": "2021-12-23T23:04:30.076Z"
   },
   {
    "duration": 264,
    "start_time": "2021-12-23T23:14:13.423Z"
   },
   {
    "duration": 1536,
    "start_time": "2021-12-23T23:14:36.708Z"
   },
   {
    "duration": 97,
    "start_time": "2021-12-23T23:14:38.247Z"
   },
   {
    "duration": 375,
    "start_time": "2021-12-23T23:14:38.364Z"
   },
   {
    "duration": 25,
    "start_time": "2021-12-23T23:14:38.741Z"
   },
   {
    "duration": 13,
    "start_time": "2021-12-23T23:14:38.769Z"
   },
   {
    "duration": 1327,
    "start_time": "2021-12-23T23:14:38.785Z"
   },
   {
    "duration": 1671,
    "start_time": "2021-12-23T23:14:40.118Z"
   },
   {
    "duration": 437,
    "start_time": "2021-12-23T23:14:41.793Z"
   },
   {
    "duration": 402,
    "start_time": "2021-12-23T23:14:42.234Z"
   },
   {
    "duration": 80,
    "start_time": "2021-12-23T23:14:42.639Z"
   },
   {
    "duration": 15,
    "start_time": "2021-12-23T23:14:42.721Z"
   },
   {
    "duration": 26,
    "start_time": "2021-12-23T23:14:42.739Z"
   },
   {
    "duration": 199,
    "start_time": "2021-12-23T23:14:42.767Z"
   },
   {
    "duration": 4529,
    "start_time": "2021-12-23T23:14:42.970Z"
   },
   {
    "duration": 64,
    "start_time": "2021-12-23T23:14:47.502Z"
   },
   {
    "duration": 111,
    "start_time": "2021-12-23T23:14:47.571Z"
   },
   {
    "duration": 363,
    "start_time": "2021-12-23T23:14:47.685Z"
   },
   {
    "duration": 494,
    "start_time": "2021-12-23T23:14:48.051Z"
   },
   {
    "duration": 16,
    "start_time": "2021-12-23T23:14:48.548Z"
   },
   {
    "duration": 38,
    "start_time": "2021-12-23T23:14:48.566Z"
   },
   {
    "duration": 448,
    "start_time": "2021-12-23T23:21:02.847Z"
   },
   {
    "duration": 5,
    "start_time": "2021-12-23T23:21:20.134Z"
   },
   {
    "duration": 10,
    "start_time": "2021-12-23T23:21:44.931Z"
   },
   {
    "duration": 21,
    "start_time": "2021-12-23T23:21:59.299Z"
   },
   {
    "duration": 33,
    "start_time": "2021-12-23T23:22:54.587Z"
   },
   {
    "duration": 173,
    "start_time": "2021-12-23T23:33:51.001Z"
   },
   {
    "duration": 13,
    "start_time": "2021-12-23T23:34:45.679Z"
   },
   {
    "duration": 90,
    "start_time": "2021-12-23T23:35:28.913Z"
   },
   {
    "duration": 346,
    "start_time": "2021-12-23T23:37:27.809Z"
   },
   {
    "duration": 85,
    "start_time": "2021-12-23T23:38:32.096Z"
   },
   {
    "duration": 187,
    "start_time": "2021-12-23T23:38:35.456Z"
   },
   {
    "duration": 81,
    "start_time": "2021-12-23T23:39:31.626Z"
   },
   {
    "duration": 346,
    "start_time": "2021-12-23T23:39:34.665Z"
   },
   {
    "duration": 349,
    "start_time": "2021-12-23T23:39:50.730Z"
   },
   {
    "duration": 6001,
    "start_time": "2021-12-23T23:40:23.797Z"
   },
   {
    "duration": 6302,
    "start_time": "2021-12-23T23:40:32.189Z"
   },
   {
    "duration": 5900,
    "start_time": "2021-12-23T23:40:46.003Z"
   },
   {
    "duration": 379,
    "start_time": "2021-12-23T23:40:59.267Z"
   },
   {
    "duration": 341,
    "start_time": "2021-12-23T23:41:55.882Z"
   },
   {
    "duration": 84,
    "start_time": "2021-12-23T23:42:15.795Z"
   },
   {
    "duration": 345,
    "start_time": "2021-12-23T23:42:18.868Z"
   },
   {
    "duration": 454,
    "start_time": "2021-12-23T23:42:51.067Z"
   },
   {
    "duration": 1499,
    "start_time": "2021-12-24T13:01:39.092Z"
   },
   {
    "duration": 91,
    "start_time": "2021-12-24T13:01:40.594Z"
   },
   {
    "duration": 281,
    "start_time": "2021-12-24T13:01:40.688Z"
   },
   {
    "duration": 11,
    "start_time": "2021-12-24T13:01:40.973Z"
   },
   {
    "duration": 13,
    "start_time": "2021-12-24T13:01:40.986Z"
   },
   {
    "duration": 1070,
    "start_time": "2021-12-24T13:01:41.001Z"
   },
   {
    "duration": 1609,
    "start_time": "2021-12-24T13:01:42.074Z"
   },
   {
    "duration": 377,
    "start_time": "2021-12-24T13:01:43.687Z"
   },
   {
    "duration": 384,
    "start_time": "2021-12-24T13:01:44.067Z"
   },
   {
    "duration": 71,
    "start_time": "2021-12-24T13:01:44.453Z"
   },
   {
    "duration": 39,
    "start_time": "2021-12-24T13:01:44.526Z"
   },
   {
    "duration": 8,
    "start_time": "2021-12-24T13:01:44.568Z"
   },
   {
    "duration": 192,
    "start_time": "2021-12-24T13:01:44.579Z"
   },
   {
    "duration": 4003,
    "start_time": "2021-12-24T13:01:44.864Z"
   },
   {
    "duration": 17,
    "start_time": "2021-12-24T13:01:48.869Z"
   },
   {
    "duration": 106,
    "start_time": "2021-12-24T13:01:48.965Z"
   },
   {
    "duration": 316,
    "start_time": "2021-12-24T13:01:49.074Z"
   },
   {
    "duration": 327,
    "start_time": "2021-12-24T13:01:49.393Z"
   },
   {
    "duration": 4,
    "start_time": "2021-12-24T13:01:49.722Z"
   },
   {
    "duration": 56,
    "start_time": "2021-12-24T13:01:49.729Z"
   },
   {
    "duration": 32,
    "start_time": "2021-12-24T13:01:49.788Z"
   },
   {
    "duration": 14,
    "start_time": "2021-12-24T13:01:49.823Z"
   },
   {
    "duration": 386,
    "start_time": "2021-12-24T13:01:49.865Z"
   },
   {
    "duration": 1476,
    "start_time": "2021-12-24T13:04:28.601Z"
   },
   {
    "duration": 94,
    "start_time": "2021-12-24T13:04:30.080Z"
   },
   {
    "duration": 435,
    "start_time": "2021-12-24T13:04:30.176Z"
   },
   {
    "duration": 29,
    "start_time": "2021-12-24T13:04:30.622Z"
   },
   {
    "duration": 67,
    "start_time": "2021-12-24T13:04:30.659Z"
   },
   {
    "duration": 1203,
    "start_time": "2021-12-24T13:04:30.731Z"
   },
   {
    "duration": 1667,
    "start_time": "2021-12-24T13:04:31.937Z"
   },
   {
    "duration": 394,
    "start_time": "2021-12-24T13:04:33.606Z"
   },
   {
    "duration": 514,
    "start_time": "2021-12-24T13:04:34.003Z"
   },
   {
    "duration": 80,
    "start_time": "2021-12-24T13:04:34.520Z"
   },
   {
    "duration": 15,
    "start_time": "2021-12-24T13:04:34.603Z"
   },
   {
    "duration": 7,
    "start_time": "2021-12-24T13:04:34.620Z"
   },
   {
    "duration": 140,
    "start_time": "2021-12-24T13:04:34.630Z"
   },
   {
    "duration": 4224,
    "start_time": "2021-12-24T13:04:34.864Z"
   },
   {
    "duration": 72,
    "start_time": "2021-12-24T13:04:39.090Z"
   },
   {
    "duration": 105,
    "start_time": "2021-12-24T13:04:39.166Z"
   },
   {
    "duration": 401,
    "start_time": "2021-12-24T13:04:39.274Z"
   },
   {
    "duration": 1820,
    "start_time": "2021-12-24T13:04:37.858Z"
   },
   {
    "duration": 261,
    "start_time": "2021-12-24T13:05:00.504Z"
   },
   {
    "duration": 4,
    "start_time": "2021-12-24T13:05:20.796Z"
   },
   {
    "duration": 8,
    "start_time": "2021-12-24T13:05:22.631Z"
   },
   {
    "duration": 372,
    "start_time": "2021-12-24T13:05:26.101Z"
   },
   {
    "duration": 1574,
    "start_time": "2021-12-24T13:06:09.919Z"
   },
   {
    "duration": 99,
    "start_time": "2021-12-24T13:06:11.496Z"
   },
   {
    "duration": 316,
    "start_time": "2021-12-24T13:06:11.604Z"
   },
   {
    "duration": 12,
    "start_time": "2021-12-24T13:06:11.923Z"
   },
   {
    "duration": 43,
    "start_time": "2021-12-24T13:06:11.938Z"
   },
   {
    "duration": 1231,
    "start_time": "2021-12-24T13:06:11.984Z"
   },
   {
    "duration": 1717,
    "start_time": "2021-12-24T13:06:13.220Z"
   },
   {
    "duration": 393,
    "start_time": "2021-12-24T13:06:14.940Z"
   },
   {
    "duration": 440,
    "start_time": "2021-12-24T13:06:15.336Z"
   },
   {
    "duration": 70,
    "start_time": "2021-12-24T13:06:15.779Z"
   },
   {
    "duration": 18,
    "start_time": "2021-12-24T13:06:15.864Z"
   },
   {
    "duration": 9,
    "start_time": "2021-12-24T13:06:15.885Z"
   },
   {
    "duration": 368,
    "start_time": "2021-12-24T13:06:15.897Z"
   },
   {
    "duration": 4346,
    "start_time": "2021-12-24T13:06:16.269Z"
   },
   {
    "duration": 47,
    "start_time": "2021-12-24T13:06:20.617Z"
   },
   {
    "duration": 110,
    "start_time": "2021-12-24T13:06:20.668Z"
   },
   {
    "duration": 8,
    "start_time": "2021-12-24T13:06:20.780Z"
   },
   {
    "duration": 394,
    "start_time": "2021-12-24T13:06:20.791Z"
   },
   {
    "duration": 543,
    "start_time": "2021-12-24T13:09:16.848Z"
   },
   {
    "duration": 318,
    "start_time": "2021-12-24T15:42:06.437Z"
   },
   {
    "duration": 1232,
    "start_time": "2021-12-24T15:42:10.620Z"
   },
   {
    "duration": 133,
    "start_time": "2021-12-24T15:42:11.854Z"
   },
   {
    "duration": 157,
    "start_time": "2021-12-24T15:42:11.989Z"
   },
   {
    "duration": 8,
    "start_time": "2021-12-24T15:42:12.149Z"
   },
   {
    "duration": 14,
    "start_time": "2021-12-24T15:42:12.159Z"
   },
   {
    "duration": 788,
    "start_time": "2021-12-24T15:42:12.175Z"
   },
   {
    "duration": 912,
    "start_time": "2021-12-24T15:42:12.964Z"
   },
   {
    "duration": 226,
    "start_time": "2021-12-24T15:42:13.878Z"
   },
   {
    "duration": 221,
    "start_time": "2021-12-24T15:42:14.107Z"
   },
   {
    "duration": 39,
    "start_time": "2021-12-24T15:42:14.331Z"
   },
   {
    "duration": 10,
    "start_time": "2021-12-24T15:42:14.372Z"
   },
   {
    "duration": 7,
    "start_time": "2021-12-24T15:42:14.384Z"
   },
   {
    "duration": 286,
    "start_time": "2021-12-24T15:42:14.393Z"
   },
   {
    "duration": 3061,
    "start_time": "2021-12-24T15:42:14.681Z"
   },
   {
    "duration": 8,
    "start_time": "2021-12-24T15:42:17.744Z"
   },
   {
    "duration": 174,
    "start_time": "2021-12-24T15:42:17.754Z"
   },
   {
    "duration": 7,
    "start_time": "2021-12-24T15:42:17.930Z"
   },
   {
    "duration": 350,
    "start_time": "2021-12-24T15:42:17.939Z"
   },
   {
    "duration": 1179,
    "start_time": "2021-12-24T15:42:30.927Z"
   },
   {
    "duration": 65,
    "start_time": "2021-12-24T15:42:32.108Z"
   },
   {
    "duration": 154,
    "start_time": "2021-12-24T15:42:32.175Z"
   },
   {
    "duration": 8,
    "start_time": "2021-12-24T15:42:32.331Z"
   },
   {
    "duration": 9,
    "start_time": "2021-12-24T15:42:32.341Z"
   },
   {
    "duration": 730,
    "start_time": "2021-12-24T15:42:32.352Z"
   },
   {
    "duration": 901,
    "start_time": "2021-12-24T15:42:33.084Z"
   },
   {
    "duration": 219,
    "start_time": "2021-12-24T15:42:33.988Z"
   },
   {
    "duration": 237,
    "start_time": "2021-12-24T15:42:34.210Z"
   },
   {
    "duration": 41,
    "start_time": "2021-12-24T15:42:34.449Z"
   },
   {
    "duration": 10,
    "start_time": "2021-12-24T15:42:34.492Z"
   },
   {
    "duration": 24,
    "start_time": "2021-12-24T15:42:34.503Z"
   },
   {
    "duration": 200,
    "start_time": "2021-12-24T15:42:34.529Z"
   },
   {
    "duration": 3141,
    "start_time": "2021-12-24T15:42:34.733Z"
   },
   {
    "duration": 53,
    "start_time": "2021-12-24T15:42:37.876Z"
   },
   {
    "duration": 103,
    "start_time": "2021-12-24T15:42:37.931Z"
   },
   {
    "duration": 7,
    "start_time": "2021-12-24T15:42:38.036Z"
   },
   {
    "duration": 342,
    "start_time": "2021-12-24T15:42:38.045Z"
   },
   {
    "duration": 91,
    "start_time": "2021-12-24T16:05:56.009Z"
   }
  ],
  "kernelspec": {
   "display_name": "Python 3 (ipykernel)",
   "language": "python",
   "name": "python3"
  },
  "language_info": {
   "codemirror_mode": {
    "name": "ipython",
    "version": 3
   },
   "file_extension": ".py",
   "mimetype": "text/x-python",
   "name": "python",
   "nbconvert_exporter": "python",
   "pygments_lexer": "ipython3",
   "version": "3.7.8"
  },
  "toc": {
   "base_numbering": 1,
   "nav_menu": {},
   "number_sections": true,
   "sideBar": true,
   "skip_h1_title": true,
   "title_cell": "Содержание",
   "title_sidebar": "Contents",
   "toc_cell": true,
   "toc_position": {},
   "toc_section_display": true,
   "toc_window_display": true
  }
 },
 "nbformat": 4,
 "nbformat_minor": 2
}
