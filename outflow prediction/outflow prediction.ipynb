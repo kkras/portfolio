{
 "cells": [
  {
   "cell_type": "markdown",
   "id": "1ac4bfd6",
   "metadata": {},
   "source": [
    "# Проект: предсказание оттока клиентов"
   ]
  },
  {
   "cell_type": "markdown",
   "id": "f691c970",
   "metadata": {
    "toc": true
   },
   "source": [
    "<h1>Содержание<span class=\"tocSkip\"></span></h1>\n",
    "<div class=\"toc\"><ul class=\"toc-item\"><li><span><a href=\"#Подготовка-данных\" data-toc-modified-id=\"Подготовка-данных-1\"><span class=\"toc-item-num\">1&nbsp;&nbsp;</span>Подготовка данных</a></span></li><li><span><a href=\"#Создание-дополнительных-переменных\" data-toc-modified-id=\"Создание-дополнительных-переменных-2\"><span class=\"toc-item-num\">2&nbsp;&nbsp;</span>Создание дополнительных переменных</a></span></li><li><span><a href=\"#Разделение-данных\" data-toc-modified-id=\"Разделение-данных-3\"><span class=\"toc-item-num\">3&nbsp;&nbsp;</span>Разделение данных</a></span></li><li><span><a href=\"#Борьба-с-дисбалансом\" data-toc-modified-id=\"Борьба-с-дисбалансом-4\"><span class=\"toc-item-num\">4&nbsp;&nbsp;</span>Борьба с дисбалансом</a></span></li><li><span><a href=\"#Обучение-моделей\" data-toc-modified-id=\"Обучение-моделей-5\"><span class=\"toc-item-num\">5&nbsp;&nbsp;</span>Обучение моделей</a></span></li><li><span><a href=\"#Тестирование-фунции\" data-toc-modified-id=\"Тестирование-фунции-6\"><span class=\"toc-item-num\">6&nbsp;&nbsp;</span>Тестирование фунции</a></span></li><li><span><a href=\"#Вывод\" data-toc-modified-id=\"Вывод-7\"><span class=\"toc-item-num\">7&nbsp;&nbsp;</span>Вывод</a></span></li><li><span><a href=\"#Отчет-по-решению\" data-toc-modified-id=\"Отчет-по-решению-8\"><span class=\"toc-item-num\">8&nbsp;&nbsp;</span>Отчет по решению</a></span></li></ul></div>"
   ]
  },
  {
   "cell_type": "markdown",
   "id": "e6a76de6",
   "metadata": {},
   "source": [
    "# Описание проекта"
   ]
  },
  {
   "cell_type": "markdown",
   "id": "3293600e",
   "metadata": {},
   "source": [
    "    Оператор связи «Ниединогоразрыва.ком» хочет научиться прогнозировать отток клиентов. Если выяснится, что пользователь планирует уйти, ему будут предложены промокоды и специальные условия. Команда оператора собрала персональные данные о некоторых клиентах, информацию об их тарифах и договорах.\n",
    "    \n",
    "    Постановка задачи: разработка модели, которая на базе представленных данных, способна спрогнозировать возможный отток с точностью 0.75 < AUC-ROC ≤ 0.88"
   ]
  },
  {
   "cell_type": "markdown",
   "id": "bccc212c",
   "metadata": {},
   "source": [
    "## Подготовка данных"
   ]
  },
  {
   "cell_type": "code",
   "execution_count": 1,
   "id": "90869e4b",
   "metadata": {},
   "outputs": [
    {
     "name": "stdout",
     "output_type": "stream",
     "text": [
      \n"
     ]
    }
   ],
   "source": [
    "pip install lightgbm"
   ]
  },
  {
   "cell_type": "code",
   "execution_count": 2,
   "id": "83628c7a",
   "metadata": {},
   "outputs": [],
   "source": [
    "#используемые библиотеки\n",
    "import pandas as pd\n",
    "import numpy as np\n",
    "import matplotlib.pyplot as plt\n",
    "\n",
    "\n",
    "from sklearn.model_selection import train_test_split\n",
    "from sklearn.utils import shuffle\n",
    "from sklearn.model_selection import cross_val_score\n",
    "from sklearn.tree import DecisionTreeClassifier\n",
    "from sklearn.ensemble import RandomForestClassifier\n",
    "from sklearn.linear_model import LogisticRegression\n",
    "from sklearn.metrics import roc_auc_score\n",
    "from lightgbm import LGBMRegressor\n",
    "from sklearn import datasets\n",
    "\n",
    "import warnings\n",
    "warnings.filterwarnings(\"ignore\")"
   ]
  },
  {
   "cell_type": "code",
   "execution_count": 3,
   "id": "7cd4da30",
   "metadata": {},
   "outputs": [
    {
     "data": {
      "text/html": [
       "<div>\n",
       "<style scoped>\n",
       "    .dataframe tbody tr th:only-of-type {\n",
       "        vertical-align: middle;\n",
       "    }\n",
       "\n",
       "    .dataframe tbody tr th {\n",
       "        vertical-align: top;\n",
       "    }\n",
       "\n",
       "    .dataframe thead th {\n",
       "        text-align: right;\n",
       "    }\n",
       "</style>\n",
       "<table border=\"1\" class=\"dataframe\">\n",
       "  <thead>\n",
       "    <tr style=\"text-align: right;\">\n",
       "      <th></th>\n",
       "      <th>customerID</th>\n",
       "      <th>BeginDate</th>\n",
       "      <th>EndDate</th>\n",
       "      <th>Type</th>\n",
       "      <th>PaperlessBilling</th>\n",
       "      <th>PaymentMethod</th>\n",
       "      <th>MonthlyCharges</th>\n",
       "      <th>TotalCharges</th>\n",
       "    </tr>\n",
       "  </thead>\n",
       "  <tbody>\n",
       "    <tr>\n",
       "      <td>0</td>\n",
       "      <td>7590-VHVEG</td>\n",
       "      <td>2020-01-01</td>\n",
       "      <td>No</td>\n",
       "      <td>Month-to-month</td>\n",
       "      <td>Yes</td>\n",
       "      <td>Electronic check</td>\n",
       "      <td>29.85</td>\n",
       "      <td>29.85</td>\n",
       "    </tr>\n",
       "    <tr>\n",
       "      <td>1</td>\n",
       "      <td>5575-GNVDE</td>\n",
       "      <td>2017-04-01</td>\n",
       "      <td>No</td>\n",
       "      <td>One year</td>\n",
       "      <td>No</td>\n",
       "      <td>Mailed check</td>\n",
       "      <td>56.95</td>\n",
       "      <td>1889.50</td>\n",
       "    </tr>\n",
       "    <tr>\n",
       "      <td>2</td>\n",
       "      <td>3668-QPYBK</td>\n",
       "      <td>2019-10-01</td>\n",
       "      <td>2019-12-01 00:00:00</td>\n",
       "      <td>Month-to-month</td>\n",
       "      <td>Yes</td>\n",
       "      <td>Mailed check</td>\n",
       "      <td>53.85</td>\n",
       "      <td>108.15</td>\n",
       "    </tr>\n",
       "    <tr>\n",
       "      <td>3</td>\n",
       "      <td>7795-CFOCW</td>\n",
       "      <td>2016-05-01</td>\n",
       "      <td>No</td>\n",
       "      <td>One year</td>\n",
       "      <td>No</td>\n",
       "      <td>Bank transfer (automatic)</td>\n",
       "      <td>42.30</td>\n",
       "      <td>1840.75</td>\n",
       "    </tr>\n",
       "    <tr>\n",
       "      <td>4</td>\n",
       "      <td>9237-HQITU</td>\n",
       "      <td>2019-09-01</td>\n",
       "      <td>2019-11-01 00:00:00</td>\n",
       "      <td>Month-to-month</td>\n",
       "      <td>Yes</td>\n",
       "      <td>Electronic check</td>\n",
       "      <td>70.70</td>\n",
       "      <td>151.65</td>\n",
       "    </tr>\n",
       "    <tr>\n",
       "      <td>...</td>\n",
       "      <td>...</td>\n",
       "      <td>...</td>\n",
       "      <td>...</td>\n",
       "      <td>...</td>\n",
       "      <td>...</td>\n",
       "      <td>...</td>\n",
       "      <td>...</td>\n",
       "      <td>...</td>\n",
       "    </tr>\n",
       "    <tr>\n",
       "      <td>7038</td>\n",
       "      <td>6840-RESVB</td>\n",
       "      <td>2018-02-01</td>\n",
       "      <td>No</td>\n",
       "      <td>One year</td>\n",
       "      <td>Yes</td>\n",
       "      <td>Mailed check</td>\n",
       "      <td>84.80</td>\n",
       "      <td>1990.50</td>\n",
       "    </tr>\n",
       "    <tr>\n",
       "      <td>7039</td>\n",
       "      <td>2234-XADUH</td>\n",
       "      <td>2014-02-01</td>\n",
       "      <td>No</td>\n",
       "      <td>One year</td>\n",
       "      <td>Yes</td>\n",
       "      <td>Credit card (automatic)</td>\n",
       "      <td>103.20</td>\n",
       "      <td>7362.90</td>\n",
       "    </tr>\n",
       "    <tr>\n",
       "      <td>7040</td>\n",
       "      <td>4801-JZAZL</td>\n",
       "      <td>2019-03-01</td>\n",
       "      <td>No</td>\n",
       "      <td>Month-to-month</td>\n",
       "      <td>Yes</td>\n",
       "      <td>Electronic check</td>\n",
       "      <td>29.60</td>\n",
       "      <td>346.45</td>\n",
       "    </tr>\n",
       "    <tr>\n",
       "      <td>7041</td>\n",
       "      <td>8361-LTMKD</td>\n",
       "      <td>2019-07-01</td>\n",
       "      <td>2019-11-01 00:00:00</td>\n",
       "      <td>Month-to-month</td>\n",
       "      <td>Yes</td>\n",
       "      <td>Mailed check</td>\n",
       "      <td>74.40</td>\n",
       "      <td>306.60</td>\n",
       "    </tr>\n",
       "    <tr>\n",
       "      <td>7042</td>\n",
       "      <td>3186-AJIEK</td>\n",
       "      <td>2014-08-01</td>\n",
       "      <td>No</td>\n",
       "      <td>Two year</td>\n",
       "      <td>Yes</td>\n",
       "      <td>Bank transfer (automatic)</td>\n",
       "      <td>105.65</td>\n",
       "      <td>6844.50</td>\n",
       "    </tr>\n",
       "  </tbody>\n",
       "</table>\n",
       "<p>7043 rows × 8 columns</p>\n",
       "</div>"
      ],
      "text/plain": [
       "      customerID   BeginDate              EndDate            Type  \\\n",
       "0     7590-VHVEG  2020-01-01                   No  Month-to-month   \n",
       "1     5575-GNVDE  2017-04-01                   No        One year   \n",
       "2     3668-QPYBK  2019-10-01  2019-12-01 00:00:00  Month-to-month   \n",
       "3     7795-CFOCW  2016-05-01                   No        One year   \n",
       "4     9237-HQITU  2019-09-01  2019-11-01 00:00:00  Month-to-month   \n",
       "...          ...         ...                  ...             ...   \n",
       "7038  6840-RESVB  2018-02-01                   No        One year   \n",
       "7039  2234-XADUH  2014-02-01                   No        One year   \n",
       "7040  4801-JZAZL  2019-03-01                   No  Month-to-month   \n",
       "7041  8361-LTMKD  2019-07-01  2019-11-01 00:00:00  Month-to-month   \n",
       "7042  3186-AJIEK  2014-08-01                   No        Two year   \n",
       "\n",
       "     PaperlessBilling              PaymentMethod  MonthlyCharges  TotalCharges  \n",
       "0                 Yes           Electronic check           29.85         29.85  \n",
       "1                  No               Mailed check           56.95       1889.50  \n",
       "2                 Yes               Mailed check           53.85        108.15  \n",
       "3                  No  Bank transfer (automatic)           42.30       1840.75  \n",
       "4                 Yes           Electronic check           70.70        151.65  \n",
       "...               ...                        ...             ...           ...  \n",
       "7038              Yes               Mailed check           84.80       1990.50  \n",
       "7039              Yes    Credit card (automatic)          103.20       7362.90  \n",
       "7040              Yes           Electronic check           29.60        346.45  \n",
       "7041              Yes               Mailed check           74.40        306.60  \n",
       "7042              Yes  Bank transfer (automatic)          105.65       6844.50  \n",
       "\n",
       "[7043 rows x 8 columns]"
      ]
     },
     "execution_count": 3,
     "metadata": {},
     "output_type": "execute_result"
    }
   ],
   "source": [
    "from io import BytesIO\n",
    "import requests\n",
    "spreadsheet_id = '*имя файла*'\n",
    "file_name = 'https://docs.google.com/spreadsheets/d/{}/export?format=csv'.format(spreadsheet_id)\n",
    "r = requests.get(file_name)\n",
    "contact = pd.read_csv(BytesIO(r.content))\n",
    "contact"
   ]
  },
  {
   "cell_type": "code",
   "execution_count": 4,
   "id": "69bb22fc",
   "metadata": {},
   "outputs": [
    {
     "data": {
      "text/html": [
       "<div>\n",
       "<style scoped>\n",
       "    .dataframe tbody tr th:only-of-type {\n",
       "        vertical-align: middle;\n",
       "    }\n",
       "\n",
       "    .dataframe tbody tr th {\n",
       "        vertical-align: top;\n",
       "    }\n",
       "\n",
       "    .dataframe thead th {\n",
       "        text-align: right;\n",
       "    }\n",
       "</style>\n",
       "<table border=\"1\" class=\"dataframe\">\n",
       "  <thead>\n",
       "    <tr style=\"text-align: right;\">\n",
       "      <th></th>\n",
       "      <th>customerID</th>\n",
       "      <th>InternetService</th>\n",
       "      <th>OnlineSecurity</th>\n",
       "      <th>OnlineBackup</th>\n",
       "      <th>DeviceProtection</th>\n",
       "      <th>TechSupport</th>\n",
       "      <th>StreamingTV</th>\n",
       "      <th>StreamingMovies</th>\n",
       "    </tr>\n",
       "  </thead>\n",
       "  <tbody>\n",
       "    <tr>\n",
       "      <td>0</td>\n",
       "      <td>7590-VHVEG</td>\n",
       "      <td>DSL</td>\n",
       "      <td>No</td>\n",
       "      <td>Yes</td>\n",
       "      <td>No</td>\n",
       "      <td>No</td>\n",
       "      <td>No</td>\n",
       "      <td>No</td>\n",
       "    </tr>\n",
       "    <tr>\n",
       "      <td>1</td>\n",
       "      <td>5575-GNVDE</td>\n",
       "      <td>DSL</td>\n",
       "      <td>Yes</td>\n",
       "      <td>No</td>\n",
       "      <td>Yes</td>\n",
       "      <td>No</td>\n",
       "      <td>No</td>\n",
       "      <td>No</td>\n",
       "    </tr>\n",
       "    <tr>\n",
       "      <td>2</td>\n",
       "      <td>3668-QPYBK</td>\n",
       "      <td>DSL</td>\n",
       "      <td>Yes</td>\n",
       "      <td>Yes</td>\n",
       "      <td>No</td>\n",
       "      <td>No</td>\n",
       "      <td>No</td>\n",
       "      <td>No</td>\n",
       "    </tr>\n",
       "    <tr>\n",
       "      <td>3</td>\n",
       "      <td>7795-CFOCW</td>\n",
       "      <td>DSL</td>\n",
       "      <td>Yes</td>\n",
       "      <td>No</td>\n",
       "      <td>Yes</td>\n",
       "      <td>Yes</td>\n",
       "      <td>No</td>\n",
       "      <td>No</td>\n",
       "    </tr>\n",
       "    <tr>\n",
       "      <td>4</td>\n",
       "      <td>9237-HQITU</td>\n",
       "      <td>Fiber optic</td>\n",
       "      <td>No</td>\n",
       "      <td>No</td>\n",
       "      <td>No</td>\n",
       "      <td>No</td>\n",
       "      <td>No</td>\n",
       "      <td>No</td>\n",
       "    </tr>\n",
       "    <tr>\n",
       "      <td>...</td>\n",
       "      <td>...</td>\n",
       "      <td>...</td>\n",
       "      <td>...</td>\n",
       "      <td>...</td>\n",
       "      <td>...</td>\n",
       "      <td>...</td>\n",
       "      <td>...</td>\n",
       "      <td>...</td>\n",
       "    </tr>\n",
       "    <tr>\n",
       "      <td>5512</td>\n",
       "      <td>6840-RESVB</td>\n",
       "      <td>DSL</td>\n",
       "      <td>Yes</td>\n",
       "      <td>No</td>\n",
       "      <td>Yes</td>\n",
       "      <td>Yes</td>\n",
       "      <td>Yes</td>\n",
       "      <td>Yes</td>\n",
       "    </tr>\n",
       "    <tr>\n",
       "      <td>5513</td>\n",
       "      <td>2234-XADUH</td>\n",
       "      <td>Fiber optic</td>\n",
       "      <td>No</td>\n",
       "      <td>Yes</td>\n",
       "      <td>Yes</td>\n",
       "      <td>No</td>\n",
       "      <td>Yes</td>\n",
       "      <td>Yes</td>\n",
       "    </tr>\n",
       "    <tr>\n",
       "      <td>5514</td>\n",
       "      <td>4801-JZAZL</td>\n",
       "      <td>DSL</td>\n",
       "      <td>Yes</td>\n",
       "      <td>No</td>\n",
       "      <td>No</td>\n",
       "      <td>No</td>\n",
       "      <td>No</td>\n",
       "      <td>No</td>\n",
       "    </tr>\n",
       "    <tr>\n",
       "      <td>5515</td>\n",
       "      <td>8361-LTMKD</td>\n",
       "      <td>Fiber optic</td>\n",
       "      <td>No</td>\n",
       "      <td>No</td>\n",
       "      <td>No</td>\n",
       "      <td>No</td>\n",
       "      <td>No</td>\n",
       "      <td>No</td>\n",
       "    </tr>\n",
       "    <tr>\n",
       "      <td>5516</td>\n",
       "      <td>3186-AJIEK</td>\n",
       "      <td>Fiber optic</td>\n",
       "      <td>Yes</td>\n",
       "      <td>No</td>\n",
       "      <td>Yes</td>\n",
       "      <td>Yes</td>\n",
       "      <td>Yes</td>\n",
       "      <td>Yes</td>\n",
       "    </tr>\n",
       "  </tbody>\n",
       "</table>\n",
       "<p>5517 rows × 8 columns</p>\n",
       "</div>"
      ],
      "text/plain": [
       "      customerID InternetService OnlineSecurity OnlineBackup DeviceProtection  \\\n",
       "0     7590-VHVEG             DSL             No          Yes               No   \n",
       "1     5575-GNVDE             DSL            Yes           No              Yes   \n",
       "2     3668-QPYBK             DSL            Yes          Yes               No   \n",
       "3     7795-CFOCW             DSL            Yes           No              Yes   \n",
       "4     9237-HQITU     Fiber optic             No           No               No   \n",
       "...          ...             ...            ...          ...              ...   \n",
       "5512  6840-RESVB             DSL            Yes           No              Yes   \n",
       "5513  2234-XADUH     Fiber optic             No          Yes              Yes   \n",
       "5514  4801-JZAZL             DSL            Yes           No               No   \n",
       "5515  8361-LTMKD     Fiber optic             No           No               No   \n",
       "5516  3186-AJIEK     Fiber optic            Yes           No              Yes   \n",
       "\n",
       "     TechSupport StreamingTV StreamingMovies  \n",
       "0             No          No              No  \n",
       "1             No          No              No  \n",
       "2             No          No              No  \n",
       "3            Yes          No              No  \n",
       "4             No          No              No  \n",
       "...          ...         ...             ...  \n",
       "5512         Yes         Yes             Yes  \n",
       "5513          No         Yes             Yes  \n",
       "5514          No          No              No  \n",
       "5515          No          No              No  \n",
       "5516         Yes         Yes             Yes  \n",
       "\n",
       "[5517 rows x 8 columns]"
      ]
     },
     "execution_count": 4,
     "metadata": {},
     "output_type": "execute_result"
    }
   ],
   "source": [
    "from io import BytesIO\n",
    "import requests\n",
    "spreadsheet_id = '*имя файла*\n",
    "file_name = 'https://docs.google.com/spreadsheets/d/{}/export?format=csv'.format(spreadsheet_id)\n",
    "r = requests.get(file_name)\n",
    "internet = pd.read_csv(BytesIO(r.content))\n",
    "internet"
   ]
  },
  {
   "cell_type": "code",
   "execution_count": 5,
   "id": "3900f472",
   "metadata": {},
   "outputs": [
    {
     "data": {
      "text/html": [
       "<div>\n",
       "<style scoped>\n",
       "    .dataframe tbody tr th:only-of-type {\n",
       "        vertical-align: middle;\n",
       "    }\n",
       "\n",
       "    .dataframe tbody tr th {\n",
       "        vertical-align: top;\n",
       "    }\n",
       "\n",
       "    .dataframe thead th {\n",
       "        text-align: right;\n",
       "    }\n",
       "</style>\n",
       "<table border=\"1\" class=\"dataframe\">\n",
       "  <thead>\n",
       "    <tr style=\"text-align: right;\">\n",
       "      <th></th>\n",
       "      <th>customerID</th>\n",
       "      <th>gender</th>\n",
       "      <th>SeniorCitizen</th>\n",
       "      <th>Partner</th>\n",
       "      <th>Dependents</th>\n",
       "    </tr>\n",
       "  </thead>\n",
       "  <tbody>\n",
       "    <tr>\n",
       "      <td>0</td>\n",
       "      <td>7590-VHVEG</td>\n",
       "      <td>Female</td>\n",
       "      <td>0</td>\n",
       "      <td>Yes</td>\n",
       "      <td>No</td>\n",
       "    </tr>\n",
       "    <tr>\n",
       "      <td>1</td>\n",
       "      <td>5575-GNVDE</td>\n",
       "      <td>Male</td>\n",
       "      <td>0</td>\n",
       "      <td>No</td>\n",
       "      <td>No</td>\n",
       "    </tr>\n",
       "    <tr>\n",
       "      <td>2</td>\n",
       "      <td>3668-QPYBK</td>\n",
       "      <td>Male</td>\n",
       "      <td>0</td>\n",
       "      <td>No</td>\n",
       "      <td>No</td>\n",
       "    </tr>\n",
       "    <tr>\n",
       "      <td>3</td>\n",
       "      <td>7795-CFOCW</td>\n",
       "      <td>Male</td>\n",
       "      <td>0</td>\n",
       "      <td>No</td>\n",
       "      <td>No</td>\n",
       "    </tr>\n",
       "    <tr>\n",
       "      <td>4</td>\n",
       "      <td>9237-HQITU</td>\n",
       "      <td>Female</td>\n",
       "      <td>0</td>\n",
       "      <td>No</td>\n",
       "      <td>No</td>\n",
       "    </tr>\n",
       "    <tr>\n",
       "      <td>...</td>\n",
       "      <td>...</td>\n",
       "      <td>...</td>\n",
       "      <td>...</td>\n",
       "      <td>...</td>\n",
       "      <td>...</td>\n",
       "    </tr>\n",
       "    <tr>\n",
       "      <td>7038</td>\n",
       "      <td>6840-RESVB</td>\n",
       "      <td>Male</td>\n",
       "      <td>0</td>\n",
       "      <td>Yes</td>\n",
       "      <td>Yes</td>\n",
       "    </tr>\n",
       "    <tr>\n",
       "      <td>7039</td>\n",
       "      <td>2234-XADUH</td>\n",
       "      <td>Female</td>\n",
       "      <td>0</td>\n",
       "      <td>Yes</td>\n",
       "      <td>Yes</td>\n",
       "    </tr>\n",
       "    <tr>\n",
       "      <td>7040</td>\n",
       "      <td>4801-JZAZL</td>\n",
       "      <td>Female</td>\n",
       "      <td>0</td>\n",
       "      <td>Yes</td>\n",
       "      <td>Yes</td>\n",
       "    </tr>\n",
       "    <tr>\n",
       "      <td>7041</td>\n",
       "      <td>8361-LTMKD</td>\n",
       "      <td>Male</td>\n",
       "      <td>1</td>\n",
       "      <td>Yes</td>\n",
       "      <td>No</td>\n",
       "    </tr>\n",
       "    <tr>\n",
       "      <td>7042</td>\n",
       "      <td>3186-AJIEK</td>\n",
       "      <td>Male</td>\n",
       "      <td>0</td>\n",
       "      <td>No</td>\n",
       "      <td>No</td>\n",
       "    </tr>\n",
       "  </tbody>\n",
       "</table>\n",
       "<p>7043 rows × 5 columns</p>\n",
       "</div>"
      ],
      "text/plain": [
       "      customerID  gender  SeniorCitizen Partner Dependents\n",
       "0     7590-VHVEG  Female              0     Yes         No\n",
       "1     5575-GNVDE    Male              0      No         No\n",
       "2     3668-QPYBK    Male              0      No         No\n",
       "3     7795-CFOCW    Male              0      No         No\n",
       "4     9237-HQITU  Female              0      No         No\n",
       "...          ...     ...            ...     ...        ...\n",
       "7038  6840-RESVB    Male              0     Yes        Yes\n",
       "7039  2234-XADUH  Female              0     Yes        Yes\n",
       "7040  4801-JZAZL  Female              0     Yes        Yes\n",
       "7041  8361-LTMKD    Male              1     Yes         No\n",
       "7042  3186-AJIEK    Male              0      No         No\n",
       "\n",
       "[7043 rows x 5 columns]"
      ]
     },
     "execution_count": 5,
     "metadata": {},
     "output_type": "execute_result"
    }
   ],
   "source": [
    "from io import BytesIO\n",
    "import requests\n",
    "spreadsheet_id = '*имя файла*'\n",
    "file_name = 'https://docs.google.com/spreadsheets/d/{}/export?format=csv'.format(spreadsheet_id)\n",
    "r = requests.get(file_name)\n",
    "personal = pd.read_csv(BytesIO(r.content))\n",
    "personal"
   ]
  },
  {
   "cell_type": "code",
   "execution_count": 6,
   "id": "5a631b91",
   "metadata": {},
   "outputs": [
    {
     "data": {
      "text/html": [
       "<div>\n",
       "<style scoped>\n",
       "    .dataframe tbody tr th:only-of-type {\n",
       "        vertical-align: middle;\n",
       "    }\n",
       "\n",
       "    .dataframe tbody tr th {\n",
       "        vertical-align: top;\n",
       "    }\n",
       "\n",
       "    .dataframe thead th {\n",
       "        text-align: right;\n",
       "    }\n",
       "</style>\n",
       "<table border=\"1\" class=\"dataframe\">\n",
       "  <thead>\n",
       "    <tr style=\"text-align: right;\">\n",
       "      <th></th>\n",
       "      <th>customerID</th>\n",
       "      <th>MultipleLines</th>\n",
       "    </tr>\n",
       "  </thead>\n",
       "  <tbody>\n",
       "    <tr>\n",
       "      <td>0</td>\n",
       "      <td>5575-GNVDE</td>\n",
       "      <td>No</td>\n",
       "    </tr>\n",
       "    <tr>\n",
       "      <td>1</td>\n",
       "      <td>3668-QPYBK</td>\n",
       "      <td>No</td>\n",
       "    </tr>\n",
       "    <tr>\n",
       "      <td>2</td>\n",
       "      <td>9237-HQITU</td>\n",
       "      <td>No</td>\n",
       "    </tr>\n",
       "    <tr>\n",
       "      <td>3</td>\n",
       "      <td>9305-CDSKC</td>\n",
       "      <td>Yes</td>\n",
       "    </tr>\n",
       "    <tr>\n",
       "      <td>4</td>\n",
       "      <td>1452-KIOVK</td>\n",
       "      <td>Yes</td>\n",
       "    </tr>\n",
       "    <tr>\n",
       "      <td>...</td>\n",
       "      <td>...</td>\n",
       "      <td>...</td>\n",
       "    </tr>\n",
       "    <tr>\n",
       "      <td>6356</td>\n",
       "      <td>2569-WGERO</td>\n",
       "      <td>No</td>\n",
       "    </tr>\n",
       "    <tr>\n",
       "      <td>6357</td>\n",
       "      <td>6840-RESVB</td>\n",
       "      <td>Yes</td>\n",
       "    </tr>\n",
       "    <tr>\n",
       "      <td>6358</td>\n",
       "      <td>2234-XADUH</td>\n",
       "      <td>Yes</td>\n",
       "    </tr>\n",
       "    <tr>\n",
       "      <td>6359</td>\n",
       "      <td>8361-LTMKD</td>\n",
       "      <td>Yes</td>\n",
       "    </tr>\n",
       "    <tr>\n",
       "      <td>6360</td>\n",
       "      <td>3186-AJIEK</td>\n",
       "      <td>No</td>\n",
       "    </tr>\n",
       "  </tbody>\n",
       "</table>\n",
       "<p>6361 rows × 2 columns</p>\n",
       "</div>"
      ],
      "text/plain": [
       "      customerID MultipleLines\n",
       "0     5575-GNVDE            No\n",
       "1     3668-QPYBK            No\n",
       "2     9237-HQITU            No\n",
       "3     9305-CDSKC           Yes\n",
       "4     1452-KIOVK           Yes\n",
       "...          ...           ...\n",
       "6356  2569-WGERO            No\n",
       "6357  6840-RESVB           Yes\n",
       "6358  2234-XADUH           Yes\n",
       "6359  8361-LTMKD           Yes\n",
       "6360  3186-AJIEK            No\n",
       "\n",
       "[6361 rows x 2 columns]"
      ]
     },
     "execution_count": 6,
     "metadata": {},
     "output_type": "execute_result"
    }
   ],
   "source": [
    "from io import BytesIO\n",
    "import requests\n",
    "spreadsheet_id = '*имя файла*'\n",
    "file_name = 'https://docs.google.com/spreadsheets/d/{}/export?format=csv'.format(spreadsheet_id)\n",
    "r = requests.get(file_name)\n",
    "phone = pd.read_csv(BytesIO(r.content))\n",
    "phone"
   ]
  },
  {
   "cell_type": "code",
   "execution_count": 7,
   "id": "809a5b8a",
   "metadata": {
    "scrolled": false
   },
   "outputs": [
    {
     "name": "stdout",
     "output_type": "stream",
     "text": [
      "<class 'pandas.core.frame.DataFrame'>\n",
      "RangeIndex: 7043 entries, 0 to 7042\n",
      "Data columns (total 8 columns):\n",
      "customerID          7043 non-null object\n",
      "BeginDate           7043 non-null object\n",
      "EndDate             7043 non-null object\n",
      "Type                7043 non-null object\n",
      "PaperlessBilling    7043 non-null object\n",
      "PaymentMethod       7043 non-null object\n",
      "MonthlyCharges      7043 non-null float64\n",
      "TotalCharges        7032 non-null float64\n",
      "dtypes: float64(2), object(6)\n",
      "memory usage: 440.3+ KB\n",
      "None\n"
     ]
    }
   ],
   "source": [
    "#заполняем пропуски медианным значением\n",
    "print(contact.info())\n",
    "contact['TotalCharges'] = contact['TotalCharges'].fillna(contact['TotalCharges'].median())"
   ]
  },
  {
   "cell_type": "code",
   "execution_count": 8,
   "id": "fe98180a",
   "metadata": {},
   "outputs": [],
   "source": [
    "#перевод в нужный тип данных дат\n",
    "contact['BeginDate'] = pd.to_datetime(contact['BeginDate'])\n",
    "contact['EndDate'] = pd.to_datetime(contact['EndDate'], errors='coerce')"
   ]
  },
  {
   "cell_type": "code",
   "execution_count": 9,
   "id": "11894c02",
   "metadata": {
    "scrolled": false
   },
   "outputs": [
    {
     "name": "stdout",
     "output_type": "stream",
     "text": [
      "<class 'pandas.core.frame.DataFrame'>\n",
      "Int64Index: 7043 entries, 0 to 7042\n",
      "Data columns (total 20 columns):\n",
      "customerID          7043 non-null object\n",
      "BeginDate           7043 non-null datetime64[ns]\n",
      "EndDate             1869 non-null datetime64[ns]\n",
      "Type                7043 non-null object\n",
      "PaperlessBilling    7043 non-null object\n",
      "PaymentMethod       7043 non-null object\n",
      "MonthlyCharges      7043 non-null float64\n",
      "TotalCharges        7043 non-null float64\n",
      "gender              7043 non-null object\n",
      "SeniorCitizen       7043 non-null int64\n",
      "Partner             7043 non-null object\n",
      "Dependents          7043 non-null object\n",
      "InternetService     5517 non-null object\n",
      "OnlineSecurity      5517 non-null object\n",
      "OnlineBackup        5517 non-null object\n",
      "DeviceProtection    5517 non-null object\n",
      "TechSupport         5517 non-null object\n",
      "StreamingTV         5517 non-null object\n",
      "StreamingMovies     5517 non-null object\n",
      "MultipleLines       6361 non-null object\n",
      "dtypes: datetime64[ns](2), float64(2), int64(1), object(15)\n",
      "memory usage: 1.1+ MB\n",
      "None\n"
     ]
    }
   ],
   "source": [
    "#объединение данных\n",
    "data_all = contact.merge(personal)\n",
    "data_all = data_all.merge(internet, how='left')\n",
    "data_all = data_all.merge(phone, how='left')\n",
    "\n",
    "print(data_all.info())"
   ]
  },
  {
   "cell_type": "code",
   "execution_count": 10,
   "id": "d9d5abfa",
   "metadata": {
    "scrolled": true
   },
   "outputs": [
    {
     "name": "stdout",
     "output_type": "stream",
     "text": [
      "<class 'pandas.core.frame.DataFrame'>\n",
      "Int64Index: 7043 entries, 0 to 7042\n",
      "Data columns (total 20 columns):\n",
      "customerID          7043 non-null object\n",
      "BeginDate           7043 non-null datetime64[ns]\n",
      "EndDate             1869 non-null datetime64[ns]\n",
      "Type                7043 non-null object\n",
      "PaperlessBilling    7043 non-null object\n",
      "PaymentMethod       7043 non-null object\n",
      "MonthlyCharges      7043 non-null float64\n",
      "TotalCharges        7043 non-null float64\n",
      "gender              7043 non-null object\n",
      "SeniorCitizen       7043 non-null int64\n",
      "Partner             7043 non-null object\n",
      "Dependents          7043 non-null object\n",
      "InternetService     7043 non-null object\n",
      "OnlineSecurity      7043 non-null object\n",
      "OnlineBackup        7043 non-null object\n",
      "DeviceProtection    7043 non-null object\n",
      "TechSupport         7043 non-null object\n",
      "StreamingTV         7043 non-null object\n",
      "StreamingMovies     7043 non-null object\n",
      "MultipleLines       7043 non-null object\n",
      "dtypes: datetime64[ns](2), float64(2), int64(1), object(15)\n",
      "memory usage: 1.1+ MB\n",
      "None\n"
     ]
    }
   ],
   "source": [
    "#заполнение пропусков\n",
    "colomns = ['InternetService', 'OnlineSecurity', 'OnlineBackup', 'DeviceProtection', 'TechSupport', 'StreamingTV', 'StreamingMovies', 'MultipleLines']\n",
    "data_all[colomns] = data_all[colomns].fillna('No')\n",
    "\n",
    "print(data_all.info())"
   ]
  },
  {
   "cell_type": "code",
   "execution_count": 11,
   "id": "76149391",
   "metadata": {},
   "outputs": [
    {
     "name": "stdout",
     "output_type": "stream",
     "text": [
      "2020-02-01 00:00:00\n"
     ]
    }
   ],
   "source": [
    "#так как данные представлены до 1 февраля 2020 года, примем эту дату за конечную\n",
    "data_final='2020-02-01'\n",
    "data_final = pd.to_datetime(data_final, format='%Y-%m-%d')\n",
    "print(data_final)"
   ]
  },
  {
   "cell_type": "markdown",
   "id": "5d401ede",
   "metadata": {},
   "source": [
    "**Вывод:**\n",
    "\n",
    "Предобработка данных завершена, пропуски заполнены, данные приведены к нужному типу."
   ]
  },
  {
   "cell_type": "markdown",
   "id": "baf036c8",
   "metadata": {},
   "source": [
    "## Создание дополнительных переменных"
   ]
  },
  {
   "cell_type": "code",
   "execution_count": 12,
   "id": "efe549fc",
   "metadata": {},
   "outputs": [
    {
     "data": {
      "text/html": [
       "<div>\n",
       "<style scoped>\n",
       "    .dataframe tbody tr th:only-of-type {\n",
       "        vertical-align: middle;\n",
       "    }\n",
       "\n",
       "    .dataframe tbody tr th {\n",
       "        vertical-align: top;\n",
       "    }\n",
       "\n",
       "    .dataframe thead th {\n",
       "        text-align: right;\n",
       "    }\n",
       "</style>\n",
       "<table border=\"1\" class=\"dataframe\">\n",
       "  <thead>\n",
       "    <tr style=\"text-align: right;\">\n",
       "      <th></th>\n",
       "      <th>customerID</th>\n",
       "      <th>BeginDate</th>\n",
       "      <th>EndDate</th>\n",
       "      <th>Type</th>\n",
       "      <th>PaperlessBilling</th>\n",
       "      <th>PaymentMethod</th>\n",
       "      <th>MonthlyCharges</th>\n",
       "      <th>TotalCharges</th>\n",
       "      <th>gender</th>\n",
       "      <th>SeniorCitizen</th>\n",
       "      <th>...</th>\n",
       "      <th>OnlineSecurity</th>\n",
       "      <th>OnlineBackup</th>\n",
       "      <th>DeviceProtection</th>\n",
       "      <th>TechSupport</th>\n",
       "      <th>StreamingTV</th>\n",
       "      <th>StreamingMovies</th>\n",
       "      <th>MultipleLines</th>\n",
       "      <th>EndDate_lifetime</th>\n",
       "      <th>lifetime</th>\n",
       "      <th>target</th>\n",
       "    </tr>\n",
       "  </thead>\n",
       "  <tbody>\n",
       "    <tr>\n",
       "      <td>0</td>\n",
       "      <td>7590-VHVEG</td>\n",
       "      <td>2020-01-01</td>\n",
       "      <td>NaT</td>\n",
       "      <td>Month-to-month</td>\n",
       "      <td>Yes</td>\n",
       "      <td>Electronic check</td>\n",
       "      <td>29.85</td>\n",
       "      <td>29.85</td>\n",
       "      <td>Female</td>\n",
       "      <td>0</td>\n",
       "      <td>...</td>\n",
       "      <td>No</td>\n",
       "      <td>Yes</td>\n",
       "      <td>No</td>\n",
       "      <td>No</td>\n",
       "      <td>No</td>\n",
       "      <td>No</td>\n",
       "      <td>No</td>\n",
       "      <td>2020-02-01</td>\n",
       "      <td>31 days</td>\n",
       "      <td>0</td>\n",
       "    </tr>\n",
       "    <tr>\n",
       "      <td>1</td>\n",
       "      <td>5575-GNVDE</td>\n",
       "      <td>2017-04-01</td>\n",
       "      <td>NaT</td>\n",
       "      <td>One year</td>\n",
       "      <td>No</td>\n",
       "      <td>Mailed check</td>\n",
       "      <td>56.95</td>\n",
       "      <td>1889.50</td>\n",
       "      <td>Male</td>\n",
       "      <td>0</td>\n",
       "      <td>...</td>\n",
       "      <td>Yes</td>\n",
       "      <td>No</td>\n",
       "      <td>Yes</td>\n",
       "      <td>No</td>\n",
       "      <td>No</td>\n",
       "      <td>No</td>\n",
       "      <td>No</td>\n",
       "      <td>2020-02-01</td>\n",
       "      <td>1036 days</td>\n",
       "      <td>0</td>\n",
       "    </tr>\n",
       "    <tr>\n",
       "      <td>2</td>\n",
       "      <td>3668-QPYBK</td>\n",
       "      <td>2019-10-01</td>\n",
       "      <td>2019-12-01</td>\n",
       "      <td>Month-to-month</td>\n",
       "      <td>Yes</td>\n",
       "      <td>Mailed check</td>\n",
       "      <td>53.85</td>\n",
       "      <td>108.15</td>\n",
       "      <td>Male</td>\n",
       "      <td>0</td>\n",
       "      <td>...</td>\n",
       "      <td>Yes</td>\n",
       "      <td>Yes</td>\n",
       "      <td>No</td>\n",
       "      <td>No</td>\n",
       "      <td>No</td>\n",
       "      <td>No</td>\n",
       "      <td>No</td>\n",
       "      <td>2019-12-01</td>\n",
       "      <td>61 days</td>\n",
       "      <td>1</td>\n",
       "    </tr>\n",
       "    <tr>\n",
       "      <td>3</td>\n",
       "      <td>7795-CFOCW</td>\n",
       "      <td>2016-05-01</td>\n",
       "      <td>NaT</td>\n",
       "      <td>One year</td>\n",
       "      <td>No</td>\n",
       "      <td>Bank transfer (automatic)</td>\n",
       "      <td>42.30</td>\n",
       "      <td>1840.75</td>\n",
       "      <td>Male</td>\n",
       "      <td>0</td>\n",
       "      <td>...</td>\n",
       "      <td>Yes</td>\n",
       "      <td>No</td>\n",
       "      <td>Yes</td>\n",
       "      <td>Yes</td>\n",
       "      <td>No</td>\n",
       "      <td>No</td>\n",
       "      <td>No</td>\n",
       "      <td>2020-02-01</td>\n",
       "      <td>1371 days</td>\n",
       "      <td>0</td>\n",
       "    </tr>\n",
       "    <tr>\n",
       "      <td>4</td>\n",
       "      <td>9237-HQITU</td>\n",
       "      <td>2019-09-01</td>\n",
       "      <td>2019-11-01</td>\n",
       "      <td>Month-to-month</td>\n",
       "      <td>Yes</td>\n",
       "      <td>Electronic check</td>\n",
       "      <td>70.70</td>\n",
       "      <td>151.65</td>\n",
       "      <td>Female</td>\n",
       "      <td>0</td>\n",
       "      <td>...</td>\n",
       "      <td>No</td>\n",
       "      <td>No</td>\n",
       "      <td>No</td>\n",
       "      <td>No</td>\n",
       "      <td>No</td>\n",
       "      <td>No</td>\n",
       "      <td>No</td>\n",
       "      <td>2019-11-01</td>\n",
       "      <td>61 days</td>\n",
       "      <td>1</td>\n",
       "    </tr>\n",
       "  </tbody>\n",
       "</table>\n",
       "<p>5 rows × 23 columns</p>\n",
       "</div>"
      ],
      "text/plain": [
       "   customerID  BeginDate    EndDate            Type PaperlessBilling  \\\n",
       "0  7590-VHVEG 2020-01-01        NaT  Month-to-month              Yes   \n",
       "1  5575-GNVDE 2017-04-01        NaT        One year               No   \n",
       "2  3668-QPYBK 2019-10-01 2019-12-01  Month-to-month              Yes   \n",
       "3  7795-CFOCW 2016-05-01        NaT        One year               No   \n",
       "4  9237-HQITU 2019-09-01 2019-11-01  Month-to-month              Yes   \n",
       "\n",
       "               PaymentMethod  MonthlyCharges  TotalCharges  gender  \\\n",
       "0           Electronic check           29.85         29.85  Female   \n",
       "1               Mailed check           56.95       1889.50    Male   \n",
       "2               Mailed check           53.85        108.15    Male   \n",
       "3  Bank transfer (automatic)           42.30       1840.75    Male   \n",
       "4           Electronic check           70.70        151.65  Female   \n",
       "\n",
       "   SeniorCitizen  ... OnlineSecurity OnlineBackup DeviceProtection  \\\n",
       "0              0  ...             No          Yes               No   \n",
       "1              0  ...            Yes           No              Yes   \n",
       "2              0  ...            Yes          Yes               No   \n",
       "3              0  ...            Yes           No              Yes   \n",
       "4              0  ...             No           No               No   \n",
       "\n",
       "  TechSupport StreamingTV StreamingMovies MultipleLines EndDate_lifetime  \\\n",
       "0          No          No              No            No       2020-02-01   \n",
       "1          No          No              No            No       2020-02-01   \n",
       "2          No          No              No            No       2019-12-01   \n",
       "3         Yes          No              No            No       2020-02-01   \n",
       "4          No          No              No            No       2019-11-01   \n",
       "\n",
       "   lifetime target  \n",
       "0   31 days      0  \n",
       "1 1036 days      0  \n",
       "2   61 days      1  \n",
       "3 1371 days      0  \n",
       "4   61 days      1  \n",
       "\n",
       "[5 rows x 23 columns]"
      ]
     },
     "metadata": {},
     "output_type": "display_data"
    }
   ],
   "source": [
    "#создание новой переменной и таргета\n",
    "data_all['EndDate_lifetime'] = data_all['EndDate']\n",
    "data_all['EndDate_lifetime'] = data_all['EndDate_lifetime'].fillna(data_final)\n",
    "data_all['lifetime'] = data_all['EndDate_lifetime'] - data_all['BeginDate']\n",
    "data_all['target'] = data_all['EndDate']\n",
    "\n",
    "data_all['target'] = data_all['target'].fillna(0)\n",
    "filter = data_all['target']==0\n",
    "data_all['target'].where(filter, 1, inplace=True)\n",
    "\n",
    "display(data_all.head())"
   ]
  },
  {
   "cell_type": "code",
   "execution_count": 13,
   "id": "da6b7270",
   "metadata": {},
   "outputs": [],
   "source": [
    "#для преобразования признаков из категориальных в численные используем прямое кодирование (OHE)\n",
    "data_ohe = pd.get_dummies(data_all, drop_first=True, columns=['Type', 'PaymentMethod', 'gender', 'Partner' ,'Dependents', 'InternetService', 'OnlineSecurity',\n",
    "                                                             'OnlineBackup', 'DeviceProtection', 'TechSupport', 'StreamingTV',\n",
    "                                                             'StreamingMovies', 'MultipleLines'])\n",
    "data_all = data_all.join(data_ohe, lsuffix='_left')\n"
   ]
  },
  {
   "cell_type": "code",
   "execution_count": 14,
   "id": "58d26096",
   "metadata": {},
   "outputs": [],
   "source": [
    "#удаляем дубли\n",
    "data_all = data_all.drop(['Type', 'PaymentMethod', 'gender', 'Partner' , 'Dependents',  'InternetService', 'OnlineSecurity',\n",
    "                                                             'OnlineBackup', 'DeviceProtection', 'TechSupport', 'StreamingTV',\n",
    "                                                             'StreamingMovies', 'MultipleLines'], axis=1)"
   ]
  },
  {
   "cell_type": "code",
   "execution_count": 15,
   "id": "a14bb8da",
   "metadata": {},
   "outputs": [
    {
     "name": "stdout",
     "output_type": "stream",
     "text": [
      "<class 'pandas.core.frame.DataFrame'>\n",
      "Int64Index: 7043 entries, 0 to 7042\n",
      "Data columns (total 37 columns):\n",
      "customerID_left                          7043 non-null object\n",
      "BeginDate_left                           7043 non-null datetime64[ns]\n",
      "EndDate_left                             1869 non-null datetime64[ns]\n",
      "PaperlessBilling_left                    7043 non-null object\n",
      "MonthlyCharges_left                      7043 non-null float64\n",
      "TotalCharges_left                        7043 non-null float64\n",
      "SeniorCitizen_left                       7043 non-null int64\n",
      "EndDate_lifetime_left                    7043 non-null datetime64[ns]\n",
      "lifetime_left                            7043 non-null timedelta64[ns]\n",
      "target_left                              7043 non-null object\n",
      "customerID                               7043 non-null object\n",
      "BeginDate                                7043 non-null datetime64[ns]\n",
      "EndDate                                  1869 non-null datetime64[ns]\n",
      "PaperlessBilling                         7043 non-null object\n",
      "MonthlyCharges                           7043 non-null float64\n",
      "TotalCharges                             7043 non-null float64\n",
      "SeniorCitizen                            7043 non-null int64\n",
      "EndDate_lifetime                         7043 non-null datetime64[ns]\n",
      "lifetime                                 7043 non-null timedelta64[ns]\n",
      "target                                   7043 non-null object\n",
      "Type_One year                            7043 non-null uint8\n",
      "Type_Two year                            7043 non-null uint8\n",
      "PaymentMethod_Credit card (automatic)    7043 non-null uint8\n",
      "PaymentMethod_Electronic check           7043 non-null uint8\n",
      "PaymentMethod_Mailed check               7043 non-null uint8\n",
      "gender_Male                              7043 non-null uint8\n",
      "Partner_Yes                              7043 non-null uint8\n",
      "Dependents_Yes                           7043 non-null uint8\n",
      "InternetService_Fiber optic              7043 non-null uint8\n",
      "InternetService_No                       7043 non-null uint8\n",
      "OnlineSecurity_Yes                       7043 non-null uint8\n",
      "OnlineBackup_Yes                         7043 non-null uint8\n",
      "DeviceProtection_Yes                     7043 non-null uint8\n",
      "TechSupport_Yes                          7043 non-null uint8\n",
      "StreamingTV_Yes                          7043 non-null uint8\n",
      "StreamingMovies_Yes                      7043 non-null uint8\n",
      "MultipleLines_Yes                        7043 non-null uint8\n",
      "dtypes: datetime64[ns](6), float64(4), int64(2), object(6), timedelta64[ns](2), uint8(17)\n",
      "memory usage: 1.6+ MB\n",
      "None\n"
     ]
    }
   ],
   "source": [
    "print(data_all.info())"
   ]
  },
  {
   "cell_type": "code",
   "execution_count": 16,
   "id": "a249f2e2",
   "metadata": {},
   "outputs": [],
   "source": [
    "#удаляем дубли и ненужные столбцы\n",
    "data_all = data_all.drop(['customerID_left', 'BeginDate_left', 'EndDate_left', 'PaperlessBilling_left', 'MonthlyCharges_left',\n",
    "                         'TotalCharges_left', 'SeniorCitizen_left','lifetime_left', 'target_left', 'customerID', \n",
    "                          'BeginDate', 'EndDate', 'PaperlessBilling', 'EndDate_lifetime', 'EndDate_lifetime_left'], axis=1)"
   ]
  },
  {
   "cell_type": "markdown",
   "id": "0216945d",
   "metadata": {},
   "source": [
    "**Вывод**\n",
    "\n",
    "Некоторые столбцы были удалены, потому что содержат лишнюю информацию, из-за чего понижается точность моделей. Например:\n",
    "1. _customerID_ - не несет информации для моделирования\n",
    "2. столбцы с датами (_BeginDate, EndDate_) - создан отдельный параметр _lifetime_, чтобы показать продолжительность отношений с клиентом\n",
    "3. _PaperlessBilling_ - безналичный расчет, этот параметр не критичен, более того его отсутствие повышает точность моделей"
   ]
  },
  {
   "cell_type": "code",
   "execution_count": 17,
   "id": "0e6d5cb9",
   "metadata": {
    "scrolled": true
   },
   "outputs": [
    {
     "name": "stdout",
     "output_type": "stream",
     "text": [
      "<class 'pandas.core.frame.DataFrame'>\n",
      "Int64Index: 7043 entries, 0 to 7042\n",
      "Data columns (total 22 columns):\n",
      "MonthlyCharges                           7043 non-null float64\n",
      "TotalCharges                             7043 non-null float64\n",
      "SeniorCitizen                            7043 non-null int64\n",
      "lifetime                                 7043 non-null timedelta64[ns]\n",
      "target                                   7043 non-null object\n",
      "Type_One year                            7043 non-null uint8\n",
      "Type_Two year                            7043 non-null uint8\n",
      "PaymentMethod_Credit card (automatic)    7043 non-null uint8\n",
      "PaymentMethod_Electronic check           7043 non-null uint8\n",
      "PaymentMethod_Mailed check               7043 non-null uint8\n",
      "gender_Male                              7043 non-null uint8\n",
      "Partner_Yes                              7043 non-null uint8\n",
      "Dependents_Yes                           7043 non-null uint8\n",
      "InternetService_Fiber optic              7043 non-null uint8\n",
      "InternetService_No                       7043 non-null uint8\n",
      "OnlineSecurity_Yes                       7043 non-null uint8\n",
      "OnlineBackup_Yes                         7043 non-null uint8\n",
      "DeviceProtection_Yes                     7043 non-null uint8\n",
      "TechSupport_Yes                          7043 non-null uint8\n",
      "StreamingTV_Yes                          7043 non-null uint8\n",
      "StreamingMovies_Yes                      7043 non-null uint8\n",
      "MultipleLines_Yes                        7043 non-null uint8\n",
      "dtypes: float64(2), int64(1), object(1), timedelta64[ns](1), uint8(17)\n",
      "memory usage: 767.1+ KB\n",
      "None\n"
     ]
    }
   ],
   "source": [
    "print(data_all.info())"
   ]
  },
  {
   "cell_type": "code",
   "execution_count": 18,
   "id": "20bee5b7",
   "metadata": {},
   "outputs": [],
   "source": [
    "#приведение данных в нужный тип (lifetime в наносекундах)\n",
    "data_all['target'] = data_all['target'].astype('int')\n",
    "\n",
    "data_all['lifetime'] = pd.to_numeric(data_all['lifetime'])\n",
    "data_all['lifetime'] = data_all['lifetime']/(8.62*10**13)"
   ]
  },
  {
   "cell_type": "code",
   "execution_count": 19,
   "id": "6ffd4fad",
   "metadata": {
    "scrolled": false
   },
   "outputs": [
    {
     "data": {
      "text/html": [
       "<div>\n",
       "<style scoped>\n",
       "    .dataframe tbody tr th:only-of-type {\n",
       "        vertical-align: middle;\n",
       "    }\n",
       "\n",
       "    .dataframe tbody tr th {\n",
       "        vertical-align: top;\n",
       "    }\n",
       "\n",
       "    .dataframe thead th {\n",
       "        text-align: right;\n",
       "    }\n",
       "</style>\n",
       "<table border=\"1\" class=\"dataframe\">\n",
       "  <thead>\n",
       "    <tr style=\"text-align: right;\">\n",
       "      <th></th>\n",
       "      <th>MonthlyCharges</th>\n",
       "      <th>TotalCharges</th>\n",
       "      <th>SeniorCitizen</th>\n",
       "      <th>lifetime</th>\n",
       "      <th>target</th>\n",
       "      <th>Type_One year</th>\n",
       "      <th>Type_Two year</th>\n",
       "      <th>PaymentMethod_Credit card (automatic)</th>\n",
       "      <th>PaymentMethod_Electronic check</th>\n",
       "      <th>PaymentMethod_Mailed check</th>\n",
       "      <th>...</th>\n",
       "      <th>Dependents_Yes</th>\n",
       "      <th>InternetService_Fiber optic</th>\n",
       "      <th>InternetService_No</th>\n",
       "      <th>OnlineSecurity_Yes</th>\n",
       "      <th>OnlineBackup_Yes</th>\n",
       "      <th>DeviceProtection_Yes</th>\n",
       "      <th>TechSupport_Yes</th>\n",
       "      <th>StreamingTV_Yes</th>\n",
       "      <th>StreamingMovies_Yes</th>\n",
       "      <th>MultipleLines_Yes</th>\n",
       "    </tr>\n",
       "  </thead>\n",
       "  <tbody>\n",
       "    <tr>\n",
       "      <td>0</td>\n",
       "      <td>29.85</td>\n",
       "      <td>29.85</td>\n",
       "      <td>0</td>\n",
       "      <td>31.071926</td>\n",
       "      <td>0</td>\n",
       "      <td>0</td>\n",
       "      <td>0</td>\n",
       "      <td>0</td>\n",
       "      <td>1</td>\n",
       "      <td>0</td>\n",
       "      <td>...</td>\n",
       "      <td>0</td>\n",
       "      <td>0</td>\n",
       "      <td>0</td>\n",
       "      <td>0</td>\n",
       "      <td>1</td>\n",
       "      <td>0</td>\n",
       "      <td>0</td>\n",
       "      <td>0</td>\n",
       "      <td>0</td>\n",
       "      <td>0</td>\n",
       "    </tr>\n",
       "    <tr>\n",
       "      <td>1</td>\n",
       "      <td>56.95</td>\n",
       "      <td>1889.50</td>\n",
       "      <td>0</td>\n",
       "      <td>1038.403712</td>\n",
       "      <td>0</td>\n",
       "      <td>1</td>\n",
       "      <td>0</td>\n",
       "      <td>0</td>\n",
       "      <td>0</td>\n",
       "      <td>1</td>\n",
       "      <td>...</td>\n",
       "      <td>0</td>\n",
       "      <td>0</td>\n",
       "      <td>0</td>\n",
       "      <td>1</td>\n",
       "      <td>0</td>\n",
       "      <td>1</td>\n",
       "      <td>0</td>\n",
       "      <td>0</td>\n",
       "      <td>0</td>\n",
       "      <td>0</td>\n",
       "    </tr>\n",
       "    <tr>\n",
       "      <td>2</td>\n",
       "      <td>53.85</td>\n",
       "      <td>108.15</td>\n",
       "      <td>0</td>\n",
       "      <td>61.141531</td>\n",
       "      <td>1</td>\n",
       "      <td>0</td>\n",
       "      <td>0</td>\n",
       "      <td>0</td>\n",
       "      <td>0</td>\n",
       "      <td>1</td>\n",
       "      <td>...</td>\n",
       "      <td>0</td>\n",
       "      <td>0</td>\n",
       "      <td>0</td>\n",
       "      <td>1</td>\n",
       "      <td>1</td>\n",
       "      <td>0</td>\n",
       "      <td>0</td>\n",
       "      <td>0</td>\n",
       "      <td>0</td>\n",
       "      <td>0</td>\n",
       "    </tr>\n",
       "    <tr>\n",
       "      <td>3</td>\n",
       "      <td>42.30</td>\n",
       "      <td>1840.75</td>\n",
       "      <td>0</td>\n",
       "      <td>1374.180974</td>\n",
       "      <td>0</td>\n",
       "      <td>1</td>\n",
       "      <td>0</td>\n",
       "      <td>0</td>\n",
       "      <td>0</td>\n",
       "      <td>0</td>\n",
       "      <td>...</td>\n",
       "      <td>0</td>\n",
       "      <td>0</td>\n",
       "      <td>0</td>\n",
       "      <td>1</td>\n",
       "      <td>0</td>\n",
       "      <td>1</td>\n",
       "      <td>1</td>\n",
       "      <td>0</td>\n",
       "      <td>0</td>\n",
       "      <td>0</td>\n",
       "    </tr>\n",
       "    <tr>\n",
       "      <td>4</td>\n",
       "      <td>70.70</td>\n",
       "      <td>151.65</td>\n",
       "      <td>0</td>\n",
       "      <td>61.141531</td>\n",
       "      <td>1</td>\n",
       "      <td>0</td>\n",
       "      <td>0</td>\n",
       "      <td>0</td>\n",
       "      <td>1</td>\n",
       "      <td>0</td>\n",
       "      <td>...</td>\n",
       "      <td>0</td>\n",
       "      <td>1</td>\n",
       "      <td>0</td>\n",
       "      <td>0</td>\n",
       "      <td>0</td>\n",
       "      <td>0</td>\n",
       "      <td>0</td>\n",
       "      <td>0</td>\n",
       "      <td>0</td>\n",
       "      <td>0</td>\n",
       "    </tr>\n",
       "  </tbody>\n",
       "</table>\n",
       "<p>5 rows × 22 columns</p>\n",
       "</div>"
      ],
      "text/plain": [
       "   MonthlyCharges  TotalCharges  SeniorCitizen     lifetime  target  \\\n",
       "0           29.85         29.85              0    31.071926       0   \n",
       "1           56.95       1889.50              0  1038.403712       0   \n",
       "2           53.85        108.15              0    61.141531       1   \n",
       "3           42.30       1840.75              0  1374.180974       0   \n",
       "4           70.70        151.65              0    61.141531       1   \n",
       "\n",
       "   Type_One year  Type_Two year  PaymentMethod_Credit card (automatic)  \\\n",
       "0              0              0                                      0   \n",
       "1              1              0                                      0   \n",
       "2              0              0                                      0   \n",
       "3              1              0                                      0   \n",
       "4              0              0                                      0   \n",
       "\n",
       "   PaymentMethod_Electronic check  PaymentMethod_Mailed check  ...  \\\n",
       "0                               1                           0  ...   \n",
       "1                               0                           1  ...   \n",
       "2                               0                           1  ...   \n",
       "3                               0                           0  ...   \n",
       "4                               1                           0  ...   \n",
       "\n",
       "   Dependents_Yes  InternetService_Fiber optic  InternetService_No  \\\n",
       "0               0                            0                   0   \n",
       "1               0                            0                   0   \n",
       "2               0                            0                   0   \n",
       "3               0                            0                   0   \n",
       "4               0                            1                   0   \n",
       "\n",
       "   OnlineSecurity_Yes  OnlineBackup_Yes  DeviceProtection_Yes  \\\n",
       "0                   0                 1                     0   \n",
       "1                   1                 0                     1   \n",
       "2                   1                 1                     0   \n",
       "3                   1                 0                     1   \n",
       "4                   0                 0                     0   \n",
       "\n",
       "   TechSupport_Yes  StreamingTV_Yes  StreamingMovies_Yes  MultipleLines_Yes  \n",
       "0                0                0                    0                  0  \n",
       "1                0                0                    0                  0  \n",
       "2                0                0                    0                  0  \n",
       "3                1                0                    0                  0  \n",
       "4                0                0                    0                  0  \n",
       "\n",
       "[5 rows x 22 columns]"
      ]
     },
     "metadata": {},
     "output_type": "display_data"
    }
   ],
   "source": [
    "display(data_all.head())"
   ]
  },
  {
   "cell_type": "code",
   "execution_count": 20,
   "id": "cda3ea7f",
   "metadata": {
    "scrolled": true
   },
   "outputs": [
    {
     "data": {
      "text/html": [
       "<div>\n",
       "<style scoped>\n",
       "    .dataframe tbody tr th:only-of-type {\n",
       "        vertical-align: middle;\n",
       "    }\n",
       "\n",
       "    .dataframe tbody tr th {\n",
       "        vertical-align: top;\n",
       "    }\n",
       "\n",
       "    .dataframe thead th {\n",
       "        text-align: right;\n",
       "    }\n",
       "</style>\n",
       "<table border=\"1\" class=\"dataframe\">\n",
       "  <thead>\n",
       "    <tr style=\"text-align: right;\">\n",
       "      <th></th>\n",
       "      <th>MonthlyCharges</th>\n",
       "      <th>TotalCharges</th>\n",
       "      <th>SeniorCitizen</th>\n",
       "      <th>lifetime</th>\n",
       "      <th>target</th>\n",
       "      <th>Type_One year</th>\n",
       "      <th>Type_Two year</th>\n",
       "      <th>PaymentMethod_Credit card (automatic)</th>\n",
       "      <th>PaymentMethod_Electronic check</th>\n",
       "      <th>PaymentMethod_Mailed check</th>\n",
       "      <th>...</th>\n",
       "      <th>Dependents_Yes</th>\n",
       "      <th>InternetService_Fiber optic</th>\n",
       "      <th>InternetService_No</th>\n",
       "      <th>OnlineSecurity_Yes</th>\n",
       "      <th>OnlineBackup_Yes</th>\n",
       "      <th>DeviceProtection_Yes</th>\n",
       "      <th>TechSupport_Yes</th>\n",
       "      <th>StreamingTV_Yes</th>\n",
       "      <th>StreamingMovies_Yes</th>\n",
       "      <th>MultipleLines_Yes</th>\n",
       "    </tr>\n",
       "  </thead>\n",
       "  <tbody>\n",
       "    <tr>\n",
       "      <td>MonthlyCharges</td>\n",
       "      <td>1.000000</td>\n",
       "      <td>0.650864</td>\n",
       "      <td>0.220173</td>\n",
       "      <td>0.247754</td>\n",
       "      <td>0.193356</td>\n",
       "      <td>0.004904</td>\n",
       "      <td>-0.074681</td>\n",
       "      <td>0.030550</td>\n",
       "      <td>0.271625</td>\n",
       "      <td>-0.377437</td>\n",
       "      <td>...</td>\n",
       "      <td>-0.113890</td>\n",
       "      <td>0.787066</td>\n",
       "      <td>-0.763557</td>\n",
       "      <td>0.296594</td>\n",
       "      <td>0.441780</td>\n",
       "      <td>0.482692</td>\n",
       "      <td>0.338304</td>\n",
       "      <td>0.629603</td>\n",
       "      <td>0.627429</td>\n",
       "      <td>0.490434</td>\n",
       "    </tr>\n",
       "    <tr>\n",
       "      <td>TotalCharges</td>\n",
       "      <td>0.650864</td>\n",
       "      <td>1.000000</td>\n",
       "      <td>0.102652</td>\n",
       "      <td>0.825394</td>\n",
       "      <td>-0.199037</td>\n",
       "      <td>0.170649</td>\n",
       "      <td>0.356226</td>\n",
       "      <td>0.182745</td>\n",
       "      <td>-0.059971</td>\n",
       "      <td>-0.294814</td>\n",
       "      <td>...</td>\n",
       "      <td>0.063593</td>\n",
       "      <td>0.361045</td>\n",
       "      <td>-0.374706</td>\n",
       "      <td>0.412091</td>\n",
       "      <td>0.509607</td>\n",
       "      <td>0.522374</td>\n",
       "      <td>0.432329</td>\n",
       "      <td>0.515279</td>\n",
       "      <td>0.519884</td>\n",
       "      <td>0.468705</td>\n",
       "    </tr>\n",
       "    <tr>\n",
       "      <td>SeniorCitizen</td>\n",
       "      <td>0.220173</td>\n",
       "      <td>0.102652</td>\n",
       "      <td>1.000000</td>\n",
       "      <td>0.016514</td>\n",
       "      <td>0.150889</td>\n",
       "      <td>-0.046262</td>\n",
       "      <td>-0.117000</td>\n",
       "      <td>-0.024135</td>\n",
       "      <td>0.171718</td>\n",
       "      <td>-0.153477</td>\n",
       "      <td>...</td>\n",
       "      <td>-0.211185</td>\n",
       "      <td>0.255338</td>\n",
       "      <td>-0.182742</td>\n",
       "      <td>-0.038653</td>\n",
       "      <td>0.066572</td>\n",
       "      <td>0.059428</td>\n",
       "      <td>-0.060625</td>\n",
       "      <td>0.105378</td>\n",
       "      <td>0.120176</td>\n",
       "      <td>0.142948</td>\n",
       "    </tr>\n",
       "    <tr>\n",
       "      <td>lifetime</td>\n",
       "      <td>0.247754</td>\n",
       "      <td>0.825394</td>\n",
       "      <td>0.016514</td>\n",
       "      <td>1.000000</td>\n",
       "      <td>-0.352673</td>\n",
       "      <td>0.202650</td>\n",
       "      <td>0.558544</td>\n",
       "      <td>0.233032</td>\n",
       "      <td>-0.208465</td>\n",
       "      <td>-0.233755</td>\n",
       "      <td>...</td>\n",
       "      <td>0.159766</td>\n",
       "      <td>0.019574</td>\n",
       "      <td>-0.038951</td>\n",
       "      <td>0.327203</td>\n",
       "      <td>0.360238</td>\n",
       "      <td>0.360602</td>\n",
       "      <td>0.324238</td>\n",
       "      <td>0.279657</td>\n",
       "      <td>0.286007</td>\n",
       "      <td>0.331833</td>\n",
       "    </tr>\n",
       "    <tr>\n",
       "      <td>target</td>\n",
       "      <td>0.193356</td>\n",
       "      <td>-0.199037</td>\n",
       "      <td>0.150889</td>\n",
       "      <td>-0.352673</td>\n",
       "      <td>1.000000</td>\n",
       "      <td>-0.177820</td>\n",
       "      <td>-0.302253</td>\n",
       "      <td>-0.134302</td>\n",
       "      <td>0.301919</td>\n",
       "      <td>-0.091683</td>\n",
       "      <td>...</td>\n",
       "      <td>-0.164221</td>\n",
       "      <td>0.308020</td>\n",
       "      <td>-0.227890</td>\n",
       "      <td>-0.171226</td>\n",
       "      <td>-0.082255</td>\n",
       "      <td>-0.066160</td>\n",
       "      <td>-0.164674</td>\n",
       "      <td>0.063228</td>\n",
       "      <td>0.061382</td>\n",
       "      <td>0.040102</td>\n",
       "    </tr>\n",
       "    <tr>\n",
       "      <td>Type_One year</td>\n",
       "      <td>0.004904</td>\n",
       "      <td>0.170649</td>\n",
       "      <td>-0.046262</td>\n",
       "      <td>0.202650</td>\n",
       "      <td>-0.177820</td>\n",
       "      <td>1.000000</td>\n",
       "      <td>-0.289510</td>\n",
       "      <td>0.067589</td>\n",
       "      <td>-0.109130</td>\n",
       "      <td>-0.000116</td>\n",
       "      <td>...</td>\n",
       "      <td>0.068368</td>\n",
       "      <td>-0.076324</td>\n",
       "      <td>0.038004</td>\n",
       "      <td>0.100162</td>\n",
       "      <td>0.083722</td>\n",
       "      <td>0.102495</td>\n",
       "      <td>0.095775</td>\n",
       "      <td>0.061612</td>\n",
       "      <td>0.064926</td>\n",
       "      <td>-0.003794</td>\n",
       "    </tr>\n",
       "    <tr>\n",
       "      <td>Type_Two year</td>\n",
       "      <td>-0.074681</td>\n",
       "      <td>0.356226</td>\n",
       "      <td>-0.117000</td>\n",
       "      <td>0.558544</td>\n",
       "      <td>-0.302253</td>\n",
       "      <td>-0.289510</td>\n",
       "      <td>1.000000</td>\n",
       "      <td>0.173265</td>\n",
       "      <td>-0.282138</td>\n",
       "      <td>-0.004705</td>\n",
       "      <td>...</td>\n",
       "      <td>0.204613</td>\n",
       "      <td>-0.211526</td>\n",
       "      <td>0.218278</td>\n",
       "      <td>0.191773</td>\n",
       "      <td>0.111400</td>\n",
       "      <td>0.165096</td>\n",
       "      <td>0.240824</td>\n",
       "      <td>0.072049</td>\n",
       "      <td>0.073960</td>\n",
       "      <td>0.106253</td>\n",
       "    </tr>\n",
       "    <tr>\n",
       "      <td>PaymentMethod_Credit card (automatic)</td>\n",
       "      <td>0.030550</td>\n",
       "      <td>0.182745</td>\n",
       "      <td>-0.024135</td>\n",
       "      <td>0.233032</td>\n",
       "      <td>-0.134302</td>\n",
       "      <td>0.067589</td>\n",
       "      <td>0.173265</td>\n",
       "      <td>1.000000</td>\n",
       "      <td>-0.373322</td>\n",
       "      <td>-0.286049</td>\n",
       "      <td>...</td>\n",
       "      <td>0.060267</td>\n",
       "      <td>-0.050077</td>\n",
       "      <td>0.001030</td>\n",
       "      <td>0.115721</td>\n",
       "      <td>0.090785</td>\n",
       "      <td>0.111554</td>\n",
       "      <td>0.117272</td>\n",
       "      <td>0.040433</td>\n",
       "      <td>0.048575</td>\n",
       "      <td>0.060048</td>\n",
       "    </tr>\n",
       "    <tr>\n",
       "      <td>PaymentMethod_Electronic check</td>\n",
       "      <td>0.271625</td>\n",
       "      <td>-0.059971</td>\n",
       "      <td>0.171718</td>\n",
       "      <td>-0.208465</td>\n",
       "      <td>0.301919</td>\n",
       "      <td>-0.109130</td>\n",
       "      <td>-0.282138</td>\n",
       "      <td>-0.373322</td>\n",
       "      <td>1.000000</td>\n",
       "      <td>-0.387372</td>\n",
       "      <td>...</td>\n",
       "      <td>-0.150642</td>\n",
       "      <td>0.336410</td>\n",
       "      <td>-0.284917</td>\n",
       "      <td>-0.112338</td>\n",
       "      <td>-0.000408</td>\n",
       "      <td>-0.003351</td>\n",
       "      <td>-0.114839</td>\n",
       "      <td>0.144626</td>\n",
       "      <td>0.137966</td>\n",
       "      <td>0.083618</td>\n",
       "    </tr>\n",
       "    <tr>\n",
       "      <td>PaymentMethod_Mailed check</td>\n",
       "      <td>-0.377437</td>\n",
       "      <td>-0.294814</td>\n",
       "      <td>-0.153477</td>\n",
       "      <td>-0.233755</td>\n",
       "      <td>-0.091683</td>\n",
       "      <td>-0.000116</td>\n",
       "      <td>-0.004705</td>\n",
       "      <td>-0.286049</td>\n",
       "      <td>-0.387372</td>\n",
       "      <td>1.000000</td>\n",
       "      <td>...</td>\n",
       "      <td>0.059071</td>\n",
       "      <td>-0.306834</td>\n",
       "      <td>0.321361</td>\n",
       "      <td>-0.080798</td>\n",
       "      <td>-0.174164</td>\n",
       "      <td>-0.187373</td>\n",
       "      <td>-0.085509</td>\n",
       "      <td>-0.247742</td>\n",
       "      <td>-0.250595</td>\n",
       "      <td>-0.227206</td>\n",
       "    </tr>\n",
       "    <tr>\n",
       "      <td>gender_Male</td>\n",
       "      <td>-0.014569</td>\n",
       "      <td>-0.000002</td>\n",
       "      <td>-0.001874</td>\n",
       "      <td>0.005111</td>\n",
       "      <td>-0.008612</td>\n",
       "      <td>0.008026</td>\n",
       "      <td>-0.003695</td>\n",
       "      <td>0.001215</td>\n",
       "      <td>0.000752</td>\n",
       "      <td>0.013744</td>\n",
       "      <td>...</td>\n",
       "      <td>0.010517</td>\n",
       "      <td>-0.011286</td>\n",
       "      <td>0.006026</td>\n",
       "      <td>-0.017021</td>\n",
       "      <td>-0.013773</td>\n",
       "      <td>-0.002105</td>\n",
       "      <td>-0.009212</td>\n",
       "      <td>-0.008393</td>\n",
       "      <td>-0.010487</td>\n",
       "      <td>-0.008414</td>\n",
       "    </tr>\n",
       "    <tr>\n",
       "      <td>Partner_Yes</td>\n",
       "      <td>0.096848</td>\n",
       "      <td>0.318364</td>\n",
       "      <td>0.016479</td>\n",
       "      <td>0.379709</td>\n",
       "      <td>-0.150448</td>\n",
       "      <td>0.082783</td>\n",
       "      <td>0.248091</td>\n",
       "      <td>0.082029</td>\n",
       "      <td>-0.083852</td>\n",
       "      <td>-0.095125</td>\n",
       "      <td>...</td>\n",
       "      <td>0.452676</td>\n",
       "      <td>0.000304</td>\n",
       "      <td>0.000615</td>\n",
       "      <td>0.143106</td>\n",
       "      <td>0.141498</td>\n",
       "      <td>0.153786</td>\n",
       "      <td>0.119999</td>\n",
       "      <td>0.124666</td>\n",
       "      <td>0.117412</td>\n",
       "      <td>0.142057</td>\n",
       "    </tr>\n",
       "    <tr>\n",
       "      <td>Dependents_Yes</td>\n",
       "      <td>-0.113890</td>\n",
       "      <td>0.063593</td>\n",
       "      <td>-0.211185</td>\n",
       "      <td>0.159766</td>\n",
       "      <td>-0.164221</td>\n",
       "      <td>0.068368</td>\n",
       "      <td>0.204613</td>\n",
       "      <td>0.060267</td>\n",
       "      <td>-0.150642</td>\n",
       "      <td>0.059071</td>\n",
       "      <td>...</td>\n",
       "      <td>1.000000</td>\n",
       "      <td>-0.165818</td>\n",
       "      <td>0.139812</td>\n",
       "      <td>0.080972</td>\n",
       "      <td>0.023671</td>\n",
       "      <td>0.013963</td>\n",
       "      <td>0.063268</td>\n",
       "      <td>-0.016558</td>\n",
       "      <td>-0.039741</td>\n",
       "      <td>-0.024526</td>\n",
       "    </tr>\n",
       "    <tr>\n",
       "      <td>InternetService_Fiber optic</td>\n",
       "      <td>0.787066</td>\n",
       "      <td>0.361045</td>\n",
       "      <td>0.255338</td>\n",
       "      <td>0.019574</td>\n",
       "      <td>0.308020</td>\n",
       "      <td>-0.076324</td>\n",
       "      <td>-0.211526</td>\n",
       "      <td>-0.050077</td>\n",
       "      <td>0.336410</td>\n",
       "      <td>-0.306834</td>\n",
       "      <td>...</td>\n",
       "      <td>-0.165818</td>\n",
       "      <td>1.000000</td>\n",
       "      <td>-0.465793</td>\n",
       "      <td>-0.030696</td>\n",
       "      <td>0.165651</td>\n",
       "      <td>0.176049</td>\n",
       "      <td>-0.020492</td>\n",
       "      <td>0.329349</td>\n",
       "      <td>0.322923</td>\n",
       "      <td>0.366083</td>\n",
       "    </tr>\n",
       "    <tr>\n",
       "      <td>InternetService_No</td>\n",
       "      <td>-0.763557</td>\n",
       "      <td>-0.374706</td>\n",
       "      <td>-0.182742</td>\n",
       "      <td>-0.038951</td>\n",
       "      <td>-0.227890</td>\n",
       "      <td>0.038004</td>\n",
       "      <td>0.218278</td>\n",
       "      <td>0.001030</td>\n",
       "      <td>-0.284917</td>\n",
       "      <td>0.321361</td>\n",
       "      <td>...</td>\n",
       "      <td>0.139812</td>\n",
       "      <td>-0.465793</td>\n",
       "      <td>1.000000</td>\n",
       "      <td>-0.333403</td>\n",
       "      <td>-0.381593</td>\n",
       "      <td>-0.380754</td>\n",
       "      <td>-0.336298</td>\n",
       "      <td>-0.415552</td>\n",
       "      <td>-0.418675</td>\n",
       "      <td>-0.210564</td>\n",
       "    </tr>\n",
       "    <tr>\n",
       "      <td>OnlineSecurity_Yes</td>\n",
       "      <td>0.296594</td>\n",
       "      <td>0.412091</td>\n",
       "      <td>-0.038653</td>\n",
       "      <td>0.327203</td>\n",
       "      <td>-0.171226</td>\n",
       "      <td>0.100162</td>\n",
       "      <td>0.191773</td>\n",
       "      <td>0.115721</td>\n",
       "      <td>-0.112338</td>\n",
       "      <td>-0.080798</td>\n",
       "      <td>...</td>\n",
       "      <td>0.080972</td>\n",
       "      <td>-0.030696</td>\n",
       "      <td>-0.333403</td>\n",
       "      <td>1.000000</td>\n",
       "      <td>0.283832</td>\n",
       "      <td>0.275438</td>\n",
       "      <td>0.354931</td>\n",
       "      <td>0.176207</td>\n",
       "      <td>0.187398</td>\n",
       "      <td>0.098108</td>\n",
       "    </tr>\n",
       "    <tr>\n",
       "      <td>OnlineBackup_Yes</td>\n",
       "      <td>0.441780</td>\n",
       "      <td>0.509607</td>\n",
       "      <td>0.066572</td>\n",
       "      <td>0.360238</td>\n",
       "      <td>-0.082255</td>\n",
       "      <td>0.083722</td>\n",
       "      <td>0.111400</td>\n",
       "      <td>0.090785</td>\n",
       "      <td>-0.000408</td>\n",
       "      <td>-0.174164</td>\n",
       "      <td>...</td>\n",
       "      <td>0.023671</td>\n",
       "      <td>0.165651</td>\n",
       "      <td>-0.381593</td>\n",
       "      <td>0.283832</td>\n",
       "      <td>1.000000</td>\n",
       "      <td>0.303546</td>\n",
       "      <td>0.294233</td>\n",
       "      <td>0.282106</td>\n",
       "      <td>0.274501</td>\n",
       "      <td>0.202237</td>\n",
       "    </tr>\n",
       "    <tr>\n",
       "      <td>DeviceProtection_Yes</td>\n",
       "      <td>0.482692</td>\n",
       "      <td>0.522374</td>\n",
       "      <td>0.059428</td>\n",
       "      <td>0.360602</td>\n",
       "      <td>-0.066160</td>\n",
       "      <td>0.102495</td>\n",
       "      <td>0.165096</td>\n",
       "      <td>0.111554</td>\n",
       "      <td>-0.003351</td>\n",
       "      <td>-0.187373</td>\n",
       "      <td>...</td>\n",
       "      <td>0.013963</td>\n",
       "      <td>0.176049</td>\n",
       "      <td>-0.380754</td>\n",
       "      <td>0.275438</td>\n",
       "      <td>0.303546</td>\n",
       "      <td>1.000000</td>\n",
       "      <td>0.333313</td>\n",
       "      <td>0.390874</td>\n",
       "      <td>0.402111</td>\n",
       "      <td>0.201137</td>\n",
       "    </tr>\n",
       "    <tr>\n",
       "      <td>TechSupport_Yes</td>\n",
       "      <td>0.338304</td>\n",
       "      <td>0.432329</td>\n",
       "      <td>-0.060625</td>\n",
       "      <td>0.324238</td>\n",
       "      <td>-0.164674</td>\n",
       "      <td>0.095775</td>\n",
       "      <td>0.240824</td>\n",
       "      <td>0.117272</td>\n",
       "      <td>-0.114839</td>\n",
       "      <td>-0.085509</td>\n",
       "      <td>...</td>\n",
       "      <td>0.063268</td>\n",
       "      <td>-0.020492</td>\n",
       "      <td>-0.336298</td>\n",
       "      <td>0.354931</td>\n",
       "      <td>0.294233</td>\n",
       "      <td>0.333313</td>\n",
       "      <td>1.000000</td>\n",
       "      <td>0.278070</td>\n",
       "      <td>0.279358</td>\n",
       "      <td>0.100571</td>\n",
       "    </tr>\n",
       "    <tr>\n",
       "      <td>StreamingTV_Yes</td>\n",
       "      <td>0.629603</td>\n",
       "      <td>0.515279</td>\n",
       "      <td>0.105378</td>\n",
       "      <td>0.279657</td>\n",
       "      <td>0.063228</td>\n",
       "      <td>0.061612</td>\n",
       "      <td>0.072049</td>\n",
       "      <td>0.040433</td>\n",
       "      <td>0.144626</td>\n",
       "      <td>-0.247742</td>\n",
       "      <td>...</td>\n",
       "      <td>-0.016558</td>\n",
       "      <td>0.329349</td>\n",
       "      <td>-0.415552</td>\n",
       "      <td>0.176207</td>\n",
       "      <td>0.282106</td>\n",
       "      <td>0.390874</td>\n",
       "      <td>0.278070</td>\n",
       "      <td>1.000000</td>\n",
       "      <td>0.533094</td>\n",
       "      <td>0.257152</td>\n",
       "    </tr>\n",
       "    <tr>\n",
       "      <td>StreamingMovies_Yes</td>\n",
       "      <td>0.627429</td>\n",
       "      <td>0.519884</td>\n",
       "      <td>0.120176</td>\n",
       "      <td>0.286007</td>\n",
       "      <td>0.061382</td>\n",
       "      <td>0.064926</td>\n",
       "      <td>0.073960</td>\n",
       "      <td>0.048575</td>\n",
       "      <td>0.137966</td>\n",
       "      <td>-0.250595</td>\n",
       "      <td>...</td>\n",
       "      <td>-0.039741</td>\n",
       "      <td>0.322923</td>\n",
       "      <td>-0.418675</td>\n",
       "      <td>0.187398</td>\n",
       "      <td>0.274501</td>\n",
       "      <td>0.402111</td>\n",
       "      <td>0.279358</td>\n",
       "      <td>0.533094</td>\n",
       "      <td>1.000000</td>\n",
       "      <td>0.258751</td>\n",
       "    </tr>\n",
       "    <tr>\n",
       "      <td>MultipleLines_Yes</td>\n",
       "      <td>0.490434</td>\n",
       "      <td>0.468705</td>\n",
       "      <td>0.142948</td>\n",
       "      <td>0.331833</td>\n",
       "      <td>0.040102</td>\n",
       "      <td>-0.003794</td>\n",
       "      <td>0.106253</td>\n",
       "      <td>0.060048</td>\n",
       "      <td>0.083618</td>\n",
       "      <td>-0.227206</td>\n",
       "      <td>...</td>\n",
       "      <td>-0.024526</td>\n",
       "      <td>0.366083</td>\n",
       "      <td>-0.210564</td>\n",
       "      <td>0.098108</td>\n",
       "      <td>0.202237</td>\n",
       "      <td>0.201137</td>\n",
       "      <td>0.100571</td>\n",
       "      <td>0.257152</td>\n",
       "      <td>0.258751</td>\n",
       "      <td>1.000000</td>\n",
       "    </tr>\n",
       "  </tbody>\n",
       "</table>\n",
       "<p>22 rows × 22 columns</p>\n",
       "</div>"
      ],
      "text/plain": [
       "                                       MonthlyCharges  TotalCharges  \\\n",
       "MonthlyCharges                               1.000000      0.650864   \n",
       "TotalCharges                                 0.650864      1.000000   \n",
       "SeniorCitizen                                0.220173      0.102652   \n",
       "lifetime                                     0.247754      0.825394   \n",
       "target                                       0.193356     -0.199037   \n",
       "Type_One year                                0.004904      0.170649   \n",
       "Type_Two year                               -0.074681      0.356226   \n",
       "PaymentMethod_Credit card (automatic)        0.030550      0.182745   \n",
       "PaymentMethod_Electronic check               0.271625     -0.059971   \n",
       "PaymentMethod_Mailed check                  -0.377437     -0.294814   \n",
       "gender_Male                                 -0.014569     -0.000002   \n",
       "Partner_Yes                                  0.096848      0.318364   \n",
       "Dependents_Yes                              -0.113890      0.063593   \n",
       "InternetService_Fiber optic                  0.787066      0.361045   \n",
       "InternetService_No                          -0.763557     -0.374706   \n",
       "OnlineSecurity_Yes                           0.296594      0.412091   \n",
       "OnlineBackup_Yes                             0.441780      0.509607   \n",
       "DeviceProtection_Yes                         0.482692      0.522374   \n",
       "TechSupport_Yes                              0.338304      0.432329   \n",
       "StreamingTV_Yes                              0.629603      0.515279   \n",
       "StreamingMovies_Yes                          0.627429      0.519884   \n",
       "MultipleLines_Yes                            0.490434      0.468705   \n",
       "\n",
       "                                       SeniorCitizen  lifetime    target  \\\n",
       "MonthlyCharges                              0.220173  0.247754  0.193356   \n",
       "TotalCharges                                0.102652  0.825394 -0.199037   \n",
       "SeniorCitizen                               1.000000  0.016514  0.150889   \n",
       "lifetime                                    0.016514  1.000000 -0.352673   \n",
       "target                                      0.150889 -0.352673  1.000000   \n",
       "Type_One year                              -0.046262  0.202650 -0.177820   \n",
       "Type_Two year                              -0.117000  0.558544 -0.302253   \n",
       "PaymentMethod_Credit card (automatic)      -0.024135  0.233032 -0.134302   \n",
       "PaymentMethod_Electronic check              0.171718 -0.208465  0.301919   \n",
       "PaymentMethod_Mailed check                 -0.153477 -0.233755 -0.091683   \n",
       "gender_Male                                -0.001874  0.005111 -0.008612   \n",
       "Partner_Yes                                 0.016479  0.379709 -0.150448   \n",
       "Dependents_Yes                             -0.211185  0.159766 -0.164221   \n",
       "InternetService_Fiber optic                 0.255338  0.019574  0.308020   \n",
       "InternetService_No                         -0.182742 -0.038951 -0.227890   \n",
       "OnlineSecurity_Yes                         -0.038653  0.327203 -0.171226   \n",
       "OnlineBackup_Yes                            0.066572  0.360238 -0.082255   \n",
       "DeviceProtection_Yes                        0.059428  0.360602 -0.066160   \n",
       "TechSupport_Yes                            -0.060625  0.324238 -0.164674   \n",
       "StreamingTV_Yes                             0.105378  0.279657  0.063228   \n",
       "StreamingMovies_Yes                         0.120176  0.286007  0.061382   \n",
       "MultipleLines_Yes                           0.142948  0.331833  0.040102   \n",
       "\n",
       "                                       Type_One year  Type_Two year  \\\n",
       "MonthlyCharges                              0.004904      -0.074681   \n",
       "TotalCharges                                0.170649       0.356226   \n",
       "SeniorCitizen                              -0.046262      -0.117000   \n",
       "lifetime                                    0.202650       0.558544   \n",
       "target                                     -0.177820      -0.302253   \n",
       "Type_One year                               1.000000      -0.289510   \n",
       "Type_Two year                              -0.289510       1.000000   \n",
       "PaymentMethod_Credit card (automatic)       0.067589       0.173265   \n",
       "PaymentMethod_Electronic check             -0.109130      -0.282138   \n",
       "PaymentMethod_Mailed check                 -0.000116      -0.004705   \n",
       "gender_Male                                 0.008026      -0.003695   \n",
       "Partner_Yes                                 0.082783       0.248091   \n",
       "Dependents_Yes                              0.068368       0.204613   \n",
       "InternetService_Fiber optic                -0.076324      -0.211526   \n",
       "InternetService_No                          0.038004       0.218278   \n",
       "OnlineSecurity_Yes                          0.100162       0.191773   \n",
       "OnlineBackup_Yes                            0.083722       0.111400   \n",
       "DeviceProtection_Yes                        0.102495       0.165096   \n",
       "TechSupport_Yes                             0.095775       0.240824   \n",
       "StreamingTV_Yes                             0.061612       0.072049   \n",
       "StreamingMovies_Yes                         0.064926       0.073960   \n",
       "MultipleLines_Yes                          -0.003794       0.106253   \n",
       "\n",
       "                                       PaymentMethod_Credit card (automatic)  \\\n",
       "MonthlyCharges                                                      0.030550   \n",
       "TotalCharges                                                        0.182745   \n",
       "SeniorCitizen                                                      -0.024135   \n",
       "lifetime                                                            0.233032   \n",
       "target                                                             -0.134302   \n",
       "Type_One year                                                       0.067589   \n",
       "Type_Two year                                                       0.173265   \n",
       "PaymentMethod_Credit card (automatic)                               1.000000   \n",
       "PaymentMethod_Electronic check                                     -0.373322   \n",
       "PaymentMethod_Mailed check                                         -0.286049   \n",
       "gender_Male                                                         0.001215   \n",
       "Partner_Yes                                                         0.082029   \n",
       "Dependents_Yes                                                      0.060267   \n",
       "InternetService_Fiber optic                                        -0.050077   \n",
       "InternetService_No                                                  0.001030   \n",
       "OnlineSecurity_Yes                                                  0.115721   \n",
       "OnlineBackup_Yes                                                    0.090785   \n",
       "DeviceProtection_Yes                                                0.111554   \n",
       "TechSupport_Yes                                                     0.117272   \n",
       "StreamingTV_Yes                                                     0.040433   \n",
       "StreamingMovies_Yes                                                 0.048575   \n",
       "MultipleLines_Yes                                                   0.060048   \n",
       "\n",
       "                                       PaymentMethod_Electronic check  \\\n",
       "MonthlyCharges                                               0.271625   \n",
       "TotalCharges                                                -0.059971   \n",
       "SeniorCitizen                                                0.171718   \n",
       "lifetime                                                    -0.208465   \n",
       "target                                                       0.301919   \n",
       "Type_One year                                               -0.109130   \n",
       "Type_Two year                                               -0.282138   \n",
       "PaymentMethod_Credit card (automatic)                       -0.373322   \n",
       "PaymentMethod_Electronic check                               1.000000   \n",
       "PaymentMethod_Mailed check                                  -0.387372   \n",
       "gender_Male                                                  0.000752   \n",
       "Partner_Yes                                                 -0.083852   \n",
       "Dependents_Yes                                              -0.150642   \n",
       "InternetService_Fiber optic                                  0.336410   \n",
       "InternetService_No                                          -0.284917   \n",
       "OnlineSecurity_Yes                                          -0.112338   \n",
       "OnlineBackup_Yes                                            -0.000408   \n",
       "DeviceProtection_Yes                                        -0.003351   \n",
       "TechSupport_Yes                                             -0.114839   \n",
       "StreamingTV_Yes                                              0.144626   \n",
       "StreamingMovies_Yes                                          0.137966   \n",
       "MultipleLines_Yes                                            0.083618   \n",
       "\n",
       "                                       PaymentMethod_Mailed check  ...  \\\n",
       "MonthlyCharges                                          -0.377437  ...   \n",
       "TotalCharges                                            -0.294814  ...   \n",
       "SeniorCitizen                                           -0.153477  ...   \n",
       "lifetime                                                -0.233755  ...   \n",
       "target                                                  -0.091683  ...   \n",
       "Type_One year                                           -0.000116  ...   \n",
       "Type_Two year                                           -0.004705  ...   \n",
       "PaymentMethod_Credit card (automatic)                   -0.286049  ...   \n",
       "PaymentMethod_Electronic check                          -0.387372  ...   \n",
       "PaymentMethod_Mailed check                               1.000000  ...   \n",
       "gender_Male                                              0.013744  ...   \n",
       "Partner_Yes                                             -0.095125  ...   \n",
       "Dependents_Yes                                           0.059071  ...   \n",
       "InternetService_Fiber optic                             -0.306834  ...   \n",
       "InternetService_No                                       0.321361  ...   \n",
       "OnlineSecurity_Yes                                      -0.080798  ...   \n",
       "OnlineBackup_Yes                                        -0.174164  ...   \n",
       "DeviceProtection_Yes                                    -0.187373  ...   \n",
       "TechSupport_Yes                                         -0.085509  ...   \n",
       "StreamingTV_Yes                                         -0.247742  ...   \n",
       "StreamingMovies_Yes                                     -0.250595  ...   \n",
       "MultipleLines_Yes                                       -0.227206  ...   \n",
       "\n",
       "                                       Dependents_Yes  \\\n",
       "MonthlyCharges                              -0.113890   \n",
       "TotalCharges                                 0.063593   \n",
       "SeniorCitizen                               -0.211185   \n",
       "lifetime                                     0.159766   \n",
       "target                                      -0.164221   \n",
       "Type_One year                                0.068368   \n",
       "Type_Two year                                0.204613   \n",
       "PaymentMethod_Credit card (automatic)        0.060267   \n",
       "PaymentMethod_Electronic check              -0.150642   \n",
       "PaymentMethod_Mailed check                   0.059071   \n",
       "gender_Male                                  0.010517   \n",
       "Partner_Yes                                  0.452676   \n",
       "Dependents_Yes                               1.000000   \n",
       "InternetService_Fiber optic                 -0.165818   \n",
       "InternetService_No                           0.139812   \n",
       "OnlineSecurity_Yes                           0.080972   \n",
       "OnlineBackup_Yes                             0.023671   \n",
       "DeviceProtection_Yes                         0.013963   \n",
       "TechSupport_Yes                              0.063268   \n",
       "StreamingTV_Yes                             -0.016558   \n",
       "StreamingMovies_Yes                         -0.039741   \n",
       "MultipleLines_Yes                           -0.024526   \n",
       "\n",
       "                                       InternetService_Fiber optic  \\\n",
       "MonthlyCharges                                            0.787066   \n",
       "TotalCharges                                              0.361045   \n",
       "SeniorCitizen                                             0.255338   \n",
       "lifetime                                                  0.019574   \n",
       "target                                                    0.308020   \n",
       "Type_One year                                            -0.076324   \n",
       "Type_Two year                                            -0.211526   \n",
       "PaymentMethod_Credit card (automatic)                    -0.050077   \n",
       "PaymentMethod_Electronic check                            0.336410   \n",
       "PaymentMethod_Mailed check                               -0.306834   \n",
       "gender_Male                                              -0.011286   \n",
       "Partner_Yes                                               0.000304   \n",
       "Dependents_Yes                                           -0.165818   \n",
       "InternetService_Fiber optic                               1.000000   \n",
       "InternetService_No                                       -0.465793   \n",
       "OnlineSecurity_Yes                                       -0.030696   \n",
       "OnlineBackup_Yes                                          0.165651   \n",
       "DeviceProtection_Yes                                      0.176049   \n",
       "TechSupport_Yes                                          -0.020492   \n",
       "StreamingTV_Yes                                           0.329349   \n",
       "StreamingMovies_Yes                                       0.322923   \n",
       "MultipleLines_Yes                                         0.366083   \n",
       "\n",
       "                                       InternetService_No  OnlineSecurity_Yes  \\\n",
       "MonthlyCharges                                  -0.763557            0.296594   \n",
       "TotalCharges                                    -0.374706            0.412091   \n",
       "SeniorCitizen                                   -0.182742           -0.038653   \n",
       "lifetime                                        -0.038951            0.327203   \n",
       "target                                          -0.227890           -0.171226   \n",
       "Type_One year                                    0.038004            0.100162   \n",
       "Type_Two year                                    0.218278            0.191773   \n",
       "PaymentMethod_Credit card (automatic)            0.001030            0.115721   \n",
       "PaymentMethod_Electronic check                  -0.284917           -0.112338   \n",
       "PaymentMethod_Mailed check                       0.321361           -0.080798   \n",
       "gender_Male                                      0.006026           -0.017021   \n",
       "Partner_Yes                                      0.000615            0.143106   \n",
       "Dependents_Yes                                   0.139812            0.080972   \n",
       "InternetService_Fiber optic                     -0.465793           -0.030696   \n",
       "InternetService_No                               1.000000           -0.333403   \n",
       "OnlineSecurity_Yes                              -0.333403            1.000000   \n",
       "OnlineBackup_Yes                                -0.381593            0.283832   \n",
       "DeviceProtection_Yes                            -0.380754            0.275438   \n",
       "TechSupport_Yes                                 -0.336298            0.354931   \n",
       "StreamingTV_Yes                                 -0.415552            0.176207   \n",
       "StreamingMovies_Yes                             -0.418675            0.187398   \n",
       "MultipleLines_Yes                               -0.210564            0.098108   \n",
       "\n",
       "                                       OnlineBackup_Yes  DeviceProtection_Yes  \\\n",
       "MonthlyCharges                                 0.441780              0.482692   \n",
       "TotalCharges                                   0.509607              0.522374   \n",
       "SeniorCitizen                                  0.066572              0.059428   \n",
       "lifetime                                       0.360238              0.360602   \n",
       "target                                        -0.082255             -0.066160   \n",
       "Type_One year                                  0.083722              0.102495   \n",
       "Type_Two year                                  0.111400              0.165096   \n",
       "PaymentMethod_Credit card (automatic)          0.090785              0.111554   \n",
       "PaymentMethod_Electronic check                -0.000408             -0.003351   \n",
       "PaymentMethod_Mailed check                    -0.174164             -0.187373   \n",
       "gender_Male                                   -0.013773             -0.002105   \n",
       "Partner_Yes                                    0.141498              0.153786   \n",
       "Dependents_Yes                                 0.023671              0.013963   \n",
       "InternetService_Fiber optic                    0.165651              0.176049   \n",
       "InternetService_No                            -0.381593             -0.380754   \n",
       "OnlineSecurity_Yes                             0.283832              0.275438   \n",
       "OnlineBackup_Yes                               1.000000              0.303546   \n",
       "DeviceProtection_Yes                           0.303546              1.000000   \n",
       "TechSupport_Yes                                0.294233              0.333313   \n",
       "StreamingTV_Yes                                0.282106              0.390874   \n",
       "StreamingMovies_Yes                            0.274501              0.402111   \n",
       "MultipleLines_Yes                              0.202237              0.201137   \n",
       "\n",
       "                                       TechSupport_Yes  StreamingTV_Yes  \\\n",
       "MonthlyCharges                                0.338304         0.629603   \n",
       "TotalCharges                                  0.432329         0.515279   \n",
       "SeniorCitizen                                -0.060625         0.105378   \n",
       "lifetime                                      0.324238         0.279657   \n",
       "target                                       -0.164674         0.063228   \n",
       "Type_One year                                 0.095775         0.061612   \n",
       "Type_Two year                                 0.240824         0.072049   \n",
       "PaymentMethod_Credit card (automatic)         0.117272         0.040433   \n",
       "PaymentMethod_Electronic check               -0.114839         0.144626   \n",
       "PaymentMethod_Mailed check                   -0.085509        -0.247742   \n",
       "gender_Male                                  -0.009212        -0.008393   \n",
       "Partner_Yes                                   0.119999         0.124666   \n",
       "Dependents_Yes                                0.063268        -0.016558   \n",
       "InternetService_Fiber optic                  -0.020492         0.329349   \n",
       "InternetService_No                           -0.336298        -0.415552   \n",
       "OnlineSecurity_Yes                            0.354931         0.176207   \n",
       "OnlineBackup_Yes                              0.294233         0.282106   \n",
       "DeviceProtection_Yes                          0.333313         0.390874   \n",
       "TechSupport_Yes                               1.000000         0.278070   \n",
       "StreamingTV_Yes                               0.278070         1.000000   \n",
       "StreamingMovies_Yes                           0.279358         0.533094   \n",
       "MultipleLines_Yes                             0.100571         0.257152   \n",
       "\n",
       "                                       StreamingMovies_Yes  MultipleLines_Yes  \n",
       "MonthlyCharges                                    0.627429           0.490434  \n",
       "TotalCharges                                      0.519884           0.468705  \n",
       "SeniorCitizen                                     0.120176           0.142948  \n",
       "lifetime                                          0.286007           0.331833  \n",
       "target                                            0.061382           0.040102  \n",
       "Type_One year                                     0.064926          -0.003794  \n",
       "Type_Two year                                     0.073960           0.106253  \n",
       "PaymentMethod_Credit card (automatic)             0.048575           0.060048  \n",
       "PaymentMethod_Electronic check                    0.137966           0.083618  \n",
       "PaymentMethod_Mailed check                       -0.250595          -0.227206  \n",
       "gender_Male                                      -0.010487          -0.008414  \n",
       "Partner_Yes                                       0.117412           0.142057  \n",
       "Dependents_Yes                                   -0.039741          -0.024526  \n",
       "InternetService_Fiber optic                       0.322923           0.366083  \n",
       "InternetService_No                               -0.418675          -0.210564  \n",
       "OnlineSecurity_Yes                                0.187398           0.098108  \n",
       "OnlineBackup_Yes                                  0.274501           0.202237  \n",
       "DeviceProtection_Yes                              0.402111           0.201137  \n",
       "TechSupport_Yes                                   0.279358           0.100571  \n",
       "StreamingTV_Yes                                   0.533094           0.257152  \n",
       "StreamingMovies_Yes                               1.000000           0.258751  \n",
       "MultipleLines_Yes                                 0.258751           1.000000  \n",
       "\n",
       "[22 rows x 22 columns]"
      ]
     },
     "metadata": {},
     "output_type": "display_data"
    }
   ],
   "source": [
    "#проверка параметров на корреляцию\n",
    "data_corr = data_all.corr()\n",
    "display(data_corr)"
   ]
  },
  {
   "cell_type": "markdown",
   "id": "2b48736b",
   "metadata": {},
   "source": [
    "**Вывод:**\n",
    "\n",
    "Коэффициенты корреляции показывают насколько параметры зависят друг от друга. Если коэффициент корреляции между параметрами высокий (>0.8), при дальшейшем обучении это может привести к снижению точности модели или ее переобучению. В оставшихся у нас данных, таких высоких коэффициентов нет."
   ]
  },
  {
   "cell_type": "markdown",
   "id": "bf66076c",
   "metadata": {},
   "source": [
    "**Вывод**\n",
    "\n",
    "Данные почищены, заполнены пропуски, выделены признаки для будущего моделирования, также созданы новый признак и _target_."
   ]
  },
  {
   "cell_type": "markdown",
   "id": "4b36e005",
   "metadata": {},
   "source": [
    "## Разделение данных"
   ]
  },
  {
   "cell_type": "code",
   "execution_count": 21,
   "id": "3be24bf2",
   "metadata": {},
   "outputs": [],
   "source": [
    "#разделение данных на основную и тестовую выборки\n",
    "data_train, data_test = train_test_split(data_all, test_size=0.2, random_state=12345)\n",
    "\n",
    "features = data_train.drop(['target'], axis=1)\n",
    "target = data_train['target']"
   ]
  },
  {
   "cell_type": "code",
   "execution_count": 22,
   "id": "f5c86b0f",
   "metadata": {},
   "outputs": [
    {
     "name": "stdout",
     "output_type": "stream",
     "text": [
      "<class 'pandas.core.frame.DataFrame'>\n",
      "Int64Index: 5634 entries, 1580 to 4578\n",
      "Data columns (total 22 columns):\n",
      "MonthlyCharges                           5634 non-null float64\n",
      "TotalCharges                             5634 non-null float64\n",
      "SeniorCitizen                            5634 non-null int64\n",
      "lifetime                                 5634 non-null float64\n",
      "target                                   5634 non-null int32\n",
      "Type_One year                            5634 non-null uint8\n",
      "Type_Two year                            5634 non-null uint8\n",
      "PaymentMethod_Credit card (automatic)    5634 non-null uint8\n",
      "PaymentMethod_Electronic check           5634 non-null uint8\n",
      "PaymentMethod_Mailed check               5634 non-null uint8\n",
      "gender_Male                              5634 non-null uint8\n",
      "Partner_Yes                              5634 non-null uint8\n",
      "Dependents_Yes                           5634 non-null uint8\n",
      "InternetService_Fiber optic              5634 non-null uint8\n",
      "InternetService_No                       5634 non-null uint8\n",
      "OnlineSecurity_Yes                       5634 non-null uint8\n",
      "OnlineBackup_Yes                         5634 non-null uint8\n",
      "DeviceProtection_Yes                     5634 non-null uint8\n",
      "TechSupport_Yes                          5634 non-null uint8\n",
      "StreamingTV_Yes                          5634 non-null uint8\n",
      "StreamingMovies_Yes                      5634 non-null uint8\n",
      "MultipleLines_Yes                        5634 non-null uint8\n",
      "dtypes: float64(3), int32(1), int64(1), uint8(17)\n",
      "memory usage: 335.6 KB\n",
      "<class 'pandas.core.frame.DataFrame'>\n",
      "Int64Index: 1409 entries, 1128 to 3409\n",
      "Data columns (total 22 columns):\n",
      "MonthlyCharges                           1409 non-null float64\n",
      "TotalCharges                             1409 non-null float64\n",
      "SeniorCitizen                            1409 non-null int64\n",
      "lifetime                                 1409 non-null float64\n",
      "target                                   1409 non-null int32\n",
      "Type_One year                            1409 non-null uint8\n",
      "Type_Two year                            1409 non-null uint8\n",
      "PaymentMethod_Credit card (automatic)    1409 non-null uint8\n",
      "PaymentMethod_Electronic check           1409 non-null uint8\n",
      "PaymentMethod_Mailed check               1409 non-null uint8\n",
      "gender_Male                              1409 non-null uint8\n",
      "Partner_Yes                              1409 non-null uint8\n",
      "Dependents_Yes                           1409 non-null uint8\n",
      "InternetService_Fiber optic              1409 non-null uint8\n",
      "InternetService_No                       1409 non-null uint8\n",
      "OnlineSecurity_Yes                       1409 non-null uint8\n",
      "OnlineBackup_Yes                         1409 non-null uint8\n",
      "DeviceProtection_Yes                     1409 non-null uint8\n",
      "TechSupport_Yes                          1409 non-null uint8\n",
      "StreamingTV_Yes                          1409 non-null uint8\n",
      "StreamingMovies_Yes                      1409 non-null uint8\n",
      "MultipleLines_Yes                        1409 non-null uint8\n",
      "dtypes: float64(3), int32(1), int64(1), uint8(17)\n",
      "memory usage: 83.9 KB\n"
     ]
    }
   ],
   "source": [
    "data_train.info()\n",
    "data_test.info()"
   ]
  },
  {
   "cell_type": "code",
   "execution_count": 23,
   "id": "b2485dd0",
   "metadata": {},
   "outputs": [],
   "source": [
    "features_test = data_test.drop(['target'], axis=1)\n",
    "target_test = data_test['target']"
   ]
  },
  {
   "cell_type": "markdown",
   "id": "f81dc7bd",
   "metadata": {},
   "source": [
    "    Так как далее будет использована кросс-валидация, поэтому выделяем только тестовую выборку."
   ]
  },
  {
   "cell_type": "code",
   "execution_count": 24,
   "id": "26de1181",
   "metadata": {
    "scrolled": true
   },
   "outputs": [
    {
     "name": "stdout",
     "output_type": "stream",
     "text": [
      "(4225, 22)\n",
      "(1409, 22)\n"
     ]
    }
   ],
   "source": [
    "#разделение данных для градиентного бустинга\n",
    "data_train2, data_valid = train_test_split(data_train, test_size=0.25, random_state=12345)\n",
    "print(data_train2.shape)\n",
    "print(data_valid.shape)\n"
   ]
  },
  {
   "cell_type": "code",
   "execution_count": 25,
   "id": "3e72f5c2",
   "metadata": {},
   "outputs": [],
   "source": [
    "features_train = data_train2.drop(['target'], axis=1)\n",
    "target_train = data_train2['target']\n",
    "\n",
    "features_valid = data_valid.drop(['target'], axis=1)\n",
    "target_valid = data_valid['target']"
   ]
  },
  {
   "cell_type": "markdown",
   "id": "1987f879",
   "metadata": {},
   "source": [
    "**Вывод**\n",
    "\n",
    "Составлены выборки для дальнейшего моделирования. Также была создана тестовая выборка."
   ]
  },
  {
   "cell_type": "markdown",
   "id": "7f8086d5",
   "metadata": {},
   "source": [
    "## Борьба с дисбалансом"
   ]
  },
  {
   "cell_type": "code",
   "execution_count": 26,
   "id": "88ceb96b",
   "metadata": {
    "scrolled": false
   },
   "outputs": [
    {
     "name": "stdout",
     "output_type": "stream",
     "text": [
      "0    5174\n",
      "1    1869\n",
      "Name: target, dtype: int64\n"
     ]
    }
   ],
   "source": [
    "print(data_all['target'].value_counts())"
   ]
  },
  {
   "cell_type": "markdown",
   "id": "131dbb37",
   "metadata": {},
   "source": [
    "Дисбаланс присутствует, только 26,5% клиентов от выборки остались в компании. В данном случае имеет смысл провести увеличение выборки, чтобы положительных объектов стало больше. После этого модель должна лучше предсказывать положительные ответы, соответственно полнота модели должна увеличится."
   ]
  },
  {
   "cell_type": "code",
   "execution_count": 27,
   "id": "6bfeaa5d",
   "metadata": {},
   "outputs": [
    {
     "name": "stdout",
     "output_type": "stream",
     "text": [
      "(7124, 21)\n",
      "(7124,)\n"
     ]
    }
   ],
   "source": [
    "def upsample(features, target, repeat):\n",
    "    features_zeros = features[target == 0]\n",
    "    features_ones = features[target == 1]\n",
    "    target_zeros = target[target == 0]\n",
    "    target_ones = target[target == 1]\n",
    "\n",
    "    features_upsampled = pd.concat([features_zeros] + [features_ones] * repeat)\n",
    "    target_upsampled = pd.concat([target_zeros] + [target_ones] * repeat)\n",
    "    \n",
    "    features_upsampled, target_upsampled = shuffle(\n",
    "        features_upsampled, target_upsampled, random_state=12345)\n",
    "    \n",
    "    return features_upsampled, target_upsampled\n",
    "\n",
    "features_upsampled, target_upsampled = upsample(features, target, 2)\n",
    "\n",
    "print(features_upsampled.shape)\n",
    "print(target_upsampled.shape)"
   ]
  },
  {
   "cell_type": "markdown",
   "id": "f75452de",
   "metadata": {},
   "source": [
    "**Вывод**\n",
    "\n",
    "Дисбаланс для обучающей выборки устранен."
   ]
  },
  {
   "cell_type": "markdown",
   "id": "16b0cbe7",
   "metadata": {},
   "source": [
    "## Обучение моделей"
   ]
  },
  {
   "cell_type": "markdown",
   "id": "ce77eb50",
   "metadata": {},
   "source": [
    "Для обучения моделей используется метод кросс-валидации, как более надежный. Также, для сравнения, посмотрим градиентный бустинг LGBM."
   ]
  },
  {
   "cell_type": "code",
   "execution_count": 28,
   "id": "69b239c7",
   "metadata": {},
   "outputs": [
    {
     "name": "stdout",
     "output_type": "stream",
     "text": [
      "AUC-ROC: 0.9030916500014922\n"
     ]
    }
   ],
   "source": [
    "#модель решающего дерева\n",
    "model_tree = DecisionTreeClassifier(random_state=12345, max_depth=12) \n",
    "\n",
    "score_tree = cross_val_score(model_tree, \n",
    "                         features_upsampled, target_upsampled, \n",
    "                         cv=15,\n",
    "                       scoring='roc_auc')\n",
    "\n",
    "final_score_tree =  (abs(score_tree).sum())/len(score_tree)\n",
    "print('AUC-ROC:', final_score_tree)"
   ]
  },
  {
   "cell_type": "code",
   "execution_count": 29,
   "id": "e52df787",
   "metadata": {},
   "outputs": [
    {
     "name": "stdout",
     "output_type": "stream",
     "text": [
      "AUC-ROC: 0.9736314061537592\n"
     ]
    }
   ],
   "source": [
    "#модель случайного леса\n",
    "model_forest = RandomForestClassifier(random_state=12345, n_estimators=40, max_depth=19)\n",
    "\n",
    "scores_forest = cross_val_score(model_forest, \n",
    "                         features_upsampled, target_upsampled, \n",
    "                         cv=50, \n",
    "                         scoring='roc_auc')\n",
    "final_score_forest =  (abs(scores_forest).sum())/len(scores_forest)\n",
    "print('AUC-ROC:', final_score_forest)"
   ]
  },
  {
   "cell_type": "code",
   "execution_count": 30,
   "id": "d18b9d42",
   "metadata": {},
   "outputs": [
    {
     "name": "stdout",
     "output_type": "stream",
     "text": [
      "AUC-ROC: 0.8431011149036169\n"
     ]
    }
   ],
   "source": [
    "#логистическая регрессия\n",
    "model_logistic = LogisticRegression(random_state=12345, solver='liblinear')\n",
    "\n",
    "scores_logistic = cross_val_score(model_logistic, \n",
    "                         features_upsampled, target_upsampled, \n",
    "                         cv=5, \n",
    "                         scoring='roc_auc')\n",
    "final_score_logistic =  (abs(scores_logistic).sum())/len(scores_logistic)\n",
    "print('AUC-ROC:', final_score_logistic)"
   ]
  },
  {
   "cell_type": "code",
   "execution_count": 31,
   "id": "fce8c7e8",
   "metadata": {},
   "outputs": [
    {
     "name": "stdout",
     "output_type": "stream",
     "text": [
      "AUC-ROC: 0.873489677225513\n"
     ]
    }
   ],
   "source": [
    "#градиентный бустинг LGBM\n",
    "model_lgbm = LGBMRegressor(n_estimators=50, max_depth=30, learning_rate=0.2, boosting_type='gbdt')\n",
    "model_lgbm.fit(features_train, target_train)\n",
    "prediction_lgbm = model_lgbm.predict(features_valid)\n",
    "print('AUC-ROC:', roc_auc_score(target_valid, prediction_lgbm))"
   ]
  },
  {
   "cell_type": "code",
   "execution_count": 32,
   "id": "ca821dff",
   "metadata": {},
   "outputs": [
    {
     "data": {
      "image/png": "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\n",
      "text/plain": [
       "<Figure size 1152x1008 with 1 Axes>"
      ]
     },
     "metadata": {
      "needs_background": "light"
     },
     "output_type": "display_data"
    }
   ],
   "source": [
    "#посмотрим, какие параметры влияют на модель сильнее всего\n",
    "skl_iris_imp = pd.Series(model_lgbm.feature_importances_,\n",
    "                         data_all.drop(['target'], axis=1).columns)\n",
    "\n",
    "fig, ax = plt.subplots(figsize=(16,14))\n",
    "skl_iris_imp.plot.bar(ax=ax)\n",
    "ax.set_title(\"Важность признаков\")\n",
    "ax.set_ylabel('Важность')\n",
    "fig.tight_layout()"
   ]
  },
  {
   "cell_type": "markdown",
   "id": "c430bf19",
   "metadata": {},
   "source": [
    "Из графика выше явно видно какие показатели влияют на модель больше всего: _MonthlyCharges_, _TotalCharges_, _lifetime_."
   ]
  },
  {
   "cell_type": "markdown",
   "id": "25d701f1",
   "metadata": {},
   "source": [
    "**Вывод**\n",
    "\n",
    "Из всех используемых моделей лучший результат показала модель случайного леса (AUC-ROC: 0.97)."
   ]
  },
  {
   "cell_type": "markdown",
   "id": "3ece991e",
   "metadata": {},
   "source": [
    "## Тестирование фунции"
   ]
  },
  {
   "cell_type": "code",
   "execution_count": 33,
   "id": "bf2b436b",
   "metadata": {},
   "outputs": [
    {
     "name": "stdout",
     "output_type": "stream",
     "text": [
      "AUC-ROC: 0.8439353741496598\n"
     ]
    }
   ],
   "source": [
    "scores_forest_test = cross_val_score(model_forest, \n",
    "                         features_test, target_test, \n",
    "                         cv=50, \n",
    "                         scoring='roc_auc')\n",
    "final_score_forest_test =  (abs(scores_forest_test).sum())/len(scores_forest_test)\n",
    "print('AUC-ROC:', final_score_forest_test)"
   ]
  },
  {
   "cell_type": "markdown",
   "id": "e2bacf2e",
   "metadata": {},
   "source": [
    "**Вывод**\n",
    "\n",
    "Проверка на тестовой выборке не показывает такого же хорошего результата. Скорей всего, это связано с тем, что для обучающей выборки был устранен дисбаланс классов, а в тестовой выборке он остался. Очевидно, для модели решающего дерева будет похожая картина. Проверим на тестовой выборке модель градиентного бустинга."
   ]
  },
  {
   "cell_type": "code",
   "execution_count": 34,
   "id": "6ff33638",
   "metadata": {},
   "outputs": [
    {
     "name": "stdout",
     "output_type": "stream",
     "text": [
      "AUC-ROC: 0.8838076696467455\n"
     ]
    }
   ],
   "source": [
    "prediction_lgbm_test = model_lgbm.predict(features_test)\n",
    "print('AUC-ROC:', roc_auc_score(target_test, prediction_lgbm_test))"
   ]
  },
  {
   "cell_type": "markdown",
   "id": "87f53223",
   "metadata": {},
   "source": [
    "**Вывод**\n",
    "\n",
    "Модель градиентного бустинга на тестовой выборке дает необходимую точность. Следовательно, именно ее стоит использовать для дальнейшего прогноза."
   ]
  },
  {
   "cell_type": "markdown",
   "id": "327d06b3",
   "metadata": {},
   "source": [
    "## Вывод"
   ]
  },
  {
   "cell_type": "markdown",
   "id": "948eee04",
   "metadata": {},
   "source": [
    "По данной работе можно сделать следующие выводы:\n",
    "1. Была проведена предобработка данных: перевод в нужный тип, устранение пропусков.\n",
    "2. Для категориальных признаков использовано прямое кодирование (OHE)\n",
    "3. Были выделены, а также сформированы новые признаки для моделирования\n",
    "4. При моделировании на тестовой выборке самую высокую точность показала модель случайного леса, но на тестовой выборке точность выше у LGBM\n",
    "5. Как итог, рекомендуемая модель с самой высокой точностью - LGBM"
   ]
  },
  {
   "cell_type": "markdown",
   "id": "c6ac11b9",
   "metadata": {},
   "source": [
    "Ура!＼(￣▽￣)／"
   ]
  }
 ],
 "metadata": {
  "ExecuteTimeLog": [
   {
    "duration": 7108,
    "start_time": "2022-03-02T08:07:22.800Z"
   },
   {
    "duration": 1154,
    "start_time": "2022-03-02T08:07:29.910Z"
   },
   {
    "duration": 1590,
    "start_time": "2022-03-02T08:07:31.066Z"
   },
   {
    "duration": 1161,
    "start_time": "2022-03-02T08:07:32.658Z"
   },
   {
    "duration": 864,
    "start_time": "2022-03-02T08:07:33.821Z"
   },
   {
    "duration": 923,
    "start_time": "2022-03-02T08:07:34.687Z"
   },
   {
    "duration": 10,
    "start_time": "2022-03-02T08:07:35.612Z"
   },
   {
    "duration": 10,
    "start_time": "2022-03-02T08:07:35.625Z"
   },
   {
    "duration": 36,
    "start_time": "2022-03-02T08:07:35.637Z"
   },
   {
    "duration": 18,
    "start_time": "2022-03-02T08:07:35.675Z"
   },
   {
    "duration": 3,
    "start_time": "2022-03-02T08:07:35.695Z"
   },
   {
    "duration": 43,
    "start_time": "2022-03-02T08:08:46.269Z"
   },
   {
    "duration": 26,
    "start_time": "2022-03-02T08:08:48.547Z"
   },
   {
    "duration": 11,
    "start_time": "2022-03-02T08:08:49.013Z"
   },
   {
    "duration": 10,
    "start_time": "2022-03-02T08:08:49.209Z"
   },
   {
    "duration": 6,
    "start_time": "2022-03-02T08:08:49.454Z"
   },
   {
    "duration": 8,
    "start_time": "2022-03-02T08:08:50.552Z"
   },
   {
    "duration": 5,
    "start_time": "2022-03-02T08:08:50.906Z"
   },
   {
    "duration": 15,
    "start_time": "2022-03-02T08:08:51.105Z"
   },
   {
    "duration": 7,
    "start_time": "2022-03-02T08:08:51.862Z"
   },
   {
    "duration": 12,
    "start_time": "2022-03-02T08:08:52.050Z"
   },
   {
    "duration": 5,
    "start_time": "2022-03-02T08:08:52.239Z"
   },
   {
    "duration": 8,
    "start_time": "2022-03-02T08:08:53.368Z"
   },
   {
    "duration": 6,
    "start_time": "2022-03-02T08:08:53.565Z"
   },
   {
    "duration": 6,
    "start_time": "2022-03-02T08:08:54.543Z"
   },
   {
    "duration": 13,
    "start_time": "2022-03-02T08:08:55.211Z"
   },
   {
    "duration": 394,
    "start_time": "2022-03-02T08:08:57.534Z"
   },
   {
    "duration": 11989,
    "start_time": "2022-03-02T08:09:00.234Z"
   },
   {
    "duration": 520,
    "start_time": "2022-03-02T08:09:12.225Z"
   },
   {
    "duration": 799,
    "start_time": "2022-03-02T08:09:12.747Z"
   },
   {
    "duration": 3991,
    "start_time": "2022-03-02T08:09:13.549Z"
   },
   {
    "duration": 12,
    "start_time": "2022-03-02T08:09:17.542Z"
   },
   {
    "duration": 7211,
    "start_time": "2022-03-04T17:02:13.615Z"
   },
   {
    "duration": 1177,
    "start_time": "2022-03-04T17:02:20.828Z"
   },
   {
    "duration": 1544,
    "start_time": "2022-03-04T17:02:22.007Z"
   },
   {
    "duration": 1124,
    "start_time": "2022-03-04T17:02:23.553Z"
   },
   {
    "duration": 1186,
    "start_time": "2022-03-04T17:02:24.679Z"
   },
   {
    "duration": 1266,
    "start_time": "2022-03-04T17:02:25.867Z"
   },
   {
    "duration": 10,
    "start_time": "2022-03-04T17:02:27.135Z"
   },
   {
    "duration": 12,
    "start_time": "2022-03-04T17:02:27.147Z"
   },
   {
    "duration": 41,
    "start_time": "2022-03-04T17:02:27.163Z"
   },
   {
    "duration": 19,
    "start_time": "2022-03-04T17:02:27.206Z"
   },
   {
    "duration": 4,
    "start_time": "2022-03-04T17:02:27.227Z"
   },
   {
    "duration": 67,
    "start_time": "2022-03-04T17:02:27.232Z"
   },
   {
    "duration": 27,
    "start_time": "2022-03-04T17:02:27.301Z"
   },
   {
    "duration": 29,
    "start_time": "2022-03-04T17:02:27.330Z"
   },
   {
    "duration": 13,
    "start_time": "2022-03-04T17:02:27.361Z"
   },
   {
    "duration": 5,
    "start_time": "2022-03-04T17:02:27.376Z"
   },
   {
    "duration": 9,
    "start_time": "2022-03-04T17:02:27.383Z"
   },
   {
    "duration": 8,
    "start_time": "2022-03-04T17:02:27.394Z"
   },
   {
    "duration": 61,
    "start_time": "2022-03-04T17:02:27.404Z"
   },
   {
    "duration": 8,
    "start_time": "2022-03-04T17:02:27.467Z"
   },
   {
    "duration": 13,
    "start_time": "2022-03-04T17:02:27.477Z"
   },
   {
    "duration": 4,
    "start_time": "2022-03-04T17:02:27.492Z"
   },
   {
    "duration": 10,
    "start_time": "2022-03-04T17:02:27.498Z"
   },
   {
    "duration": 6,
    "start_time": "2022-03-04T17:02:27.510Z"
   },
   {
    "duration": 43,
    "start_time": "2022-03-04T17:02:27.517Z"
   },
   {
    "duration": 15,
    "start_time": "2022-03-04T17:02:27.562Z"
   },
   {
    "duration": 457,
    "start_time": "2022-03-04T17:02:27.581Z"
   },
   {
    "duration": 12530,
    "start_time": "2022-03-04T17:02:28.041Z"
   },
   {
    "duration": 885,
    "start_time": "2022-03-04T17:02:40.573Z"
   },
   {
    "duration": 710,
    "start_time": "2022-03-04T17:02:41.461Z"
   },
   {
    "duration": 4068,
    "start_time": "2022-03-04T17:02:42.173Z"
   },
   {
    "duration": 20,
    "start_time": "2022-03-04T17:02:46.243Z"
   },
   {
    "duration": 34,
    "start_time": "2022-03-04T17:38:32.039Z"
   },
   {
    "duration": 331,
    "start_time": "2022-03-04T17:56:40.720Z"
   },
   {
    "duration": 288,
    "start_time": "2022-03-04T17:57:57.565Z"
   },
   {
    "duration": 255,
    "start_time": "2022-03-04T17:58:04.301Z"
   },
   {
    "duration": 278,
    "start_time": "2022-03-04T17:58:27.125Z"
   },
   {
    "duration": 5823,
    "start_time": "2022-03-04T17:58:33.569Z"
   },
   {
    "duration": 11,
    "start_time": "2022-03-04T17:59:09.679Z"
   },
   {
    "duration": 19,
    "start_time": "2022-03-04T18:10:21.860Z"
   },
   {
    "duration": 167,
    "start_time": "2022-03-04T18:10:44.494Z"
   },
   {
    "duration": 21,
    "start_time": "2022-03-04T18:15:11.750Z"
   },
   {
    "duration": 36,
    "start_time": "2022-03-04T18:15:22.640Z"
   },
   {
    "duration": 34,
    "start_time": "2022-03-04T18:16:13.151Z"
   },
   {
    "duration": 75,
    "start_time": "2022-03-04T18:23:51.359Z"
   },
   {
    "duration": 34,
    "start_time": "2022-03-04T18:24:10.345Z"
   },
   {
    "duration": 7192,
    "start_time": "2022-03-04T19:00:56.267Z"
   },
   {
    "duration": 1140,
    "start_time": "2022-03-04T19:01:03.461Z"
   },
   {
    "duration": 1699,
    "start_time": "2022-03-04T19:01:04.605Z"
   },
   {
    "duration": 1178,
    "start_time": "2022-03-04T19:01:06.306Z"
   },
   {
    "duration": 1138,
    "start_time": "2022-03-04T19:01:07.486Z"
   },
   {
    "duration": 935,
    "start_time": "2022-03-04T19:01:08.626Z"
   },
   {
    "duration": 8,
    "start_time": "2022-03-04T19:01:09.563Z"
   },
   {
    "duration": 8,
    "start_time": "2022-03-04T19:01:09.574Z"
   },
   {
    "duration": 40,
    "start_time": "2022-03-04T19:01:09.584Z"
   },
   {
    "duration": 34,
    "start_time": "2022-03-04T19:01:09.626Z"
   },
   {
    "duration": 4,
    "start_time": "2022-03-04T19:01:09.661Z"
   },
   {
    "duration": 45,
    "start_time": "2022-03-04T19:01:09.666Z"
   },
   {
    "duration": 48,
    "start_time": "2022-03-04T19:01:09.713Z"
   },
   {
    "duration": 10,
    "start_time": "2022-03-04T19:01:09.762Z"
   },
   {
    "duration": 11,
    "start_time": "2022-03-04T19:01:09.773Z"
   },
   {
    "duration": 4,
    "start_time": "2022-03-04T19:01:09.785Z"
   },
   {
    "duration": 8,
    "start_time": "2022-03-04T19:01:09.791Z"
   },
   {
    "duration": 6,
    "start_time": "2022-03-04T19:01:09.801Z"
   },
   {
    "duration": 51,
    "start_time": "2022-03-04T19:01:09.808Z"
   },
   {
    "duration": 31,
    "start_time": "2022-03-04T19:01:09.861Z"
   },
   {
    "duration": 6,
    "start_time": "2022-03-04T19:01:09.894Z"
   },
   {
    "duration": 14,
    "start_time": "2022-03-04T19:01:09.902Z"
   },
   {
    "duration": 4,
    "start_time": "2022-03-04T19:01:09.917Z"
   },
   {
    "duration": 7,
    "start_time": "2022-03-04T19:01:09.923Z"
   },
   {
    "duration": 5,
    "start_time": "2022-03-04T19:01:09.960Z"
   },
   {
    "duration": 6,
    "start_time": "2022-03-04T19:01:09.968Z"
   },
   {
    "duration": 17,
    "start_time": "2022-03-04T19:01:09.976Z"
   },
   {
    "duration": 457,
    "start_time": "2022-03-04T19:01:09.995Z"
   },
   {
    "duration": 12399,
    "start_time": "2022-03-04T19:01:10.454Z"
   },
   {
    "duration": 825,
    "start_time": "2022-03-04T19:01:22.855Z"
   },
   {
    "duration": 878,
    "start_time": "2022-03-04T19:01:23.683Z"
   },
   {
    "duration": 4092,
    "start_time": "2022-03-04T19:01:24.563Z"
   },
   {
    "duration": 16,
    "start_time": "2022-03-04T19:01:28.657Z"
   },
   {
    "duration": 678,
    "start_time": "2022-03-04T20:04:10.694Z"
   },
   {
    "duration": 7175,
    "start_time": "2022-03-04T20:35:07.275Z"
   },
   {
    "duration": 1185,
    "start_time": "2022-03-04T20:35:14.452Z"
   },
   {
    "duration": 1606,
    "start_time": "2022-03-04T20:35:15.639Z"
   },
   {
    "duration": 1294,
    "start_time": "2022-03-04T20:35:17.248Z"
   },
   {
    "duration": 1682,
    "start_time": "2022-03-04T20:35:18.544Z"
   },
   {
    "duration": 973,
    "start_time": "2022-03-04T20:35:20.228Z"
   },
   {
    "duration": 9,
    "start_time": "2022-03-04T20:35:21.202Z"
   },
   {
    "duration": 10,
    "start_time": "2022-03-04T20:35:21.214Z"
   },
   {
    "duration": 40,
    "start_time": "2022-03-04T20:35:21.226Z"
   },
   {
    "duration": 19,
    "start_time": "2022-03-04T20:35:21.268Z"
   },
   {
    "duration": 4,
    "start_time": "2022-03-04T20:35:21.289Z"
   },
   {
    "duration": 65,
    "start_time": "2022-03-04T20:35:21.294Z"
   },
   {
    "duration": 29,
    "start_time": "2022-03-04T20:35:21.361Z"
   },
   {
    "duration": 11,
    "start_time": "2022-03-04T20:35:21.391Z"
   },
   {
    "duration": 11,
    "start_time": "2022-03-04T20:35:21.403Z"
   },
   {
    "duration": 4,
    "start_time": "2022-03-04T20:35:21.416Z"
   },
   {
    "duration": 38,
    "start_time": "2022-03-04T20:35:21.422Z"
   },
   {
    "duration": 7,
    "start_time": "2022-03-04T20:35:21.461Z"
   },
   {
    "duration": 18,
    "start_time": "2022-03-04T20:35:21.470Z"
   },
   {
    "duration": 35,
    "start_time": "2022-03-04T20:35:21.489Z"
   },
   {
    "duration": 2,
    "start_time": "2022-03-04T20:35:21.525Z"
   },
   {
    "duration": 35,
    "start_time": "2022-03-04T20:35:21.529Z"
   },
   {
    "duration": 12,
    "start_time": "2022-03-04T20:35:21.567Z"
   },
   {
    "duration": 3,
    "start_time": "2022-03-04T20:35:21.581Z"
   },
   {
    "duration": 8,
    "start_time": "2022-03-04T20:35:21.586Z"
   },
   {
    "duration": 5,
    "start_time": "2022-03-04T20:35:21.595Z"
   },
   {
    "duration": 9,
    "start_time": "2022-03-04T20:35:21.602Z"
   },
   {
    "duration": 46,
    "start_time": "2022-03-04T20:35:21.613Z"
   },
   {
    "duration": 447,
    "start_time": "2022-03-04T20:35:21.661Z"
   },
   {
    "duration": 12643,
    "start_time": "2022-03-04T20:35:22.110Z"
   },
   {
    "duration": 836,
    "start_time": "2022-03-04T20:35:34.754Z"
   },
   {
    "duration": 1010,
    "start_time": "2022-03-04T20:35:35.660Z"
   },
   {
    "duration": 735,
    "start_time": "2022-03-04T20:35:36.672Z"
   },
   {
    "duration": 3994,
    "start_time": "2022-03-04T20:35:37.409Z"
   },
   {
    "duration": 12,
    "start_time": "2022-03-04T20:35:41.405Z"
   }
  ],
  "kernelspec": {
   "display_name": "Python 3 (ipykernel)",
   "language": "python",
   "name": "python3"
  },
  "language_info": {
   "codemirror_mode": {
    "name": "ipython",
    "version": 3
   },
   "file_extension": ".py",
   "mimetype": "text/x-python",
   "name": "python",
   "nbconvert_exporter": "python",
   "pygments_lexer": "ipython3",
   "version": "3.7.8"
  },
  "toc": {
   "base_numbering": 1,
   "nav_menu": {},
   "number_sections": true,
   "sideBar": true,
   "skip_h1_title": true,
   "title_cell": "Содержание",
   "title_sidebar": "Contents",
   "toc_cell": true,
   "toc_position": {},
   "toc_section_display": true,
   "toc_window_display": true
  }
 },
 "nbformat": 4,
 "nbformat_minor": 5
}
