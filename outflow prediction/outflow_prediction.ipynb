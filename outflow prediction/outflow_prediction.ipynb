{
 "cells": [
  {
   "cell_type": "markdown",
   "id": "1ac4bfd6",
   "metadata": {},
   "source": [
    "# Проект: предсказание оттока клиентов"
   ]
  },
  {
   "cell_type": "markdown",
   "id": "f691c970",
   "metadata": {
    "toc": true
   },
   "source": [
    "<h1>Содержание<span class=\"tocSkip\"></span></h1>\n",
    "<div class=\"toc\"><ul class=\"toc-item\"><li><span><a href=\"#Подготовка-данных\" data-toc-modified-id=\"Подготовка-данных-1\"><span class=\"toc-item-num\">1&nbsp;&nbsp;</span>Подготовка данных</a></span></li><li><span><a href=\"#Создание-дополнительных-переменных\" data-toc-modified-id=\"Создание-дополнительных-переменных-2\"><span class=\"toc-item-num\">2&nbsp;&nbsp;</span>Создание дополнительных переменных</a></span></li><li><span><a href=\"#Разделение-данных\" data-toc-modified-id=\"Разделение-данных-3\"><span class=\"toc-item-num\">3&nbsp;&nbsp;</span>Разделение данных</a></span></li><li><span><a href=\"#Борьба-с-дисбалансом\" data-toc-modified-id=\"Борьба-с-дисбалансом-4\"><span class=\"toc-item-num\">4&nbsp;&nbsp;</span>Борьба с дисбалансом</a></span></li><li><span><a href=\"#Обучение-моделей\" data-toc-modified-id=\"Обучение-моделей-5\"><span class=\"toc-item-num\">5&nbsp;&nbsp;</span>Обучение моделей</a></span></li><li><span><a href=\"#Тестирование-фунции\" data-toc-modified-id=\"Тестирование-фунции-6\"><span class=\"toc-item-num\">6&nbsp;&nbsp;</span>Тестирование фунции</a></span></li><li><span><a href=\"#Вывод\" data-toc-modified-id=\"Вывод-7\"><span class=\"toc-item-num\">7&nbsp;&nbsp;</span>Вывод</a></span></li></ul></div>"
   ]
  },
  {
   "cell_type": "markdown",
   "id": "e6a76de6",
   "metadata": {},
   "source": [
    "# Описание проекта"
   ]
  },
  {
   "cell_type": "markdown",
   "id": "3293600e",
   "metadata": {},
   "source": [
    "    Заказчик хочет научиться прогнозировать отток клиентов. Если выяснится, что пользователь планирует уйти, ему будут предложены промокоды и специальные условия. Команда оператора собрала персональные данные о некоторых клиентах, информацию об их тарифах и договорах.\n",
    "    \n",
    "    Постановка задачи: разработка модели, которая на базе представленных данных, способная спрогнозировать возможный отток с точностью 0.75 < AUC-ROC ≤ 0.88"
   ]
  },
  {
   "cell_type": "markdown",
   "id": "bccc212c",
   "metadata": {},
   "source": [
    "## Подготовка данных"
   ]
  },
  {
   "cell_type": "code",
   "execution_count": 2,
   "id": "83628c7a",
   "metadata": {},
   "outputs": [],
   "source": [
    "#используемые библиотеки\n",
    "import pandas as pd\n",
    "import numpy as np\n",
    "import matplotlib.pyplot as plt\n",
    "\n",
    "\n",
    "from sklearn.model_selection import train_test_split\n",
    "from sklearn.utils import shuffle\n",
    "from sklearn.model_selection import cross_val_score\n",
    "from sklearn.tree import DecisionTreeClassifier\n",
    "from sklearn.ensemble import RandomForestClassifier\n",
    "from sklearn.linear_model import LogisticRegression\n",
    "from sklearn.metrics import roc_auc_score\n",
    "from lightgbm import LGBMRegressor\n",
    "from sklearn import datasets\n",
    "\n",
    "import warnings\n",
    "warnings.filterwarnings(\"ignore\")"
   ]
  },
  {
   "cell_type": "code",
   "execution_count": 3,
   "id": "7cd4da30",
   "metadata": {},
   "outputs": [
    {
     "data": {
      "text/html": [
       "<div>\n",
       "<style scoped>\n",
       "    .dataframe tbody tr th:only-of-type {\n",
       "        vertical-align: middle;\n",
       "    }\n",
       "\n",
       "    .dataframe tbody tr th {\n",
       "        vertical-align: top;\n",
       "    }\n",
       "\n",
       "    .dataframe thead th {\n",
       "        text-align: right;\n",
       "    }\n",
       "</style>\n",
       "<table border=\"1\" class=\"dataframe\">\n",
       "  <thead>\n",
       "    <tr style=\"text-align: right;\">\n",
       "      <th></th>\n",
       "      <th>customerID</th>\n",
       "      <th>BeginDate</th>\n",
       "      <th>EndDate</th>\n",
       "      <th>Type</th>\n",
       "      <th>PaperlessBilling</th>\n",
       "      <th>PaymentMethod</th>\n",
       "      <th>MonthlyCharges</th>\n",
       "      <th>TotalCharges</th>\n",
       "    </tr>\n",
       "  </thead>\n",
       "  <tbody>\n",
       "    <tr>\n",
       "      <td>0</td>\n",
       "      <td>7590-VHVEG</td>\n",
       "      <td>2020-01-01</td>\n",
       "      <td>No</td>\n",
       "      <td>Month-to-month</td>\n",
       "      <td>Yes</td>\n",
       "      <td>Electronic check</td>\n",
       "      <td>29.85</td>\n",
       "      <td>29.85</td>\n",
       "    </tr>\n",
       "    <tr>\n",
       "      <td>1</td>\n",
       "      <td>5575-GNVDE</td>\n",
       "      <td>2017-04-01</td>\n",
       "      <td>No</td>\n",
       "      <td>One year</td>\n",
       "      <td>No</td>\n",
       "      <td>Mailed check</td>\n",
       "      <td>56.95</td>\n",
       "      <td>1889.50</td>\n",
       "    </tr>\n",
       "    <tr>\n",
       "      <td>2</td>\n",
       "      <td>3668-QPYBK</td>\n",
       "      <td>2019-10-01</td>\n",
       "      <td>2019-12-01 00:00:00</td>\n",
       "      <td>Month-to-month</td>\n",
       "      <td>Yes</td>\n",
       "      <td>Mailed check</td>\n",
       "      <td>53.85</td>\n",
       "      <td>108.15</td>\n",
       "    </tr>\n",
       "    <tr>\n",
       "      <td>3</td>\n",
       "      <td>7795-CFOCW</td>\n",
       "      <td>2016-05-01</td>\n",
       "      <td>No</td>\n",
       "      <td>One year</td>\n",
       "      <td>No</td>\n",
       "      <td>Bank transfer (automatic)</td>\n",
       "      <td>42.30</td>\n",
       "      <td>1840.75</td>\n",
       "    </tr>\n",
       "    <tr>\n",
       "      <td>4</td>\n",
       "      <td>9237-HQITU</td>\n",
       "      <td>2019-09-01</td>\n",
       "      <td>2019-11-01 00:00:00</td>\n",
       "      <td>Month-to-month</td>\n",
       "      <td>Yes</td>\n",
       "      <td>Electronic check</td>\n",
       "      <td>70.70</td>\n",
       "      <td>151.65</td>\n",
       "    </tr>\n",
       "    <tr>\n",
       "      <td>...</td>\n",
       "      <td>...</td>\n",
       "      <td>...</td>\n",
       "      <td>...</td>\n",
       "      <td>...</td>\n",
       "      <td>...</td>\n",
       "      <td>...</td>\n",
       "      <td>...</td>\n",
       "      <td>...</td>\n",
       "    </tr>\n",
       "    <tr>\n",
       "      <td>7038</td>\n",
       "      <td>6840-RESVB</td>\n",
       "      <td>2018-02-01</td>\n",
       "      <td>No</td>\n",
       "      <td>One year</td>\n",
       "      <td>Yes</td>\n",
       "      <td>Mailed check</td>\n",
       "      <td>84.80</td>\n",
       "      <td>1990.50</td>\n",
       "    </tr>\n",
       "    <tr>\n",
       "      <td>7039</td>\n",
       "      <td>2234-XADUH</td>\n",
       "      <td>2014-02-01</td>\n",
       "      <td>No</td>\n",
       "      <td>One year</td>\n",
       "      <td>Yes</td>\n",
       "      <td>Credit card (automatic)</td>\n",
       "      <td>103.20</td>\n",
       "      <td>7362.90</td>\n",
       "    </tr>\n",
       "    <tr>\n",
       "      <td>7040</td>\n",
       "      <td>4801-JZAZL</td>\n",
       "      <td>2019-03-01</td>\n",
       "      <td>No</td>\n",
       "      <td>Month-to-month</td>\n",
       "      <td>Yes</td>\n",
       "      <td>Electronic check</td>\n",
       "      <td>29.60</td>\n",
       "      <td>346.45</td>\n",
       "    </tr>\n",
       "    <tr>\n",
       "      <td>7041</td>\n",
       "      <td>8361-LTMKD</td>\n",
       "      <td>2019-07-01</td>\n",
       "      <td>2019-11-01 00:00:00</td>\n",
       "      <td>Month-to-month</td>\n",
       "      <td>Yes</td>\n",
       "      <td>Mailed check</td>\n",
       "      <td>74.40</td>\n",
       "      <td>306.60</td>\n",
       "    </tr>\n",
       "    <tr>\n",
       "      <td>7042</td>\n",
       "      <td>3186-AJIEK</td>\n",
       "      <td>2014-08-01</td>\n",
       "      <td>No</td>\n",
       "      <td>Two year</td>\n",
       "      <td>Yes</td>\n",
       "      <td>Bank transfer (automatic)</td>\n",
       "      <td>105.65</td>\n",
       "      <td>6844.50</td>\n",
       "    </tr>\n",
       "  </tbody>\n",
       "</table>\n",
       "<p>7043 rows × 8 columns</p>\n",
       "</div>"
      ],
      "text/plain": [
       "      customerID   BeginDate              EndDate            Type  \\\n",
       "0     7590-VHVEG  2020-01-01                   No  Month-to-month   \n",
       "1     5575-GNVDE  2017-04-01                   No        One year   \n",
       "2     3668-QPYBK  2019-10-01  2019-12-01 00:00:00  Month-to-month   \n",
       "3     7795-CFOCW  2016-05-01                   No        One year   \n",
       "4     9237-HQITU  2019-09-01  2019-11-01 00:00:00  Month-to-month   \n",
       "...          ...         ...                  ...             ...   \n",
       "7038  6840-RESVB  2018-02-01                   No        One year   \n",
       "7039  2234-XADUH  2014-02-01                   No        One year   \n",
       "7040  4801-JZAZL  2019-03-01                   No  Month-to-month   \n",
       "7041  8361-LTMKD  2019-07-01  2019-11-01 00:00:00  Month-to-month   \n",
       "7042  3186-AJIEK  2014-08-01                   No        Two year   \n",
       "\n",
       "     PaperlessBilling              PaymentMethod  MonthlyCharges  TotalCharges  \n",
       "0                 Yes           Electronic check           29.85         29.85  \n",
       "1                  No               Mailed check           56.95       1889.50  \n",
       "2                 Yes               Mailed check           53.85        108.15  \n",
       "3                  No  Bank transfer (automatic)           42.30       1840.75  \n",
       "4                 Yes           Electronic check           70.70        151.65  \n",
       "...               ...                        ...             ...           ...  \n",
       "7038              Yes               Mailed check           84.80       1990.50  \n",
       "7039              Yes    Credit card (automatic)          103.20       7362.90  \n",
       "7040              Yes           Electronic check           29.60        346.45  \n",
       "7041              Yes               Mailed check           74.40        306.60  \n",
       "7042              Yes  Bank transfer (automatic)          105.65       6844.50  \n",
       "\n",
       "[7043 rows x 8 columns]"
      ]
     },
     "execution_count": 3,
     "metadata": {},
     "output_type": "execute_result"
    }
   ],
   "source": [
    "from io import BytesIO\n",
    "import requests\n",
    "spreadsheet_id = 'имя файла'\n",
    "file_name = 'https://docs.google.com/spreadsheets/d/{}/export?format=csv'.format(spreadsheet_id)\n",
    "r = requests.get(file_name)\n",
    "contact = pd.read_csv(BytesIO(r.content))\n",
    "contact"
   ]
  },
  {
   "cell_type": "markdown",
   "id": "e7836df2",
   "metadata": {},
   "source": [
    "Загружен фаил _contact_ с информацией о договорах клиентов с заказчиком."
   ]
  },
  {
   "cell_type": "code",
   "execution_count": 4,
   "id": "69bb22fc",
   "metadata": {
    "scrolled": true
   },
   "outputs": [
    {
     "data": {
      "text/html": [
       "<div>\n",
       "<style scoped>\n",
       "    .dataframe tbody tr th:only-of-type {\n",
       "        vertical-align: middle;\n",
       "    }\n",
       "\n",
       "    .dataframe tbody tr th {\n",
       "        vertical-align: top;\n",
       "    }\n",
       "\n",
       "    .dataframe thead th {\n",
       "        text-align: right;\n",
       "    }\n",
       "</style>\n",
       "<table border=\"1\" class=\"dataframe\">\n",
       "  <thead>\n",
       "    <tr style=\"text-align: right;\">\n",
       "      <th></th>\n",
       "      <th>customerID</th>\n",
       "      <th>InternetService</th>\n",
       "      <th>OnlineSecurity</th>\n",
       "      <th>OnlineBackup</th>\n",
       "      <th>DeviceProtection</th>\n",
       "      <th>TechSupport</th>\n",
       "      <th>StreamingTV</th>\n",
       "      <th>StreamingMovies</th>\n",
       "    </tr>\n",
       "  </thead>\n",
       "  <tbody>\n",
       "    <tr>\n",
       "      <td>0</td>\n",
       "      <td>7590-VHVEG</td>\n",
       "      <td>DSL</td>\n",
       "      <td>No</td>\n",
       "      <td>Yes</td>\n",
       "      <td>No</td>\n",
       "      <td>No</td>\n",
       "      <td>No</td>\n",
       "      <td>No</td>\n",
       "    </tr>\n",
       "    <tr>\n",
       "      <td>1</td>\n",
       "      <td>5575-GNVDE</td>\n",
       "      <td>DSL</td>\n",
       "      <td>Yes</td>\n",
       "      <td>No</td>\n",
       "      <td>Yes</td>\n",
       "      <td>No</td>\n",
       "      <td>No</td>\n",
       "      <td>No</td>\n",
       "    </tr>\n",
       "    <tr>\n",
       "      <td>2</td>\n",
       "      <td>3668-QPYBK</td>\n",
       "      <td>DSL</td>\n",
       "      <td>Yes</td>\n",
       "      <td>Yes</td>\n",
       "      <td>No</td>\n",
       "      <td>No</td>\n",
       "      <td>No</td>\n",
       "      <td>No</td>\n",
       "    </tr>\n",
       "    <tr>\n",
       "      <td>3</td>\n",
       "      <td>7795-CFOCW</td>\n",
       "      <td>DSL</td>\n",
       "      <td>Yes</td>\n",
       "      <td>No</td>\n",
       "      <td>Yes</td>\n",
       "      <td>Yes</td>\n",
       "      <td>No</td>\n",
       "      <td>No</td>\n",
       "    </tr>\n",
       "    <tr>\n",
       "      <td>4</td>\n",
       "      <td>9237-HQITU</td>\n",
       "      <td>Fiber optic</td>\n",
       "      <td>No</td>\n",
       "      <td>No</td>\n",
       "      <td>No</td>\n",
       "      <td>No</td>\n",
       "      <td>No</td>\n",
       "      <td>No</td>\n",
       "    </tr>\n",
       "    <tr>\n",
       "      <td>...</td>\n",
       "      <td>...</td>\n",
       "      <td>...</td>\n",
       "      <td>...</td>\n",
       "      <td>...</td>\n",
       "      <td>...</td>\n",
       "      <td>...</td>\n",
       "      <td>...</td>\n",
       "      <td>...</td>\n",
       "    </tr>\n",
       "    <tr>\n",
       "      <td>5512</td>\n",
       "      <td>6840-RESVB</td>\n",
       "      <td>DSL</td>\n",
       "      <td>Yes</td>\n",
       "      <td>No</td>\n",
       "      <td>Yes</td>\n",
       "      <td>Yes</td>\n",
       "      <td>Yes</td>\n",
       "      <td>Yes</td>\n",
       "    </tr>\n",
       "    <tr>\n",
       "      <td>5513</td>\n",
       "      <td>2234-XADUH</td>\n",
       "      <td>Fiber optic</td>\n",
       "      <td>No</td>\n",
       "      <td>Yes</td>\n",
       "      <td>Yes</td>\n",
       "      <td>No</td>\n",
       "      <td>Yes</td>\n",
       "      <td>Yes</td>\n",
       "    </tr>\n",
       "    <tr>\n",
       "      <td>5514</td>\n",
       "      <td>4801-JZAZL</td>\n",
       "      <td>DSL</td>\n",
       "      <td>Yes</td>\n",
       "      <td>No</td>\n",
       "      <td>No</td>\n",
       "      <td>No</td>\n",
       "      <td>No</td>\n",
       "      <td>No</td>\n",
       "    </tr>\n",
       "    <tr>\n",
       "      <td>5515</td>\n",
       "      <td>8361-LTMKD</td>\n",
       "      <td>Fiber optic</td>\n",
       "      <td>No</td>\n",
       "      <td>No</td>\n",
       "      <td>No</td>\n",
       "      <td>No</td>\n",
       "      <td>No</td>\n",
       "      <td>No</td>\n",
       "    </tr>\n",
       "    <tr>\n",
       "      <td>5516</td>\n",
       "      <td>3186-AJIEK</td>\n",
       "      <td>Fiber optic</td>\n",
       "      <td>Yes</td>\n",
       "      <td>No</td>\n",
       "      <td>Yes</td>\n",
       "      <td>Yes</td>\n",
       "      <td>Yes</td>\n",
       "      <td>Yes</td>\n",
       "    </tr>\n",
       "  </tbody>\n",
       "</table>\n",
       "<p>5517 rows × 8 columns</p>\n",
       "</div>"
      ],
      "text/plain": [
       "      customerID InternetService OnlineSecurity OnlineBackup DeviceProtection  \\\n",
       "0     7590-VHVEG             DSL             No          Yes               No   \n",
       "1     5575-GNVDE             DSL            Yes           No              Yes   \n",
       "2     3668-QPYBK             DSL            Yes          Yes               No   \n",
       "3     7795-CFOCW             DSL            Yes           No              Yes   \n",
       "4     9237-HQITU     Fiber optic             No           No               No   \n",
       "...          ...             ...            ...          ...              ...   \n",
       "5512  6840-RESVB             DSL            Yes           No              Yes   \n",
       "5513  2234-XADUH     Fiber optic             No          Yes              Yes   \n",
       "5514  4801-JZAZL             DSL            Yes           No               No   \n",
       "5515  8361-LTMKD     Fiber optic             No           No               No   \n",
       "5516  3186-AJIEK     Fiber optic            Yes           No              Yes   \n",
       "\n",
       "     TechSupport StreamingTV StreamingMovies  \n",
       "0             No          No              No  \n",
       "1             No          No              No  \n",
       "2             No          No              No  \n",
       "3            Yes          No              No  \n",
       "4             No          No              No  \n",
       "...          ...         ...             ...  \n",
       "5512         Yes         Yes             Yes  \n",
       "5513          No         Yes             Yes  \n",
       "5514          No          No              No  \n",
       "5515          No          No              No  \n",
       "5516         Yes         Yes             Yes  \n",
       "\n",
       "[5517 rows x 8 columns]"
      ]
     },
     "execution_count": 4,
     "metadata": {},
     "output_type": "execute_result"
    }
   ],
   "source": [
    "from io import BytesIO\n",
    "import requests\n",
    "spreadsheet_id = 'имя файла'\n",
    "file_name = 'https://docs.google.com/spreadsheets/d/{}/export?format=csv'.format(spreadsheet_id)\n",
    "r = requests.get(file_name)\n",
    "internet = pd.read_csv(BytesIO(r.content))\n",
    "internet"
   ]
  },
  {
   "cell_type": "markdown",
   "id": "c82f1c0a",
   "metadata": {},
   "source": [
    "Загружен фаил _internet_ с информацией об услугах, которыми пользуются клиенты."
   ]
  },
  {
   "cell_type": "code",
   "execution_count": 5,
   "id": "3900f472",
   "metadata": {
    "scrolled": true
   },
   "outputs": [
    {
     "data": {
      "text/html": [
       "<div>\n",
       "<style scoped>\n",
       "    .dataframe tbody tr th:only-of-type {\n",
       "        vertical-align: middle;\n",
       "    }\n",
       "\n",
       "    .dataframe tbody tr th {\n",
       "        vertical-align: top;\n",
       "    }\n",
       "\n",
       "    .dataframe thead th {\n",
       "        text-align: right;\n",
       "    }\n",
       "</style>\n",
       "<table border=\"1\" class=\"dataframe\">\n",
       "  <thead>\n",
       "    <tr style=\"text-align: right;\">\n",
       "      <th></th>\n",
       "      <th>customerID</th>\n",
       "      <th>gender</th>\n",
       "      <th>SeniorCitizen</th>\n",
       "      <th>Partner</th>\n",
       "      <th>Dependents</th>\n",
       "    </tr>\n",
       "  </thead>\n",
       "  <tbody>\n",
       "    <tr>\n",
       "      <td>0</td>\n",
       "      <td>7590-VHVEG</td>\n",
       "      <td>Female</td>\n",
       "      <td>0</td>\n",
       "      <td>Yes</td>\n",
       "      <td>No</td>\n",
       "    </tr>\n",
       "    <tr>\n",
       "      <td>1</td>\n",
       "      <td>5575-GNVDE</td>\n",
       "      <td>Male</td>\n",
       "      <td>0</td>\n",
       "      <td>No</td>\n",
       "      <td>No</td>\n",
       "    </tr>\n",
       "    <tr>\n",
       "      <td>2</td>\n",
       "      <td>3668-QPYBK</td>\n",
       "      <td>Male</td>\n",
       "      <td>0</td>\n",
       "      <td>No</td>\n",
       "      <td>No</td>\n",
       "    </tr>\n",
       "    <tr>\n",
       "      <td>3</td>\n",
       "      <td>7795-CFOCW</td>\n",
       "      <td>Male</td>\n",
       "      <td>0</td>\n",
       "      <td>No</td>\n",
       "      <td>No</td>\n",
       "    </tr>\n",
       "    <tr>\n",
       "      <td>4</td>\n",
       "      <td>9237-HQITU</td>\n",
       "      <td>Female</td>\n",
       "      <td>0</td>\n",
       "      <td>No</td>\n",
       "      <td>No</td>\n",
       "    </tr>\n",
       "    <tr>\n",
       "      <td>...</td>\n",
       "      <td>...</td>\n",
       "      <td>...</td>\n",
       "      <td>...</td>\n",
       "      <td>...</td>\n",
       "      <td>...</td>\n",
       "    </tr>\n",
       "    <tr>\n",
       "      <td>7038</td>\n",
       "      <td>6840-RESVB</td>\n",
       "      <td>Male</td>\n",
       "      <td>0</td>\n",
       "      <td>Yes</td>\n",
       "      <td>Yes</td>\n",
       "    </tr>\n",
       "    <tr>\n",
       "      <td>7039</td>\n",
       "      <td>2234-XADUH</td>\n",
       "      <td>Female</td>\n",
       "      <td>0</td>\n",
       "      <td>Yes</td>\n",
       "      <td>Yes</td>\n",
       "    </tr>\n",
       "    <tr>\n",
       "      <td>7040</td>\n",
       "      <td>4801-JZAZL</td>\n",
       "      <td>Female</td>\n",
       "      <td>0</td>\n",
       "      <td>Yes</td>\n",
       "      <td>Yes</td>\n",
       "    </tr>\n",
       "    <tr>\n",
       "      <td>7041</td>\n",
       "      <td>8361-LTMKD</td>\n",
       "      <td>Male</td>\n",
       "      <td>1</td>\n",
       "      <td>Yes</td>\n",
       "      <td>No</td>\n",
       "    </tr>\n",
       "    <tr>\n",
       "      <td>7042</td>\n",
       "      <td>3186-AJIEK</td>\n",
       "      <td>Male</td>\n",
       "      <td>0</td>\n",
       "      <td>No</td>\n",
       "      <td>No</td>\n",
       "    </tr>\n",
       "  </tbody>\n",
       "</table>\n",
       "<p>7043 rows × 5 columns</p>\n",
       "</div>"
      ],
      "text/plain": [
       "      customerID  gender  SeniorCitizen Partner Dependents\n",
       "0     7590-VHVEG  Female              0     Yes         No\n",
       "1     5575-GNVDE    Male              0      No         No\n",
       "2     3668-QPYBK    Male              0      No         No\n",
       "3     7795-CFOCW    Male              0      No         No\n",
       "4     9237-HQITU  Female              0      No         No\n",
       "...          ...     ...            ...     ...        ...\n",
       "7038  6840-RESVB    Male              0     Yes        Yes\n",
       "7039  2234-XADUH  Female              0     Yes        Yes\n",
       "7040  4801-JZAZL  Female              0     Yes        Yes\n",
       "7041  8361-LTMKD    Male              1     Yes         No\n",
       "7042  3186-AJIEK    Male              0      No         No\n",
       "\n",
       "[7043 rows x 5 columns]"
      ]
     },
     "execution_count": 5,
     "metadata": {},
     "output_type": "execute_result"
    }
   ],
   "source": [
    "from io import BytesIO\n",
    "import requests\n",
    "spreadsheet_id = 'имя файла'\n",
    "file_name = 'https://docs.google.com/spreadsheets/d/{}/export?format=csv'.format(spreadsheet_id)\n",
    "r = requests.get(file_name)\n",
    "personal = pd.read_csv(BytesIO(r.content))\n",
    "personal"
   ]
  },
  {
   "cell_type": "markdown",
   "id": "79f808bf",
   "metadata": {},
   "source": [
    "Загружен фаил _personal_ с персональной информацией о клиентах."
   ]
  },
  {
   "cell_type": "code",
   "execution_count": 6,
   "id": "5a631b91",
   "metadata": {},
   "outputs": [
    {
     "data": {
      "text/html": [
       "<div>\n",
       "<style scoped>\n",
       "    .dataframe tbody tr th:only-of-type {\n",
       "        vertical-align: middle;\n",
       "    }\n",
       "\n",
       "    .dataframe tbody tr th {\n",
       "        vertical-align: top;\n",
       "    }\n",
       "\n",
       "    .dataframe thead th {\n",
       "        text-align: right;\n",
       "    }\n",
       "</style>\n",
       "<table border=\"1\" class=\"dataframe\">\n",
       "  <thead>\n",
       "    <tr style=\"text-align: right;\">\n",
       "      <th></th>\n",
       "      <th>customerID</th>\n",
       "      <th>MultipleLines</th>\n",
       "    </tr>\n",
       "  </thead>\n",
       "  <tbody>\n",
       "    <tr>\n",
       "      <td>0</td>\n",
       "      <td>5575-GNVDE</td>\n",
       "      <td>No</td>\n",
       "    </tr>\n",
       "    <tr>\n",
       "      <td>1</td>\n",
       "      <td>3668-QPYBK</td>\n",
       "      <td>No</td>\n",
       "    </tr>\n",
       "    <tr>\n",
       "      <td>2</td>\n",
       "      <td>9237-HQITU</td>\n",
       "      <td>No</td>\n",
       "    </tr>\n",
       "    <tr>\n",
       "      <td>3</td>\n",
       "      <td>9305-CDSKC</td>\n",
       "      <td>Yes</td>\n",
       "    </tr>\n",
       "    <tr>\n",
       "      <td>4</td>\n",
       "      <td>1452-KIOVK</td>\n",
       "      <td>Yes</td>\n",
       "    </tr>\n",
       "    <tr>\n",
       "      <td>...</td>\n",
       "      <td>...</td>\n",
       "      <td>...</td>\n",
       "    </tr>\n",
       "    <tr>\n",
       "      <td>6356</td>\n",
       "      <td>2569-WGERO</td>\n",
       "      <td>No</td>\n",
       "    </tr>\n",
       "    <tr>\n",
       "      <td>6357</td>\n",
       "      <td>6840-RESVB</td>\n",
       "      <td>Yes</td>\n",
       "    </tr>\n",
       "    <tr>\n",
       "      <td>6358</td>\n",
       "      <td>2234-XADUH</td>\n",
       "      <td>Yes</td>\n",
       "    </tr>\n",
       "    <tr>\n",
       "      <td>6359</td>\n",
       "      <td>8361-LTMKD</td>\n",
       "      <td>Yes</td>\n",
       "    </tr>\n",
       "    <tr>\n",
       "      <td>6360</td>\n",
       "      <td>3186-AJIEK</td>\n",
       "      <td>No</td>\n",
       "    </tr>\n",
       "  </tbody>\n",
       "</table>\n",
       "<p>6361 rows × 2 columns</p>\n",
       "</div>"
      ],
      "text/plain": [
       "      customerID MultipleLines\n",
       "0     5575-GNVDE            No\n",
       "1     3668-QPYBK            No\n",
       "2     9237-HQITU            No\n",
       "3     9305-CDSKC           Yes\n",
       "4     1452-KIOVK           Yes\n",
       "...          ...           ...\n",
       "6356  2569-WGERO            No\n",
       "6357  6840-RESVB           Yes\n",
       "6358  2234-XADUH           Yes\n",
       "6359  8361-LTMKD           Yes\n",
       "6360  3186-AJIEK            No\n",
       "\n",
       "[6361 rows x 2 columns]"
      ]
     },
     "execution_count": 6,
     "metadata": {},
     "output_type": "execute_result"
    }
   ],
   "source": [
    "from io import BytesIO\n",
    "import requests\n",
    "spreadsheet_id = 'имя файла'\n",
    "file_name = 'https://docs.google.com/spreadsheets/d/{}/export?format=csv'.format(spreadsheet_id)\n",
    "r = requests.get(file_name)\n",
    "phone = pd.read_csv(BytesIO(r.content))\n",
    "phone"
   ]
  },
  {
   "cell_type": "markdown",
   "id": "2e7cacad",
   "metadata": {},
   "source": [
    "Загружен фаил _phone_ с информацией о телефонных услугах, которыми пользуются клиенты."
   ]
  },
  {
   "cell_type": "code",
   "execution_count": 7,
   "id": "809a5b8a",
   "metadata": {
    "scrolled": false
   },
   "outputs": [
    {
     "name": "stdout",
     "output_type": "stream",
     "text": [
      "<class 'pandas.core.frame.DataFrame'>\n",
      "RangeIndex: 7043 entries, 0 to 7042\n",
      "Data columns (total 8 columns):\n",
      "customerID          7043 non-null object\n",
      "BeginDate           7043 non-null object\n",
      "EndDate             7043 non-null object\n",
      "Type                7043 non-null object\n",
      "PaperlessBilling    7043 non-null object\n",
      "PaymentMethod       7043 non-null object\n",
      "MonthlyCharges      7043 non-null float64\n",
      "TotalCharges        7032 non-null float64\n",
      "dtypes: float64(2), object(6)\n",
      "memory usage: 440.3+ KB\n",
      "None\n"
     ]
    }
   ],
   "source": [
    "#заполняем пропуски медианным значением\n",
    "print(contact.info())\n",
    "contact['TotalCharges'] = contact['TotalCharges'].fillna(contact['TotalCharges'].median())"
   ]
  },
  {
   "cell_type": "code",
   "execution_count": 8,
   "id": "fe98180a",
   "metadata": {},
   "outputs": [],
   "source": [
    "#перевод в нужный тип данных для дат\n",
    "contact['BeginDate'] = pd.to_datetime(contact['BeginDate'])\n",
    "contact['EndDate'] = pd.to_datetime(contact['EndDate'], errors='coerce')"
   ]
  },
  {
   "cell_type": "code",
   "execution_count": 9,
   "id": "11894c02",
   "metadata": {
    "scrolled": true
   },
   "outputs": [
    {
     "name": "stdout",
     "output_type": "stream",
     "text": [
      "<class 'pandas.core.frame.DataFrame'>\n",
      "Int64Index: 7043 entries, 0 to 7042\n",
      "Data columns (total 20 columns):\n",
      "customerID          7043 non-null object\n",
      "BeginDate           7043 non-null datetime64[ns]\n",
      "EndDate             1869 non-null datetime64[ns]\n",
      "Type                7043 non-null object\n",
      "PaperlessBilling    7043 non-null object\n",
      "PaymentMethod       7043 non-null object\n",
      "MonthlyCharges      7043 non-null float64\n",
      "TotalCharges        7043 non-null float64\n",
      "gender              7043 non-null object\n",
      "SeniorCitizen       7043 non-null int64\n",
      "Partner             7043 non-null object\n",
      "Dependents          7043 non-null object\n",
      "InternetService     5517 non-null object\n",
      "OnlineSecurity      5517 non-null object\n",
      "OnlineBackup        5517 non-null object\n",
      "DeviceProtection    5517 non-null object\n",
      "TechSupport         5517 non-null object\n",
      "StreamingTV         5517 non-null object\n",
      "StreamingMovies     5517 non-null object\n",
      "MultipleLines       6361 non-null object\n",
      "dtypes: datetime64[ns](2), float64(2), int64(1), object(15)\n",
      "memory usage: 1.1+ MB\n",
      "None\n"
     ]
    }
   ],
   "source": [
    "#объединение данных\n",
    "data_all = contact.merge(personal)\n",
    "data_all = data_all.merge(internet, how='left')\n",
    "data_all = data_all.merge(phone, how='left')\n",
    "\n",
    "print(data_all.info())"
   ]
  },
  {
   "cell_type": "markdown",
   "id": "d29663e4",
   "metadata": {},
   "source": [
    "Создаем сводную таблицу на базе загруженных таблиц."
   ]
  },
  {
   "cell_type": "code",
   "execution_count": 10,
   "id": "d9d5abfa",
   "metadata": {
    "scrolled": true
   },
   "outputs": [
    {
     "name": "stdout",
     "output_type": "stream",
     "text": [
      "<class 'pandas.core.frame.DataFrame'>\n",
      "Int64Index: 7043 entries, 0 to 7042\n",
      "Data columns (total 20 columns):\n",
      "customerID          7043 non-null object\n",
      "BeginDate           7043 non-null datetime64[ns]\n",
      "EndDate             1869 non-null datetime64[ns]\n",
      "Type                7043 non-null object\n",
      "PaperlessBilling    7043 non-null object\n",
      "PaymentMethod       7043 non-null object\n",
      "MonthlyCharges      7043 non-null float64\n",
      "TotalCharges        7043 non-null float64\n",
      "gender              7043 non-null object\n",
      "SeniorCitizen       7043 non-null int64\n",
      "Partner             7043 non-null object\n",
      "Dependents          7043 non-null object\n",
      "InternetService     7043 non-null object\n",
      "OnlineSecurity      7043 non-null object\n",
      "OnlineBackup        7043 non-null object\n",
      "DeviceProtection    7043 non-null object\n",
      "TechSupport         7043 non-null object\n",
      "StreamingTV         7043 non-null object\n",
      "StreamingMovies     7043 non-null object\n",
      "MultipleLines       7043 non-null object\n",
      "dtypes: datetime64[ns](2), float64(2), int64(1), object(15)\n",
      "memory usage: 1.1+ MB\n",
      "None\n"
     ]
    }
   ],
   "source": [
    "#заполнение пропусков\n",
    "colomns = ['InternetService', 'OnlineSecurity', 'OnlineBackup', 'DeviceProtection', 'TechSupport', 'StreamingTV', 'StreamingMovies', 'MultipleLines']\n",
    "data_all[colomns] = data_all[colomns].fillna('No')\n",
    "\n",
    "print(data_all.info())"
   ]
  },
  {
   "cell_type": "code",
   "execution_count": 11,
   "id": "76149391",
   "metadata": {},
   "outputs": [
    {
     "name": "stdout",
     "output_type": "stream",
     "text": [
      "2020-02-01 00:00:00\n"
     ]
    }
   ],
   "source": [
    "#так как данные представлены до 1 февраля 2020 года, примем эту дату за конечную\n",
    "data_final='2020-02-01'\n",
    "data_final = pd.to_datetime(data_final, format='%Y-%m-%d')\n",
    "print(data_final)"
   ]
  },
  {
   "cell_type": "markdown",
   "id": "5d401ede",
   "metadata": {},
   "source": [
    "**Вывод:**\n",
    "\n",
    "Предобработка данных завершена: пропуски заполнены, данные приведены к нужному типу, создан единный датафрейм со всеми имеющимся данными."
   ]
  },
  {
   "cell_type": "markdown",
   "id": "baf036c8",
   "metadata": {},
   "source": [
    "## Создание дополнительных переменных"
   ]
  },
  {
   "cell_type": "code",
   "execution_count": 12,
   "id": "efe549fc",
   "metadata": {
    "scrolled": true
   },
   "outputs": [
    {
     "data": {
      "text/html": [
       "<div>\n",
       "<style scoped>\n",
       "    .dataframe tbody tr th:only-of-type {\n",
       "        vertical-align: middle;\n",
       "    }\n",
       "\n",
       "    .dataframe tbody tr th {\n",
       "        vertical-align: top;\n",
       "    }\n",
       "\n",
       "    .dataframe thead th {\n",
       "        text-align: right;\n",
       "    }\n",
       "</style>\n",
       "<table border=\"1\" class=\"dataframe\">\n",
       "  <thead>\n",
       "    <tr style=\"text-align: right;\">\n",
       "      <th></th>\n",
       "      <th>customerID</th>\n",
       "      <th>BeginDate</th>\n",
       "      <th>EndDate</th>\n",
       "      <th>Type</th>\n",
       "      <th>PaperlessBilling</th>\n",
       "      <th>PaymentMethod</th>\n",
       "      <th>MonthlyCharges</th>\n",
       "      <th>TotalCharges</th>\n",
       "      <th>gender</th>\n",
       "      <th>SeniorCitizen</th>\n",
       "      <th>...</th>\n",
       "      <th>OnlineSecurity</th>\n",
       "      <th>OnlineBackup</th>\n",
       "      <th>DeviceProtection</th>\n",
       "      <th>TechSupport</th>\n",
       "      <th>StreamingTV</th>\n",
       "      <th>StreamingMovies</th>\n",
       "      <th>MultipleLines</th>\n",
       "      <th>EndDate_lifetime</th>\n",
       "      <th>lifetime</th>\n",
       "      <th>target</th>\n",
       "    </tr>\n",
       "  </thead>\n",
       "  <tbody>\n",
       "    <tr>\n",
       "      <td>0</td>\n",
       "      <td>7590-VHVEG</td>\n",
       "      <td>2020-01-01</td>\n",
       "      <td>NaT</td>\n",
       "      <td>Month-to-month</td>\n",
       "      <td>Yes</td>\n",
       "      <td>Electronic check</td>\n",
       "      <td>29.85</td>\n",
       "      <td>29.85</td>\n",
       "      <td>Female</td>\n",
       "      <td>0</td>\n",
       "      <td>...</td>\n",
       "      <td>No</td>\n",
       "      <td>Yes</td>\n",
       "      <td>No</td>\n",
       "      <td>No</td>\n",
       "      <td>No</td>\n",
       "      <td>No</td>\n",
       "      <td>No</td>\n",
       "      <td>2020-02-01</td>\n",
       "      <td>31 days</td>\n",
       "      <td>0</td>\n",
       "    </tr>\n",
       "    <tr>\n",
       "      <td>1</td>\n",
       "      <td>5575-GNVDE</td>\n",
       "      <td>2017-04-01</td>\n",
       "      <td>NaT</td>\n",
       "      <td>One year</td>\n",
       "      <td>No</td>\n",
       "      <td>Mailed check</td>\n",
       "      <td>56.95</td>\n",
       "      <td>1889.50</td>\n",
       "      <td>Male</td>\n",
       "      <td>0</td>\n",
       "      <td>...</td>\n",
       "      <td>Yes</td>\n",
       "      <td>No</td>\n",
       "      <td>Yes</td>\n",
       "      <td>No</td>\n",
       "      <td>No</td>\n",
       "      <td>No</td>\n",
       "      <td>No</td>\n",
       "      <td>2020-02-01</td>\n",
       "      <td>1036 days</td>\n",
       "      <td>0</td>\n",
       "    </tr>\n",
       "    <tr>\n",
       "      <td>2</td>\n",
       "      <td>3668-QPYBK</td>\n",
       "      <td>2019-10-01</td>\n",
       "      <td>2019-12-01</td>\n",
       "      <td>Month-to-month</td>\n",
       "      <td>Yes</td>\n",
       "      <td>Mailed check</td>\n",
       "      <td>53.85</td>\n",
       "      <td>108.15</td>\n",
       "      <td>Male</td>\n",
       "      <td>0</td>\n",
       "      <td>...</td>\n",
       "      <td>Yes</td>\n",
       "      <td>Yes</td>\n",
       "      <td>No</td>\n",
       "      <td>No</td>\n",
       "      <td>No</td>\n",
       "      <td>No</td>\n",
       "      <td>No</td>\n",
       "      <td>2019-12-01</td>\n",
       "      <td>61 days</td>\n",
       "      <td>1</td>\n",
       "    </tr>\n",
       "    <tr>\n",
       "      <td>3</td>\n",
       "      <td>7795-CFOCW</td>\n",
       "      <td>2016-05-01</td>\n",
       "      <td>NaT</td>\n",
       "      <td>One year</td>\n",
       "      <td>No</td>\n",
       "      <td>Bank transfer (automatic)</td>\n",
       "      <td>42.30</td>\n",
       "      <td>1840.75</td>\n",
       "      <td>Male</td>\n",
       "      <td>0</td>\n",
       "      <td>...</td>\n",
       "      <td>Yes</td>\n",
       "      <td>No</td>\n",
       "      <td>Yes</td>\n",
       "      <td>Yes</td>\n",
       "      <td>No</td>\n",
       "      <td>No</td>\n",
       "      <td>No</td>\n",
       "      <td>2020-02-01</td>\n",
       "      <td>1371 days</td>\n",
       "      <td>0</td>\n",
       "    </tr>\n",
       "    <tr>\n",
       "      <td>4</td>\n",
       "      <td>9237-HQITU</td>\n",
       "      <td>2019-09-01</td>\n",
       "      <td>2019-11-01</td>\n",
       "      <td>Month-to-month</td>\n",
       "      <td>Yes</td>\n",
       "      <td>Electronic check</td>\n",
       "      <td>70.70</td>\n",
       "      <td>151.65</td>\n",
       "      <td>Female</td>\n",
       "      <td>0</td>\n",
       "      <td>...</td>\n",
       "      <td>No</td>\n",
       "      <td>No</td>\n",
       "      <td>No</td>\n",
       "      <td>No</td>\n",
       "      <td>No</td>\n",
       "      <td>No</td>\n",
       "      <td>No</td>\n",
       "      <td>2019-11-01</td>\n",
       "      <td>61 days</td>\n",
       "      <td>1</td>\n",
       "    </tr>\n",
       "  </tbody>\n",
       "</table>\n",
       "<p>5 rows × 23 columns</p>\n",
       "</div>"
      ],
      "text/plain": [
       "   customerID  BeginDate    EndDate            Type PaperlessBilling  \\\n",
       "0  7590-VHVEG 2020-01-01        NaT  Month-to-month              Yes   \n",
       "1  5575-GNVDE 2017-04-01        NaT        One year               No   \n",
       "2  3668-QPYBK 2019-10-01 2019-12-01  Month-to-month              Yes   \n",
       "3  7795-CFOCW 2016-05-01        NaT        One year               No   \n",
       "4  9237-HQITU 2019-09-01 2019-11-01  Month-to-month              Yes   \n",
       "\n",
       "               PaymentMethod  MonthlyCharges  TotalCharges  gender  \\\n",
       "0           Electronic check           29.85         29.85  Female   \n",
       "1               Mailed check           56.95       1889.50    Male   \n",
       "2               Mailed check           53.85        108.15    Male   \n",
       "3  Bank transfer (automatic)           42.30       1840.75    Male   \n",
       "4           Electronic check           70.70        151.65  Female   \n",
       "\n",
       "   SeniorCitizen  ... OnlineSecurity OnlineBackup DeviceProtection  \\\n",
       "0              0  ...             No          Yes               No   \n",
       "1              0  ...            Yes           No              Yes   \n",
       "2              0  ...            Yes          Yes               No   \n",
       "3              0  ...            Yes           No              Yes   \n",
       "4              0  ...             No           No               No   \n",
       "\n",
       "  TechSupport StreamingTV StreamingMovies MultipleLines EndDate_lifetime  \\\n",
       "0          No          No              No            No       2020-02-01   \n",
       "1          No          No              No            No       2020-02-01   \n",
       "2          No          No              No            No       2019-12-01   \n",
       "3         Yes          No              No            No       2020-02-01   \n",
       "4          No          No              No            No       2019-11-01   \n",
       "\n",
       "   lifetime target  \n",
       "0   31 days      0  \n",
       "1 1036 days      0  \n",
       "2   61 days      1  \n",
       "3 1371 days      0  \n",
       "4   61 days      1  \n",
       "\n",
       "[5 rows x 23 columns]"
      ]
     },
     "metadata": {},
     "output_type": "display_data"
    }
   ],
   "source": [
    "#создание новой переменной и таргета\n",
    "data_all['EndDate_lifetime'] = data_all['EndDate']\n",
    "data_all['EndDate_lifetime'] = data_all['EndDate_lifetime'].fillna(data_final)\n",
    "data_all['lifetime'] = data_all['EndDate_lifetime'] - data_all['BeginDate']\n",
    "data_all['target'] = data_all['EndDate']\n",
    "\n",
    "data_all['target'] = data_all['target'].fillna(0)\n",
    "filter = data_all['target']==0\n",
    "data_all['target'].where(filter, 1, inplace=True)\n",
    "\n",
    "display(data_all.head())"
   ]
  },
  {
   "cell_type": "markdown",
   "id": "b54b1111",
   "metadata": {},
   "source": [
    "Для будущего моделирования использовать даты неудобно, поэтому конвертируем их в численные показатели - срок жизни клиента.\n",
    "Для этого используем параметры _BeginDate_ и _EndDate_, вычитая одно из другого. \n",
    "\n",
    "Для выделения таргета используем показатель _EndDate_. Если имеется дата окончания договора, значит клиент уже покинул компанию. Если нет - на момент формирования исходных данных клиент был активен."
   ]
  },
  {
   "cell_type": "code",
   "execution_count": 13,
   "id": "da6b7270",
   "metadata": {},
   "outputs": [],
   "source": [
    "#для преобразования признаков из категориальных в численные используем прямое кодирование (OHE)\n",
    "data_ohe = pd.get_dummies(data_all, drop_first=True, columns=['Type', 'PaymentMethod', 'gender', 'Partner' ,'Dependents', 'InternetService', 'OnlineSecurity',\n",
    "                                                             'OnlineBackup', 'DeviceProtection', 'TechSupport', 'StreamingTV',\n",
    "                                                             'StreamingMovies', 'MultipleLines'])\n",
    "data_all = data_all.join(data_ohe, lsuffix='_left')\n"
   ]
  },
  {
   "cell_type": "markdown",
   "id": "9d7cf87d",
   "metadata": {},
   "source": [
    "С помощью прямого кодирования вместо категориальных данных (текста), получаем логический тип, более удобный для машинного обучения."
   ]
  },
  {
   "cell_type": "code",
   "execution_count": 14,
   "id": "58d26096",
   "metadata": {},
   "outputs": [],
   "source": [
    "#удаляем дубли\n",
    "data_all = data_all.drop(['Type', 'PaymentMethod', 'gender', 'Partner' , 'Dependents',  'InternetService', 'OnlineSecurity',\n",
    "                                                             'OnlineBackup', 'DeviceProtection', 'TechSupport', 'StreamingTV',\n",
    "                                                             'StreamingMovies', 'MultipleLines'], axis=1)"
   ]
  },
  {
   "cell_type": "code",
   "execution_count": 15,
   "id": "a14bb8da",
   "metadata": {
    "scrolled": true
   },
   "outputs": [
    {
     "name": "stdout",
     "output_type": "stream",
     "text": [
      "<class 'pandas.core.frame.DataFrame'>\n",
      "Int64Index: 7043 entries, 0 to 7042\n",
      "Data columns (total 37 columns):\n",
      "customerID_left                          7043 non-null object\n",
      "BeginDate_left                           7043 non-null datetime64[ns]\n",
      "EndDate_left                             1869 non-null datetime64[ns]\n",
      "PaperlessBilling_left                    7043 non-null object\n",
      "MonthlyCharges_left                      7043 non-null float64\n",
      "TotalCharges_left                        7043 non-null float64\n",
      "SeniorCitizen_left                       7043 non-null int64\n",
      "EndDate_lifetime_left                    7043 non-null datetime64[ns]\n",
      "lifetime_left                            7043 non-null timedelta64[ns]\n",
      "target_left                              7043 non-null object\n",
      "customerID                               7043 non-null object\n",
      "BeginDate                                7043 non-null datetime64[ns]\n",
      "EndDate                                  1869 non-null datetime64[ns]\n",
      "PaperlessBilling                         7043 non-null object\n",
      "MonthlyCharges                           7043 non-null float64\n",
      "TotalCharges                             7043 non-null float64\n",
      "SeniorCitizen                            7043 non-null int64\n",
      "EndDate_lifetime                         7043 non-null datetime64[ns]\n",
      "lifetime                                 7043 non-null timedelta64[ns]\n",
      "target                                   7043 non-null object\n",
      "Type_One year                            7043 non-null uint8\n",
      "Type_Two year                            7043 non-null uint8\n",
      "PaymentMethod_Credit card (automatic)    7043 non-null uint8\n",
      "PaymentMethod_Electronic check           7043 non-null uint8\n",
      "PaymentMethod_Mailed check               7043 non-null uint8\n",
      "gender_Male                              7043 non-null uint8\n",
      "Partner_Yes                              7043 non-null uint8\n",
      "Dependents_Yes                           7043 non-null uint8\n",
      "InternetService_Fiber optic              7043 non-null uint8\n",
      "InternetService_No                       7043 non-null uint8\n",
      "OnlineSecurity_Yes                       7043 non-null uint8\n",
      "OnlineBackup_Yes                         7043 non-null uint8\n",
      "DeviceProtection_Yes                     7043 non-null uint8\n",
      "TechSupport_Yes                          7043 non-null uint8\n",
      "StreamingTV_Yes                          7043 non-null uint8\n",
      "StreamingMovies_Yes                      7043 non-null uint8\n",
      "MultipleLines_Yes                        7043 non-null uint8\n",
      "dtypes: datetime64[ns](6), float64(4), int64(2), object(6), timedelta64[ns](2), uint8(17)\n",
      "memory usage: 1.6+ MB\n",
      "None\n"
     ]
    }
   ],
   "source": [
    "print(data_all.info())"
   ]
  },
  {
   "cell_type": "markdown",
   "id": "0e9d815a",
   "metadata": {},
   "source": [
    "Датафрейм зтал значительно больше, появились дубли. Также остались столбцы с датами, которые нам больше не нужны."
   ]
  },
  {
   "cell_type": "code",
   "execution_count": 16,
   "id": "a249f2e2",
   "metadata": {},
   "outputs": [],
   "source": [
    "#удаляем дубли и ненужные столбцы\n",
    "data_all = data_all.drop(['customerID_left', 'BeginDate_left', 'EndDate_left', 'PaperlessBilling_left', 'MonthlyCharges_left',\n",
    "                         'TotalCharges_left', 'SeniorCitizen_left','lifetime_left', 'target_left', 'customerID', \n",
    "                          'BeginDate', 'EndDate', 'PaperlessBilling', 'EndDate_lifetime', 'EndDate_lifetime_left'], axis=1)"
   ]
  },
  {
   "cell_type": "markdown",
   "id": "0216945d",
   "metadata": {},
   "source": [
    "**Вывод**\n",
    "\n",
    "Некоторые столбцы были удалены, потому что содержат лишнюю информацию, из-за чего понижается точность моделей. Например:\n",
    "1. _customerID_ - не несет информации для моделирования\n",
    "2. столбцы с датами (_BeginDate, EndDate_) - создан отдельный параметр _lifetime_, чтобы показать продолжительность отношений с клиентом\n",
    "3. _PaperlessBilling_ - безналичный расчет, этот параметр не критичен, более того его отсутствие повышает точность моделей"
   ]
  },
  {
   "cell_type": "code",
   "execution_count": 17,
   "id": "0e6d5cb9",
   "metadata": {
    "scrolled": false
   },
   "outputs": [
    {
     "name": "stdout",
     "output_type": "stream",
     "text": [
      "<class 'pandas.core.frame.DataFrame'>\n",
      "Int64Index: 7043 entries, 0 to 7042\n",
      "Data columns (total 22 columns):\n",
      "MonthlyCharges                           7043 non-null float64\n",
      "TotalCharges                             7043 non-null float64\n",
      "SeniorCitizen                            7043 non-null int64\n",
      "lifetime                                 7043 non-null timedelta64[ns]\n",
      "target                                   7043 non-null object\n",
      "Type_One year                            7043 non-null uint8\n",
      "Type_Two year                            7043 non-null uint8\n",
      "PaymentMethod_Credit card (automatic)    7043 non-null uint8\n",
      "PaymentMethod_Electronic check           7043 non-null uint8\n",
      "PaymentMethod_Mailed check               7043 non-null uint8\n",
      "gender_Male                              7043 non-null uint8\n",
      "Partner_Yes                              7043 non-null uint8\n",
      "Dependents_Yes                           7043 non-null uint8\n",
      "InternetService_Fiber optic              7043 non-null uint8\n",
      "InternetService_No                       7043 non-null uint8\n",
      "OnlineSecurity_Yes                       7043 non-null uint8\n",
      "OnlineBackup_Yes                         7043 non-null uint8\n",
      "DeviceProtection_Yes                     7043 non-null uint8\n",
      "TechSupport_Yes                          7043 non-null uint8\n",
      "StreamingTV_Yes                          7043 non-null uint8\n",
      "StreamingMovies_Yes                      7043 non-null uint8\n",
      "MultipleLines_Yes                        7043 non-null uint8\n",
      "dtypes: float64(2), int64(1), object(1), timedelta64[ns](1), uint8(17)\n",
      "memory usage: 767.1+ KB\n",
      "None\n"
     ]
    }
   ],
   "source": [
    "print(data_all.info())"
   ]
  },
  {
   "cell_type": "markdown",
   "id": "51f7f73b",
   "metadata": {},
   "source": [
    "Проверяем датафрейм после удаления лишних параметров. У параметра _target_ необходимо поменять тип данных. Также перевести параметр _lifetime_ из наносекунд в дни."
   ]
  },
  {
   "cell_type": "code",
   "execution_count": 18,
   "id": "20bee5b7",
   "metadata": {},
   "outputs": [],
   "source": [
    "#приведение данных в нужный тип (lifetime в наносекундах)\n",
    "data_all['target'] = data_all['target'].astype('int')\n",
    "\n",
    "data_all['lifetime'] = pd.to_numeric(data_all['lifetime'])\n",
    "data_all['lifetime'] = data_all['lifetime']/(8.62*10**13)"
   ]
  },
  {
   "cell_type": "code",
   "execution_count": 19,
   "id": "6ffd4fad",
   "metadata": {
    "scrolled": true
   },
   "outputs": [
    {
     "data": {
      "text/html": [
       "<div>\n",
       "<style scoped>\n",
       "    .dataframe tbody tr th:only-of-type {\n",
       "        vertical-align: middle;\n",
       "    }\n",
       "\n",
       "    .dataframe tbody tr th {\n",
       "        vertical-align: top;\n",
       "    }\n",
       "\n",
       "    .dataframe thead th {\n",
       "        text-align: right;\n",
       "    }\n",
       "</style>\n",
       "<table border=\"1\" class=\"dataframe\">\n",
       "  <thead>\n",
       "    <tr style=\"text-align: right;\">\n",
       "      <th></th>\n",
       "      <th>MonthlyCharges</th>\n",
       "      <th>TotalCharges</th>\n",
       "      <th>SeniorCitizen</th>\n",
       "      <th>lifetime</th>\n",
       "      <th>target</th>\n",
       "      <th>Type_One year</th>\n",
       "      <th>Type_Two year</th>\n",
       "      <th>PaymentMethod_Credit card (automatic)</th>\n",
       "      <th>PaymentMethod_Electronic check</th>\n",
       "      <th>PaymentMethod_Mailed check</th>\n",
       "      <th>...</th>\n",
       "      <th>Dependents_Yes</th>\n",
       "      <th>InternetService_Fiber optic</th>\n",
       "      <th>InternetService_No</th>\n",
       "      <th>OnlineSecurity_Yes</th>\n",
       "      <th>OnlineBackup_Yes</th>\n",
       "      <th>DeviceProtection_Yes</th>\n",
       "      <th>TechSupport_Yes</th>\n",
       "      <th>StreamingTV_Yes</th>\n",
       "      <th>StreamingMovies_Yes</th>\n",
       "      <th>MultipleLines_Yes</th>\n",
       "    </tr>\n",
       "  </thead>\n",
       "  <tbody>\n",
       "    <tr>\n",
       "      <td>0</td>\n",
       "      <td>29.85</td>\n",
       "      <td>29.85</td>\n",
       "      <td>0</td>\n",
       "      <td>31.071926</td>\n",
       "      <td>0</td>\n",
       "      <td>0</td>\n",
       "      <td>0</td>\n",
       "      <td>0</td>\n",
       "      <td>1</td>\n",
       "      <td>0</td>\n",
       "      <td>...</td>\n",
       "      <td>0</td>\n",
       "      <td>0</td>\n",
       "      <td>0</td>\n",
       "      <td>0</td>\n",
       "      <td>1</td>\n",
       "      <td>0</td>\n",
       "      <td>0</td>\n",
       "      <td>0</td>\n",
       "      <td>0</td>\n",
       "      <td>0</td>\n",
       "    </tr>\n",
       "    <tr>\n",
       "      <td>1</td>\n",
       "      <td>56.95</td>\n",
       "      <td>1889.50</td>\n",
       "      <td>0</td>\n",
       "      <td>1038.403712</td>\n",
       "      <td>0</td>\n",
       "      <td>1</td>\n",
       "      <td>0</td>\n",
       "      <td>0</td>\n",
       "      <td>0</td>\n",
       "      <td>1</td>\n",
       "      <td>...</td>\n",
       "      <td>0</td>\n",
       "      <td>0</td>\n",
       "      <td>0</td>\n",
       "      <td>1</td>\n",
       "      <td>0</td>\n",
       "      <td>1</td>\n",
       "      <td>0</td>\n",
       "      <td>0</td>\n",
       "      <td>0</td>\n",
       "      <td>0</td>\n",
       "    </tr>\n",
       "    <tr>\n",
       "      <td>2</td>\n",
       "      <td>53.85</td>\n",
       "      <td>108.15</td>\n",
       "      <td>0</td>\n",
       "      <td>61.141531</td>\n",
       "      <td>1</td>\n",
       "      <td>0</td>\n",
       "      <td>0</td>\n",
       "      <td>0</td>\n",
       "      <td>0</td>\n",
       "      <td>1</td>\n",
       "      <td>...</td>\n",
       "      <td>0</td>\n",
       "      <td>0</td>\n",
       "      <td>0</td>\n",
       "      <td>1</td>\n",
       "      <td>1</td>\n",
       "      <td>0</td>\n",
       "      <td>0</td>\n",
       "      <td>0</td>\n",
       "      <td>0</td>\n",
       "      <td>0</td>\n",
       "    </tr>\n",
       "    <tr>\n",
       "      <td>3</td>\n",
       "      <td>42.30</td>\n",
       "      <td>1840.75</td>\n",
       "      <td>0</td>\n",
       "      <td>1374.180974</td>\n",
       "      <td>0</td>\n",
       "      <td>1</td>\n",
       "      <td>0</td>\n",
       "      <td>0</td>\n",
       "      <td>0</td>\n",
       "      <td>0</td>\n",
       "      <td>...</td>\n",
       "      <td>0</td>\n",
       "      <td>0</td>\n",
       "      <td>0</td>\n",
       "      <td>1</td>\n",
       "      <td>0</td>\n",
       "      <td>1</td>\n",
       "      <td>1</td>\n",
       "      <td>0</td>\n",
       "      <td>0</td>\n",
       "      <td>0</td>\n",
       "    </tr>\n",
       "    <tr>\n",
       "      <td>4</td>\n",
       "      <td>70.70</td>\n",
       "      <td>151.65</td>\n",
       "      <td>0</td>\n",
       "      <td>61.141531</td>\n",
       "      <td>1</td>\n",
       "      <td>0</td>\n",
       "      <td>0</td>\n",
       "      <td>0</td>\n",
       "      <td>1</td>\n",
       "      <td>0</td>\n",
       "      <td>...</td>\n",
       "      <td>0</td>\n",
       "      <td>1</td>\n",
       "      <td>0</td>\n",
       "      <td>0</td>\n",
       "      <td>0</td>\n",
       "      <td>0</td>\n",
       "      <td>0</td>\n",
       "      <td>0</td>\n",
       "      <td>0</td>\n",
       "      <td>0</td>\n",
       "    </tr>\n",
       "  </tbody>\n",
       "</table>\n",
       "<p>5 rows × 22 columns</p>\n",
       "</div>"
      ],
      "text/plain": [
       "   MonthlyCharges  TotalCharges  SeniorCitizen     lifetime  target  \\\n",
       "0           29.85         29.85              0    31.071926       0   \n",
       "1           56.95       1889.50              0  1038.403712       0   \n",
       "2           53.85        108.15              0    61.141531       1   \n",
       "3           42.30       1840.75              0  1374.180974       0   \n",
       "4           70.70        151.65              0    61.141531       1   \n",
       "\n",
       "   Type_One year  Type_Two year  PaymentMethod_Credit card (automatic)  \\\n",
       "0              0              0                                      0   \n",
       "1              1              0                                      0   \n",
       "2              0              0                                      0   \n",
       "3              1              0                                      0   \n",
       "4              0              0                                      0   \n",
       "\n",
       "   PaymentMethod_Electronic check  PaymentMethod_Mailed check  ...  \\\n",
       "0                               1                           0  ...   \n",
       "1                               0                           1  ...   \n",
       "2                               0                           1  ...   \n",
       "3                               0                           0  ...   \n",
       "4                               1                           0  ...   \n",
       "\n",
       "   Dependents_Yes  InternetService_Fiber optic  InternetService_No  \\\n",
       "0               0                            0                   0   \n",
       "1               0                            0                   0   \n",
       "2               0                            0                   0   \n",
       "3               0                            0                   0   \n",
       "4               0                            1                   0   \n",
       "\n",
       "   OnlineSecurity_Yes  OnlineBackup_Yes  DeviceProtection_Yes  \\\n",
       "0                   0                 1                     0   \n",
       "1                   1                 0                     1   \n",
       "2                   1                 1                     0   \n",
       "3                   1                 0                     1   \n",
       "4                   0                 0                     0   \n",
       "\n",
       "   TechSupport_Yes  StreamingTV_Yes  StreamingMovies_Yes  MultipleLines_Yes  \n",
       "0                0                0                    0                  0  \n",
       "1                0                0                    0                  0  \n",
       "2                0                0                    0                  0  \n",
       "3                1                0                    0                  0  \n",
       "4                0                0                    0                  0  \n",
       "\n",
       "[5 rows x 22 columns]"
      ]
     },
     "metadata": {},
     "output_type": "display_data"
    }
   ],
   "source": [
    "display(data_all.head())"
   ]
  },
  {
   "cell_type": "markdown",
   "id": "255cc0a7",
   "metadata": {},
   "source": [
    "Проверяем датафрейм после смены типа данных."
   ]
  },
  {
   "cell_type": "code",
   "execution_count": 20,
   "id": "cda3ea7f",
   "metadata": {
    "scrolled": true
   },
   "outputs": [
    {
     "data": {
      "text/html": [
       "<div>\n",
       "<style scoped>\n",
       "    .dataframe tbody tr th:only-of-type {\n",
       "        vertical-align: middle;\n",
       "    }\n",
       "\n",
       "    .dataframe tbody tr th {\n",
       "        vertical-align: top;\n",
       "    }\n",
       "\n",
       "    .dataframe thead th {\n",
       "        text-align: right;\n",
       "    }\n",
       "</style>\n",
       "<table border=\"1\" class=\"dataframe\">\n",
       "  <thead>\n",
       "    <tr style=\"text-align: right;\">\n",
       "      <th></th>\n",
       "      <th>MonthlyCharges</th>\n",
       "      <th>TotalCharges</th>\n",
       "      <th>SeniorCitizen</th>\n",
       "      <th>lifetime</th>\n",
       "      <th>target</th>\n",
       "      <th>Type_One year</th>\n",
       "      <th>Type_Two year</th>\n",
       "      <th>PaymentMethod_Credit card (automatic)</th>\n",
       "      <th>PaymentMethod_Electronic check</th>\n",
       "      <th>PaymentMethod_Mailed check</th>\n",
       "      <th>...</th>\n",
       "      <th>Dependents_Yes</th>\n",
       "      <th>InternetService_Fiber optic</th>\n",
       "      <th>InternetService_No</th>\n",
       "      <th>OnlineSecurity_Yes</th>\n",
       "      <th>OnlineBackup_Yes</th>\n",
       "      <th>DeviceProtection_Yes</th>\n",
       "      <th>TechSupport_Yes</th>\n",
       "      <th>StreamingTV_Yes</th>\n",
       "      <th>StreamingMovies_Yes</th>\n",
       "      <th>MultipleLines_Yes</th>\n",
       "    </tr>\n",
       "  </thead>\n",
       "  <tbody>\n",
       "    <tr>\n",
       "      <td>MonthlyCharges</td>\n",
       "      <td>1.000000</td>\n",
       "      <td>0.650864</td>\n",
       "      <td>0.220173</td>\n",
       "      <td>0.247754</td>\n",
       "      <td>0.193356</td>\n",
       "      <td>0.004904</td>\n",
       "      <td>-0.074681</td>\n",
       "      <td>0.030550</td>\n",
       "      <td>0.271625</td>\n",
       "      <td>-0.377437</td>\n",
       "      <td>...</td>\n",
       "      <td>-0.113890</td>\n",
       "      <td>0.787066</td>\n",
       "      <td>-0.763557</td>\n",
       "      <td>0.296594</td>\n",
       "      <td>0.441780</td>\n",
       "      <td>0.482692</td>\n",
       "      <td>0.338304</td>\n",
       "      <td>0.629603</td>\n",
       "      <td>0.627429</td>\n",
       "      <td>0.490434</td>\n",
       "    </tr>\n",
       "    <tr>\n",
       "      <td>TotalCharges</td>\n",
       "      <td>0.650864</td>\n",
       "      <td>1.000000</td>\n",
       "      <td>0.102652</td>\n",
       "      <td>0.825394</td>\n",
       "      <td>-0.199037</td>\n",
       "      <td>0.170649</td>\n",
       "      <td>0.356226</td>\n",
       "      <td>0.182745</td>\n",
       "      <td>-0.059971</td>\n",
       "      <td>-0.294814</td>\n",
       "      <td>...</td>\n",
       "      <td>0.063593</td>\n",
       "      <td>0.361045</td>\n",
       "      <td>-0.374706</td>\n",
       "      <td>0.412091</td>\n",
       "      <td>0.509607</td>\n",
       "      <td>0.522374</td>\n",
       "      <td>0.432329</td>\n",
       "      <td>0.515279</td>\n",
       "      <td>0.519884</td>\n",
       "      <td>0.468705</td>\n",
       "    </tr>\n",
       "    <tr>\n",
       "      <td>SeniorCitizen</td>\n",
       "      <td>0.220173</td>\n",
       "      <td>0.102652</td>\n",
       "      <td>1.000000</td>\n",
       "      <td>0.016514</td>\n",
       "      <td>0.150889</td>\n",
       "      <td>-0.046262</td>\n",
       "      <td>-0.117000</td>\n",
       "      <td>-0.024135</td>\n",
       "      <td>0.171718</td>\n",
       "      <td>-0.153477</td>\n",
       "      <td>...</td>\n",
       "      <td>-0.211185</td>\n",
       "      <td>0.255338</td>\n",
       "      <td>-0.182742</td>\n",
       "      <td>-0.038653</td>\n",
       "      <td>0.066572</td>\n",
       "      <td>0.059428</td>\n",
       "      <td>-0.060625</td>\n",
       "      <td>0.105378</td>\n",
       "      <td>0.120176</td>\n",
       "      <td>0.142948</td>\n",
       "    </tr>\n",
       "    <tr>\n",
       "      <td>lifetime</td>\n",
       "      <td>0.247754</td>\n",
       "      <td>0.825394</td>\n",
       "      <td>0.016514</td>\n",
       "      <td>1.000000</td>\n",
       "      <td>-0.352673</td>\n",
       "      <td>0.202650</td>\n",
       "      <td>0.558544</td>\n",
       "      <td>0.233032</td>\n",
       "      <td>-0.208465</td>\n",
       "      <td>-0.233755</td>\n",
       "      <td>...</td>\n",
       "      <td>0.159766</td>\n",
       "      <td>0.019574</td>\n",
       "      <td>-0.038951</td>\n",
       "      <td>0.327203</td>\n",
       "      <td>0.360238</td>\n",
       "      <td>0.360602</td>\n",
       "      <td>0.324238</td>\n",
       "      <td>0.279657</td>\n",
       "      <td>0.286007</td>\n",
       "      <td>0.331833</td>\n",
       "    </tr>\n",
       "    <tr>\n",
       "      <td>target</td>\n",
       "      <td>0.193356</td>\n",
       "      <td>-0.199037</td>\n",
       "      <td>0.150889</td>\n",
       "      <td>-0.352673</td>\n",
       "      <td>1.000000</td>\n",
       "      <td>-0.177820</td>\n",
       "      <td>-0.302253</td>\n",
       "      <td>-0.134302</td>\n",
       "      <td>0.301919</td>\n",
       "      <td>-0.091683</td>\n",
       "      <td>...</td>\n",
       "      <td>-0.164221</td>\n",
       "      <td>0.308020</td>\n",
       "      <td>-0.227890</td>\n",
       "      <td>-0.171226</td>\n",
       "      <td>-0.082255</td>\n",
       "      <td>-0.066160</td>\n",
       "      <td>-0.164674</td>\n",
       "      <td>0.063228</td>\n",
       "      <td>0.061382</td>\n",
       "      <td>0.040102</td>\n",
       "    </tr>\n",
       "    <tr>\n",
       "      <td>Type_One year</td>\n",
       "      <td>0.004904</td>\n",
       "      <td>0.170649</td>\n",
       "      <td>-0.046262</td>\n",
       "      <td>0.202650</td>\n",
       "      <td>-0.177820</td>\n",
       "      <td>1.000000</td>\n",
       "      <td>-0.289510</td>\n",
       "      <td>0.067589</td>\n",
       "      <td>-0.109130</td>\n",
       "      <td>-0.000116</td>\n",
       "      <td>...</td>\n",
       "      <td>0.068368</td>\n",
       "      <td>-0.076324</td>\n",
       "      <td>0.038004</td>\n",
       "      <td>0.100162</td>\n",
       "      <td>0.083722</td>\n",
       "      <td>0.102495</td>\n",
       "      <td>0.095775</td>\n",
       "      <td>0.061612</td>\n",
       "      <td>0.064926</td>\n",
       "      <td>-0.003794</td>\n",
       "    </tr>\n",
       "    <tr>\n",
       "      <td>Type_Two year</td>\n",
       "      <td>-0.074681</td>\n",
       "      <td>0.356226</td>\n",
       "      <td>-0.117000</td>\n",
       "      <td>0.558544</td>\n",
       "      <td>-0.302253</td>\n",
       "      <td>-0.289510</td>\n",
       "      <td>1.000000</td>\n",
       "      <td>0.173265</td>\n",
       "      <td>-0.282138</td>\n",
       "      <td>-0.004705</td>\n",
       "      <td>...</td>\n",
       "      <td>0.204613</td>\n",
       "      <td>-0.211526</td>\n",
       "      <td>0.218278</td>\n",
       "      <td>0.191773</td>\n",
       "      <td>0.111400</td>\n",
       "      <td>0.165096</td>\n",
       "      <td>0.240824</td>\n",
       "      <td>0.072049</td>\n",
       "      <td>0.073960</td>\n",
       "      <td>0.106253</td>\n",
       "    </tr>\n",
       "    <tr>\n",
       "      <td>PaymentMethod_Credit card (automatic)</td>\n",
       "      <td>0.030550</td>\n",
       "      <td>0.182745</td>\n",
       "      <td>-0.024135</td>\n",
       "      <td>0.233032</td>\n",
       "      <td>-0.134302</td>\n",
       "      <td>0.067589</td>\n",
       "      <td>0.173265</td>\n",
       "      <td>1.000000</td>\n",
       "      <td>-0.373322</td>\n",
       "      <td>-0.286049</td>\n",
       "      <td>...</td>\n",
       "      <td>0.060267</td>\n",
       "      <td>-0.050077</td>\n",
       "      <td>0.001030</td>\n",
       "      <td>0.115721</td>\n",
       "      <td>0.090785</td>\n",
       "      <td>0.111554</td>\n",
       "      <td>0.117272</td>\n",
       "      <td>0.040433</td>\n",
       "      <td>0.048575</td>\n",
       "      <td>0.060048</td>\n",
       "    </tr>\n",
       "    <tr>\n",
       "      <td>PaymentMethod_Electronic check</td>\n",
       "      <td>0.271625</td>\n",
       "      <td>-0.059971</td>\n",
       "      <td>0.171718</td>\n",
       "      <td>-0.208465</td>\n",
       "      <td>0.301919</td>\n",
       "      <td>-0.109130</td>\n",
       "      <td>-0.282138</td>\n",
       "      <td>-0.373322</td>\n",
       "      <td>1.000000</td>\n",
       "      <td>-0.387372</td>\n",
       "      <td>...</td>\n",
       "      <td>-0.150642</td>\n",
       "      <td>0.336410</td>\n",
       "      <td>-0.284917</td>\n",
       "      <td>-0.112338</td>\n",
       "      <td>-0.000408</td>\n",
       "      <td>-0.003351</td>\n",
       "      <td>-0.114839</td>\n",
       "      <td>0.144626</td>\n",
       "      <td>0.137966</td>\n",
       "      <td>0.083618</td>\n",
       "    </tr>\n",
       "    <tr>\n",
       "      <td>PaymentMethod_Mailed check</td>\n",
       "      <td>-0.377437</td>\n",
       "      <td>-0.294814</td>\n",
       "      <td>-0.153477</td>\n",
       "      <td>-0.233755</td>\n",
       "      <td>-0.091683</td>\n",
       "      <td>-0.000116</td>\n",
       "      <td>-0.004705</td>\n",
       "      <td>-0.286049</td>\n",
       "      <td>-0.387372</td>\n",
       "      <td>1.000000</td>\n",
       "      <td>...</td>\n",
       "      <td>0.059071</td>\n",
       "      <td>-0.306834</td>\n",
       "      <td>0.321361</td>\n",
       "      <td>-0.080798</td>\n",
       "      <td>-0.174164</td>\n",
       "      <td>-0.187373</td>\n",
       "      <td>-0.085509</td>\n",
       "      <td>-0.247742</td>\n",
       "      <td>-0.250595</td>\n",
       "      <td>-0.227206</td>\n",
       "    </tr>\n",
       "    <tr>\n",
       "      <td>gender_Male</td>\n",
       "      <td>-0.014569</td>\n",
       "      <td>-0.000002</td>\n",
       "      <td>-0.001874</td>\n",
       "      <td>0.005111</td>\n",
       "      <td>-0.008612</td>\n",
       "      <td>0.008026</td>\n",
       "      <td>-0.003695</td>\n",
       "      <td>0.001215</td>\n",
       "      <td>0.000752</td>\n",
       "      <td>0.013744</td>\n",
       "      <td>...</td>\n",
       "      <td>0.010517</td>\n",
       "      <td>-0.011286</td>\n",
       "      <td>0.006026</td>\n",
       "      <td>-0.017021</td>\n",
       "      <td>-0.013773</td>\n",
       "      <td>-0.002105</td>\n",
       "      <td>-0.009212</td>\n",
       "      <td>-0.008393</td>\n",
       "      <td>-0.010487</td>\n",
       "      <td>-0.008414</td>\n",
       "    </tr>\n",
       "    <tr>\n",
       "      <td>Partner_Yes</td>\n",
       "      <td>0.096848</td>\n",
       "      <td>0.318364</td>\n",
       "      <td>0.016479</td>\n",
       "      <td>0.379709</td>\n",
       "      <td>-0.150448</td>\n",
       "      <td>0.082783</td>\n",
       "      <td>0.248091</td>\n",
       "      <td>0.082029</td>\n",
       "      <td>-0.083852</td>\n",
       "      <td>-0.095125</td>\n",
       "      <td>...</td>\n",
       "      <td>0.452676</td>\n",
       "      <td>0.000304</td>\n",
       "      <td>0.000615</td>\n",
       "      <td>0.143106</td>\n",
       "      <td>0.141498</td>\n",
       "      <td>0.153786</td>\n",
       "      <td>0.119999</td>\n",
       "      <td>0.124666</td>\n",
       "      <td>0.117412</td>\n",
       "      <td>0.142057</td>\n",
       "    </tr>\n",
       "    <tr>\n",
       "      <td>Dependents_Yes</td>\n",
       "      <td>-0.113890</td>\n",
       "      <td>0.063593</td>\n",
       "      <td>-0.211185</td>\n",
       "      <td>0.159766</td>\n",
       "      <td>-0.164221</td>\n",
       "      <td>0.068368</td>\n",
       "      <td>0.204613</td>\n",
       "      <td>0.060267</td>\n",
       "      <td>-0.150642</td>\n",
       "      <td>0.059071</td>\n",
       "      <td>...</td>\n",
       "      <td>1.000000</td>\n",
       "      <td>-0.165818</td>\n",
       "      <td>0.139812</td>\n",
       "      <td>0.080972</td>\n",
       "      <td>0.023671</td>\n",
       "      <td>0.013963</td>\n",
       "      <td>0.063268</td>\n",
       "      <td>-0.016558</td>\n",
       "      <td>-0.039741</td>\n",
       "      <td>-0.024526</td>\n",
       "    </tr>\n",
       "    <tr>\n",
       "      <td>InternetService_Fiber optic</td>\n",
       "      <td>0.787066</td>\n",
       "      <td>0.361045</td>\n",
       "      <td>0.255338</td>\n",
       "      <td>0.019574</td>\n",
       "      <td>0.308020</td>\n",
       "      <td>-0.076324</td>\n",
       "      <td>-0.211526</td>\n",
       "      <td>-0.050077</td>\n",
       "      <td>0.336410</td>\n",
       "      <td>-0.306834</td>\n",
       "      <td>...</td>\n",
       "      <td>-0.165818</td>\n",
       "      <td>1.000000</td>\n",
       "      <td>-0.465793</td>\n",
       "      <td>-0.030696</td>\n",
       "      <td>0.165651</td>\n",
       "      <td>0.176049</td>\n",
       "      <td>-0.020492</td>\n",
       "      <td>0.329349</td>\n",
       "      <td>0.322923</td>\n",
       "      <td>0.366083</td>\n",
       "    </tr>\n",
       "    <tr>\n",
       "      <td>InternetService_No</td>\n",
       "      <td>-0.763557</td>\n",
       "      <td>-0.374706</td>\n",
       "      <td>-0.182742</td>\n",
       "      <td>-0.038951</td>\n",
       "      <td>-0.227890</td>\n",
       "      <td>0.038004</td>\n",
       "      <td>0.218278</td>\n",
       "      <td>0.001030</td>\n",
       "      <td>-0.284917</td>\n",
       "      <td>0.321361</td>\n",
       "      <td>...</td>\n",
       "      <td>0.139812</td>\n",
       "      <td>-0.465793</td>\n",
       "      <td>1.000000</td>\n",
       "      <td>-0.333403</td>\n",
       "      <td>-0.381593</td>\n",
       "      <td>-0.380754</td>\n",
       "      <td>-0.336298</td>\n",
       "      <td>-0.415552</td>\n",
       "      <td>-0.418675</td>\n",
       "      <td>-0.210564</td>\n",
       "    </tr>\n",
       "    <tr>\n",
       "      <td>OnlineSecurity_Yes</td>\n",
       "      <td>0.296594</td>\n",
       "      <td>0.412091</td>\n",
       "      <td>-0.038653</td>\n",
       "      <td>0.327203</td>\n",
       "      <td>-0.171226</td>\n",
       "      <td>0.100162</td>\n",
       "      <td>0.191773</td>\n",
       "      <td>0.115721</td>\n",
       "      <td>-0.112338</td>\n",
       "      <td>-0.080798</td>\n",
       "      <td>...</td>\n",
       "      <td>0.080972</td>\n",
       "      <td>-0.030696</td>\n",
       "      <td>-0.333403</td>\n",
       "      <td>1.000000</td>\n",
       "      <td>0.283832</td>\n",
       "      <td>0.275438</td>\n",
       "      <td>0.354931</td>\n",
       "      <td>0.176207</td>\n",
       "      <td>0.187398</td>\n",
       "      <td>0.098108</td>\n",
       "    </tr>\n",
       "    <tr>\n",
       "      <td>OnlineBackup_Yes</td>\n",
       "      <td>0.441780</td>\n",
       "      <td>0.509607</td>\n",
       "      <td>0.066572</td>\n",
       "      <td>0.360238</td>\n",
       "      <td>-0.082255</td>\n",
       "      <td>0.083722</td>\n",
       "      <td>0.111400</td>\n",
       "      <td>0.090785</td>\n",
       "      <td>-0.000408</td>\n",
       "      <td>-0.174164</td>\n",
       "      <td>...</td>\n",
       "      <td>0.023671</td>\n",
       "      <td>0.165651</td>\n",
       "      <td>-0.381593</td>\n",
       "      <td>0.283832</td>\n",
       "      <td>1.000000</td>\n",
       "      <td>0.303546</td>\n",
       "      <td>0.294233</td>\n",
       "      <td>0.282106</td>\n",
       "      <td>0.274501</td>\n",
       "      <td>0.202237</td>\n",
       "    </tr>\n",
       "    <tr>\n",
       "      <td>DeviceProtection_Yes</td>\n",
       "      <td>0.482692</td>\n",
       "      <td>0.522374</td>\n",
       "      <td>0.059428</td>\n",
       "      <td>0.360602</td>\n",
       "      <td>-0.066160</td>\n",
       "      <td>0.102495</td>\n",
       "      <td>0.165096</td>\n",
       "      <td>0.111554</td>\n",
       "      <td>-0.003351</td>\n",
       "      <td>-0.187373</td>\n",
       "      <td>...</td>\n",
       "      <td>0.013963</td>\n",
       "      <td>0.176049</td>\n",
       "      <td>-0.380754</td>\n",
       "      <td>0.275438</td>\n",
       "      <td>0.303546</td>\n",
       "      <td>1.000000</td>\n",
       "      <td>0.333313</td>\n",
       "      <td>0.390874</td>\n",
       "      <td>0.402111</td>\n",
       "      <td>0.201137</td>\n",
       "    </tr>\n",
       "    <tr>\n",
       "      <td>TechSupport_Yes</td>\n",
       "      <td>0.338304</td>\n",
       "      <td>0.432329</td>\n",
       "      <td>-0.060625</td>\n",
       "      <td>0.324238</td>\n",
       "      <td>-0.164674</td>\n",
       "      <td>0.095775</td>\n",
       "      <td>0.240824</td>\n",
       "      <td>0.117272</td>\n",
       "      <td>-0.114839</td>\n",
       "      <td>-0.085509</td>\n",
       "      <td>...</td>\n",
       "      <td>0.063268</td>\n",
       "      <td>-0.020492</td>\n",
       "      <td>-0.336298</td>\n",
       "      <td>0.354931</td>\n",
       "      <td>0.294233</td>\n",
       "      <td>0.333313</td>\n",
       "      <td>1.000000</td>\n",
       "      <td>0.278070</td>\n",
       "      <td>0.279358</td>\n",
       "      <td>0.100571</td>\n",
       "    </tr>\n",
       "    <tr>\n",
       "      <td>StreamingTV_Yes</td>\n",
       "      <td>0.629603</td>\n",
       "      <td>0.515279</td>\n",
       "      <td>0.105378</td>\n",
       "      <td>0.279657</td>\n",
       "      <td>0.063228</td>\n",
       "      <td>0.061612</td>\n",
       "      <td>0.072049</td>\n",
       "      <td>0.040433</td>\n",
       "      <td>0.144626</td>\n",
       "      <td>-0.247742</td>\n",
       "      <td>...</td>\n",
       "      <td>-0.016558</td>\n",
       "      <td>0.329349</td>\n",
       "      <td>-0.415552</td>\n",
       "      <td>0.176207</td>\n",
       "      <td>0.282106</td>\n",
       "      <td>0.390874</td>\n",
       "      <td>0.278070</td>\n",
       "      <td>1.000000</td>\n",
       "      <td>0.533094</td>\n",
       "      <td>0.257152</td>\n",
       "    </tr>\n",
       "    <tr>\n",
       "      <td>StreamingMovies_Yes</td>\n",
       "      <td>0.627429</td>\n",
       "      <td>0.519884</td>\n",
       "      <td>0.120176</td>\n",
       "      <td>0.286007</td>\n",
       "      <td>0.061382</td>\n",
       "      <td>0.064926</td>\n",
       "      <td>0.073960</td>\n",
       "      <td>0.048575</td>\n",
       "      <td>0.137966</td>\n",
       "      <td>-0.250595</td>\n",
       "      <td>...</td>\n",
       "      <td>-0.039741</td>\n",
       "      <td>0.322923</td>\n",
       "      <td>-0.418675</td>\n",
       "      <td>0.187398</td>\n",
       "      <td>0.274501</td>\n",
       "      <td>0.402111</td>\n",
       "      <td>0.279358</td>\n",
       "      <td>0.533094</td>\n",
       "      <td>1.000000</td>\n",
       "      <td>0.258751</td>\n",
       "    </tr>\n",
       "    <tr>\n",
       "      <td>MultipleLines_Yes</td>\n",
       "      <td>0.490434</td>\n",
       "      <td>0.468705</td>\n",
       "      <td>0.142948</td>\n",
       "      <td>0.331833</td>\n",
       "      <td>0.040102</td>\n",
       "      <td>-0.003794</td>\n",
       "      <td>0.106253</td>\n",
       "      <td>0.060048</td>\n",
       "      <td>0.083618</td>\n",
       "      <td>-0.227206</td>\n",
       "      <td>...</td>\n",
       "      <td>-0.024526</td>\n",
       "      <td>0.366083</td>\n",
       "      <td>-0.210564</td>\n",
       "      <td>0.098108</td>\n",
       "      <td>0.202237</td>\n",
       "      <td>0.201137</td>\n",
       "      <td>0.100571</td>\n",
       "      <td>0.257152</td>\n",
       "      <td>0.258751</td>\n",
       "      <td>1.000000</td>\n",
       "    </tr>\n",
       "  </tbody>\n",
       "</table>\n",
       "<p>22 rows × 22 columns</p>\n",
       "</div>"
      ],
      "text/plain": [
       "                                       MonthlyCharges  TotalCharges  \\\n",
       "MonthlyCharges                               1.000000      0.650864   \n",
       "TotalCharges                                 0.650864      1.000000   \n",
       "SeniorCitizen                                0.220173      0.102652   \n",
       "lifetime                                     0.247754      0.825394   \n",
       "target                                       0.193356     -0.199037   \n",
       "Type_One year                                0.004904      0.170649   \n",
       "Type_Two year                               -0.074681      0.356226   \n",
       "PaymentMethod_Credit card (automatic)        0.030550      0.182745   \n",
       "PaymentMethod_Electronic check               0.271625     -0.059971   \n",
       "PaymentMethod_Mailed check                  -0.377437     -0.294814   \n",
       "gender_Male                                 -0.014569     -0.000002   \n",
       "Partner_Yes                                  0.096848      0.318364   \n",
       "Dependents_Yes                              -0.113890      0.063593   \n",
       "InternetService_Fiber optic                  0.787066      0.361045   \n",
       "InternetService_No                          -0.763557     -0.374706   \n",
       "OnlineSecurity_Yes                           0.296594      0.412091   \n",
       "OnlineBackup_Yes                             0.441780      0.509607   \n",
       "DeviceProtection_Yes                         0.482692      0.522374   \n",
       "TechSupport_Yes                              0.338304      0.432329   \n",
       "StreamingTV_Yes                              0.629603      0.515279   \n",
       "StreamingMovies_Yes                          0.627429      0.519884   \n",
       "MultipleLines_Yes                            0.490434      0.468705   \n",
       "\n",
       "                                       SeniorCitizen  lifetime    target  \\\n",
       "MonthlyCharges                              0.220173  0.247754  0.193356   \n",
       "TotalCharges                                0.102652  0.825394 -0.199037   \n",
       "SeniorCitizen                               1.000000  0.016514  0.150889   \n",
       "lifetime                                    0.016514  1.000000 -0.352673   \n",
       "target                                      0.150889 -0.352673  1.000000   \n",
       "Type_One year                              -0.046262  0.202650 -0.177820   \n",
       "Type_Two year                              -0.117000  0.558544 -0.302253   \n",
       "PaymentMethod_Credit card (automatic)      -0.024135  0.233032 -0.134302   \n",
       "PaymentMethod_Electronic check              0.171718 -0.208465  0.301919   \n",
       "PaymentMethod_Mailed check                 -0.153477 -0.233755 -0.091683   \n",
       "gender_Male                                -0.001874  0.005111 -0.008612   \n",
       "Partner_Yes                                 0.016479  0.379709 -0.150448   \n",
       "Dependents_Yes                             -0.211185  0.159766 -0.164221   \n",
       "InternetService_Fiber optic                 0.255338  0.019574  0.308020   \n",
       "InternetService_No                         -0.182742 -0.038951 -0.227890   \n",
       "OnlineSecurity_Yes                         -0.038653  0.327203 -0.171226   \n",
       "OnlineBackup_Yes                            0.066572  0.360238 -0.082255   \n",
       "DeviceProtection_Yes                        0.059428  0.360602 -0.066160   \n",
       "TechSupport_Yes                            -0.060625  0.324238 -0.164674   \n",
       "StreamingTV_Yes                             0.105378  0.279657  0.063228   \n",
       "StreamingMovies_Yes                         0.120176  0.286007  0.061382   \n",
       "MultipleLines_Yes                           0.142948  0.331833  0.040102   \n",
       "\n",
       "                                       Type_One year  Type_Two year  \\\n",
       "MonthlyCharges                              0.004904      -0.074681   \n",
       "TotalCharges                                0.170649       0.356226   \n",
       "SeniorCitizen                              -0.046262      -0.117000   \n",
       "lifetime                                    0.202650       0.558544   \n",
       "target                                     -0.177820      -0.302253   \n",
       "Type_One year                               1.000000      -0.289510   \n",
       "Type_Two year                              -0.289510       1.000000   \n",
       "PaymentMethod_Credit card (automatic)       0.067589       0.173265   \n",
       "PaymentMethod_Electronic check             -0.109130      -0.282138   \n",
       "PaymentMethod_Mailed check                 -0.000116      -0.004705   \n",
       "gender_Male                                 0.008026      -0.003695   \n",
       "Partner_Yes                                 0.082783       0.248091   \n",
       "Dependents_Yes                              0.068368       0.204613   \n",
       "InternetService_Fiber optic                -0.076324      -0.211526   \n",
       "InternetService_No                          0.038004       0.218278   \n",
       "OnlineSecurity_Yes                          0.100162       0.191773   \n",
       "OnlineBackup_Yes                            0.083722       0.111400   \n",
       "DeviceProtection_Yes                        0.102495       0.165096   \n",
       "TechSupport_Yes                             0.095775       0.240824   \n",
       "StreamingTV_Yes                             0.061612       0.072049   \n",
       "StreamingMovies_Yes                         0.064926       0.073960   \n",
       "MultipleLines_Yes                          -0.003794       0.106253   \n",
       "\n",
       "                                       PaymentMethod_Credit card (automatic)  \\\n",
       "MonthlyCharges                                                      0.030550   \n",
       "TotalCharges                                                        0.182745   \n",
       "SeniorCitizen                                                      -0.024135   \n",
       "lifetime                                                            0.233032   \n",
       "target                                                             -0.134302   \n",
       "Type_One year                                                       0.067589   \n",
       "Type_Two year                                                       0.173265   \n",
       "PaymentMethod_Credit card (automatic)                               1.000000   \n",
       "PaymentMethod_Electronic check                                     -0.373322   \n",
       "PaymentMethod_Mailed check                                         -0.286049   \n",
       "gender_Male                                                         0.001215   \n",
       "Partner_Yes                                                         0.082029   \n",
       "Dependents_Yes                                                      0.060267   \n",
       "InternetService_Fiber optic                                        -0.050077   \n",
       "InternetService_No                                                  0.001030   \n",
       "OnlineSecurity_Yes                                                  0.115721   \n",
       "OnlineBackup_Yes                                                    0.090785   \n",
       "DeviceProtection_Yes                                                0.111554   \n",
       "TechSupport_Yes                                                     0.117272   \n",
       "StreamingTV_Yes                                                     0.040433   \n",
       "StreamingMovies_Yes                                                 0.048575   \n",
       "MultipleLines_Yes                                                   0.060048   \n",
       "\n",
       "                                       PaymentMethod_Electronic check  \\\n",
       "MonthlyCharges                                               0.271625   \n",
       "TotalCharges                                                -0.059971   \n",
       "SeniorCitizen                                                0.171718   \n",
       "lifetime                                                    -0.208465   \n",
       "target                                                       0.301919   \n",
       "Type_One year                                               -0.109130   \n",
       "Type_Two year                                               -0.282138   \n",
       "PaymentMethod_Credit card (automatic)                       -0.373322   \n",
       "PaymentMethod_Electronic check                               1.000000   \n",
       "PaymentMethod_Mailed check                                  -0.387372   \n",
       "gender_Male                                                  0.000752   \n",
       "Partner_Yes                                                 -0.083852   \n",
       "Dependents_Yes                                              -0.150642   \n",
       "InternetService_Fiber optic                                  0.336410   \n",
       "InternetService_No                                          -0.284917   \n",
       "OnlineSecurity_Yes                                          -0.112338   \n",
       "OnlineBackup_Yes                                            -0.000408   \n",
       "DeviceProtection_Yes                                        -0.003351   \n",
       "TechSupport_Yes                                             -0.114839   \n",
       "StreamingTV_Yes                                              0.144626   \n",
       "StreamingMovies_Yes                                          0.137966   \n",
       "MultipleLines_Yes                                            0.083618   \n",
       "\n",
       "                                       PaymentMethod_Mailed check  ...  \\\n",
       "MonthlyCharges                                          -0.377437  ...   \n",
       "TotalCharges                                            -0.294814  ...   \n",
       "SeniorCitizen                                           -0.153477  ...   \n",
       "lifetime                                                -0.233755  ...   \n",
       "target                                                  -0.091683  ...   \n",
       "Type_One year                                           -0.000116  ...   \n",
       "Type_Two year                                           -0.004705  ...   \n",
       "PaymentMethod_Credit card (automatic)                   -0.286049  ...   \n",
       "PaymentMethod_Electronic check                          -0.387372  ...   \n",
       "PaymentMethod_Mailed check                               1.000000  ...   \n",
       "gender_Male                                              0.013744  ...   \n",
       "Partner_Yes                                             -0.095125  ...   \n",
       "Dependents_Yes                                           0.059071  ...   \n",
       "InternetService_Fiber optic                             -0.306834  ...   \n",
       "InternetService_No                                       0.321361  ...   \n",
       "OnlineSecurity_Yes                                      -0.080798  ...   \n",
       "OnlineBackup_Yes                                        -0.174164  ...   \n",
       "DeviceProtection_Yes                                    -0.187373  ...   \n",
       "TechSupport_Yes                                         -0.085509  ...   \n",
       "StreamingTV_Yes                                         -0.247742  ...   \n",
       "StreamingMovies_Yes                                     -0.250595  ...   \n",
       "MultipleLines_Yes                                       -0.227206  ...   \n",
       "\n",
       "                                       Dependents_Yes  \\\n",
       "MonthlyCharges                              -0.113890   \n",
       "TotalCharges                                 0.063593   \n",
       "SeniorCitizen                               -0.211185   \n",
       "lifetime                                     0.159766   \n",
       "target                                      -0.164221   \n",
       "Type_One year                                0.068368   \n",
       "Type_Two year                                0.204613   \n",
       "PaymentMethod_Credit card (automatic)        0.060267   \n",
       "PaymentMethod_Electronic check              -0.150642   \n",
       "PaymentMethod_Mailed check                   0.059071   \n",
       "gender_Male                                  0.010517   \n",
       "Partner_Yes                                  0.452676   \n",
       "Dependents_Yes                               1.000000   \n",
       "InternetService_Fiber optic                 -0.165818   \n",
       "InternetService_No                           0.139812   \n",
       "OnlineSecurity_Yes                           0.080972   \n",
       "OnlineBackup_Yes                             0.023671   \n",
       "DeviceProtection_Yes                         0.013963   \n",
       "TechSupport_Yes                              0.063268   \n",
       "StreamingTV_Yes                             -0.016558   \n",
       "StreamingMovies_Yes                         -0.039741   \n",
       "MultipleLines_Yes                           -0.024526   \n",
       "\n",
       "                                       InternetService_Fiber optic  \\\n",
       "MonthlyCharges                                            0.787066   \n",
       "TotalCharges                                              0.361045   \n",
       "SeniorCitizen                                             0.255338   \n",
       "lifetime                                                  0.019574   \n",
       "target                                                    0.308020   \n",
       "Type_One year                                            -0.076324   \n",
       "Type_Two year                                            -0.211526   \n",
       "PaymentMethod_Credit card (automatic)                    -0.050077   \n",
       "PaymentMethod_Electronic check                            0.336410   \n",
       "PaymentMethod_Mailed check                               -0.306834   \n",
       "gender_Male                                              -0.011286   \n",
       "Partner_Yes                                               0.000304   \n",
       "Dependents_Yes                                           -0.165818   \n",
       "InternetService_Fiber optic                               1.000000   \n",
       "InternetService_No                                       -0.465793   \n",
       "OnlineSecurity_Yes                                       -0.030696   \n",
       "OnlineBackup_Yes                                          0.165651   \n",
       "DeviceProtection_Yes                                      0.176049   \n",
       "TechSupport_Yes                                          -0.020492   \n",
       "StreamingTV_Yes                                           0.329349   \n",
       "StreamingMovies_Yes                                       0.322923   \n",
       "MultipleLines_Yes                                         0.366083   \n",
       "\n",
       "                                       InternetService_No  OnlineSecurity_Yes  \\\n",
       "MonthlyCharges                                  -0.763557            0.296594   \n",
       "TotalCharges                                    -0.374706            0.412091   \n",
       "SeniorCitizen                                   -0.182742           -0.038653   \n",
       "lifetime                                        -0.038951            0.327203   \n",
       "target                                          -0.227890           -0.171226   \n",
       "Type_One year                                    0.038004            0.100162   \n",
       "Type_Two year                                    0.218278            0.191773   \n",
       "PaymentMethod_Credit card (automatic)            0.001030            0.115721   \n",
       "PaymentMethod_Electronic check                  -0.284917           -0.112338   \n",
       "PaymentMethod_Mailed check                       0.321361           -0.080798   \n",
       "gender_Male                                      0.006026           -0.017021   \n",
       "Partner_Yes                                      0.000615            0.143106   \n",
       "Dependents_Yes                                   0.139812            0.080972   \n",
       "InternetService_Fiber optic                     -0.465793           -0.030696   \n",
       "InternetService_No                               1.000000           -0.333403   \n",
       "OnlineSecurity_Yes                              -0.333403            1.000000   \n",
       "OnlineBackup_Yes                                -0.381593            0.283832   \n",
       "DeviceProtection_Yes                            -0.380754            0.275438   \n",
       "TechSupport_Yes                                 -0.336298            0.354931   \n",
       "StreamingTV_Yes                                 -0.415552            0.176207   \n",
       "StreamingMovies_Yes                             -0.418675            0.187398   \n",
       "MultipleLines_Yes                               -0.210564            0.098108   \n",
       "\n",
       "                                       OnlineBackup_Yes  DeviceProtection_Yes  \\\n",
       "MonthlyCharges                                 0.441780              0.482692   \n",
       "TotalCharges                                   0.509607              0.522374   \n",
       "SeniorCitizen                                  0.066572              0.059428   \n",
       "lifetime                                       0.360238              0.360602   \n",
       "target                                        -0.082255             -0.066160   \n",
       "Type_One year                                  0.083722              0.102495   \n",
       "Type_Two year                                  0.111400              0.165096   \n",
       "PaymentMethod_Credit card (automatic)          0.090785              0.111554   \n",
       "PaymentMethod_Electronic check                -0.000408             -0.003351   \n",
       "PaymentMethod_Mailed check                    -0.174164             -0.187373   \n",
       "gender_Male                                   -0.013773             -0.002105   \n",
       "Partner_Yes                                    0.141498              0.153786   \n",
       "Dependents_Yes                                 0.023671              0.013963   \n",
       "InternetService_Fiber optic                    0.165651              0.176049   \n",
       "InternetService_No                            -0.381593             -0.380754   \n",
       "OnlineSecurity_Yes                             0.283832              0.275438   \n",
       "OnlineBackup_Yes                               1.000000              0.303546   \n",
       "DeviceProtection_Yes                           0.303546              1.000000   \n",
       "TechSupport_Yes                                0.294233              0.333313   \n",
       "StreamingTV_Yes                                0.282106              0.390874   \n",
       "StreamingMovies_Yes                            0.274501              0.402111   \n",
       "MultipleLines_Yes                              0.202237              0.201137   \n",
       "\n",
       "                                       TechSupport_Yes  StreamingTV_Yes  \\\n",
       "MonthlyCharges                                0.338304         0.629603   \n",
       "TotalCharges                                  0.432329         0.515279   \n",
       "SeniorCitizen                                -0.060625         0.105378   \n",
       "lifetime                                      0.324238         0.279657   \n",
       "target                                       -0.164674         0.063228   \n",
       "Type_One year                                 0.095775         0.061612   \n",
       "Type_Two year                                 0.240824         0.072049   \n",
       "PaymentMethod_Credit card (automatic)         0.117272         0.040433   \n",
       "PaymentMethod_Electronic check               -0.114839         0.144626   \n",
       "PaymentMethod_Mailed check                   -0.085509        -0.247742   \n",
       "gender_Male                                  -0.009212        -0.008393   \n",
       "Partner_Yes                                   0.119999         0.124666   \n",
       "Dependents_Yes                                0.063268        -0.016558   \n",
       "InternetService_Fiber optic                  -0.020492         0.329349   \n",
       "InternetService_No                           -0.336298        -0.415552   \n",
       "OnlineSecurity_Yes                            0.354931         0.176207   \n",
       "OnlineBackup_Yes                              0.294233         0.282106   \n",
       "DeviceProtection_Yes                          0.333313         0.390874   \n",
       "TechSupport_Yes                               1.000000         0.278070   \n",
       "StreamingTV_Yes                               0.278070         1.000000   \n",
       "StreamingMovies_Yes                           0.279358         0.533094   \n",
       "MultipleLines_Yes                             0.100571         0.257152   \n",
       "\n",
       "                                       StreamingMovies_Yes  MultipleLines_Yes  \n",
       "MonthlyCharges                                    0.627429           0.490434  \n",
       "TotalCharges                                      0.519884           0.468705  \n",
       "SeniorCitizen                                     0.120176           0.142948  \n",
       "lifetime                                          0.286007           0.331833  \n",
       "target                                            0.061382           0.040102  \n",
       "Type_One year                                     0.064926          -0.003794  \n",
       "Type_Two year                                     0.073960           0.106253  \n",
       "PaymentMethod_Credit card (automatic)             0.048575           0.060048  \n",
       "PaymentMethod_Electronic check                    0.137966           0.083618  \n",
       "PaymentMethod_Mailed check                       -0.250595          -0.227206  \n",
       "gender_Male                                      -0.010487          -0.008414  \n",
       "Partner_Yes                                       0.117412           0.142057  \n",
       "Dependents_Yes                                   -0.039741          -0.024526  \n",
       "InternetService_Fiber optic                       0.322923           0.366083  \n",
       "InternetService_No                               -0.418675          -0.210564  \n",
       "OnlineSecurity_Yes                                0.187398           0.098108  \n",
       "OnlineBackup_Yes                                  0.274501           0.202237  \n",
       "DeviceProtection_Yes                              0.402111           0.201137  \n",
       "TechSupport_Yes                                   0.279358           0.100571  \n",
       "StreamingTV_Yes                                   0.533094           0.257152  \n",
       "StreamingMovies_Yes                               1.000000           0.258751  \n",
       "MultipleLines_Yes                                 0.258751           1.000000  \n",
       "\n",
       "[22 rows x 22 columns]"
      ]
     },
     "metadata": {},
     "output_type": "display_data"
    }
   ],
   "source": [
    "#проверка параметров на корреляцию\n",
    "data_corr = data_all.corr()\n",
    "display(data_corr)"
   ]
  },
  {
   "cell_type": "markdown",
   "id": "2b48736b",
   "metadata": {},
   "source": [
    "**Вывод:**\n",
    "\n",
    "Коэффициенты корреляции показывают насколько параметры зависят друг от друга. Если коэффициент корреляции между параметрами высокий (>0.8), при дальшейшем обучении это может привести к снижению точности модели или ее переобучению. В оставшихся у нас данных, таких высоких коэффициентов нет."
   ]
  },
  {
   "cell_type": "markdown",
   "id": "bf66076c",
   "metadata": {},
   "source": [
    "**Вывод**\n",
    "\n",
    "Данные почищены, заполнены пропуски, выделены признаки для будущего моделирования, также созданы новый признак и _target_."
   ]
  },
  {
   "cell_type": "markdown",
   "id": "4b36e005",
   "metadata": {},
   "source": [
    "## Разделение данных"
   ]
  },
  {
   "cell_type": "code",
   "execution_count": 21,
   "id": "3be24bf2",
   "metadata": {},
   "outputs": [],
   "source": [
    "#разделение данных на основную и тестовую выборки\n",
    "data_train, data_test = train_test_split(data_all, test_size=0.2, random_state=12345)\n",
    "\n",
    "features = data_train.drop(['target'], axis=1)\n",
    "target = data_train['target']"
   ]
  },
  {
   "cell_type": "code",
   "execution_count": 22,
   "id": "f5c86b0f",
   "metadata": {
    "scrolled": true
   },
   "outputs": [
    {
     "name": "stdout",
     "output_type": "stream",
     "text": [
      "<class 'pandas.core.frame.DataFrame'>\n",
      "Int64Index: 5634 entries, 1580 to 4578\n",
      "Data columns (total 22 columns):\n",
      "MonthlyCharges                           5634 non-null float64\n",
      "TotalCharges                             5634 non-null float64\n",
      "SeniorCitizen                            5634 non-null int64\n",
      "lifetime                                 5634 non-null float64\n",
      "target                                   5634 non-null int32\n",
      "Type_One year                            5634 non-null uint8\n",
      "Type_Two year                            5634 non-null uint8\n",
      "PaymentMethod_Credit card (automatic)    5634 non-null uint8\n",
      "PaymentMethod_Electronic check           5634 non-null uint8\n",
      "PaymentMethod_Mailed check               5634 non-null uint8\n",
      "gender_Male                              5634 non-null uint8\n",
      "Partner_Yes                              5634 non-null uint8\n",
      "Dependents_Yes                           5634 non-null uint8\n",
      "InternetService_Fiber optic              5634 non-null uint8\n",
      "InternetService_No                       5634 non-null uint8\n",
      "OnlineSecurity_Yes                       5634 non-null uint8\n",
      "OnlineBackup_Yes                         5634 non-null uint8\n",
      "DeviceProtection_Yes                     5634 non-null uint8\n",
      "TechSupport_Yes                          5634 non-null uint8\n",
      "StreamingTV_Yes                          5634 non-null uint8\n",
      "StreamingMovies_Yes                      5634 non-null uint8\n",
      "MultipleLines_Yes                        5634 non-null uint8\n",
      "dtypes: float64(3), int32(1), int64(1), uint8(17)\n",
      "memory usage: 335.6 KB\n",
      "<class 'pandas.core.frame.DataFrame'>\n",
      "Int64Index: 1409 entries, 1128 to 3409\n",
      "Data columns (total 22 columns):\n",
      "MonthlyCharges                           1409 non-null float64\n",
      "TotalCharges                             1409 non-null float64\n",
      "SeniorCitizen                            1409 non-null int64\n",
      "lifetime                                 1409 non-null float64\n",
      "target                                   1409 non-null int32\n",
      "Type_One year                            1409 non-null uint8\n",
      "Type_Two year                            1409 non-null uint8\n",
      "PaymentMethod_Credit card (automatic)    1409 non-null uint8\n",
      "PaymentMethod_Electronic check           1409 non-null uint8\n",
      "PaymentMethod_Mailed check               1409 non-null uint8\n",
      "gender_Male                              1409 non-null uint8\n",
      "Partner_Yes                              1409 non-null uint8\n",
      "Dependents_Yes                           1409 non-null uint8\n",
      "InternetService_Fiber optic              1409 non-null uint8\n",
      "InternetService_No                       1409 non-null uint8\n",
      "OnlineSecurity_Yes                       1409 non-null uint8\n",
      "OnlineBackup_Yes                         1409 non-null uint8\n",
      "DeviceProtection_Yes                     1409 non-null uint8\n",
      "TechSupport_Yes                          1409 non-null uint8\n",
      "StreamingTV_Yes                          1409 non-null uint8\n",
      "StreamingMovies_Yes                      1409 non-null uint8\n",
      "MultipleLines_Yes                        1409 non-null uint8\n",
      "dtypes: float64(3), int32(1), int64(1), uint8(17)\n",
      "memory usage: 83.9 KB\n"
     ]
    }
   ],
   "source": [
    "data_train.info()\n",
    "data_test.info()"
   ]
  },
  {
   "cell_type": "markdown",
   "id": "dc8cb06e",
   "metadata": {},
   "source": [
    "Проверяем соотношение выборок, чтобы убедится, что все правильно."
   ]
  },
  {
   "cell_type": "code",
   "execution_count": 23,
   "id": "b2485dd0",
   "metadata": {},
   "outputs": [],
   "source": [
    "features_test = data_test.drop(['target'], axis=1)\n",
    "target_test = data_test['target']"
   ]
  },
  {
   "cell_type": "markdown",
   "id": "f81dc7bd",
   "metadata": {},
   "source": [
    "**Так как далее будет использована кросс-валидация, поэтому выделяем только тестовую выборку.**"
   ]
  },
  {
   "cell_type": "code",
   "execution_count": 24,
   "id": "26de1181",
   "metadata": {
    "scrolled": true
   },
   "outputs": [
    {
     "name": "stdout",
     "output_type": "stream",
     "text": [
      "(4225, 22)\n",
      "(1409, 22)\n"
     ]
    }
   ],
   "source": [
    "#разделение данных для градиентного бустинга\n",
    "data_train2, data_valid = train_test_split(data_train, test_size=0.25, random_state=12345)\n",
    "print(data_train2.shape)\n",
    "print(data_valid.shape)\n"
   ]
  },
  {
   "cell_type": "code",
   "execution_count": 25,
   "id": "3e72f5c2",
   "metadata": {},
   "outputs": [],
   "source": [
    "#выделяем таргет в отдельную выборку и готовим признаки для дальнейшего обучения\n",
    "features_train = data_train2.drop(['target'], axis=1)\n",
    "target_train = data_train2['target']\n",
    "\n",
    "features_valid = data_valid.drop(['target'], axis=1)\n",
    "target_valid = data_valid['target']"
   ]
  },
  {
   "cell_type": "markdown",
   "id": "1987f879",
   "metadata": {},
   "source": [
    "**Вывод**\n",
    "\n",
    "Составлены выборки для дальнейшего моделирования. Также была создана тестовая выборка."
   ]
  },
  {
   "cell_type": "markdown",
   "id": "7f8086d5",
   "metadata": {},
   "source": [
    "## Борьба с дисбалансом"
   ]
  },
  {
   "cell_type": "code",
   "execution_count": 26,
   "id": "88ceb96b",
   "metadata": {
    "scrolled": false
   },
   "outputs": [
    {
     "name": "stdout",
     "output_type": "stream",
     "text": [
      "0    5174\n",
      "1    1869\n",
      "Name: target, dtype: int64\n"
     ]
    }
   ],
   "source": [
    "print(data_all['target'].value_counts())"
   ]
  },
  {
   "cell_type": "markdown",
   "id": "131dbb37",
   "metadata": {},
   "source": [
    "Дисбаланс присутствует, только 26,5% клиентов от выборки остались в компании. В данном случае имеет смысл провести увеличение выборки, чтобы положительных объектов стало больше. После этого модель должна лучше предсказывать положительные ответы, соответственно полнота модели должна увеличится."
   ]
  },
  {
   "cell_type": "code",
   "execution_count": 27,
   "id": "6bfeaa5d",
   "metadata": {},
   "outputs": [
    {
     "name": "stdout",
     "output_type": "stream",
     "text": [
      "(7124, 21)\n",
      "(7124,)\n"
     ]
    }
   ],
   "source": [
    "def upsample(features, target, repeat):\n",
    "    features_zeros = features[target == 0]\n",
    "    features_ones = features[target == 1]\n",
    "    target_zeros = target[target == 0]\n",
    "    target_ones = target[target == 1]\n",
    "\n",
    "    features_upsampled = pd.concat([features_zeros] + [features_ones] * repeat)\n",
    "    target_upsampled = pd.concat([target_zeros] + [target_ones] * repeat)\n",
    "    \n",
    "    features_upsampled, target_upsampled = shuffle(\n",
    "        features_upsampled, target_upsampled, random_state=12345)\n",
    "    \n",
    "    return features_upsampled, target_upsampled\n",
    "\n",
    "features_upsampled, target_upsampled = upsample(features, target, 2)\n",
    "\n",
    "print(features_upsampled.shape)\n",
    "print(target_upsampled.shape)"
   ]
  },
  {
   "cell_type": "markdown",
   "id": "f75452de",
   "metadata": {},
   "source": [
    "**Вывод**\n",
    "\n",
    "Дисбаланс для обучающей выборки устранен."
   ]
  },
  {
   "cell_type": "markdown",
   "id": "16b0cbe7",
   "metadata": {},
   "source": [
    "## Обучение моделей"
   ]
  },
  {
   "cell_type": "markdown",
   "id": "ce77eb50",
   "metadata": {},
   "source": [
    "Для обучения моделей используется метод кросс-валидации, как более надежный. Также, для сравнения, посмотрим градиентный бустинг LGBM."
   ]
  },
  {
   "cell_type": "code",
   "execution_count": 28,
   "id": "69b239c7",
   "metadata": {},
   "outputs": [
    {
     "name": "stdout",
     "output_type": "stream",
     "text": [
      "AUC-ROC: 0.9030916500014922\n"
     ]
    }
   ],
   "source": [
    "#модель решающего дерева\n",
    "model_tree = DecisionTreeClassifier(random_state=12345, max_depth=12) \n",
    "\n",
    "score_tree = cross_val_score(model_tree, \n",
    "                         features_upsampled, target_upsampled, \n",
    "                         cv=15,\n",
    "                       scoring='roc_auc')\n",
    "\n",
    "final_score_tree =  (abs(score_tree).sum())/len(score_tree)\n",
    "print('AUC-ROC:', final_score_tree)"
   ]
  },
  {
   "cell_type": "code",
   "execution_count": 29,
   "id": "e52df787",
   "metadata": {},
   "outputs": [
    {
     "name": "stdout",
     "output_type": "stream",
     "text": [
      "AUC-ROC: 0.9736314061537592\n"
     ]
    }
   ],
   "source": [
    "#модель случайного леса\n",
    "model_forest = RandomForestClassifier(random_state=12345, n_estimators=40, max_depth=19)\n",
    "\n",
    "scores_forest = cross_val_score(model_forest, \n",
    "                         features_upsampled, target_upsampled, \n",
    "                         cv=50, \n",
    "                         scoring='roc_auc')\n",
    "final_score_forest =  (abs(scores_forest).sum())/len(scores_forest)\n",
    "print('AUC-ROC:', final_score_forest)"
   ]
  },
  {
   "cell_type": "code",
   "execution_count": 30,
   "id": "d18b9d42",
   "metadata": {},
   "outputs": [
    {
     "name": "stdout",
     "output_type": "stream",
     "text": [
      "AUC-ROC: 0.8431011149036169\n"
     ]
    }
   ],
   "source": [
    "#логистическая регрессия\n",
    "model_logistic = LogisticRegression(random_state=12345, solver='liblinear')\n",
    "\n",
    "scores_logistic = cross_val_score(model_logistic, \n",
    "                         features_upsampled, target_upsampled, \n",
    "                         cv=5, \n",
    "                         scoring='roc_auc')\n",
    "final_score_logistic =  (abs(scores_logistic).sum())/len(scores_logistic)\n",
    "print('AUC-ROC:', final_score_logistic)"
   ]
  },
  {
   "cell_type": "code",
   "execution_count": 31,
   "id": "fce8c7e8",
   "metadata": {},
   "outputs": [
    {
     "name": "stdout",
     "output_type": "stream",
     "text": [
      "AUC-ROC: 0.873489677225513\n"
     ]
    }
   ],
   "source": [
    "#градиентный бустинг LGBM\n",
    "model_lgbm = LGBMRegressor(n_estimators=50, max_depth=30, learning_rate=0.2, boosting_type='gbdt')\n",
    "model_lgbm.fit(features_train, target_train)\n",
    "prediction_lgbm = model_lgbm.predict(features_valid)\n",
    "print('AUC-ROC:', roc_auc_score(target_valid, prediction_lgbm))"
   ]
  },
  {
   "cell_type": "code",
   "execution_count": 32,
   "id": "ca821dff",
   "metadata": {},
   "outputs": [
    {
     "data": {
      "image/png": "[encoded data removed]",
      "text/plain": [
       "<Figure size 720x864 with 1 Axes>"
      ]
     },
     "metadata": {
      "needs_background": "light"
     },
     "output_type": "display_data"
    }
   ],
   "source": [
    "#посмотрим, какие параметры влияют на модель сильнее всего\n",
    "skl_iris_imp = pd.Series(model_lgbm.feature_importances_,\n",
    "                         data_all.drop(['target'], axis=1).columns)\n",
    "\n",
    "fig, ax = plt.subplots(figsize=(10,12))\n",
    "skl_iris_imp.plot.bar(ax=ax)\n",
    "ax.set_title(\"Важность признаков\")\n",
    "ax.set_ylabel('Важность')\n",
    "fig.tight_layout()"
   ]
  },
  {
   "cell_type": "markdown",
   "id": "c430bf19",
   "metadata": {},
   "source": [
    "Из графика выше явно видно какие показатели влияют на модель больше всего: _MonthlyCharges_, _TotalCharges_, _lifetime_."
   ]
  },
  {
   "cell_type": "markdown",
   "id": "25d701f1",
   "metadata": {},
   "source": [
    "**Вывод**\n",
    "\n",
    "Из всех используемых моделей лучший результат показала модель случайного леса (AUC-ROC: 0.97)."
   ]
  },
  {
   "cell_type": "markdown",
   "id": "3ece991e",
   "metadata": {},
   "source": [
    "## Тестирование фунции"
   ]
  },
  {
   "cell_type": "code",
   "execution_count": 33,
   "id": "bf2b436b",
   "metadata": {},
   "outputs": [
    {
     "name": "stdout",
     "output_type": "stream",
     "text": [
      "AUC-ROC: 0.8439353741496598\n"
     ]
    }
   ],
   "source": [
    "scores_forest_test = cross_val_score(model_forest, \n",
    "                         features_test, target_test, \n",
    "                         cv=50, \n",
    "                         scoring='roc_auc')\n",
    "final_score_forest_test =  (abs(scores_forest_test).sum())/len(scores_forest_test)\n",
    "print('AUC-ROC:', final_score_forest_test)"
   ]
  },
  {
   "cell_type": "markdown",
   "id": "e2bacf2e",
   "metadata": {},
   "source": [
    "**Вывод**\n",
    "\n",
    "Проверка на тестовой выборке не показывает такого же хорошего результата. Скорей всего, это связано с тем, что для обучающей выборки был устранен дисбаланс классов, а в тестовой выборке он остался. Очевидно, для модели решающего дерева будет похожая картина. Проверим на тестовой выборке модель градиентного бустинга."
   ]
  },
  {
   "cell_type": "code",
   "execution_count": 34,
   "id": "6ff33638",
   "metadata": {},
   "outputs": [
    {
     "name": "stdout",
     "output_type": "stream",
     "text": [
      "AUC-ROC: 0.8838076696467455\n"
     ]
    }
   ],
   "source": [
    "prediction_lgbm_test = model_lgbm.predict(features_test)\n",
    "print('AUC-ROC:', roc_auc_score(target_test, prediction_lgbm_test))"
   ]
  },
  {
   "cell_type": "markdown",
   "id": "87f53223",
   "metadata": {},
   "source": [
    "**Вывод**\n",
    "\n",
    "Модель градиентного бустинга на тестовой выборке дает необходимую точность. Следовательно, именно ее стоит использовать для дальнейшего прогноза."
   ]
  },
  {
   "cell_type": "markdown",
   "id": "327d06b3",
   "metadata": {},
   "source": [
    "## Вывод"
   ]
  },
  {
   "cell_type": "markdown",
   "id": "948eee04",
   "metadata": {},
   "source": [
    "По данной работе можно сделать следующие выводы:\n",
    "1. Была проведена предобработка данных: перевод в нужный тип, устранение пропусков.\n",
    "2. Для категориальных признаков использовано прямое кодирование (OHE)\n",
    "3. Были выделены, а также сформированы новые признаки для моделирования\n",
    "4. При моделировании на тестовой выборке самую высокую точность показала модель случайного леса, но на тестовой выборке точность выше у LGBM\n",
    "5. Как итог, рекомендуемая модель с самой высокой точностью - LGBM"
   ]
  },
  {
   "cell_type": "markdown",
   "id": "c6ac11b9",
   "metadata": {},
   "source": [
    "Ура!＼(￣▽￣)／"
   ]
  }
 ],
 "metadata": {
  "ExecuteTimeLog": [
   {
    "duration": 7108,
    "start_time": "2022-03-02T08:07:22.800Z"
   },
   {
    "duration": 1154,
    "start_time": "2022-03-02T08:07:29.910Z"
   },
   {
    "duration": 1590,
    "start_time": "2022-03-02T08:07:31.066Z"
   },
   {
    "duration": 1161,
    "start_time": "2022-03-02T08:07:32.658Z"
   },
   {
    "duration": 864,
    "start_time": "2022-03-02T08:07:33.821Z"
   },
   {
    "duration": 923,
    "start_time": "2022-03-02T08:07:34.687Z"
   },
   {
    "duration": 10,
    "start_time": "2022-03-02T08:07:35.612Z"
   },
   {
    "duration": 10,
    "start_time": "2022-03-02T08:07:35.625Z"
   },
   {
    "duration": 36,
    "start_time": "2022-03-02T08:07:35.637Z"
   },
   {
    "duration": 18,
    "start_time": "2022-03-02T08:07:35.675Z"
   },
   {
    "duration": 3,
    "start_time": "2022-03-02T08:07:35.695Z"
   },
   {
    "duration": 43,
    "start_time": "2022-03-02T08:08:46.269Z"
   },
   {
    "duration": 26,
    "start_time": "2022-03-02T08:08:48.547Z"
   },
   {
    "duration": 11,
    "start_time": "2022-03-02T08:08:49.013Z"
   },
   {
    "duration": 10,
    "start_time": "2022-03-02T08:08:49.209Z"
   },
   {
    "duration": 6,
    "start_time": "2022-03-02T08:08:49.454Z"
   },
   {
    "duration": 8,
    "start_time": "2022-03-02T08:08:50.552Z"
   },
   {
    "duration": 5,
    "start_time": "2022-03-02T08:08:50.906Z"
   },
   {
    "duration": 15,
    "start_time": "2022-03-02T08:08:51.105Z"
   },
   {
    "duration": 7,
    "start_time": "2022-03-02T08:08:51.862Z"
   },
   {
    "duration": 12,
    "start_time": "2022-03-02T08:08:52.050Z"
   },
   {
    "duration": 5,
    "start_time": "2022-03-02T08:08:52.239Z"
   },
   {
    "duration": 8,
    "start_time": "2022-03-02T08:08:53.368Z"
   },
   {
    "duration": 6,
    "start_time": "2022-03-02T08:08:53.565Z"
   },
   {
    "duration": 6,
    "start_time": "2022-03-02T08:08:54.543Z"
   },
   {
    "duration": 13,
    "start_time": "2022-03-02T08:08:55.211Z"
   },
   {
    "duration": 394,
    "start_time": "2022-03-02T08:08:57.534Z"
   },
   {
    "duration": 11989,
    "start_time": "2022-03-02T08:09:00.234Z"
   },
   {
    "duration": 520,
    "start_time": "2022-03-02T08:09:12.225Z"
   },
   {
    "duration": 799,
    "start_time": "2022-03-02T08:09:12.747Z"
   },
   {
    "duration": 3991,
    "start_time": "2022-03-02T08:09:13.549Z"
   },
   {
    "duration": 12,
    "start_time": "2022-03-02T08:09:17.542Z"
   },
   {
    "duration": 7211,
    "start_time": "2022-03-04T17:02:13.615Z"
   },
   {
    "duration": 1177,
    "start_time": "2022-03-04T17:02:20.828Z"
   },
   {
    "duration": 1544,
    "start_time": "2022-03-04T17:02:22.007Z"
   },
   {
    "duration": 1124,
    "start_time": "2022-03-04T17:02:23.553Z"
   },
   {
    "duration": 1186,
    "start_time": "2022-03-04T17:02:24.679Z"
   },
   {
    "duration": 1266,
    "start_time": "2022-03-04T17:02:25.867Z"
   },
   {
    "duration": 10,
    "start_time": "2022-03-04T17:02:27.135Z"
   },
   {
    "duration": 12,
    "start_time": "2022-03-04T17:02:27.147Z"
   },
   {
    "duration": 41,
    "start_time": "2022-03-04T17:02:27.163Z"
   },
   {
    "duration": 19,
    "start_time": "2022-03-04T17:02:27.206Z"
   },
   {
    "duration": 4,
    "start_time": "2022-03-04T17:02:27.227Z"
   },
   {
    "duration": 67,
    "start_time": "2022-03-04T17:02:27.232Z"
   },
   {
    "duration": 27,
    "start_time": "2022-03-04T17:02:27.301Z"
   },
   {
    "duration": 29,
    "start_time": "2022-03-04T17:02:27.330Z"
   },
   {
    "duration": 13,
    "start_time": "2022-03-04T17:02:27.361Z"
   },
   {
    "duration": 5,
    "start_time": "2022-03-04T17:02:27.376Z"
   },
   {
    "duration": 9,
    "start_time": "2022-03-04T17:02:27.383Z"
   },
   {
    "duration": 8,
    "start_time": "2022-03-04T17:02:27.394Z"
   },
   {
    "duration": 61,
    "start_time": "2022-03-04T17:02:27.404Z"
   },
   {
    "duration": 8,
    "start_time": "2022-03-04T17:02:27.467Z"
   },
   {
    "duration": 13,
    "start_time": "2022-03-04T17:02:27.477Z"
   },
   {
    "duration": 4,
    "start_time": "2022-03-04T17:02:27.492Z"
   },
   {
    "duration": 10,
    "start_time": "2022-03-04T17:02:27.498Z"
   },
   {
    "duration": 6,
    "start_time": "2022-03-04T17:02:27.510Z"
   },
   {
    "duration": 43,
    "start_time": "2022-03-04T17:02:27.517Z"
   },
   {
    "duration": 15,
    "start_time": "2022-03-04T17:02:27.562Z"
   },
   {
    "duration": 457,
    "start_time": "2022-03-04T17:02:27.581Z"
   },
   {
    "duration": 12530,
    "start_time": "2022-03-04T17:02:28.041Z"
   },
   {
    "duration": 885,
    "start_time": "2022-03-04T17:02:40.573Z"
   },
   {
    "duration": 710,
    "start_time": "2022-03-04T17:02:41.461Z"
   },
   {
    "duration": 4068,
    "start_time": "2022-03-04T17:02:42.173Z"
   },
   {
    "duration": 20,
    "start_time": "2022-03-04T17:02:46.243Z"
   },
   {
    "duration": 34,
    "start_time": "2022-03-04T17:38:32.039Z"
   },
   {
    "duration": 331,
    "start_time": "2022-03-04T17:56:40.720Z"
   },
   {
    "duration": 288,
    "start_time": "2022-03-04T17:57:57.565Z"
   },
   {
    "duration": 255,
    "start_time": "2022-03-04T17:58:04.301Z"
   },
   {
    "duration": 278,
    "start_time": "2022-03-04T17:58:27.125Z"
   },
   {
    "duration": 5823,
    "start_time": "2022-03-04T17:58:33.569Z"
   },
   {
    "duration": 11,
    "start_time": "2022-03-04T17:59:09.679Z"
   },
   {
    "duration": 19,
    "start_time": "2022-03-04T18:10:21.860Z"
   },
   {
    "duration": 167,
    "start_time": "2022-03-04T18:10:44.494Z"
   },
   {
    "duration": 21,
    "start_time": "2022-03-04T18:15:11.750Z"
   },
   {
    "duration": 36,
    "start_time": "2022-03-04T18:15:22.640Z"
   },
   {
    "duration": 34,
    "start_time": "2022-03-04T18:16:13.151Z"
   },
   {
    "duration": 75,
    "start_time": "2022-03-04T18:23:51.359Z"
   },
   {
    "duration": 34,
    "start_time": "2022-03-04T18:24:10.345Z"
   },
   {
    "duration": 7192,
    "start_time": "2022-03-04T19:00:56.267Z"
   },
   {
    "duration": 1140,
    "start_time": "2022-03-04T19:01:03.461Z"
   },
   {
    "duration": 1699,
    "start_time": "2022-03-04T19:01:04.605Z"
   },
   {
    "duration": 1178,
    "start_time": "2022-03-04T19:01:06.306Z"
   },
   {
    "duration": 1138,
    "start_time": "2022-03-04T19:01:07.486Z"
   },
   {
    "duration": 935,
    "start_time": "2022-03-04T19:01:08.626Z"
   },
   {
    "duration": 8,
    "start_time": "2022-03-04T19:01:09.563Z"
   },
   {
    "duration": 8,
    "start_time": "2022-03-04T19:01:09.574Z"
   },
   {
    "duration": 40,
    "start_time": "2022-03-04T19:01:09.584Z"
   },
   {
    "duration": 34,
    "start_time": "2022-03-04T19:01:09.626Z"
   },
   {
    "duration": 4,
    "start_time": "2022-03-04T19:01:09.661Z"
   },
   {
    "duration": 45,
    "start_time": "2022-03-04T19:01:09.666Z"
   },
   {
    "duration": 48,
    "start_time": "2022-03-04T19:01:09.713Z"
   },
   {
    "duration": 10,
    "start_time": "2022-03-04T19:01:09.762Z"
   },
   {
    "duration": 11,
    "start_time": "2022-03-04T19:01:09.773Z"
   },
   {
    "duration": 4,
    "start_time": "2022-03-04T19:01:09.785Z"
   },
   {
    "duration": 8,
    "start_time": "2022-03-04T19:01:09.791Z"
   },
   {
    "duration": 6,
    "start_time": "2022-03-04T19:01:09.801Z"
   },
   {
    "duration": 51,
    "start_time": "2022-03-04T19:01:09.808Z"
   },
   {
    "duration": 31,
    "start_time": "2022-03-04T19:01:09.861Z"
   },
   {
    "duration": 6,
    "start_time": "2022-03-04T19:01:09.894Z"
   },
   {
    "duration": 14,
    "start_time": "2022-03-04T19:01:09.902Z"
   },
   {
    "duration": 4,
    "start_time": "2022-03-04T19:01:09.917Z"
   },
   {
    "duration": 7,
    "start_time": "2022-03-04T19:01:09.923Z"
   },
   {
    "duration": 5,
    "start_time": "2022-03-04T19:01:09.960Z"
   },
   {
    "duration": 6,
    "start_time": "2022-03-04T19:01:09.968Z"
   },
   {
    "duration": 17,
    "start_time": "2022-03-04T19:01:09.976Z"
   },
   {
    "duration": 457,
    "start_time": "2022-03-04T19:01:09.995Z"
   },
   {
    "duration": 12399,
    "start_time": "2022-03-04T19:01:10.454Z"
   },
   {
    "duration": 825,
    "start_time": "2022-03-04T19:01:22.855Z"
   },
   {
    "duration": 878,
    "start_time": "2022-03-04T19:01:23.683Z"
   },
   {
    "duration": 4092,
    "start_time": "2022-03-04T19:01:24.563Z"
   },
   {
    "duration": 16,
    "start_time": "2022-03-04T19:01:28.657Z"
   },
   {
    "duration": 678,
    "start_time": "2022-03-04T20:04:10.694Z"
   },
   {
    "duration": 7175,
    "start_time": "2022-03-04T20:35:07.275Z"
   },
   {
    "duration": 1185,
    "start_time": "2022-03-04T20:35:14.452Z"
   },
   {
    "duration": 1606,
    "start_time": "2022-03-04T20:35:15.639Z"
   },
   {
    "duration": 1294,
    "start_time": "2022-03-04T20:35:17.248Z"
   },
   {
    "duration": 1682,
    "start_time": "2022-03-04T20:35:18.544Z"
   },
   {
    "duration": 973,
    "start_time": "2022-03-04T20:35:20.228Z"
   },
   {
    "duration": 9,
    "start_time": "2022-03-04T20:35:21.202Z"
   },
   {
    "duration": 10,
    "start_time": "2022-03-04T20:35:21.214Z"
   },
   {
    "duration": 40,
    "start_time": "2022-03-04T20:35:21.226Z"
   },
   {
    "duration": 19,
    "start_time": "2022-03-04T20:35:21.268Z"
   },
   {
    "duration": 4,
    "start_time": "2022-03-04T20:35:21.289Z"
   },
   {
    "duration": 65,
    "start_time": "2022-03-04T20:35:21.294Z"
   },
   {
    "duration": 29,
    "start_time": "2022-03-04T20:35:21.361Z"
   },
   {
    "duration": 11,
    "start_time": "2022-03-04T20:35:21.391Z"
   },
   {
    "duration": 11,
    "start_time": "2022-03-04T20:35:21.403Z"
   },
   {
    "duration": 4,
    "start_time": "2022-03-04T20:35:21.416Z"
   },
   {
    "duration": 38,
    "start_time": "2022-03-04T20:35:21.422Z"
   },
   {
    "duration": 7,
    "start_time": "2022-03-04T20:35:21.461Z"
   },
   {
    "duration": 18,
    "start_time": "2022-03-04T20:35:21.470Z"
   },
   {
    "duration": 35,
    "start_time": "2022-03-04T20:35:21.489Z"
   },
   {
    "duration": 2,
    "start_time": "2022-03-04T20:35:21.525Z"
   },
   {
    "duration": 35,
    "start_time": "2022-03-04T20:35:21.529Z"
   },
   {
    "duration": 12,
    "start_time": "2022-03-04T20:35:21.567Z"
   },
   {
    "duration": 3,
    "start_time": "2022-03-04T20:35:21.581Z"
   },
   {
    "duration": 8,
    "start_time": "2022-03-04T20:35:21.586Z"
   },
   {
    "duration": 5,
    "start_time": "2022-03-04T20:35:21.595Z"
   },
   {
    "duration": 9,
    "start_time": "2022-03-04T20:35:21.602Z"
   },
   {
    "duration": 46,
    "start_time": "2022-03-04T20:35:21.613Z"
   },
   {
    "duration": 447,
    "start_time": "2022-03-04T20:35:21.661Z"
   },
   {
    "duration": 12643,
    "start_time": "2022-03-04T20:35:22.110Z"
   },
   {
    "duration": 836,
    "start_time": "2022-03-04T20:35:34.754Z"
   },
   {
    "duration": 1010,
    "start_time": "2022-03-04T20:35:35.660Z"
   },
   {
    "duration": 735,
    "start_time": "2022-03-04T20:35:36.672Z"
   },
   {
    "duration": 3994,
    "start_time": "2022-03-04T20:35:37.409Z"
   },
   {
    "duration": 12,
    "start_time": "2022-03-04T20:35:41.405Z"
   }
  ],
  "kernelspec": {
   "display_name": "Python 3 (ipykernel)",
   "language": "python",
   "name": "python3"
  },
  "language_info": {
   "codemirror_mode": {
    "name": "ipython",
    "version": 3
   },
   "file_extension": ".py",
   "mimetype": "text/x-python",
   "name": "python",
   "nbconvert_exporter": "python",
   "pygments_lexer": "ipython3",
   "version": "3.7.8"
  },
  "toc": {
   "base_numbering": 1,
   "nav_menu": {},
   "number_sections": true,
   "sideBar": true,
   "skip_h1_title": true,
   "title_cell": "Содержание",
   "title_sidebar": "Contents",
   "toc_cell": true,
   "toc_position": {},
   "toc_section_display": true,
   "toc_window_display": true
  }
 },
 "nbformat": 4,
 "nbformat_minor": 5
}
