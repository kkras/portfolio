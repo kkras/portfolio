{
 "cells": [
  {
   "cell_type": "markdown",
   "metadata": {},
   "source": [
    "# Исследование объявлений о продаже квартир\n",
    "\n",
    "Цель работы: на основе представленных данных установить параметры для определения рыночной стоимости объектов недвижимости. \n",
    "Провести исследовательский анализ данных. \n",
    "\n",
    "Вычислить и добавить в таблицу следующие параметры: \n",
    "- цену квадратного метра;\n",
    "- день недели, месяц и год публикации объявления;\n",
    "- этаж квартиры; варианты — первый, последний, другой;\n",
    "- соотношение жилой и общей площади, а также отношение площади кухни к общей."
   ]
  },
  {
   "cell_type": "markdown",
   "metadata": {
    "toc": true
   },
   "source": [
    "<h1>Содержание<span class=\"tocSkip\"></span></h1>\n",
    "<div class=\"toc\"><ul class=\"toc-item\"><li><span><a href=\"#Изучение-данных-из-файла\" data-toc-modified-id=\"Изучение-данных-из-файла-1\"><span class=\"toc-item-num\">1&nbsp;&nbsp;</span>Изучение данных из файла</a></span></li><li><span><a href=\"#Предобработка-данных\" data-toc-modified-id=\"Предобработка-данных-2\"><span class=\"toc-item-num\">2&nbsp;&nbsp;</span>Предобработка данных</a></span></li><li><span><a href=\"#Расчёты-и-добавление-результатов-в-таблицу\" data-toc-modified-id=\"Расчёты-и-добавление-результатов-в-таблицу-3\"><span class=\"toc-item-num\">3&nbsp;&nbsp;</span>Расчёты и добавление результатов в таблицу</a></span><ul class=\"toc-item\"><li><span><a href=\"#Расчет-цены-за-квадратный-метр\" data-toc-modified-id=\"Расчет-цены-за-квадратный-метр-3.1\"><span class=\"toc-item-num\">3.1&nbsp;&nbsp;</span>Расчет цены за квадратный метр</a></span></li><li><span><a href=\"#Вычисление-даты-публикации\" data-toc-modified-id=\"Вычисление-даты-публикации-3.2\"><span class=\"toc-item-num\">3.2&nbsp;&nbsp;</span>Вычисление даты публикации</a></span></li><li><span><a href=\"#Вычисление-этажа-квартиры\" data-toc-modified-id=\"Вычисление-этажа-квартиры-3.3\"><span class=\"toc-item-num\">3.3&nbsp;&nbsp;</span>Вычисление этажа квартиры</a></span></li><li><span><a href=\"#Вычисление-соотношений-площадей\" data-toc-modified-id=\"Вычисление-соотношений-площадей-3.4\"><span class=\"toc-item-num\">3.4&nbsp;&nbsp;</span>Вычисление соотношений площадей</a></span></li></ul></li><li><span><a href=\"#Исследовательский-анализ-данных\" data-toc-modified-id=\"Исследовательский-анализ-данных-4\"><span class=\"toc-item-num\">4&nbsp;&nbsp;</span>Исследовательский анализ данных</a></span><ul class=\"toc-item\"><li><span><a href=\"#Анализ-цен-на-квартиры\" data-toc-modified-id=\"Анализ-цен-на-квартиры-4.1\"><span class=\"toc-item-num\">4.1&nbsp;&nbsp;</span>Анализ цен на квартиры</a></span></li><li><span><a href=\"#Анализ-числа-комнат\" data-toc-modified-id=\"Анализ-числа-комнат-4.2\"><span class=\"toc-item-num\">4.2&nbsp;&nbsp;</span>Анализ числа комнат</a></span></li><li><span><a href=\"#Анализ-высоты-потолков\" data-toc-modified-id=\"Анализ-высоты-потолков-4.3\"><span class=\"toc-item-num\">4.3&nbsp;&nbsp;</span>Анализ высоты потолков</a></span></li><li><span><a href=\"#Анализ-времени-размещения-объявления\" data-toc-modified-id=\"Анализ-времени-размещения-объявления-4.4\"><span class=\"toc-item-num\">4.4&nbsp;&nbsp;</span>Анализ времени размещения объявления</a></span></li><li><span><a href=\"#Анализ-стоимости-недвижимости-в-зависимости-от-площади\" data-toc-modified-id=\"Анализ-стоимости-недвижимости-в-зависимости-от-площади-4.5\"><span class=\"toc-item-num\">4.5&nbsp;&nbsp;</span>Анализ стоимости недвижимости в зависимости от площади</a></span></li><li><span><a href=\"#Анализ-стоимости-недвижимости-в-зависимости-от-количества-комнат\" data-toc-modified-id=\"Анализ-стоимости-недвижимости-в-зависимости-от-количества-комнат-4.6\"><span class=\"toc-item-num\">4.6&nbsp;&nbsp;</span>Анализ стоимости недвижимости в зависимости от количества комнат</a></span></li><li><span><a href=\"#Анализ-стоимости-недвижимости-в-зависимости-от-расстояния-до-центра\" data-toc-modified-id=\"Анализ-стоимости-недвижимости-в-зависимости-от-расстояния-до-центра-4.7\"><span class=\"toc-item-num\">4.7&nbsp;&nbsp;</span>Анализ стоимости недвижимости в зависимости от расстояния до центра</a></span></li><li><span><a href=\"#Анализ-стоимости-недвижимости-в-зависимости-от-этажа\" data-toc-modified-id=\"Анализ-стоимости-недвижимости-в-зависимости-от-этажа-4.8\"><span class=\"toc-item-num\">4.8&nbsp;&nbsp;</span>Анализ стоимости недвижимости в зависимости от этажа</a></span></li><li><span><a href=\"#Анализ-стоимости-недвижимости-в-зависимости-от-дня-недели/месяца/года-публикации\" data-toc-modified-id=\"Анализ-стоимости-недвижимости-в-зависимости-от-дня-недели/месяца/года-публикации-4.9\"><span class=\"toc-item-num\">4.9&nbsp;&nbsp;</span>Анализ стоимости недвижимости в зависимости от дня недели/месяца/года публикации</a></span></li></ul></li><li><span><a href=\"#Расчет-показателей\" data-toc-modified-id=\"Расчет-показателей-5\"><span class=\"toc-item-num\">5&nbsp;&nbsp;</span>Расчет показателей</a></span><ul class=\"toc-item\"><li><span><a href=\"#Расчет-средней-цены-за-м-кв\" data-toc-modified-id=\"Расчет-средней-цены-за-м-кв-5.1\"><span class=\"toc-item-num\">5.1&nbsp;&nbsp;</span>Расчет средней цены за м кв</a></span></li><li><span><a href=\"#Определение-центра-Санкт-Петербурга\" data-toc-modified-id=\"Определение-центра-Санкт-Петербурга-5.2\"><span class=\"toc-item-num\">5.2&nbsp;&nbsp;</span>Определение центра Санкт-Петербурга</a></span></li><li><span><a href=\"#Вычисление-параметров-для-квартир-в-центре\" data-toc-modified-id=\"Вычисление-параметров-для-квартир-в-центре-5.3\"><span class=\"toc-item-num\">5.3&nbsp;&nbsp;</span>Вычисление параметров для квартир в центре</a></span></li></ul></li><li><span><a href=\"#Общий-вывод\" data-toc-modified-id=\"Общий-вывод-6\"><span class=\"toc-item-num\">6&nbsp;&nbsp;</span>Общий вывод</a></span></li></ul></div>"
   ]
  },
  {
   "cell_type": "markdown",
   "metadata": {},
   "source": [
    "## Изучение данных из файла"
   ]
  },
  {
   "cell_type": "code",
   "execution_count": 1,
   "metadata": {},
   "outputs": [],
   "source": [
    "#используемые библиотеки\n",
    "import pandas as pd\n",
    "import matplotlib.pyplot as plt\n",
    "\n",
    "import warnings\n",
    "warnings.simplefilter('ignore')"
   ]
  },
  {
   "cell_type": "code",
   "execution_count": 2,
   "metadata": {},
   "outputs": [
    {
     "data": {
      "text/html": [
       "<div>\n",
       "<style scoped>\n",
       "    .dataframe tbody tr th:only-of-type {\n",
       "        vertical-align: middle;\n",
       "    }\n",
       "\n",
       "    .dataframe tbody tr th {\n",
       "        vertical-align: top;\n",
       "    }\n",
       "\n",
       "    .dataframe thead th {\n",
       "        text-align: right;\n",
       "    }\n",
       "</style>\n",
       "<table border=\"1\" class=\"dataframe\">\n",
       "  <thead>\n",
       "    <tr style=\"text-align: right;\">\n",
       "      <th></th>\n",
       "      <th>total_images</th>\n",
       "      <th>last_price</th>\n",
       "      <th>total_area</th>\n",
       "      <th>first_day_exposition</th>\n",
       "      <th>rooms</th>\n",
       "      <th>ceiling_height</th>\n",
       "      <th>floors_total</th>\n",
       "      <th>living_area</th>\n",
       "      <th>floor</th>\n",
       "      <th>is_apartment</th>\n",
       "      <th>...</th>\n",
       "      <th>kitchen_area</th>\n",
       "      <th>balcony</th>\n",
       "      <th>locality_name</th>\n",
       "      <th>airports_nearest</th>\n",
       "      <th>cityCenters_nearest</th>\n",
       "      <th>parks_around3000</th>\n",
       "      <th>parks_nearest</th>\n",
       "      <th>ponds_around3000</th>\n",
       "      <th>ponds_nearest</th>\n",
       "      <th>days_exposition</th>\n",
       "    </tr>\n",
       "  </thead>\n",
       "  <tbody>\n",
       "    <tr>\n",
       "      <td>0</td>\n",
       "      <td>20</td>\n",
       "      <td>13000000.0</td>\n",
       "      <td>108.00</td>\n",
       "      <td>2019-03-07T00:00:00</td>\n",
       "      <td>3</td>\n",
       "      <td>2.70</td>\n",
       "      <td>16.0</td>\n",
       "      <td>51.0</td>\n",
       "      <td>8</td>\n",
       "      <td>NaN</td>\n",
       "      <td>...</td>\n",
       "      <td>25.00</td>\n",
       "      <td>NaN</td>\n",
       "      <td>Санкт-Петербург</td>\n",
       "      <td>18863.0</td>\n",
       "      <td>16028.0</td>\n",
       "      <td>1.0</td>\n",
       "      <td>482.0</td>\n",
       "      <td>2.0</td>\n",
       "      <td>755.0</td>\n",
       "      <td>NaN</td>\n",
       "    </tr>\n",
       "    <tr>\n",
       "      <td>1</td>\n",
       "      <td>7</td>\n",
       "      <td>3350000.0</td>\n",
       "      <td>40.40</td>\n",
       "      <td>2018-12-04T00:00:00</td>\n",
       "      <td>1</td>\n",
       "      <td>NaN</td>\n",
       "      <td>11.0</td>\n",
       "      <td>18.6</td>\n",
       "      <td>1</td>\n",
       "      <td>NaN</td>\n",
       "      <td>...</td>\n",
       "      <td>11.00</td>\n",
       "      <td>2.0</td>\n",
       "      <td>посёлок Шушары</td>\n",
       "      <td>12817.0</td>\n",
       "      <td>18603.0</td>\n",
       "      <td>0.0</td>\n",
       "      <td>NaN</td>\n",
       "      <td>0.0</td>\n",
       "      <td>NaN</td>\n",
       "      <td>81.0</td>\n",
       "    </tr>\n",
       "    <tr>\n",
       "      <td>2</td>\n",
       "      <td>10</td>\n",
       "      <td>5196000.0</td>\n",
       "      <td>56.00</td>\n",
       "      <td>2015-08-20T00:00:00</td>\n",
       "      <td>2</td>\n",
       "      <td>NaN</td>\n",
       "      <td>5.0</td>\n",
       "      <td>34.3</td>\n",
       "      <td>4</td>\n",
       "      <td>NaN</td>\n",
       "      <td>...</td>\n",
       "      <td>8.30</td>\n",
       "      <td>0.0</td>\n",
       "      <td>Санкт-Петербург</td>\n",
       "      <td>21741.0</td>\n",
       "      <td>13933.0</td>\n",
       "      <td>1.0</td>\n",
       "      <td>90.0</td>\n",
       "      <td>2.0</td>\n",
       "      <td>574.0</td>\n",
       "      <td>558.0</td>\n",
       "    </tr>\n",
       "    <tr>\n",
       "      <td>3</td>\n",
       "      <td>0</td>\n",
       "      <td>64900000.0</td>\n",
       "      <td>159.00</td>\n",
       "      <td>2015-07-24T00:00:00</td>\n",
       "      <td>3</td>\n",
       "      <td>NaN</td>\n",
       "      <td>14.0</td>\n",
       "      <td>NaN</td>\n",
       "      <td>9</td>\n",
       "      <td>NaN</td>\n",
       "      <td>...</td>\n",
       "      <td>NaN</td>\n",
       "      <td>0.0</td>\n",
       "      <td>Санкт-Петербург</td>\n",
       "      <td>28098.0</td>\n",
       "      <td>6800.0</td>\n",
       "      <td>2.0</td>\n",
       "      <td>84.0</td>\n",
       "      <td>3.0</td>\n",
       "      <td>234.0</td>\n",
       "      <td>424.0</td>\n",
       "    </tr>\n",
       "    <tr>\n",
       "      <td>4</td>\n",
       "      <td>2</td>\n",
       "      <td>10000000.0</td>\n",
       "      <td>100.00</td>\n",
       "      <td>2018-06-19T00:00:00</td>\n",
       "      <td>2</td>\n",
       "      <td>3.03</td>\n",
       "      <td>14.0</td>\n",
       "      <td>32.0</td>\n",
       "      <td>13</td>\n",
       "      <td>NaN</td>\n",
       "      <td>...</td>\n",
       "      <td>41.00</td>\n",
       "      <td>NaN</td>\n",
       "      <td>Санкт-Петербург</td>\n",
       "      <td>31856.0</td>\n",
       "      <td>8098.0</td>\n",
       "      <td>2.0</td>\n",
       "      <td>112.0</td>\n",
       "      <td>1.0</td>\n",
       "      <td>48.0</td>\n",
       "      <td>121.0</td>\n",
       "    </tr>\n",
       "    <tr>\n",
       "      <td>...</td>\n",
       "      <td>...</td>\n",
       "      <td>...</td>\n",
       "      <td>...</td>\n",
       "      <td>...</td>\n",
       "      <td>...</td>\n",
       "      <td>...</td>\n",
       "      <td>...</td>\n",
       "      <td>...</td>\n",
       "      <td>...</td>\n",
       "      <td>...</td>\n",
       "      <td>...</td>\n",
       "      <td>...</td>\n",
       "      <td>...</td>\n",
       "      <td>...</td>\n",
       "      <td>...</td>\n",
       "      <td>...</td>\n",
       "      <td>...</td>\n",
       "      <td>...</td>\n",
       "      <td>...</td>\n",
       "      <td>...</td>\n",
       "      <td>...</td>\n",
       "    </tr>\n",
       "    <tr>\n",
       "      <td>23694</td>\n",
       "      <td>9</td>\n",
       "      <td>9700000.0</td>\n",
       "      <td>133.81</td>\n",
       "      <td>2017-03-21T00:00:00</td>\n",
       "      <td>3</td>\n",
       "      <td>3.70</td>\n",
       "      <td>5.0</td>\n",
       "      <td>73.3</td>\n",
       "      <td>3</td>\n",
       "      <td>NaN</td>\n",
       "      <td>...</td>\n",
       "      <td>13.83</td>\n",
       "      <td>NaN</td>\n",
       "      <td>Санкт-Петербург</td>\n",
       "      <td>24665.0</td>\n",
       "      <td>4232.0</td>\n",
       "      <td>1.0</td>\n",
       "      <td>796.0</td>\n",
       "      <td>3.0</td>\n",
       "      <td>381.0</td>\n",
       "      <td>NaN</td>\n",
       "    </tr>\n",
       "    <tr>\n",
       "      <td>23695</td>\n",
       "      <td>14</td>\n",
       "      <td>3100000.0</td>\n",
       "      <td>59.00</td>\n",
       "      <td>2018-01-15T00:00:00</td>\n",
       "      <td>3</td>\n",
       "      <td>NaN</td>\n",
       "      <td>5.0</td>\n",
       "      <td>38.0</td>\n",
       "      <td>4</td>\n",
       "      <td>NaN</td>\n",
       "      <td>...</td>\n",
       "      <td>8.50</td>\n",
       "      <td>NaN</td>\n",
       "      <td>Тосно</td>\n",
       "      <td>NaN</td>\n",
       "      <td>NaN</td>\n",
       "      <td>NaN</td>\n",
       "      <td>NaN</td>\n",
       "      <td>NaN</td>\n",
       "      <td>NaN</td>\n",
       "      <td>45.0</td>\n",
       "    </tr>\n",
       "    <tr>\n",
       "      <td>23696</td>\n",
       "      <td>18</td>\n",
       "      <td>2500000.0</td>\n",
       "      <td>56.70</td>\n",
       "      <td>2018-02-11T00:00:00</td>\n",
       "      <td>2</td>\n",
       "      <td>NaN</td>\n",
       "      <td>3.0</td>\n",
       "      <td>29.7</td>\n",
       "      <td>1</td>\n",
       "      <td>NaN</td>\n",
       "      <td>...</td>\n",
       "      <td>NaN</td>\n",
       "      <td>NaN</td>\n",
       "      <td>село Рождествено</td>\n",
       "      <td>NaN</td>\n",
       "      <td>NaN</td>\n",
       "      <td>NaN</td>\n",
       "      <td>NaN</td>\n",
       "      <td>NaN</td>\n",
       "      <td>NaN</td>\n",
       "      <td>NaN</td>\n",
       "    </tr>\n",
       "    <tr>\n",
       "      <td>23697</td>\n",
       "      <td>13</td>\n",
       "      <td>11475000.0</td>\n",
       "      <td>76.75</td>\n",
       "      <td>2017-03-28T00:00:00</td>\n",
       "      <td>2</td>\n",
       "      <td>3.00</td>\n",
       "      <td>17.0</td>\n",
       "      <td>NaN</td>\n",
       "      <td>12</td>\n",
       "      <td>NaN</td>\n",
       "      <td>...</td>\n",
       "      <td>23.30</td>\n",
       "      <td>2.0</td>\n",
       "      <td>Санкт-Петербург</td>\n",
       "      <td>39140.0</td>\n",
       "      <td>10364.0</td>\n",
       "      <td>2.0</td>\n",
       "      <td>173.0</td>\n",
       "      <td>3.0</td>\n",
       "      <td>196.0</td>\n",
       "      <td>602.0</td>\n",
       "    </tr>\n",
       "    <tr>\n",
       "      <td>23698</td>\n",
       "      <td>4</td>\n",
       "      <td>1350000.0</td>\n",
       "      <td>32.30</td>\n",
       "      <td>2017-07-21T00:00:00</td>\n",
       "      <td>1</td>\n",
       "      <td>2.50</td>\n",
       "      <td>5.0</td>\n",
       "      <td>12.3</td>\n",
       "      <td>1</td>\n",
       "      <td>NaN</td>\n",
       "      <td>...</td>\n",
       "      <td>9.00</td>\n",
       "      <td>NaN</td>\n",
       "      <td>поселок Новый Учхоз</td>\n",
       "      <td>NaN</td>\n",
       "      <td>NaN</td>\n",
       "      <td>NaN</td>\n",
       "      <td>NaN</td>\n",
       "      <td>NaN</td>\n",
       "      <td>NaN</td>\n",
       "      <td>NaN</td>\n",
       "    </tr>\n",
       "  </tbody>\n",
       "</table>\n",
       "<p>23699 rows × 22 columns</p>\n",
       "</div>"
      ],
      "text/plain": [
       "       total_images  last_price  total_area first_day_exposition  rooms  \\\n",
       "0                20  13000000.0      108.00  2019-03-07T00:00:00      3   \n",
       "1                 7   3350000.0       40.40  2018-12-04T00:00:00      1   \n",
       "2                10   5196000.0       56.00  2015-08-20T00:00:00      2   \n",
       "3                 0  64900000.0      159.00  2015-07-24T00:00:00      3   \n",
       "4                 2  10000000.0      100.00  2018-06-19T00:00:00      2   \n",
       "...             ...         ...         ...                  ...    ...   \n",
       "23694             9   9700000.0      133.81  2017-03-21T00:00:00      3   \n",
       "23695            14   3100000.0       59.00  2018-01-15T00:00:00      3   \n",
       "23696            18   2500000.0       56.70  2018-02-11T00:00:00      2   \n",
       "23697            13  11475000.0       76.75  2017-03-28T00:00:00      2   \n",
       "23698             4   1350000.0       32.30  2017-07-21T00:00:00      1   \n",
       "\n",
       "       ceiling_height  floors_total  living_area  floor is_apartment  ...  \\\n",
       "0                2.70          16.0         51.0      8          NaN  ...   \n",
       "1                 NaN          11.0         18.6      1          NaN  ...   \n",
       "2                 NaN           5.0         34.3      4          NaN  ...   \n",
       "3                 NaN          14.0          NaN      9          NaN  ...   \n",
       "4                3.03          14.0         32.0     13          NaN  ...   \n",
       "...               ...           ...          ...    ...          ...  ...   \n",
       "23694            3.70           5.0         73.3      3          NaN  ...   \n",
       "23695             NaN           5.0         38.0      4          NaN  ...   \n",
       "23696             NaN           3.0         29.7      1          NaN  ...   \n",
       "23697            3.00          17.0          NaN     12          NaN  ...   \n",
       "23698            2.50           5.0         12.3      1          NaN  ...   \n",
       "\n",
       "       kitchen_area  balcony        locality_name  airports_nearest  \\\n",
       "0             25.00      NaN      Санкт-Петербург           18863.0   \n",
       "1             11.00      2.0       посёлок Шушары           12817.0   \n",
       "2              8.30      0.0      Санкт-Петербург           21741.0   \n",
       "3               NaN      0.0      Санкт-Петербург           28098.0   \n",
       "4             41.00      NaN      Санкт-Петербург           31856.0   \n",
       "...             ...      ...                  ...               ...   \n",
       "23694         13.83      NaN      Санкт-Петербург           24665.0   \n",
       "23695          8.50      NaN                Тосно               NaN   \n",
       "23696           NaN      NaN     село Рождествено               NaN   \n",
       "23697         23.30      2.0      Санкт-Петербург           39140.0   \n",
       "23698          9.00      NaN  поселок Новый Учхоз               NaN   \n",
       "\n",
       "      cityCenters_nearest  parks_around3000  parks_nearest  ponds_around3000  \\\n",
       "0                 16028.0               1.0          482.0               2.0   \n",
       "1                 18603.0               0.0            NaN               0.0   \n",
       "2                 13933.0               1.0           90.0               2.0   \n",
       "3                  6800.0               2.0           84.0               3.0   \n",
       "4                  8098.0               2.0          112.0               1.0   \n",
       "...                   ...               ...            ...               ...   \n",
       "23694              4232.0               1.0          796.0               3.0   \n",
       "23695                 NaN               NaN            NaN               NaN   \n",
       "23696                 NaN               NaN            NaN               NaN   \n",
       "23697             10364.0               2.0          173.0               3.0   \n",
       "23698                 NaN               NaN            NaN               NaN   \n",
       "\n",
       "       ponds_nearest  days_exposition  \n",
       "0              755.0              NaN  \n",
       "1                NaN             81.0  \n",
       "2              574.0            558.0  \n",
       "3              234.0            424.0  \n",
       "4               48.0            121.0  \n",
       "...              ...              ...  \n",
       "23694          381.0              NaN  \n",
       "23695            NaN             45.0  \n",
       "23696            NaN              NaN  \n",
       "23697          196.0            602.0  \n",
       "23698            NaN              NaN  \n",
       "\n",
       "[23699 rows x 22 columns]"
      ]
     },
     "execution_count": 2,
     "metadata": {},
     "output_type": "execute_result"
    }
   ],
   "source": [
    "#загрузка данных\n"
   ]
  },
  {
   "cell_type": "code",
   "execution_count": 3,
   "metadata": {},
   "outputs": [
    {
     "name": "stdout",
     "output_type": "stream",
     "text": [
      "Базовая информация о датасете\n",
      "<class 'pandas.core.frame.DataFrame'>\n",
      "RangeIndex: 23699 entries, 0 to 23698\n",
      "Data columns (total 22 columns):\n",
      "total_images            23699 non-null int64\n",
      "last_price              23699 non-null float64\n",
      "total_area              23699 non-null float64\n",
      "first_day_exposition    23699 non-null object\n",
      "rooms                   23699 non-null int64\n",
      "ceiling_height          14504 non-null float64\n",
      "floors_total            23613 non-null float64\n",
      "living_area             21796 non-null float64\n",
      "floor                   23699 non-null int64\n",
      "is_apartment            2775 non-null object\n",
      "studio                  23699 non-null bool\n",
      "open_plan               23699 non-null bool\n",
      "kitchen_area            21421 non-null float64\n",
      "balcony                 12180 non-null float64\n",
      "locality_name           23650 non-null object\n",
      "airports_nearest        18157 non-null float64\n",
      "cityCenters_nearest     18180 non-null float64\n",
      "parks_around3000        18181 non-null float64\n",
      "parks_nearest           8079 non-null float64\n",
      "ponds_around3000        18181 non-null float64\n",
      "ponds_nearest           9110 non-null float64\n",
      "days_exposition         20518 non-null float64\n",
      "dtypes: bool(2), float64(14), int64(3), object(3)\n",
      "memory usage: 3.7+ MB\n",
      "\n",
      "Пропущенные значения:\n",
      "total_images                0\n",
      "last_price                  0\n",
      "total_area                  0\n",
      "first_day_exposition        0\n",
      "rooms                       0\n",
      "ceiling_height           9195\n",
      "floors_total               86\n",
      "living_area              1903\n",
      "floor                       0\n",
      "is_apartment            20924\n",
      "studio                      0\n",
      "open_plan                   0\n",
      "kitchen_area             2278\n",
      "balcony                 11519\n",
      "locality_name              49\n",
      "airports_nearest         5542\n",
      "cityCenters_nearest      5519\n",
      "parks_around3000         5518\n",
      "parks_nearest           15620\n",
      "ponds_around3000         5518\n",
      "ponds_nearest           14589\n",
      "days_exposition          3181\n",
      "dtype: int64\n"
     ]
    }
   ],
   "source": [
    "print('Базовая информация о датасете')\n",
    "data.info() #базовая информация о данных\n",
    "\n",
    "print()\n",
    "print('Пропущенные значения:')\n",
    "print(data.isnull().sum()) #проверка отсутствующих значений"
   ]
  },
  {
   "cell_type": "markdown",
   "metadata": {},
   "source": [
    "**Выводы**"
   ]
  },
  {
   "cell_type": "markdown",
   "metadata": {},
   "source": [
    "1. Посчитаны пропущенные значения методом 'isnull()' и 'count()'. В некоторых случаях не указана высота потолков, количество этажей в доме, площадь, тип апартаментов, площадь кухни, кол-во балконов, название города, расстояния до объектов инфраструктуры (аэропорты, парки, водоемы), время размещения объявления.\n",
    "2. Параметры _first_day_exposition_ и _is_apartment_ имеют тип _object_, хотя первый параметр это дата, а второй - булев тип."
   ]
  },
  {
   "cell_type": "markdown",
   "metadata": {},
   "source": [
    "## Предобработка данных"
   ]
  },
  {
   "cell_type": "markdown",
   "metadata": {},
   "source": [
    "На данном этапе необходимо заполнить обнаруженные пропуски,  перевести формат данных на необходимые. \n",
    "\n",
    "Столбец _balcony_ показывает наличие балкона, соответсвенно, если значение пропущено, то балкона нет. Поэтому в этом столбце заменяем _NaN_ на 0. По такой же логике заменяем пропущенные значения на ноль в столбцах _parks_around3000_, _ponds_around3000_"
   ]
  },
  {
   "cell_type": "code",
   "execution_count": 4,
   "metadata": {},
   "outputs": [],
   "source": [
    "data['balcony'] = data['balcony'].fillna(0)\n",
    "\n",
    "#замена в столбцах парки и пруды в 3000м на ноль\n",
    "data['parks_around3000'] = data['parks_around3000'].fillna(0)\n",
    "data['ponds_around3000'] = data['ponds_around3000'].fillna(0)"
   ]
  },
  {
   "cell_type": "code",
   "execution_count": 5,
   "metadata": {},
   "outputs": [],
   "source": [
    "#замена формата на datetime\n",
    "data['first_day_exposition'] = pd.to_datetime(data['first_day_exposition'], format='%Y-%m-%dT%H:%M:%S') "
   ]
  },
  {
   "cell_type": "code",
   "execution_count": 6,
   "metadata": {},
   "outputs": [],
   "source": [
    "#замена пропущенных значений столбца is_apartment на False\n",
    "data['is_apartment'] = data['is_apartment'].fillna(False)"
   ]
  },
  {
   "cell_type": "markdown",
   "metadata": {},
   "source": [
    "В столбце _ceiling_height_ (высота потолков) необходимо заменить пропущенные ячейки числовыми значениями. Для этого возьмем среднюю высоту пололков по городу."
   ]
  },
  {
   "cell_type": "code",
   "execution_count": 7,
   "metadata": {},
   "outputs": [],
   "source": [
    "#замена высоты потолков\n",
    "data['ceiling_height'] = data['ceiling_height'].fillna(data['ceiling_height'].mean())"
   ]
  },
  {
   "cell_type": "markdown",
   "metadata": {},
   "source": [
    "Для того чтобы понять, как заполнить пропуски для параметров _living_area_ и _kitchen_area_ и нужно ли это делать, проверим следующую теорию: площади кухни и жилой не указаны для квартир-студий.\n",
    "\n",
    "Чтобы это проверить, вызовем уникальные значения и их упоминания для рассматриваемых параметров."
   ]
  },
  {
   "cell_type": "code",
   "execution_count": 8,
   "metadata": {
    "scrolled": true
   },
   "outputs": [
    {
     "name": "stdout",
     "output_type": "stream",
     "text": [
      "Для параметра living_area\n",
      "False    1893\n",
      "True       10\n",
      "Name: studio, dtype: int64\n",
      "\n",
      "Для параметра kitchen_area\n",
      "False    2129\n",
      "True      149\n",
      "Name: studio, dtype: int64\n"
     ]
    }
   ],
   "source": [
    "print('Для параметра living_area')\n",
    "print(data.query('living_area == \"NaN\"')['studio'].value_counts())\n",
    "print()\n",
    "print('Для параметра kitchen_area')\n",
    "print(data.query('kitchen_area == \"NaN\"')['studio'].value_counts())"
   ]
  },
  {
   "cell_type": "markdown",
   "metadata": {},
   "source": [
    "Получаем, что большая часть пропущенных значений не принадлежит квартирам-студиям. Наша теория не подтвердилась, поэтому заменим пропуски средним значением площади.\n"
   ]
  },
  {
   "cell_type": "code",
   "execution_count": 9,
   "metadata": {},
   "outputs": [],
   "source": [
    "data['living_area'] = data['living_area'].fillna(data['living_area'].mean())\n",
    "\n",
    "data['kitchen_area'] = data['kitchen_area'].fillna(data['kitchen_area'].mean())"
   ]
  },
  {
   "cell_type": "code",
   "execution_count": 10,
   "metadata": {},
   "outputs": [],
   "source": [
    "columns = ['living_area', 'kitchen_area']\n",
    "\n",
    "for i in columns:\n",
    "    data[i] = data[i].fillna(data[i].mean)"
   ]
  },
  {
   "cell_type": "code",
   "execution_count": 11,
   "metadata": {},
   "outputs": [
    {
     "name": "stdout",
     "output_type": "stream",
     "text": [
      "<class 'pandas.core.frame.DataFrame'>\n",
      "RangeIndex: 23699 entries, 0 to 23698\n",
      "Data columns (total 22 columns):\n",
      "total_images            23699 non-null int64\n",
      "last_price              23699 non-null float64\n",
      "total_area              23699 non-null float64\n",
      "first_day_exposition    23699 non-null datetime64[ns]\n",
      "rooms                   23699 non-null int64\n",
      "ceiling_height          23699 non-null float64\n",
      "floors_total            23613 non-null float64\n",
      "living_area             23699 non-null float64\n",
      "floor                   23699 non-null int64\n",
      "is_apartment            23699 non-null bool\n",
      "studio                  23699 non-null bool\n",
      "open_plan               23699 non-null bool\n",
      "kitchen_area            23699 non-null float64\n",
      "balcony                 23699 non-null float64\n",
      "locality_name           23650 non-null object\n",
      "airports_nearest        18157 non-null float64\n",
      "cityCenters_nearest     18180 non-null float64\n",
      "parks_around3000        23699 non-null float64\n",
      "parks_nearest           8079 non-null float64\n",
      "ponds_around3000        23699 non-null float64\n",
      "ponds_nearest           9110 non-null float64\n",
      "days_exposition         20518 non-null float64\n",
      "dtypes: bool(3), datetime64[ns](1), float64(14), int64(3), object(1)\n",
      "memory usage: 3.5+ MB\n"
     ]
    }
   ],
   "source": [
    "data.info()"
   ]
  },
  {
   "cell_type": "markdown",
   "metadata": {},
   "source": [
    "Для квартир, которые не указали расстояние для парков и прудов возьмем среднее расстояние по городу."
   ]
  },
  {
   "cell_type": "code",
   "execution_count": 12,
   "metadata": {
    "scrolled": true
   },
   "outputs": [],
   "source": [
    "#находим средние расстояния до парков и прудов в Питере\n",
    "SP_ponds_mean =data.query('locality_name == \"Санкт-Петербург\"')['ponds_nearest'].mean()\n",
    "SP_parks_mean =data.query('locality_name == \"Санкт-Петербург\"')['parks_nearest'].mean()\n",
    "\n",
    "#заполняем пустые значения для Питера\n",
    "#data.loc[(data['locality_name'] == \"Санкт-Петербург\") & (data['ponds_nearest']=='NaN'), 'ponds_nearest'] = 'SP_ponds_mean'\n",
    "#data.loc[(data['locality_name'] == \"Санкт-Петербург\") & (data['parks_nearest']=='NaN'), 'parks_nearest'] = 'SP_parks_mean'\n"
   ]
  },
  {
   "cell_type": "code",
   "execution_count": 13,
   "metadata": {},
   "outputs": [],
   "source": [
    "columns1 = ['ponds_nearest', 'parks_nearest']\n",
    "\n",
    "for i in columns1:\n",
    "    data[i] = data[i].loc[(data['locality_name'] == \"Санкт-Петербург\")].fillna(data.query('locality_name == \"Санкт-Петербург\"')[i].mean())"
   ]
  },
  {
   "cell_type": "code",
   "execution_count": 14,
   "metadata": {
    "scrolled": false
   },
   "outputs": [
    {
     "name": "stdout",
     "output_type": "stream",
     "text": [
      "Санкт-Петербург                          15721\n",
      "посёлок Мурино                             522\n",
      "посёлок Шушары                             440\n",
      "Всеволожск                                 398\n",
      "Пушкин                                     369\n",
      "                                         ...  \n",
      "посёлок Платформа 69-й километр              1\n",
      "деревня Ялгино                               1\n",
      "поселок городского типа Большая Ижора        1\n",
      "поселок Гладкое                              1\n",
      "деревня Меньково                             1\n",
      "Name: locality_name, Length: 364, dtype: int64\n"
     ]
    }
   ],
   "source": [
    "print(data['locality_name'].value_counts())"
   ]
  },
  {
   "cell_type": "code",
   "execution_count": null,
   "metadata": {},
   "outputs": [],
   "source": []
  },
  {
   "cell_type": "code",
   "execution_count": 15,
   "metadata": {},
   "outputs": [
    {
     "name": "stdout",
     "output_type": "stream",
     "text": [
      "Пропущенные значения:\n",
      "total_images               0\n",
      "last_price                 0\n",
      "total_area                 0\n",
      "first_day_exposition       0\n",
      "rooms                      0\n",
      "ceiling_height             0\n",
      "floors_total              86\n",
      "living_area                0\n",
      "floor                      0\n",
      "is_apartment               0\n",
      "studio                     0\n",
      "open_plan                  0\n",
      "kitchen_area               0\n",
      "balcony                    0\n",
      "locality_name             49\n",
      "airports_nearest        5542\n",
      "cityCenters_nearest     5519\n",
      "parks_around3000           0\n",
      "parks_nearest           7978\n",
      "ponds_around3000           0\n",
      "ponds_nearest           7978\n",
      "days_exposition         3181\n",
      "dtype: int64\n",
      "<class 'pandas.core.frame.DataFrame'>\n",
      "RangeIndex: 23699 entries, 0 to 23698\n",
      "Data columns (total 22 columns):\n",
      "total_images            23699 non-null int64\n",
      "last_price              23699 non-null float64\n",
      "total_area              23699 non-null float64\n",
      "first_day_exposition    23699 non-null datetime64[ns]\n",
      "rooms                   23699 non-null int64\n",
      "ceiling_height          23699 non-null float64\n",
      "floors_total            23613 non-null float64\n",
      "living_area             23699 non-null float64\n",
      "floor                   23699 non-null int64\n",
      "is_apartment            23699 non-null bool\n",
      "studio                  23699 non-null bool\n",
      "open_plan               23699 non-null bool\n",
      "kitchen_area            23699 non-null float64\n",
      "balcony                 23699 non-null float64\n",
      "locality_name           23650 non-null object\n",
      "airports_nearest        18157 non-null float64\n",
      "cityCenters_nearest     18180 non-null float64\n",
      "parks_around3000        23699 non-null float64\n",
      "parks_nearest           15721 non-null float64\n",
      "ponds_around3000        23699 non-null float64\n",
      "ponds_nearest           15721 non-null float64\n",
      "days_exposition         20518 non-null float64\n",
      "dtypes: bool(3), datetime64[ns](1), float64(14), int64(3), object(1)\n",
      "memory usage: 3.5+ MB\n"
     ]
    }
   ],
   "source": [
    "#проверка пропусков после обработки\n",
    "print('Пропущенные значения:')\n",
    "print(data.isnull().sum()) \n",
    "\n",
    "data.info()"
   ]
  },
  {
   "cell_type": "markdown",
   "metadata": {},
   "source": [
    "**Вывод**"
   ]
  },
  {
   "cell_type": "code",
   "execution_count": 16,
   "metadata": {
    "scrolled": true
   },
   "outputs": [
    {
     "name": "stdout",
     "output_type": "stream",
     "text": [
      "total_images               0\n",
      "last_price                 0\n",
      "total_area                 0\n",
      "first_day_exposition       0\n",
      "rooms                      0\n",
      "ceiling_height             0\n",
      "floors_total              86\n",
      "living_area                0\n",
      "floor                      0\n",
      "is_apartment               0\n",
      "studio                     0\n",
      "open_plan                  0\n",
      "kitchen_area               0\n",
      "balcony                    0\n",
      "locality_name             49\n",
      "airports_nearest        5542\n",
      "cityCenters_nearest     5519\n",
      "parks_around3000           0\n",
      "parks_nearest           7978\n",
      "ponds_around3000           0\n",
      "ponds_nearest           7978\n",
      "days_exposition         3181\n",
      "dtype: int64\n"
     ]
    }
   ],
   "source": [
    "print(data.isnull().sum())"
   ]
  },
  {
   "cell_type": "markdown",
   "metadata": {},
   "source": [
    "1. Пустые значения в столбцах _balcony_, _parks_around3000_, _ponds_around3000_  замененены на 0. \n",
    "\n",
    "2. Тип параметра _first_day_exposition_ заменен на 'datetime'.\n",
    "\n",
    "3. Отсутствующие значения в столбце 'is_apartment' заменены на False.\n",
    "\n",
    "5. В столбцах _ceiling_height_ и _kitchen_area_ пропущенные значения заменены на средние по городу.\n",
    "\n",
    "6. Пропущенные значения в столбцах _ponds_nearest_ и _parks_nearest_ были заменены на средние расстояния до парков/прудов по городу.\n"
   ]
  },
  {
   "cell_type": "markdown",
   "metadata": {},
   "source": [
    "## Расчёты и добавление результатов в таблицу"
   ]
  },
  {
   "cell_type": "markdown",
   "metadata": {},
   "source": [
    "В рамках данной работы нам необходимо посчитать и добавить в таблицу следующие параметры: \n",
    "- цена за квадратный метр;\n",
    "- день недели, месяц и год публикации объявления;\n",
    "- этаж квартиры;\n",
    "- соотношение жилой и общей площади, а также отношение площади кухни к общей."
   ]
  },
  {
   "cell_type": "markdown",
   "metadata": {},
   "source": [
    "### Расчет цены за квадратный метр"
   ]
  },
  {
   "cell_type": "code",
   "execution_count": 17,
   "metadata": {},
   "outputs": [],
   "source": [
    "data['rubles_for_metr'] = data['last_price']/data['total_area']"
   ]
  },
  {
   "cell_type": "markdown",
   "metadata": {},
   "source": [
    "### Вычисление даты публикации "
   ]
  },
  {
   "cell_type": "code",
   "execution_count": 18,
   "metadata": {},
   "outputs": [],
   "source": [
    "data['weekday_post'] = data['first_day_exposition'].dt.weekday\n",
    "data['month_post'] = data['first_day_exposition'].dt.month\n",
    "data['year'] = data['first_day_exposition'].dt.year"
   ]
  },
  {
   "cell_type": "markdown",
   "metadata": {},
   "source": [
    "### Вычисление этажа квартиры"
   ]
  },
  {
   "cell_type": "markdown",
   "metadata": {},
   "source": [
    "Проведем категоризацию для данного параметра. Для обозначения этажа используем следующие категории: первый, последний, другой."
   ]
  },
  {
   "cell_type": "code",
   "execution_count": 19,
   "metadata": {},
   "outputs": [],
   "source": [
    "def floor_count(row):\n",
    "    floor = row['floor']\n",
    "    floors_total = row['floors_total']\n",
    "    if floor == 1:\n",
    "        return 'первый'\n",
    "    if floor == floors_total:\n",
    "        return 'последний'\n",
    "    else:\n",
    "        return 'другой'\n",
    "    \n",
    "data['floor_category'] = data.apply(floor_count, axis=1)"
   ]
  },
  {
   "cell_type": "markdown",
   "metadata": {},
   "source": [
    "### Вычисление соотношений площадей"
   ]
  },
  {
   "cell_type": "code",
   "execution_count": 20,
   "metadata": {},
   "outputs": [
    {
     "name": "stdout",
     "output_type": "stream",
     "text": [
      "0        51.000000\n",
      "1        18.600000\n",
      "2        34.300000\n",
      "3        34.457852\n",
      "4        32.000000\n",
      "           ...    \n",
      "23694    73.300000\n",
      "23695    38.000000\n",
      "23696    29.700000\n",
      "23697    34.457852\n",
      "23698    12.300000\n",
      "Name: living_area, Length: 23699, dtype: float64\n"
     ]
    }
   ],
   "source": [
    "print(data['living_area'])"
   ]
  },
  {
   "cell_type": "code",
   "execution_count": 21,
   "metadata": {},
   "outputs": [],
   "source": [
    "data['living/total'] = data['living_area']/data['total_area']\n",
    "data['kitchen/total'] = data['kitchen_area']/data['total_area']"
   ]
  },
  {
   "cell_type": "code",
   "execution_count": 22,
   "metadata": {},
   "outputs": [
    {
     "data": {
      "text/html": [
       "<div>\n",
       "<style scoped>\n",
       "    .dataframe tbody tr th:only-of-type {\n",
       "        vertical-align: middle;\n",
       "    }\n",
       "\n",
       "    .dataframe tbody tr th {\n",
       "        vertical-align: top;\n",
       "    }\n",
       "\n",
       "    .dataframe thead th {\n",
       "        text-align: right;\n",
       "    }\n",
       "</style>\n",
       "<table border=\"1\" class=\"dataframe\">\n",
       "  <thead>\n",
       "    <tr style=\"text-align: right;\">\n",
       "      <th></th>\n",
       "      <th>total_images</th>\n",
       "      <th>last_price</th>\n",
       "      <th>total_area</th>\n",
       "      <th>first_day_exposition</th>\n",
       "      <th>rooms</th>\n",
       "      <th>ceiling_height</th>\n",
       "      <th>floors_total</th>\n",
       "      <th>living_area</th>\n",
       "      <th>floor</th>\n",
       "      <th>is_apartment</th>\n",
       "      <th>...</th>\n",
       "      <th>ponds_around3000</th>\n",
       "      <th>ponds_nearest</th>\n",
       "      <th>days_exposition</th>\n",
       "      <th>rubles_for_metr</th>\n",
       "      <th>weekday_post</th>\n",
       "      <th>month_post</th>\n",
       "      <th>year</th>\n",
       "      <th>floor_category</th>\n",
       "      <th>living/total</th>\n",
       "      <th>kitchen/total</th>\n",
       "    </tr>\n",
       "  </thead>\n",
       "  <tbody>\n",
       "    <tr>\n",
       "      <td>0</td>\n",
       "      <td>20</td>\n",
       "      <td>13000000.0</td>\n",
       "      <td>108.0</td>\n",
       "      <td>2019-03-07</td>\n",
       "      <td>3</td>\n",
       "      <td>2.700000</td>\n",
       "      <td>16.0</td>\n",
       "      <td>51.000000</td>\n",
       "      <td>8</td>\n",
       "      <td>False</td>\n",
       "      <td>...</td>\n",
       "      <td>2.0</td>\n",
       "      <td>755.0</td>\n",
       "      <td>NaN</td>\n",
       "      <td>120370.370370</td>\n",
       "      <td>3</td>\n",
       "      <td>3</td>\n",
       "      <td>2019</td>\n",
       "      <td>другой</td>\n",
       "      <td>0.472222</td>\n",
       "      <td>0.231481</td>\n",
       "    </tr>\n",
       "    <tr>\n",
       "      <td>1</td>\n",
       "      <td>7</td>\n",
       "      <td>3350000.0</td>\n",
       "      <td>40.4</td>\n",
       "      <td>2018-12-04</td>\n",
       "      <td>1</td>\n",
       "      <td>2.771499</td>\n",
       "      <td>11.0</td>\n",
       "      <td>18.600000</td>\n",
       "      <td>1</td>\n",
       "      <td>False</td>\n",
       "      <td>...</td>\n",
       "      <td>0.0</td>\n",
       "      <td>NaN</td>\n",
       "      <td>81.0</td>\n",
       "      <td>82920.792079</td>\n",
       "      <td>1</td>\n",
       "      <td>12</td>\n",
       "      <td>2018</td>\n",
       "      <td>первый</td>\n",
       "      <td>0.460396</td>\n",
       "      <td>0.272277</td>\n",
       "    </tr>\n",
       "    <tr>\n",
       "      <td>2</td>\n",
       "      <td>10</td>\n",
       "      <td>5196000.0</td>\n",
       "      <td>56.0</td>\n",
       "      <td>2015-08-20</td>\n",
       "      <td>2</td>\n",
       "      <td>2.771499</td>\n",
       "      <td>5.0</td>\n",
       "      <td>34.300000</td>\n",
       "      <td>4</td>\n",
       "      <td>False</td>\n",
       "      <td>...</td>\n",
       "      <td>2.0</td>\n",
       "      <td>574.0</td>\n",
       "      <td>558.0</td>\n",
       "      <td>92785.714286</td>\n",
       "      <td>3</td>\n",
       "      <td>8</td>\n",
       "      <td>2015</td>\n",
       "      <td>другой</td>\n",
       "      <td>0.612500</td>\n",
       "      <td>0.148214</td>\n",
       "    </tr>\n",
       "    <tr>\n",
       "      <td>3</td>\n",
       "      <td>0</td>\n",
       "      <td>64900000.0</td>\n",
       "      <td>159.0</td>\n",
       "      <td>2015-07-24</td>\n",
       "      <td>3</td>\n",
       "      <td>2.771499</td>\n",
       "      <td>14.0</td>\n",
       "      <td>34.457852</td>\n",
       "      <td>9</td>\n",
       "      <td>False</td>\n",
       "      <td>...</td>\n",
       "      <td>3.0</td>\n",
       "      <td>234.0</td>\n",
       "      <td>424.0</td>\n",
       "      <td>408176.100629</td>\n",
       "      <td>4</td>\n",
       "      <td>7</td>\n",
       "      <td>2015</td>\n",
       "      <td>другой</td>\n",
       "      <td>0.216716</td>\n",
       "      <td>0.066477</td>\n",
       "    </tr>\n",
       "    <tr>\n",
       "      <td>4</td>\n",
       "      <td>2</td>\n",
       "      <td>10000000.0</td>\n",
       "      <td>100.0</td>\n",
       "      <td>2018-06-19</td>\n",
       "      <td>2</td>\n",
       "      <td>3.030000</td>\n",
       "      <td>14.0</td>\n",
       "      <td>32.000000</td>\n",
       "      <td>13</td>\n",
       "      <td>False</td>\n",
       "      <td>...</td>\n",
       "      <td>1.0</td>\n",
       "      <td>48.0</td>\n",
       "      <td>121.0</td>\n",
       "      <td>100000.000000</td>\n",
       "      <td>1</td>\n",
       "      <td>6</td>\n",
       "      <td>2018</td>\n",
       "      <td>другой</td>\n",
       "      <td>0.320000</td>\n",
       "      <td>0.410000</td>\n",
       "    </tr>\n",
       "  </tbody>\n",
       "</table>\n",
       "<p>5 rows × 29 columns</p>\n",
       "</div>"
      ],
      "text/plain": [
       "   total_images  last_price  total_area first_day_exposition  rooms  \\\n",
       "0            20  13000000.0       108.0           2019-03-07      3   \n",
       "1             7   3350000.0        40.4           2018-12-04      1   \n",
       "2            10   5196000.0        56.0           2015-08-20      2   \n",
       "3             0  64900000.0       159.0           2015-07-24      3   \n",
       "4             2  10000000.0       100.0           2018-06-19      2   \n",
       "\n",
       "   ceiling_height  floors_total  living_area  floor  is_apartment  ...  \\\n",
       "0        2.700000          16.0    51.000000      8         False  ...   \n",
       "1        2.771499          11.0    18.600000      1         False  ...   \n",
       "2        2.771499           5.0    34.300000      4         False  ...   \n",
       "3        2.771499          14.0    34.457852      9         False  ...   \n",
       "4        3.030000          14.0    32.000000     13         False  ...   \n",
       "\n",
       "   ponds_around3000  ponds_nearest  days_exposition  rubles_for_metr  \\\n",
       "0               2.0          755.0              NaN    120370.370370   \n",
       "1               0.0            NaN             81.0     82920.792079   \n",
       "2               2.0          574.0            558.0     92785.714286   \n",
       "3               3.0          234.0            424.0    408176.100629   \n",
       "4               1.0           48.0            121.0    100000.000000   \n",
       "\n",
       "  weekday_post  month_post  year  floor_category  living/total  kitchen/total  \n",
       "0            3           3  2019          другой      0.472222       0.231481  \n",
       "1            1          12  2018          первый      0.460396       0.272277  \n",
       "2            3           8  2015          другой      0.612500       0.148214  \n",
       "3            4           7  2015          другой      0.216716       0.066477  \n",
       "4            1           6  2018          другой      0.320000       0.410000  \n",
       "\n",
       "[5 rows x 29 columns]"
      ]
     },
     "metadata": {},
     "output_type": "display_data"
    }
   ],
   "source": [
    "#проверим новые переменные\n",
    "display(data.head())"
   ]
  },
  {
   "cell_type": "markdown",
   "metadata": {},
   "source": [
    "<div class=\"alert alert-success\">\n",
    "<b>Комментарий ревьюера:</b>\n",
    "\n",
    "Мы достаточно детально обработали наши данные и добавили все необходимые значения в нашу выборку. Давай теперь проведём анализ.\n",
    "    \n",
    "</div>"
   ]
  },
  {
   "cell_type": "markdown",
   "metadata": {},
   "source": [
    "## Исследовательский анализ данных"
   ]
  },
  {
   "cell_type": "markdown",
   "metadata": {},
   "source": [
    "Основа данного исследовательского анализа: гистограммы и графики. Для анализа данных построим следующие графики:  "
   ]
  },
  {
   "cell_type": "markdown",
   "metadata": {},
   "source": [
    "### Анализ цен на квартиры"
   ]
  },
  {
   "cell_type": "code",
   "execution_count": 23,
   "metadata": {
    "scrolled": false
   },
   "outputs": [
    {
     "name": "stdout",
     "output_type": "stream",
     "text": [
      "AxesSubplot(0.125,0.125;0.775x0.755)\n"
     ]
    },
    {
     "data": {
      "image/png": "[encoded data removed]",
      "text/plain": [
       "<Figure size 432x288 with 1 Axes>"
      ]
     },
     "metadata": {
      "needs_background": "light"
     },
     "output_type": "display_data"
    }
   ],
   "source": [
    "#построение гистограммы для цены\n",
    "print(data['last_price'].plot(kind='hist',\n",
    "                              title='Гистограмма для цены, руб.', \n",
    "                              grid = True, \n",
    "                              bins=50, \n",
    "                              range=(500000, 2000000)))"
   ]
  },
  {
   "cell_type": "markdown",
   "metadata": {},
   "source": [
    "**Вывод**\n",
    "\n",
    "На гистограмме отчетливо видны пиковые значения. Скорей всего, это говорит о стандартных (типовых) ценах на недвижимость."
   ]
  },
  {
   "cell_type": "markdown",
   "metadata": {},
   "source": [
    "### Анализ числа комнат"
   ]
  },
  {
   "cell_type": "code",
   "execution_count": 24,
   "metadata": {
    "scrolled": true
   },
   "outputs": [
    {
     "name": "stdout",
     "output_type": "stream",
     "text": [
      "AxesSubplot(0.125,0.125;0.775x0.755)\n"
     ]
    },
    {
     "data": {
      "image/png": "[encoded data removed]",
      "text/plain": [
       "<Figure size 432x288 with 1 Axes>"
      ]
     },
     "metadata": {
      "needs_background": "light"
     },
     "output_type": "display_data"
    }
   ],
   "source": [
    "#построение гистограммы для числа комнат\n",
    "print(data['rooms'].plot(kind='hist',\n",
    "                         title='Гистограмма для числа комнат, шт', \n",
    "                         grid=True, \n",
    "                         bins=15, \n",
    "                         range=(0, 10)))"
   ]
  },
  {
   "cell_type": "markdown",
   "metadata": {},
   "source": [
    "**Вывод**\n",
    "\n",
    "Больше всего на рынке представлено одно- и двухкомнатные квартиры. После идут уже трехкомнатные. "
   ]
  },
  {
   "cell_type": "markdown",
   "metadata": {},
   "source": [
    "### Анализ высоты потолков"
   ]
  },
  {
   "cell_type": "code",
   "execution_count": 25,
   "metadata": {
    "scrolled": false
   },
   "outputs": [
    {
     "name": "stdout",
     "output_type": "stream",
     "text": [
      "AxesSubplot(0.125,0.125;0.775x0.755)\n"
     ]
    },
    {
     "data": {
      "image/png": "[encoded data removed]",
      "text/plain": [
       "<Figure size 432x288 with 1 Axes>"
      ]
     },
     "metadata": {
      "needs_background": "light"
     },
     "output_type": "display_data"
    }
   ],
   "source": [
    "#построение гистограммы для высоты потолков\n",
    "print(data['ceiling_height'].plot(kind='hist',\n",
    "                                  title='Гистограмма для высоты пололков, м', \n",
    "                                  grid = True, \n",
    "                                  bins=30, \n",
    "                                  range=(2,4)))"
   ]
  },
  {
   "cell_type": "markdown",
   "metadata": {},
   "source": [
    "**Вывод**\n",
    "\n",
    "В большинстве квартир высота потолков состтавляет стандартные 2,7м."
   ]
  },
  {
   "cell_type": "markdown",
   "metadata": {},
   "source": [
    "### Анализ времени размещения объявления"
   ]
  },
  {
   "cell_type": "markdown",
   "metadata": {},
   "source": [
    "Для того, чтобы исследовать время размещения объявлений необхоимо проверить данные на адекватность. В первую очередь построим гистограму, чтобы проверить данные на нормальное распределение. Затем посмотрим на выпадающие значения."
   ]
  },
  {
   "cell_type": "code",
   "execution_count": 26,
   "metadata": {
    "scrolled": true
   },
   "outputs": [
    {
     "name": "stdout",
     "output_type": "stream",
     "text": [
      "Среднее арифметическое время размещения объявления: 180.9\n",
      "Медианное время размещения объявления: 95.0\n"
     ]
    },
    {
     "data": {
      "image/png": "[encoded data removed]",
      "text/plain": [
       "<Figure size 432x288 with 1 Axes>"
      ]
     },
     "metadata": {
      "needs_background": "light"
     },
     "output_type": "display_data"
    }
   ],
   "source": [
    "#изучим время продажи квартиры\n",
    "data['days_exposition'].hist(bins=50)\n",
    "\n",
    "print('Среднее арифметическое время размещения объявления:','{:.1f}'.format(data['days_exposition'].mean()))\n",
    "print('Медианное время размещения объявления:','{:.1f}'.format(data['days_exposition'].median()))"
   ]
  },
  {
   "cell_type": "markdown",
   "metadata": {},
   "source": [
    "**Вывод по гистограмме**\n",
    "\n",
    "График представляет собой нормальное распределение, это значит, что данные в порядке. Тем не менее разница между средним арифметическим (181 день) и медианным значением (95 дней), говорит о том, что данные смещены в большую сторону, то есть имеются большие значения, которые \"сдвигают\" среднее значение.\n",
    "\n",
    "Чтобы проверить данное предположение построим график типа _scatter_."
   ]
  },
  {
   "cell_type": "code",
   "execution_count": 27,
   "metadata": {
    "scrolled": true
   },
   "outputs": [
    {
     "name": "stdout",
     "output_type": "stream",
     "text": [
      "AxesSubplot(0.125,0.125;0.775x0.755)\n"
     ]
    },
    {
     "data": {
      "image/png": "[encoded data removed]",
      "text/plain": [
       "<Figure size 432x288 with 1 Axes>"
      ]
     },
     "metadata": {
      "needs_background": "light"
     },
     "output_type": "display_data"
    }
   ],
   "source": [
    "print(data.plot(x='days_exposition', \n",
    "                title='График стоимости недвижимости и времени размещения объявления',\n",
    "                y='last_price', \n",
    "                kind='scatter', \n",
    "                grid=True, \n",
    "                alpha=0.4))"
   ]
  },
  {
   "cell_type": "markdown",
   "metadata": {},
   "source": [
    "**Вывод по графику**\n",
    "\n",
    "Большая часть точек образуют скопление на графике. Однако, по оси _last_price_ (цена на момент снятия с публикации) значения больше единицы выпадают из общего множества. Так как это цена, а она может быть установлена сколь угодно большой, мы не будем исключать эти значения из выборки.\n",
    "\n",
    "Также по графику видно, что объявления могут висеть больше четырех лет (1600 дней). Это необычно долгие продажи. Примем за верхний предел срок объявлений до 1000 дней (примерно 3 года). "
   ]
  },
  {
   "cell_type": "markdown",
   "metadata": {},
   "source": [
    "**Вывод**"
   ]
  },
  {
   "cell_type": "markdown",
   "metadata": {},
   "source": [
    "1. Среднее время размещение объявления - 95 дней.\n",
    "2. Необычно быстрые продажи - первые сутки после размещения объявления.\n",
    "3. Необычно долгие продажи - после трех лет с размещения объявления (три года это 1095 дней, можно округлить до 1000)."
   ]
  },
  {
   "cell_type": "code",
   "execution_count": 28,
   "metadata": {
    "scrolled": true
   },
   "outputs": [
    {
     "data": {
      "text/plain": [
       "<matplotlib.axes._subplots.AxesSubplot at 0x28381f7b348>"
      ]
     },
     "execution_count": 28,
     "metadata": {},
     "output_type": "execute_result"
    },
    {
     "data": {
      "image/png": "[encoded data removed]",
      "text/plain": [
       "<Figure size 432x288 with 1 Axes>"
      ]
     },
     "metadata": {
      "needs_background": "light"
     },
     "output_type": "display_data"
    }
   ],
   "source": [
    "#удаляем редкие и выбивающиеся значения\n",
    "data_new = data.query('2<days_exposition<1000')\n",
    "\n",
    "data_new['days_exposition'].plot(kind='hist',\n",
    "                                 title='Время размещения объявления, дни', \n",
    "                                 grid = True,\n",
    "                                 bins=50)"
   ]
  },
  {
   "cell_type": "code",
   "execution_count": 29,
   "metadata": {
    "scrolled": false
   },
   "outputs": [
    {
     "data": {
      "text/plain": [
       "<matplotlib.axes._subplots.AxesSubplot at 0x28382682788>"
      ]
     },
     "execution_count": 29,
     "metadata": {},
     "output_type": "execute_result"
    },
    {
     "data": {
      "image/png": "[encoded data removed]",
      "text/plain": [
       "<Figure size 432x288 with 1 Axes>"
      ]
     },
     "metadata": {
      "needs_background": "light"
     },
     "output_type": "display_data"
    }
   ],
   "source": [
    "#масштабируем график\n",
    "data_new['days_exposition'].plot(kind='hist',\n",
    "                                 title='Время размещения объявления, дни', \n",
    "                                 grid = True,\n",
    "                                 bins=50,\n",
    "                                xlim=(0,70))"
   ]
  },
  {
   "cell_type": "markdown",
   "metadata": {},
   "source": [
    "**Вывод**"
   ]
  },
  {
   "cell_type": "markdown",
   "metadata": {},
   "source": [
    "Пик продаж приходится на 45-55 дни со дня размещения объявления. Второй по величине пик - первые 22 дня. Возможно, это связанно с особенностями сервиса Яндекс.Недвижимость.\n"
   ]
  },
  {
   "cell_type": "markdown",
   "metadata": {},
   "source": [
    "### Анализ стоимости недвижимости в зависимости от площади"
   ]
  },
  {
   "cell_type": "markdown",
   "metadata": {},
   "source": [
    "Для того чтобы понять как сильно связаны параметры между собой используем коэффициент корреляции Пирсона. Он помогает определить статистическую взаимосвязь случайных величин. В случае если данный коэффициент значительно отличается от нуля, между переменными есть зависимость. Если близок к нулю - зависимости нет или она слабая.\n",
    "\n",
    "Для наглядности построим график зависимости цены квартиры от ее площади."
   ]
  },
  {
   "cell_type": "code",
   "execution_count": 30,
   "metadata": {
    "scrolled": true
   },
   "outputs": [
    {
     "name": "stdout",
     "output_type": "stream",
     "text": [
      "Коэффициент корреляции Пирсона: 0.64\n"
     ]
    },
    {
     "data": {
      "image/png": "[encoded data removed]",
      "text/plain": [
       "<Figure size 432x288 with 1 Axes>"
      ]
     },
     "metadata": {
      "needs_background": "light"
     },
     "output_type": "display_data"
    }
   ],
   "source": [
    "data_new.plot(x='total_area', \n",
    "              y='last_price', \n",
    "              grid=True, \n",
    "              style='o', \n",
    "              title='Зависимость цены от площади квартиры')\n",
    "\n",
    "print('Коэффициент корреляции Пирсона:', '{:.2f}'.format(data_new['total_area'].corr(data_new['last_price'])))"
   ]
  },
  {
   "cell_type": "markdown",
   "metadata": {},
   "source": [
    "**Вывод**"
   ]
  },
  {
   "cell_type": "markdown",
   "metadata": {},
   "source": [
    "Вид диаграммы и коэффициент корреляции Пирсона (0,64) говорят о том, что линейная зависимость между переменными есть. Следовательно, чем больше площадь квартиры, тем выше цена."
   ]
  },
  {
   "cell_type": "markdown",
   "metadata": {},
   "source": [
    "### Анализ стоимости недвижимости в зависимости от количества комнат"
   ]
  },
  {
   "cell_type": "code",
   "execution_count": 31,
   "metadata": {
    "scrolled": true
   },
   "outputs": [
    {
     "name": "stdout",
     "output_type": "stream",
     "text": [
      "Коэффициент корреляции Пирсона: 0.35\n"
     ]
    },
    {
     "data": {
      "image/png": "[encoded data removed]",
      "text/plain": [
       "<Figure size 432x288 with 1 Axes>"
      ]
     },
     "metadata": {
      "needs_background": "light"
     },
     "output_type": "display_data"
    }
   ],
   "source": [
    "#зависимость цены от колличества комнат\n",
    "data_new.plot(x='rooms', \n",
    "              y='last_price', \n",
    "              grid=True, style='o',\n",
    "              title='Зависимость цены от колличества комнат')\n",
    "\n",
    "print('Коэффициент корреляции Пирсона:', '{:.2f}'.format(data_new['rooms'].corr(data_new['last_price'])))"
   ]
  },
  {
   "cell_type": "markdown",
   "metadata": {},
   "source": [
    "**Вывод**"
   ]
  },
  {
   "cell_type": "markdown",
   "metadata": {},
   "source": [
    "Так как коэффициент Пирсона сильно отличен от нуля, между переменными (последняя цена и количество комнат) есть зависимость. То есть, чем больше комнат, тем больше цена квартиры."
   ]
  },
  {
   "cell_type": "markdown",
   "metadata": {},
   "source": [
    "### Анализ стоимости недвижимости в зависимости от расстояния до центра"
   ]
  },
  {
   "cell_type": "code",
   "execution_count": 32,
   "metadata": {
    "scrolled": true
   },
   "outputs": [
    {
     "name": "stdout",
     "output_type": "stream",
     "text": [
      "Коэффициент корреляции Пирсона: -0.19\n"
     ]
    },
    {
     "data": {
      "image/png": "[encoded data removed]",
      "text/plain": [
       "<Figure size 432x288 with 1 Axes>"
      ]
     },
     "metadata": {
      "needs_background": "light"
     },
     "output_type": "display_data"
    }
   ],
   "source": [
    "#зависимость цены от расстояния до центра\n",
    "data_new.plot(x='cityCenters_nearest', \n",
    "              y='last_price', \n",
    "              grid=True, \n",
    "              style='o', \n",
    "              title='Зависимость цены от расстояния до центра')\n",
    "\n",
    "print('Коэффициент корреляции Пирсона:', '{:.2f}'.format(data_new['cityCenters_nearest'].corr(data_new['last_price'])))"
   ]
  },
  {
   "cell_type": "markdown",
   "metadata": {},
   "source": [
    "**Вывод**"
   ]
  },
  {
   "cell_type": "markdown",
   "metadata": {},
   "source": [
    "Коэффициент Пирсона имеет отрицательное значение сильно отличное он нуля, значит зависимость обратно пропорциональна: чем дальше от центра города, тем ниже цена."
   ]
  },
  {
   "cell_type": "markdown",
   "metadata": {},
   "source": [
    "### Анализ стоимости недвижимости в зависимости от этажа"
   ]
  },
  {
   "cell_type": "markdown",
   "metadata": {},
   "source": [
    "Для того чтобы определить есть ли зависимость между этими переменными, введем новую переменную _category_floor_, со значением 0,1 или 2. Таким образом, мы переведем категориальный признак _floor_ в численный."
   ]
  },
  {
   "cell_type": "code",
   "execution_count": 33,
   "metadata": {
    "scrolled": true
   },
   "outputs": [],
   "source": [
    "#перевод переменной в численный тип\n",
    "def category(floor):\n",
    "    if floor=='первый':\n",
    "        return 1\n",
    "    if floor=='последний':\n",
    "        return 2\n",
    "    if floor=='другой':\n",
    "        return 0\n",
    "    \n",
    "data_new['category_floor'] = data_new['floor_category'].apply(category) "
   ]
  },
  {
   "cell_type": "code",
   "execution_count": 34,
   "metadata": {},
   "outputs": [
    {
     "name": "stdout",
     "output_type": "stream",
     "text": [
      "Коэффициент корреляции Пирсона: -0.00\n"
     ]
    },
    {
     "data": {
      "image/png": "[encoded data removed]",
      "text/plain": [
       "<Figure size 432x288 with 1 Axes>"
      ]
     },
     "metadata": {
      "needs_background": "light"
     },
     "output_type": "display_data"
    }
   ],
   "source": [
    "data_new.plot(x='category_floor', \n",
    "              y='last_price', \n",
    "              grid=True, \n",
    "              style='o', \n",
    "              title='Зависимость цены от этажа')\n",
    "\n",
    "print('Коэффициент корреляции Пирсона:', '{:.2f}'.format(data_new['category_floor'].corr(data_new['last_price'])))"
   ]
  },
  {
   "cell_type": "markdown",
   "metadata": {},
   "source": [
    "**Вывод**\n",
    "\n",
    "Коэффициент Пирсона равен нулю, так как переменная _category_floor_ отображает выбранную нами классификацию. Для того, чтобы увидеть зависимость нужно обратить внимание на диаграмму. \n",
    "\n",
    "На графике хорошо видно, что квартиры на первом этаже продаются за меньшую цену, чем квартиры на других этажах."
   ]
  },
  {
   "cell_type": "markdown",
   "metadata": {},
   "source": [
    "### Анализ стоимости недвижимости в зависимости от дня недели/месяца/года публикации"
   ]
  },
  {
   "cell_type": "markdown",
   "metadata": {},
   "source": [
    "Используя уже имеющуюся категоризацию даты публикации по дням недели, месяцам и году публикации посмотрим есть ли зависимость между стоимостью недвижимости и даты публикации."
   ]
  },
  {
   "cell_type": "code",
   "execution_count": 35,
   "metadata": {
    "scrolled": true
   },
   "outputs": [
    {
     "name": "stdout",
     "output_type": "stream",
     "text": [
      "Коэффициент корреляции Пирсона: 0.00\n",
      "Коэффициент корреляции Пирсона: 0.00\n",
      "Коэффициент корреляции Пирсона: 0.00\n"
     ]
    },
    {
     "data": {
      "image/png": "[encoded data removed]",
      "text/plain": [
       "<Figure size 432x288 with 1 Axes>"
      ]
     },
     "metadata": {
      "needs_background": "light"
     },
     "output_type": "display_data"
    },
    {
     "data": {
      "image/png": "[encoded data removed]",
      "text/plain": [
       "<Figure size 432x288 with 1 Axes>"
      ]
     },
     "metadata": {
      "needs_background": "light"
     },
     "output_type": "display_data"
    },
    {
     "data": {
      "image/png": "[encoded data removed]",
      "text/plain": [
       "<Figure size 432x288 with 1 Axes>"
      ]
     },
     "metadata": {
      "needs_background": "light"
     },
     "output_type": "display_data"
    }
   ],
   "source": [
    "#цикл для постоения графиков\n",
    "need_columns=['weekday_post','month_post', 'year']\n",
    "\n",
    "for i in range(len(need_columns)):\n",
    "    data_new.plot(x=need_columns[i], \n",
    "                  y='last_price', \n",
    "                  grid=True, \n",
    "                  style='o')\n",
    "    pirson = data_new['month_post'].corr(data_new['last_price'])\n",
    "    print('Коэффициент корреляции Пирсона:', '{:.2f}'.format(pirson)) "
   ]
  },
  {
   "cell_type": "markdown",
   "metadata": {},
   "source": [
    "**Вывод**\n",
    "\n"
   ]
  },
  {
   "cell_type": "markdown",
   "metadata": {},
   "source": [
    "1. Коэффициенты корреляции Пирсона для всех переменных равны нулю, так как они все являются категориальными. \n",
    "2. На графике публикации для дня недели не наблюдается ярко выраженного увеличения цены в один из дней недели.\n",
    "3. Для публикаций по месяцам также не наблюдается заметных изменений.\n",
    "4. Для графика с годом публикации видно, что цены на недвижимость росли с 2014 по 2015 год, после чего ситуация была стабильна до 2018 года, после чего цены снизились к 2019."
   ]
  },
  {
   "cell_type": "markdown",
   "metadata": {},
   "source": [
    "## Расчет показателей"
   ]
  },
  {
   "cell_type": "markdown",
   "metadata": {},
   "source": [
    "### Расчет средней цены за м кв"
   ]
  },
  {
   "cell_type": "code",
   "execution_count": 36,
   "metadata": {
    "scrolled": true
   },
   "outputs": [
    {
     "name": "stdout",
     "output_type": "stream",
     "text": [
      "                       metr_mean  count\n",
      "locality_name                          \n",
      "Санкт-Петербург     92785.714286  13427\n",
      "посёлок Мурино      87454.764777    512\n",
      "посёлок Шушары      82920.792079    404\n",
      "Всеволожск          75075.075075    335\n",
      "Колпино             65753.424658    306\n",
      "посёлок Парголово   99195.710456    301\n",
      "Пушкин             122222.222222    300\n",
      "деревня Кудрово     86206.896552    294\n",
      "Гатчина             64171.122995    268\n",
      "Выборг              79092.702170    207\n",
      "\n",
      "Максимальная средняя стоимость м кв:\n",
      "                   metr_mean  count\n",
      "locality_name                      \n",
      "Пушкин         122222.222222    300\n",
      "\n",
      "Минимальная средняя стоимость м кв:\n",
      "                  metr_mean  count\n",
      "locality_name                     \n",
      "Гатчина        64171.122995    268\n"
     ]
    }
   ],
   "source": [
    "#расчет средней цены за м кв\n",
    "price_for_metr = data_new.pivot_table(index='locality_name', values='rubles_for_metr', aggfunc=['first', 'count'])\n",
    "price_for_metr.columns = ['metr_mean', 'count']\n",
    "price_for_metr = price_for_metr.sort_values(by='count', ascending=False).head(10)\n",
    "print(price_for_metr)\n",
    "print()\n",
    "print('Максимальная средняя стоимость м кв:')\n",
    "print(price_for_metr[price_for_metr['metr_mean'] == price_for_metr['metr_mean'].max()])\n",
    "print()\n",
    "print('Минимальная средняя стоимость м кв:')\n",
    "print(price_for_metr[price_for_metr['metr_mean'] == price_for_metr['metr_mean'].min()])"
   ]
  },
  {
   "cell_type": "markdown",
   "metadata": {},
   "source": [
    "**Вывод**\n",
    "\n",
    "Максимальная средняя цена м кв из топ-10 самых популярных локаций в Пушкине, минимальная - Гатчина."
   ]
  },
  {
   "cell_type": "markdown",
   "metadata": {},
   "source": [
    "### Определение центра Санкт-Петербурга"
   ]
  },
  {
   "cell_type": "markdown",
   "metadata": {},
   "source": [
    "Для того чтобы понять какая область входит в центр, построим график зависимости цены за м.кв. от расстояния до центра. \n",
    "\n",
    "Для этого создадим дополнительный параметр - расстояние до центра. Взяв на единицу измерения километр, затем округлив получившееся значение до целого, определим среднюю цену квартиры для каждого километра. После этого построим график, на котором будет наглядно показана зависимость цены от удаленности от центра. Там, где график будет сильно меняться (резкий рост или падение) и будет граница центральной области.\n"
   ]
  },
  {
   "cell_type": "code",
   "execution_count": 37,
   "metadata": {
    "scrolled": true
   },
   "outputs": [
    {
     "data": {
      "text/html": [
       "<div>\n",
       "<style scoped>\n",
       "    .dataframe tbody tr th:only-of-type {\n",
       "        vertical-align: middle;\n",
       "    }\n",
       "\n",
       "    .dataframe tbody tr th {\n",
       "        vertical-align: top;\n",
       "    }\n",
       "\n",
       "    .dataframe thead th {\n",
       "        text-align: right;\n",
       "    }\n",
       "</style>\n",
       "<table border=\"1\" class=\"dataframe\">\n",
       "  <thead>\n",
       "    <tr style=\"text-align: right;\">\n",
       "      <th></th>\n",
       "      <th>total_images</th>\n",
       "      <th>last_price</th>\n",
       "      <th>total_area</th>\n",
       "      <th>first_day_exposition</th>\n",
       "      <th>rooms</th>\n",
       "      <th>ceiling_height</th>\n",
       "      <th>floors_total</th>\n",
       "      <th>living_area</th>\n",
       "      <th>floor</th>\n",
       "      <th>is_apartment</th>\n",
       "      <th>...</th>\n",
       "      <th>rubles_for_metr</th>\n",
       "      <th>weekday_post</th>\n",
       "      <th>month_post</th>\n",
       "      <th>year</th>\n",
       "      <th>floor_category</th>\n",
       "      <th>living/total</th>\n",
       "      <th>kitchen/total</th>\n",
       "      <th>category_floor</th>\n",
       "      <th>cenret_km</th>\n",
       "      <th>center_km</th>\n",
       "    </tr>\n",
       "  </thead>\n",
       "  <tbody>\n",
       "    <tr>\n",
       "      <td>0</td>\n",
       "      <td>10</td>\n",
       "      <td>5196000.0</td>\n",
       "      <td>56.0</td>\n",
       "      <td>2015-08-20</td>\n",
       "      <td>2</td>\n",
       "      <td>2.771499</td>\n",
       "      <td>5.0</td>\n",
       "      <td>34.300000</td>\n",
       "      <td>4</td>\n",
       "      <td>False</td>\n",
       "      <td>...</td>\n",
       "      <td>92785.714286</td>\n",
       "      <td>3</td>\n",
       "      <td>8</td>\n",
       "      <td>2015</td>\n",
       "      <td>другой</td>\n",
       "      <td>0.612500</td>\n",
       "      <td>0.148214</td>\n",
       "      <td>0</td>\n",
       "      <td>13.933</td>\n",
       "      <td>13</td>\n",
       "    </tr>\n",
       "    <tr>\n",
       "      <td>1</td>\n",
       "      <td>0</td>\n",
       "      <td>64900000.0</td>\n",
       "      <td>159.0</td>\n",
       "      <td>2015-07-24</td>\n",
       "      <td>3</td>\n",
       "      <td>2.771499</td>\n",
       "      <td>14.0</td>\n",
       "      <td>34.457852</td>\n",
       "      <td>9</td>\n",
       "      <td>False</td>\n",
       "      <td>...</td>\n",
       "      <td>408176.100629</td>\n",
       "      <td>4</td>\n",
       "      <td>7</td>\n",
       "      <td>2015</td>\n",
       "      <td>другой</td>\n",
       "      <td>0.216716</td>\n",
       "      <td>0.066477</td>\n",
       "      <td>0</td>\n",
       "      <td>6.800</td>\n",
       "      <td>6</td>\n",
       "    </tr>\n",
       "    <tr>\n",
       "      <td>2</td>\n",
       "      <td>2</td>\n",
       "      <td>10000000.0</td>\n",
       "      <td>100.0</td>\n",
       "      <td>2018-06-19</td>\n",
       "      <td>2</td>\n",
       "      <td>3.030000</td>\n",
       "      <td>14.0</td>\n",
       "      <td>32.000000</td>\n",
       "      <td>13</td>\n",
       "      <td>False</td>\n",
       "      <td>...</td>\n",
       "      <td>100000.000000</td>\n",
       "      <td>1</td>\n",
       "      <td>6</td>\n",
       "      <td>2018</td>\n",
       "      <td>другой</td>\n",
       "      <td>0.320000</td>\n",
       "      <td>0.410000</td>\n",
       "      <td>0</td>\n",
       "      <td>8.098</td>\n",
       "      <td>8</td>\n",
       "    </tr>\n",
       "    <tr>\n",
       "      <td>3</td>\n",
       "      <td>18</td>\n",
       "      <td>5400000.0</td>\n",
       "      <td>61.0</td>\n",
       "      <td>2017-02-26</td>\n",
       "      <td>3</td>\n",
       "      <td>2.500000</td>\n",
       "      <td>9.0</td>\n",
       "      <td>43.600000</td>\n",
       "      <td>7</td>\n",
       "      <td>False</td>\n",
       "      <td>...</td>\n",
       "      <td>88524.590164</td>\n",
       "      <td>6</td>\n",
       "      <td>2</td>\n",
       "      <td>2017</td>\n",
       "      <td>другой</td>\n",
       "      <td>0.714754</td>\n",
       "      <td>0.106557</td>\n",
       "      <td>0</td>\n",
       "      <td>15.008</td>\n",
       "      <td>15</td>\n",
       "    </tr>\n",
       "    <tr>\n",
       "      <td>4</td>\n",
       "      <td>5</td>\n",
       "      <td>5050000.0</td>\n",
       "      <td>39.6</td>\n",
       "      <td>2017-11-16</td>\n",
       "      <td>1</td>\n",
       "      <td>2.670000</td>\n",
       "      <td>12.0</td>\n",
       "      <td>20.300000</td>\n",
       "      <td>3</td>\n",
       "      <td>False</td>\n",
       "      <td>...</td>\n",
       "      <td>127525.252525</td>\n",
       "      <td>3</td>\n",
       "      <td>11</td>\n",
       "      <td>2017</td>\n",
       "      <td>другой</td>\n",
       "      <td>0.512626</td>\n",
       "      <td>0.214646</td>\n",
       "      <td>0</td>\n",
       "      <td>13.878</td>\n",
       "      <td>13</td>\n",
       "    </tr>\n",
       "  </tbody>\n",
       "</table>\n",
       "<p>5 rows × 32 columns</p>\n",
       "</div>"
      ],
      "text/plain": [
       "   total_images  last_price  total_area first_day_exposition  rooms  \\\n",
       "0            10   5196000.0        56.0           2015-08-20      2   \n",
       "1             0  64900000.0       159.0           2015-07-24      3   \n",
       "2             2  10000000.0       100.0           2018-06-19      2   \n",
       "3            18   5400000.0        61.0           2017-02-26      3   \n",
       "4             5   5050000.0        39.6           2017-11-16      1   \n",
       "\n",
       "   ceiling_height  floors_total  living_area  floor  is_apartment  ...  \\\n",
       "0        2.771499           5.0    34.300000      4         False  ...   \n",
       "1        2.771499          14.0    34.457852      9         False  ...   \n",
       "2        3.030000          14.0    32.000000     13         False  ...   \n",
       "3        2.500000           9.0    43.600000      7         False  ...   \n",
       "4        2.670000          12.0    20.300000      3         False  ...   \n",
       "\n",
       "   rubles_for_metr  weekday_post  month_post  year floor_category  \\\n",
       "0     92785.714286             3           8  2015         другой   \n",
       "1    408176.100629             4           7  2015         другой   \n",
       "2    100000.000000             1           6  2018         другой   \n",
       "3     88524.590164             6           2  2017         другой   \n",
       "4    127525.252525             3          11  2017         другой   \n",
       "\n",
       "   living/total  kitchen/total  category_floor  cenret_km  center_km  \n",
       "0      0.612500       0.148214               0     13.933         13  \n",
       "1      0.216716       0.066477               0      6.800          6  \n",
       "2      0.320000       0.410000               0      8.098          8  \n",
       "3      0.714754       0.106557               0     15.008         15  \n",
       "4      0.512626       0.214646               0     13.878         13  \n",
       "\n",
       "[5 rows x 32 columns]"
      ]
     },
     "metadata": {},
     "output_type": "display_data"
    },
    {
     "data": {
      "text/html": [
       "<div>\n",
       "<style scoped>\n",
       "    .dataframe tbody tr th:only-of-type {\n",
       "        vertical-align: middle;\n",
       "    }\n",
       "\n",
       "    .dataframe tbody tr th {\n",
       "        vertical-align: top;\n",
       "    }\n",
       "\n",
       "    .dataframe thead th {\n",
       "        text-align: right;\n",
       "    }\n",
       "</style>\n",
       "<table border=\"1\" class=\"dataframe\">\n",
       "  <thead>\n",
       "    <tr style=\"text-align: right;\">\n",
       "      <th></th>\n",
       "      <th>rubles_for_metr</th>\n",
       "    </tr>\n",
       "    <tr>\n",
       "      <th>center_km</th>\n",
       "      <th></th>\n",
       "    </tr>\n",
       "  </thead>\n",
       "  <tbody>\n",
       "    <tr>\n",
       "      <td>0</td>\n",
       "      <td>167255.548712</td>\n",
       "    </tr>\n",
       "    <tr>\n",
       "      <td>1</td>\n",
       "      <td>155407.738881</td>\n",
       "    </tr>\n",
       "    <tr>\n",
       "      <td>2</td>\n",
       "      <td>144171.568490</td>\n",
       "    </tr>\n",
       "    <tr>\n",
       "      <td>3</td>\n",
       "      <td>126403.912282</td>\n",
       "    </tr>\n",
       "    <tr>\n",
       "      <td>4</td>\n",
       "      <td>135422.784604</td>\n",
       "    </tr>\n",
       "  </tbody>\n",
       "</table>\n",
       "</div>"
      ],
      "text/plain": [
       "           rubles_for_metr\n",
       "center_km                 \n",
       "0            167255.548712\n",
       "1            155407.738881\n",
       "2            144171.568490\n",
       "3            126403.912282\n",
       "4            135422.784604"
      ]
     },
     "metadata": {},
     "output_type": "display_data"
    },
    {
     "data": {
      "text/plain": [
       "<matplotlib.axes._subplots.AxesSubplot at 0x28381986dc8>"
      ]
     },
     "execution_count": 37,
     "metadata": {},
     "output_type": "execute_result"
    },
    {
     "data": {
      "image/png": "[encoded data removed]",
      "text/plain": [
       "<Figure size 432x288 with 1 Axes>"
      ]
     },
     "metadata": {
      "needs_background": "light"
     },
     "output_type": "display_data"
    }
   ],
   "source": [
    "#выделить квартиры в Питере\n",
    "data_SP = data_new[data_new['locality_name'] == 'Санкт-Петербург'].reset_index(drop=True) \n",
    "data_SP['cenret_km'] = data_SP['cityCenters_nearest']/1000\n",
    "data_SP.dropna(subset=['cenret_km'], inplace=True)\n",
    "\n",
    "data_SP['center_km'] = data_SP['cenret_km'].astype('int')\n",
    "\n",
    "display(data_SP.head())\n",
    "\n",
    "data_center = data_SP.pivot_table(index='center_km',values='rubles_for_metr', aggfunc='mean')\n",
    "display(data_center.head())\n",
    "data_center.plot(grid=True)\n",
    "\n"
   ]
  },
  {
   "cell_type": "markdown",
   "metadata": {},
   "source": [
    "**Выводы**\n",
    "\n",
    "На графике видно, что есть минимум при 3 километрах и при 7. После 7 километров идет стабильное снижение средней цены, поэтому примем за центр область радиусом в 7 километров.\n"
   ]
  },
  {
   "cell_type": "markdown",
   "metadata": {},
   "source": [
    "### Вычисление параметров для квартир в центре"
   ]
  },
  {
   "cell_type": "markdown",
   "metadata": {},
   "source": [
    "Проанализируем отдельно квартиры в центре Санкт-Питербурга. Так как это центральный и исторический район города, параметры, влияющие на стоимость жилья, могут сильно отличаться. Найдем следующие параметры: площадь, цена, число комнат, высота потолков. Также выделим факторы, которые влияют на стоимость квартиры (число комнат, этаж, удалённость от центра, дата размещения объявления)."
   ]
  },
  {
   "cell_type": "code",
   "execution_count": 38,
   "metadata": {
    "scrolled": false
   },
   "outputs": [
    {
     "data": {
      "text/html": [
       "<div>\n",
       "<style scoped>\n",
       "    .dataframe tbody tr th:only-of-type {\n",
       "        vertical-align: middle;\n",
       "    }\n",
       "\n",
       "    .dataframe tbody tr th {\n",
       "        vertical-align: top;\n",
       "    }\n",
       "\n",
       "    .dataframe thead th {\n",
       "        text-align: right;\n",
       "    }\n",
       "</style>\n",
       "<table border=\"1\" class=\"dataframe\">\n",
       "  <thead>\n",
       "    <tr style=\"text-align: right;\">\n",
       "      <th></th>\n",
       "      <th>airports_nearest</th>\n",
       "      <th>balcony</th>\n",
       "      <th>category_floor</th>\n",
       "      <th>ceiling_height</th>\n",
       "      <th>cenret_km</th>\n",
       "      <th>center_km</th>\n",
       "      <th>cityCenters_nearest</th>\n",
       "      <th>days_exposition</th>\n",
       "      <th>floor</th>\n",
       "      <th>floors_total</th>\n",
       "      <th>...</th>\n",
       "      <th>parks_nearest</th>\n",
       "      <th>ponds_around3000</th>\n",
       "      <th>ponds_nearest</th>\n",
       "      <th>rooms</th>\n",
       "      <th>rubles_for_metr</th>\n",
       "      <th>studio</th>\n",
       "      <th>total_area</th>\n",
       "      <th>total_images</th>\n",
       "      <th>weekday_post</th>\n",
       "      <th>year</th>\n",
       "    </tr>\n",
       "    <tr>\n",
       "      <th>locality_name</th>\n",
       "      <th></th>\n",
       "      <th></th>\n",
       "      <th></th>\n",
       "      <th></th>\n",
       "      <th></th>\n",
       "      <th></th>\n",
       "      <th></th>\n",
       "      <th></th>\n",
       "      <th></th>\n",
       "      <th></th>\n",
       "      <th></th>\n",
       "      <th></th>\n",
       "      <th></th>\n",
       "      <th></th>\n",
       "      <th></th>\n",
       "      <th></th>\n",
       "      <th></th>\n",
       "      <th></th>\n",
       "      <th></th>\n",
       "      <th></th>\n",
       "      <th></th>\n",
       "    </tr>\n",
       "  </thead>\n",
       "  <tbody>\n",
       "    <tr>\n",
       "      <td>Санкт-Петербург</td>\n",
       "      <td>24485.351859</td>\n",
       "      <td>0.310953</td>\n",
       "      <td>0.472993</td>\n",
       "      <td>2.983834</td>\n",
       "      <td>4.352973</td>\n",
       "      <td>3.859715</td>\n",
       "      <td>4352.972993</td>\n",
       "      <td>222.347337</td>\n",
       "      <td>4.092648</td>\n",
       "      <td>6.92484</td>\n",
       "      <td>...</td>\n",
       "      <td>482.627263</td>\n",
       "      <td>1.306452</td>\n",
       "      <td>483.286909</td>\n",
       "      <td>2.789572</td>\n",
       "      <td>140643.581788</td>\n",
       "      <td>0.004126</td>\n",
       "      <td>90.759404</td>\n",
       "      <td>9.852963</td>\n",
       "      <td>2.524756</td>\n",
       "      <td>2017.054014</td>\n",
       "    </tr>\n",
       "  </tbody>\n",
       "</table>\n",
       "<p>1 rows × 29 columns</p>\n",
       "</div>"
      ],
      "text/plain": [
       "                 airports_nearest   balcony  category_floor  ceiling_height  \\\n",
       "locality_name                                                                 \n",
       "Санкт-Петербург      24485.351859  0.310953        0.472993        2.983834   \n",
       "\n",
       "                 cenret_km  center_km  cityCenters_nearest  days_exposition  \\\n",
       "locality_name                                                                 \n",
       "Санкт-Петербург   4.352973   3.859715          4352.972993       222.347337   \n",
       "\n",
       "                    floor  floors_total  ...  parks_nearest  ponds_around3000  \\\n",
       "locality_name                            ...                                    \n",
       "Санкт-Петербург  4.092648       6.92484  ...     482.627263          1.306452   \n",
       "\n",
       "                 ponds_nearest     rooms  rubles_for_metr    studio  \\\n",
       "locality_name                                                         \n",
       "Санкт-Петербург     483.286909  2.789572    140643.581788  0.004126   \n",
       "\n",
       "                 total_area  total_images  weekday_post         year  \n",
       "locality_name                                                         \n",
       "Санкт-Петербург   90.759404      9.852963      2.524756  2017.054014  \n",
       "\n",
       "[1 rows x 29 columns]"
      ]
     },
     "metadata": {},
     "output_type": "display_data"
    },
    {
     "name": "stdout",
     "output_type": "stream",
     "text": [
      "locality_name\n",
      "Санкт-Петербург    1.419575e+07\n",
      "Name: last_price, dtype: float64\n",
      "\n"
     ]
    },
    {
     "data": {
      "text/html": [
       "<div>\n",
       "<style scoped>\n",
       "    .dataframe tbody tr th:only-of-type {\n",
       "        vertical-align: middle;\n",
       "    }\n",
       "\n",
       "    .dataframe tbody tr th {\n",
       "        vertical-align: top;\n",
       "    }\n",
       "\n",
       "    .dataframe thead th {\n",
       "        text-align: right;\n",
       "    }\n",
       "</style>\n",
       "<table border=\"1\" class=\"dataframe\">\n",
       "  <thead>\n",
       "    <tr style=\"text-align: right;\">\n",
       "      <th></th>\n",
       "      <th>airports_nearest</th>\n",
       "      <th>balcony</th>\n",
       "      <th>category_floor</th>\n",
       "      <th>ceiling_height</th>\n",
       "      <th>cenret_km</th>\n",
       "      <th>center_km</th>\n",
       "      <th>cityCenters_nearest</th>\n",
       "      <th>days_exposition</th>\n",
       "      <th>floor</th>\n",
       "      <th>floors_total</th>\n",
       "      <th>...</th>\n",
       "      <th>parks_nearest</th>\n",
       "      <th>ponds_around3000</th>\n",
       "      <th>ponds_nearest</th>\n",
       "      <th>rooms</th>\n",
       "      <th>rubles_for_metr</th>\n",
       "      <th>studio</th>\n",
       "      <th>total_area</th>\n",
       "      <th>total_images</th>\n",
       "      <th>weekday_post</th>\n",
       "      <th>year</th>\n",
       "    </tr>\n",
       "    <tr>\n",
       "      <th>locality_name</th>\n",
       "      <th></th>\n",
       "      <th></th>\n",
       "      <th></th>\n",
       "      <th></th>\n",
       "      <th></th>\n",
       "      <th></th>\n",
       "      <th></th>\n",
       "      <th></th>\n",
       "      <th></th>\n",
       "      <th></th>\n",
       "      <th></th>\n",
       "      <th></th>\n",
       "      <th></th>\n",
       "      <th></th>\n",
       "      <th></th>\n",
       "      <th></th>\n",
       "      <th></th>\n",
       "      <th></th>\n",
       "      <th></th>\n",
       "      <th></th>\n",
       "      <th></th>\n",
       "    </tr>\n",
       "  </thead>\n",
       "  <tbody>\n",
       "    <tr>\n",
       "      <td>Санкт-Петербург</td>\n",
       "      <td>28089.463683</td>\n",
       "      <td>0.588047</td>\n",
       "      <td>0.340546</td>\n",
       "      <td>2.784093</td>\n",
       "      <td>11.720853</td>\n",
       "      <td>11.221982</td>\n",
       "      <td>11720.853082</td>\n",
       "      <td>167.63886</td>\n",
       "      <td>6.305775</td>\n",
       "      <td>11.513378</td>\n",
       "      <td>...</td>\n",
       "      <td>498.384763</td>\n",
       "      <td>0.755783</td>\n",
       "      <td>522.590782</td>\n",
       "      <td>2.113416</td>\n",
       "      <td>112099.731767</td>\n",
       "      <td>0.00582</td>\n",
       "      <td>62.468349</td>\n",
       "      <td>9.938666</td>\n",
       "      <td>2.58148</td>\n",
       "      <td>2017.232204</td>\n",
       "    </tr>\n",
       "  </tbody>\n",
       "</table>\n",
       "<p>1 rows × 29 columns</p>\n",
       "</div>"
      ],
      "text/plain": [
       "                 airports_nearest   balcony  category_floor  ceiling_height  \\\n",
       "locality_name                                                                 \n",
       "Санкт-Петербург      28089.463683  0.588047        0.340546        2.784093   \n",
       "\n",
       "                 cenret_km  center_km  cityCenters_nearest  days_exposition  \\\n",
       "locality_name                                                                 \n",
       "Санкт-Петербург  11.720853  11.221982         11720.853082        167.63886   \n",
       "\n",
       "                    floor  floors_total  ...  parks_nearest  ponds_around3000  \\\n",
       "locality_name                            ...                                    \n",
       "Санкт-Петербург  6.305775     11.513378  ...     498.384763          0.755783   \n",
       "\n",
       "                 ponds_nearest     rooms  rubles_for_metr   studio  \\\n",
       "locality_name                                                        \n",
       "Санкт-Петербург     522.590782  2.113416    112099.731767  0.00582   \n",
       "\n",
       "                 total_area  total_images  weekday_post         year  \n",
       "locality_name                                                         \n",
       "Санкт-Петербург   62.468349      9.938666       2.58148  2017.232204  \n",
       "\n",
       "[1 rows x 29 columns]"
      ]
     },
     "metadata": {},
     "output_type": "display_data"
    },
    {
     "name": "stdout",
     "output_type": "stream",
     "text": [
      "locality_name\n",
      "Санкт-Петербург    7.579282e+06\n",
      "Name: last_price, dtype: float64\n"
     ]
    }
   ],
   "source": [
    "#выделим квартиры в центре Питера\n",
    "data_SP_center = data_SP[data_SP['cenret_km'] <=7]\n",
    "#средние параметры по центру города\n",
    "data_SP_center_mean = data_SP_center.pivot_table(index='locality_name', aggfunc='mean')\n",
    "display(data_SP_center_mean)\n",
    "print(data_SP_center_mean['last_price'])\n",
    "print()\n",
    "\n",
    "#средние параметры по всему городу\n",
    "data_SP_mean = data_SP.pivot_table(index='locality_name', aggfunc='mean')\n",
    "display(data_SP_mean)\n",
    "print(data_SP_mean['last_price'])"
   ]
  },
  {
   "cell_type": "markdown",
   "metadata": {},
   "source": [
    "**Вывод**\n",
    "\n",
    "1. Cредняя площадь квартир по всему городу 62,5 м2, по центру - 90, 8 м2. Значит, квартиры в центре в среднем больше по площади.\n",
    "2. Цена квартир в центре на 1,8 раза выше: 14 миллионов рублей (в среднем) по центру и 7,6 миллионов по всему городу.\n",
    "3. Количество комнат во всем Санкт-Петербурге составляет 2,1. В центре - 2,8. Следовательно, у квартир в центре больше комнат.\n",
    "4. В Санкт-Петербурге высота потолков в среднем 2,7м, но в центре около 3м. \n"
   ]
  },
  {
   "cell_type": "markdown",
   "metadata": {},
   "source": [
    "Для того чтобы определить если ли зависимость между ценой и количеством комнат, расчитаем коэффициент корреляции Пирсона."
   ]
  },
  {
   "cell_type": "code",
   "execution_count": 39,
   "metadata": {
    "scrolled": false
   },
   "outputs": [
    {
     "name": "stdout",
     "output_type": "stream",
     "text": [
      "Коэффициент корреляции Пирсона: 0.32\n"
     ]
    },
    {
     "data": {
      "image/png": "[encoded data removed]",
      "text/plain": [
       "<Figure size 432x288 with 1 Axes>"
      ]
     },
     "metadata": {
      "needs_background": "light"
     },
     "output_type": "display_data"
    }
   ],
   "source": [
    "#зависимость цены от количества комнат\n",
    "data_SP_center.plot(x='rooms', y='last_price', grid=True, style='o')\n",
    "print('Коэффициент корреляции Пирсона:', '{:.2f}'.format(data_SP_center['rooms'].corr(data_SP_center['last_price'])))"
   ]
  },
  {
   "cell_type": "markdown",
   "metadata": {},
   "source": [
    "**Вывод** \n",
    "\n",
    "Цена квартир имеет прямопропорциональную зависимость от количества комнат (Коэффициент корреляции Пирсона больше нуля). По графику видно, что цены растут от 0 до 5 комнат, после чего начинают падать (от 5 комнат и больше).\n"
   ]
  },
  {
   "cell_type": "code",
   "execution_count": 40,
   "metadata": {
    "scrolled": false
   },
   "outputs": [
    {
     "name": "stdout",
     "output_type": "stream",
     "text": [
      "Коэффициент корреляции Пирсона: -0.04\n"
     ]
    },
    {
     "data": {
      "image/png": "[encoded data removed]",
      "text/plain": [
       "<Figure size 432x288 with 1 Axes>"
      ]
     },
     "metadata": {
      "needs_background": "light"
     },
     "output_type": "display_data"
    }
   ],
   "source": [
    "#зависимость цены от расстояния до центра\n",
    "data_SP_center.plot(x='cityCenters_nearest', y='last_price', grid=True, style='o')\n",
    "print('Коэффициент корреляции Пирсона:', '{:.2f}'.format(data_SP_center['cityCenters_nearest'].corr(data_SP_center['last_price'])))"
   ]
  },
  {
   "cell_type": "markdown",
   "metadata": {},
   "source": [
    "**Вывод** \n",
    "\n",
    "1. Зависимость цены в центральном районе, в отличии от остального города, не зависит от удаленности от центра (Коэффициент корреляции Пирсона близок к нулю).\n",
    "2. Логично предположить, что в данном случае на цену влияют другие параметры.\n"
   ]
  },
  {
   "cell_type": "code",
   "execution_count": 41,
   "metadata": {
    "scrolled": false
   },
   "outputs": [
    {
     "data": {
      "image/png": "[encoded data removed]",
      "text/plain": [
       "<Figure size 432x288 with 1 Axes>"
      ]
     },
     "metadata": {
      "needs_background": "light"
     },
     "output_type": "display_data"
    }
   ],
   "source": [
    "#зависимость цены от этажа\n",
    "def category(floor):\n",
    "    if floor=='первый':\n",
    "        return 1\n",
    "    if floor=='последний':\n",
    "        return 2\n",
    "    if floor=='другой':\n",
    "        return 0\n",
    "    \n",
    "data_SP_center['category_floor'] = data_SP_center['floor_category'].apply(category) \n",
    "data_SP_center.plot(x='category_floor', y='last_price', grid=True, style='o')\n",
    "\n",
    "import warnings\n",
    "warnings.simplefilter('ignore')"
   ]
  },
  {
   "cell_type": "markdown",
   "metadata": {},
   "source": [
    "**Вывод** \n",
    "\n",
    "В центтральном районе цены на квартиры на первом этаже ниже, чем на других этажах. Как и в целом по городу."
   ]
  },
  {
   "cell_type": "code",
   "execution_count": 42,
   "metadata": {
    "scrolled": true
   },
   "outputs": [
    {
     "data": {
      "image/png": "[encoded data removed]",
      "text/plain": [
       "<Figure size 432x288 with 1 Axes>"
      ]
     },
     "metadata": {
      "needs_background": "light"
     },
     "output_type": "display_data"
    },
    {
     "data": {
      "image/png": "[encoded data removed]",
      "text/plain": [
       "<Figure size 432x288 with 1 Axes>"
      ]
     },
     "metadata": {
      "needs_background": "light"
     },
     "output_type": "display_data"
    },
    {
     "data": {
      "image/png": "[encoded data removed]",
      "text/plain": [
       "<Figure size 432x288 with 1 Axes>"
      ]
     },
     "metadata": {
      "needs_background": "light"
     },
     "output_type": "display_data"
    }
   ],
   "source": [
    "need_columns=['weekday_post','month_post', 'year']\n",
    "\n",
    "for i in range(len(need_columns)):\n",
    "    data_SP_center.plot(x=need_columns[i], \n",
    "                  y='last_price', \n",
    "                  grid=True, \n",
    "                  style='o')"
   ]
  },
  {
   "cell_type": "markdown",
   "metadata": {},
   "source": [
    "**Вывод**\n",
    "\n",
    "Графики для квартир в центре очень похожи на графики для всех квартир. Явной зависимости между ценой и днем недели/месяцем публикации нет. А вот зависимость цены от года наблюдается: с 2014 до 2017 цены на недвижимость растут, затем уменьшаются."
   ]
  },
  {
   "cell_type": "markdown",
   "metadata": {},
   "source": [
    "## Общий вывод"
   ]
  },
  {
   "cell_type": "markdown",
   "metadata": {},
   "source": [
    "1. Была проведена работа по первичной обработке данных (удаление пропусков, перевод типа данных).\n",
    "2. Расчитаны такие параметры как: цена за квадратный метр; день недели, месяц и год публикации; проведена категоризация для этажа квартиры; вычислено соотношение площадей отдельных комнат к общей площади.\n"
   ]
  },
  {
   "cell_type": "markdown",
   "metadata": {},
   "source": [
    "В ходе исследовательского анализа были сделаны следующие выводы:\n",
    "1. Такие параметры как площадь квартиры, число комнат, высота потолков, удаленость от центра прямо влияют на стоймость квартиры.\n",
    "2. День недели и месяц публикации объявления не влияют на конечную стоимость квартиры. А вот зависимость цены от года публикации есть.\n",
    "3. Квартиры в центре Санкт-Петербурга на поряжок дороже, по сравнению с остальным городом и областью. На ценообразование квартир в центре Санкт-Петербурга влияет высота потолков, колличество комнат, площадь, этаж. А вот удаленность квартиры от центра уже не имеет большого значения.\n",
    "4. В центре города квартиры в среднем больше по площади, потолки выше и больше комнат. Однако, стоимость недвижимости в центре в 1,8 раз выше, чем в остальных районах."
   ]
  },
  {
   "cell_type": "markdown",
   "metadata": {},
   "source": []
  }
 ],
 "metadata": {
  "ExecuteTimeLog": [
   {
    "duration": 846,
    "start_time": "2021-07-29T19:13:41.949Z"
   },
   {
    "duration": 98,
    "start_time": "2021-07-29T19:14:18.382Z"
   },
   {
    "duration": 82,
    "start_time": "2021-07-29T19:14:58.308Z"
   },
   {
    "duration": 85,
    "start_time": "2021-07-29T19:15:14.471Z"
   },
   {
    "duration": 91,
    "start_time": "2021-07-29T19:16:24.479Z"
   },
   {
    "duration": 86,
    "start_time": "2021-07-29T19:16:43.769Z"
   },
   {
    "duration": 5749,
    "start_time": "2021-07-29T19:17:32.901Z"
   },
   {
    "duration": 5045,
    "start_time": "2021-07-29T19:17:43.906Z"
   },
   {
    "duration": 145,
    "start_time": "2021-07-29T19:17:55.506Z"
   },
   {
    "duration": 85,
    "start_time": "2021-07-29T19:19:13.943Z"
   },
   {
    "duration": 131,
    "start_time": "2021-07-29T19:20:22.872Z"
   },
   {
    "duration": 131,
    "start_time": "2021-07-29T19:21:48.833Z"
   },
   {
    "duration": 133,
    "start_time": "2021-07-29T19:22:06.202Z"
   },
   {
    "duration": 139,
    "start_time": "2021-07-29T19:22:16.060Z"
   },
   {
    "duration": 130,
    "start_time": "2021-07-29T19:22:19.494Z"
   },
   {
    "duration": 140,
    "start_time": "2021-07-29T19:23:01.566Z"
   },
   {
    "duration": 247,
    "start_time": "2021-07-29T19:23:49.677Z"
   },
   {
    "duration": 448,
    "start_time": "2021-07-29T19:52:28.713Z"
   },
   {
    "duration": 166,
    "start_time": "2021-07-29T19:52:43.190Z"
   },
   {
    "duration": 142,
    "start_time": "2021-07-29T19:57:21.377Z"
   },
   {
    "duration": 147,
    "start_time": "2021-07-29T20:02:58.916Z"
   },
   {
    "duration": 182,
    "start_time": "2021-07-29T20:03:13.620Z"
   },
   {
    "duration": 186,
    "start_time": "2021-07-29T20:03:35.508Z"
   },
   {
    "duration": 2489,
    "start_time": "2021-07-29T20:03:54.545Z"
   },
   {
    "duration": 203,
    "start_time": "2021-07-29T20:04:25.259Z"
   },
   {
    "duration": 2629,
    "start_time": "2021-07-29T20:05:22.603Z"
   },
   {
    "duration": 191,
    "start_time": "2021-07-29T20:05:42.736Z"
   },
   {
    "duration": 206,
    "start_time": "2021-07-29T20:46:00.301Z"
   },
   {
    "duration": 221,
    "start_time": "2021-07-29T20:46:39.119Z"
   },
   {
    "duration": 205,
    "start_time": "2021-07-29T21:25:33.644Z"
   },
   {
    "duration": 167,
    "start_time": "2021-07-29T21:27:07.286Z"
   },
   {
    "duration": 886,
    "start_time": "2021-07-31T16:36:30.762Z"
   },
   {
    "duration": 88,
    "start_time": "2021-07-31T16:36:31.651Z"
   },
   {
    "duration": 102,
    "start_time": "2021-07-31T16:37:09.076Z"
   },
   {
    "duration": 71,
    "start_time": "2021-07-31T16:38:51.968Z"
   },
   {
    "duration": 68,
    "start_time": "2021-07-31T18:46:48.105Z"
   },
   {
    "duration": 52,
    "start_time": "2021-07-31T18:47:57.133Z"
   },
   {
    "duration": 48,
    "start_time": "2021-07-31T18:48:15.249Z"
   },
   {
    "duration": 53,
    "start_time": "2021-07-31T18:53:07.090Z"
   },
   {
    "duration": 23,
    "start_time": "2021-07-31T18:53:15.178Z"
   },
   {
    "duration": 32,
    "start_time": "2021-07-31T18:55:00.674Z"
   },
   {
    "duration": 62,
    "start_time": "2021-07-31T18:55:25.137Z"
   },
   {
    "duration": 53,
    "start_time": "2021-07-31T18:56:19.363Z"
   },
   {
    "duration": 446,
    "start_time": "2021-07-31T19:01:52.053Z"
   },
   {
    "duration": 114,
    "start_time": "2021-07-31T19:05:51.664Z"
   },
   {
    "duration": 108,
    "start_time": "2021-07-31T19:07:22.438Z"
   },
   {
    "duration": 109,
    "start_time": "2021-07-31T19:07:52.659Z"
   },
   {
    "duration": 352,
    "start_time": "2021-07-31T19:12:33.706Z"
   },
   {
    "duration": 401,
    "start_time": "2021-07-31T19:13:09.565Z"
   },
   {
    "duration": 412,
    "start_time": "2021-07-31T19:13:23.352Z"
   },
   {
    "duration": 419,
    "start_time": "2021-07-31T19:13:44.822Z"
   },
   {
    "duration": 58,
    "start_time": "2021-07-31T19:14:14.668Z"
   },
   {
    "duration": 65,
    "start_time": "2021-07-31T19:14:29.728Z"
   },
   {
    "duration": 116,
    "start_time": "2021-07-31T19:16:55.322Z"
   },
   {
    "duration": 814,
    "start_time": "2021-07-31T19:17:01.834Z"
   },
   {
    "duration": 7961,
    "start_time": "2021-07-31T19:17:16.822Z"
   },
   {
    "duration": 7997,
    "start_time": "2021-07-31T19:17:25.263Z"
   },
   {
    "duration": 71,
    "start_time": "2021-07-31T19:19:43.042Z"
   },
   {
    "duration": 67,
    "start_time": "2021-07-31T19:20:48.702Z"
   },
   {
    "duration": 44,
    "start_time": "2021-07-31T19:21:49.094Z"
   },
   {
    "duration": 42,
    "start_time": "2021-07-31T19:24:10.151Z"
   },
   {
    "duration": 42,
    "start_time": "2021-07-31T19:24:51.112Z"
   },
   {
    "duration": 45,
    "start_time": "2021-07-31T19:25:01.275Z"
   },
   {
    "duration": 34,
    "start_time": "2021-07-31T19:41:12.297Z"
   },
   {
    "duration": 65,
    "start_time": "2021-07-31T19:42:04.217Z"
   },
   {
    "duration": 111,
    "start_time": "2021-07-31T20:00:37.033Z"
   },
   {
    "duration": 410,
    "start_time": "2021-07-31T20:00:40.976Z"
   },
   {
    "duration": 480,
    "start_time": "2021-07-31T20:01:18.196Z"
   },
   {
    "duration": 374,
    "start_time": "2021-07-31T20:02:41.989Z"
   },
   {
    "duration": 380,
    "start_time": "2021-07-31T20:02:55.646Z"
   },
   {
    "duration": 398,
    "start_time": "2021-07-31T20:03:25.782Z"
   },
   {
    "duration": 137,
    "start_time": "2021-07-31T20:24:08.303Z"
   },
   {
    "duration": 106,
    "start_time": "2021-08-01T22:13:28.763Z"
   },
   {
    "duration": 338,
    "start_time": "2021-08-01T22:13:41.584Z"
   },
   {
    "duration": 1002,
    "start_time": "2021-08-01T22:13:49.239Z"
   },
   {
    "duration": 377,
    "start_time": "2021-08-01T22:13:50.244Z"
   },
   {
    "duration": 343,
    "start_time": "2021-08-01T22:14:07.509Z"
   },
   {
    "duration": 71,
    "start_time": "2021-08-01T22:14:30.334Z"
   },
   {
    "duration": 57,
    "start_time": "2021-08-01T22:14:48.490Z"
   },
   {
    "duration": 70,
    "start_time": "2021-08-01T22:14:59.393Z"
   },
   {
    "duration": 52,
    "start_time": "2021-08-01T22:15:07.471Z"
   },
   {
    "duration": 324,
    "start_time": "2021-08-01T22:19:28.897Z"
   },
   {
    "duration": 306,
    "start_time": "2021-08-01T22:19:49.372Z"
   },
   {
    "duration": 677,
    "start_time": "2021-08-04T11:09:12.299Z"
   },
   {
    "duration": 1196,
    "start_time": "2021-08-04T11:09:12.978Z"
   },
   {
    "duration": 1179,
    "start_time": "2021-08-04T11:13:09.940Z"
   },
   {
    "duration": 1154,
    "start_time": "2021-08-04T11:14:33.364Z"
   },
   {
    "duration": 3827,
    "start_time": "2021-08-04T11:17:00.219Z"
   },
   {
    "duration": 3349,
    "start_time": "2021-08-04T11:25:37.153Z"
   },
   {
    "duration": 3289,
    "start_time": "2021-08-04T11:26:24.786Z"
   },
   {
    "duration": 3251,
    "start_time": "2021-08-04T11:26:45.640Z"
   },
   {
    "duration": 900,
    "start_time": "2021-08-04T11:37:14.941Z"
   },
   {
    "duration": 1374,
    "start_time": "2021-08-04T11:39:07.463Z"
   },
   {
    "duration": 67,
    "start_time": "2021-08-04T11:40:23.590Z"
   },
   {
    "duration": 72,
    "start_time": "2021-08-04T11:41:51.987Z"
   },
   {
    "duration": 71,
    "start_time": "2021-08-04T11:42:32.804Z"
   },
   {
    "duration": 95,
    "start_time": "2021-08-04T11:43:02.279Z"
   },
   {
    "duration": 49,
    "start_time": "2021-08-04T11:43:22.283Z"
   },
   {
    "duration": 60,
    "start_time": "2021-08-04T11:49:12.439Z"
   },
   {
    "duration": 113,
    "start_time": "2021-08-04T11:50:47.103Z"
   },
   {
    "duration": 101,
    "start_time": "2021-08-04T11:52:34.925Z"
   },
   {
    "duration": 68,
    "start_time": "2021-08-04T11:53:21.454Z"
   },
   {
    "duration": 68,
    "start_time": "2021-08-04T11:57:50.110Z"
   },
   {
    "duration": 73,
    "start_time": "2021-08-04T12:02:39.582Z"
   },
   {
    "duration": 85,
    "start_time": "2021-08-04T12:03:08.900Z"
   },
   {
    "duration": 358,
    "start_time": "2021-08-04T12:04:00.175Z"
   },
   {
    "duration": 96,
    "start_time": "2021-08-04T12:04:08.609Z"
   },
   {
    "duration": 98,
    "start_time": "2021-08-04T12:07:04.814Z"
   },
   {
    "duration": 122,
    "start_time": "2021-08-04T12:07:04.914Z"
   },
   {
    "duration": 120,
    "start_time": "2021-08-04T12:35:49.648Z"
   },
   {
    "duration": 148,
    "start_time": "2021-08-04T12:39:21.752Z"
   },
   {
    "duration": 135,
    "start_time": "2021-08-04T13:07:53.829Z"
   },
   {
    "duration": 6,
    "start_time": "2021-08-04T13:12:02.685Z"
   },
   {
    "duration": 6,
    "start_time": "2021-08-04T13:12:07.189Z"
   },
   {
    "duration": 25,
    "start_time": "2021-08-04T13:12:23.676Z"
   },
   {
    "duration": 263,
    "start_time": "2021-08-04T13:19:04.088Z"
   },
   {
    "duration": 231,
    "start_time": "2021-08-04T13:20:26.572Z"
   },
   {
    "duration": 902,
    "start_time": "2021-08-04T13:22:28.162Z"
   },
   {
    "duration": 27,
    "start_time": "2021-08-04T13:23:11.504Z"
   },
   {
    "duration": 29,
    "start_time": "2021-08-04T13:24:00.103Z"
   },
   {
    "duration": 32,
    "start_time": "2021-08-04T13:24:32.080Z"
   },
   {
    "duration": 3628,
    "start_time": "2021-08-04T13:33:37.855Z"
   },
   {
    "duration": 3262,
    "start_time": "2021-08-04T13:34:02.722Z"
   },
   {
    "duration": 3099,
    "start_time": "2021-08-04T13:34:22.002Z"
   },
   {
    "duration": 1046,
    "start_time": "2021-08-04T13:35:36.657Z"
   },
   {
    "duration": 1103,
    "start_time": "2021-08-04T13:36:03.043Z"
   },
   {
    "duration": 448,
    "start_time": "2021-08-04T13:38:31.449Z"
   },
   {
    "duration": 472,
    "start_time": "2021-08-04T13:44:41.232Z"
   },
   {
    "duration": 532,
    "start_time": "2021-08-04T13:59:03.873Z"
   },
   {
    "duration": 132,
    "start_time": "2021-08-04T13:59:33.997Z"
   },
   {
    "duration": 440,
    "start_time": "2021-08-04T13:59:38.408Z"
   },
   {
    "duration": 127,
    "start_time": "2021-08-04T14:00:27.293Z"
   },
   {
    "duration": 131,
    "start_time": "2021-08-04T14:00:40.955Z"
   },
   {
    "duration": 141,
    "start_time": "2021-08-04T14:01:41.367Z"
   },
   {
    "duration": 137,
    "start_time": "2021-08-04T14:02:20.946Z"
   },
   {
    "duration": 141,
    "start_time": "2021-08-04T14:03:05.641Z"
   },
   {
    "duration": 141,
    "start_time": "2021-08-04T14:03:44.831Z"
   },
   {
    "duration": 133,
    "start_time": "2021-08-04T14:03:53.836Z"
   },
   {
    "duration": 378,
    "start_time": "2021-08-04T14:05:03.611Z"
   },
   {
    "duration": 125,
    "start_time": "2021-08-04T14:05:13.650Z"
   },
   {
    "duration": 134,
    "start_time": "2021-08-04T14:05:35.537Z"
   },
   {
    "duration": 5754,
    "start_time": "2021-08-04T14:06:39.255Z"
   },
   {
    "duration": 345,
    "start_time": "2021-08-04T14:07:16.904Z"
   },
   {
    "duration": 82,
    "start_time": "2021-08-04T14:07:37.710Z"
   },
   {
    "duration": 76,
    "start_time": "2021-08-04T14:07:40.435Z"
   },
   {
    "duration": 5656,
    "start_time": "2021-08-04T14:07:49.326Z"
   },
   {
    "duration": 109,
    "start_time": "2021-08-04T14:08:15.551Z"
   },
   {
    "duration": 137,
    "start_time": "2021-08-04T14:08:44.819Z"
   },
   {
    "duration": 302,
    "start_time": "2021-08-04T14:14:26.593Z"
   },
   {
    "duration": 235,
    "start_time": "2021-08-04T14:15:28.696Z"
   },
   {
    "duration": 236,
    "start_time": "2021-08-04T14:15:46.433Z"
   },
   {
    "duration": 246,
    "start_time": "2021-08-04T14:15:52.280Z"
   },
   {
    "duration": 94,
    "start_time": "2021-08-04T14:16:01.908Z"
   },
   {
    "duration": 130,
    "start_time": "2021-08-04T14:16:02.004Z"
   },
   {
    "duration": 233,
    "start_time": "2021-08-04T14:16:02.136Z"
   },
   {
    "duration": 318,
    "start_time": "2021-08-04T14:16:57.513Z"
   },
   {
    "duration": 316,
    "start_time": "2021-08-04T14:18:46.636Z"
   },
   {
    "duration": 290,
    "start_time": "2021-08-04T14:29:39.636Z"
   },
   {
    "duration": 282,
    "start_time": "2021-08-04T14:30:28.661Z"
   },
   {
    "duration": 301,
    "start_time": "2021-08-04T15:13:53.425Z"
   },
   {
    "duration": 92,
    "start_time": "2021-08-04T15:14:00.857Z"
   },
   {
    "duration": 304,
    "start_time": "2021-08-04T15:14:04.712Z"
   },
   {
    "duration": 324,
    "start_time": "2021-08-04T15:14:57.068Z"
   },
   {
    "duration": 306,
    "start_time": "2021-08-04T15:15:18.620Z"
   },
   {
    "duration": 380,
    "start_time": "2021-08-04T15:15:52.889Z"
   },
   {
    "duration": 301,
    "start_time": "2021-08-04T15:16:26.747Z"
   },
   {
    "duration": 345,
    "start_time": "2021-08-04T15:16:58.214Z"
   },
   {
    "duration": 330,
    "start_time": "2021-08-04T15:20:30.183Z"
   },
   {
    "duration": 323,
    "start_time": "2021-08-04T15:21:12.987Z"
   },
   {
    "duration": 93,
    "start_time": "2021-08-04T15:21:23.516Z"
   },
   {
    "duration": 65,
    "start_time": "2021-08-04T15:21:23.611Z"
   },
   {
    "duration": 523,
    "start_time": "2021-08-04T15:21:23.678Z"
   },
   {
    "duration": 156,
    "start_time": "2021-08-04T15:45:54.135Z"
   },
   {
    "duration": 81,
    "start_time": "2021-08-04T15:46:30.280Z"
   },
   {
    "duration": 92,
    "start_time": "2021-08-04T15:49:50.272Z"
   },
   {
    "duration": 80,
    "start_time": "2021-08-04T15:49:50.365Z"
   },
   {
    "duration": 467,
    "start_time": "2021-08-04T15:49:50.447Z"
   },
   {
    "duration": 80,
    "start_time": "2021-08-04T15:50:13.650Z"
   },
   {
    "duration": 81,
    "start_time": "2021-08-04T16:12:06.120Z"
   },
   {
    "duration": 475,
    "start_time": "2021-08-04T16:12:29.589Z"
   },
   {
    "duration": 84,
    "start_time": "2021-08-04T16:17:12.546Z"
   },
   {
    "duration": 583,
    "start_time": "2021-08-04T16:17:35.893Z"
   },
   {
    "duration": 3041,
    "start_time": "2021-08-04T17:03:14.036Z"
   },
   {
    "duration": 468,
    "start_time": "2021-08-04T17:04:18.163Z"
   },
   {
    "duration": 536,
    "start_time": "2021-08-04T17:05:00.330Z"
   },
   {
    "duration": 576,
    "start_time": "2021-08-04T17:05:39.493Z"
   },
   {
    "duration": 3269,
    "start_time": "2021-08-04T17:06:08.996Z"
   },
   {
    "duration": 70,
    "start_time": "2021-08-04T17:06:44.430Z"
   },
   {
    "duration": 384,
    "start_time": "2021-08-04T17:08:10.245Z"
   },
   {
    "duration": 154,
    "start_time": "2021-08-04T17:16:26.262Z"
   },
   {
    "duration": 78,
    "start_time": "2021-08-04T17:16:52.001Z"
   },
   {
    "duration": 478,
    "start_time": "2021-08-04T17:17:55.812Z"
   },
   {
    "duration": 3317,
    "start_time": "2021-08-04T17:18:22.855Z"
   },
   {
    "duration": 344,
    "start_time": "2021-08-04T17:37:22.687Z"
   },
   {
    "duration": 68,
    "start_time": "2021-08-04T17:37:49.050Z"
   },
   {
    "duration": 235,
    "start_time": "2021-08-04T17:38:00.427Z"
   },
   {
    "duration": 796,
    "start_time": "2021-08-04T17:38:40.776Z"
   },
   {
    "duration": 596,
    "start_time": "2021-08-04T17:39:46.718Z"
   },
   {
    "duration": 168,
    "start_time": "2021-08-04T17:40:08.889Z"
   },
   {
    "duration": 166,
    "start_time": "2021-08-04T17:41:02.610Z"
   },
   {
    "duration": 93,
    "start_time": "2021-08-04T17:41:56.409Z"
   },
   {
    "duration": 67,
    "start_time": "2021-08-04T17:41:56.504Z"
   },
   {
    "duration": 585,
    "start_time": "2021-08-04T17:41:56.573Z"
   },
   {
    "duration": 186,
    "start_time": "2021-08-04T17:41:57.159Z"
   },
   {
    "duration": 156,
    "start_time": "2021-08-04T17:42:17.955Z"
   },
   {
    "duration": 237,
    "start_time": "2021-08-04T17:42:41.311Z"
   },
   {
    "duration": 232,
    "start_time": "2021-08-04T17:42:55.196Z"
   },
   {
    "duration": 329,
    "start_time": "2021-08-04T17:43:52.428Z"
   },
   {
    "duration": 315,
    "start_time": "2021-08-04T17:44:30.653Z"
   },
   {
    "duration": 260,
    "start_time": "2021-08-04T17:45:00.421Z"
   },
   {
    "duration": 347,
    "start_time": "2021-08-04T17:45:06.710Z"
   },
   {
    "duration": 258,
    "start_time": "2021-08-04T17:45:14.460Z"
   },
   {
    "duration": 241,
    "start_time": "2021-08-04T17:45:22.591Z"
   },
   {
    "duration": 254,
    "start_time": "2021-08-04T17:45:37.980Z"
   },
   {
    "duration": 321,
    "start_time": "2021-08-04T17:45:44.740Z"
   },
   {
    "duration": 424,
    "start_time": "2021-08-04T17:46:10.234Z"
   },
   {
    "duration": 317,
    "start_time": "2021-08-04T17:47:06.827Z"
   },
   {
    "duration": 232,
    "start_time": "2021-08-04T17:48:03.883Z"
   },
   {
    "duration": 326,
    "start_time": "2021-08-04T17:48:17.109Z"
   },
   {
    "duration": 98,
    "start_time": "2021-08-04T17:53:32.365Z"
   },
   {
    "duration": 245,
    "start_time": "2021-08-04T17:53:44.753Z"
   },
   {
    "duration": 83,
    "start_time": "2021-08-04T17:54:07.358Z"
   },
   {
    "duration": 240,
    "start_time": "2021-08-04T17:54:10.594Z"
   },
   {
    "duration": 240,
    "start_time": "2021-08-04T17:54:19.420Z"
   },
   {
    "duration": 232,
    "start_time": "2021-08-04T17:55:24.930Z"
   },
   {
    "duration": 231,
    "start_time": "2021-08-04T17:56:11.874Z"
   },
   {
    "duration": 283,
    "start_time": "2021-08-04T17:56:20.833Z"
   },
   {
    "duration": 312,
    "start_time": "2021-08-04T17:57:03.837Z"
   },
   {
    "duration": 278,
    "start_time": "2021-08-04T17:59:48.055Z"
   },
   {
    "duration": 297,
    "start_time": "2021-08-04T18:07:15.800Z"
   },
   {
    "duration": 212,
    "start_time": "2021-08-04T18:07:40.401Z"
   },
   {
    "duration": 210,
    "start_time": "2021-08-04T18:09:17.687Z"
   },
   {
    "duration": 431,
    "start_time": "2021-08-04T18:10:26.952Z"
   },
   {
    "duration": 74,
    "start_time": "2021-08-04T18:10:40.740Z"
   },
   {
    "duration": 239,
    "start_time": "2021-08-04T18:10:43.990Z"
   },
   {
    "duration": 220,
    "start_time": "2021-08-04T18:11:18.265Z"
   },
   {
    "duration": 612,
    "start_time": "2021-08-04T18:11:37.055Z"
   },
   {
    "duration": 225,
    "start_time": "2021-08-04T18:11:47.010Z"
   },
   {
    "duration": 223,
    "start_time": "2021-08-04T18:12:59.065Z"
   },
   {
    "duration": 166,
    "start_time": "2021-08-04T18:13:08.981Z"
   },
   {
    "duration": 183,
    "start_time": "2021-08-04T18:13:13.601Z"
   },
   {
    "duration": 171,
    "start_time": "2021-08-04T18:13:30.258Z"
   },
   {
    "duration": 154,
    "start_time": "2021-08-04T18:13:42.205Z"
   },
   {
    "duration": 186,
    "start_time": "2021-08-04T18:13:52.048Z"
   },
   {
    "duration": 250,
    "start_time": "2021-08-04T18:15:10.880Z"
   },
   {
    "duration": 187,
    "start_time": "2021-08-04T18:15:18.835Z"
   },
   {
    "duration": 219,
    "start_time": "2021-08-04T18:15:26.673Z"
   },
   {
    "duration": 191,
    "start_time": "2021-08-04T18:16:00.702Z"
   },
   {
    "duration": 185,
    "start_time": "2021-08-04T18:16:09.669Z"
   },
   {
    "duration": 188,
    "start_time": "2021-08-04T18:17:13.644Z"
   },
   {
    "duration": 342,
    "start_time": "2021-08-04T18:17:20.696Z"
   },
   {
    "duration": 220,
    "start_time": "2021-08-04T18:17:27.094Z"
   },
   {
    "duration": 198,
    "start_time": "2021-08-04T18:17:36.325Z"
   },
   {
    "duration": 182,
    "start_time": "2021-08-04T18:23:37.369Z"
   },
   {
    "duration": 177,
    "start_time": "2021-08-04T18:23:52.135Z"
   },
   {
    "duration": 211,
    "start_time": "2021-08-04T18:27:24.037Z"
   },
   {
    "duration": 174,
    "start_time": "2021-08-04T18:27:31.154Z"
   },
   {
    "duration": 185,
    "start_time": "2021-08-04T18:29:19.939Z"
   },
   {
    "duration": 180,
    "start_time": "2021-08-04T18:29:45.230Z"
   },
   {
    "duration": 226,
    "start_time": "2021-08-04T19:20:46.703Z"
   },
   {
    "duration": 468,
    "start_time": "2021-08-04T19:21:16.561Z"
   },
   {
    "duration": 202,
    "start_time": "2021-08-04T19:21:30.951Z"
   },
   {
    "duration": 230,
    "start_time": "2021-08-04T19:21:54.483Z"
   },
   {
    "duration": 12,
    "start_time": "2021-08-04T19:22:25.068Z"
   },
   {
    "duration": 2925,
    "start_time": "2021-08-04T19:22:53.316Z"
   },
   {
    "duration": 2689,
    "start_time": "2021-08-04T19:23:24.062Z"
   },
   {
    "duration": 258,
    "start_time": "2021-08-04T19:23:56.278Z"
   },
   {
    "duration": 221,
    "start_time": "2021-08-04T19:26:55.876Z"
   },
   {
    "duration": 408,
    "start_time": "2021-08-04T19:26:59.289Z"
   },
   {
    "duration": 222,
    "start_time": "2021-08-04T19:27:02.857Z"
   },
   {
    "duration": 246,
    "start_time": "2021-08-04T19:27:16.406Z"
   },
   {
    "duration": 224,
    "start_time": "2021-08-04T19:27:51.606Z"
   },
   {
    "duration": 230,
    "start_time": "2021-08-04T19:28:06.283Z"
   },
   {
    "duration": 236,
    "start_time": "2021-08-04T19:28:23.104Z"
   },
   {
    "duration": 225,
    "start_time": "2021-08-04T19:28:30.571Z"
   },
   {
    "duration": 221,
    "start_time": "2021-08-04T19:28:55.656Z"
   },
   {
    "duration": 206,
    "start_time": "2021-08-04T20:32:14.080Z"
   },
   {
    "duration": 419,
    "start_time": "2021-08-04T22:17:58.115Z"
   },
   {
    "duration": 905,
    "start_time": "2021-08-04T22:18:08.697Z"
   },
   {
    "duration": 138,
    "start_time": "2021-08-04T22:18:09.604Z"
   },
   {
    "duration": 881,
    "start_time": "2021-08-04T22:18:09.746Z"
   },
   {
    "duration": 618,
    "start_time": "2021-08-04T22:18:10.630Z"
   },
   {
    "duration": 451,
    "start_time": "2021-08-04T22:18:11.250Z"
   },
   {
    "duration": 340,
    "start_time": "2021-08-04T22:18:11.703Z"
   },
   {
    "duration": 381,
    "start_time": "2021-08-04T22:18:12.046Z"
   },
   {
    "duration": 478,
    "start_time": "2021-08-04T22:18:12.432Z"
   },
   {
    "duration": 449,
    "start_time": "2021-08-04T22:18:12.913Z"
   },
   {
    "duration": 237,
    "start_time": "2021-08-04T22:18:13.364Z"
   },
   {
    "duration": 949,
    "start_time": "2021-08-04T22:20:02.171Z"
   },
   {
    "duration": 489,
    "start_time": "2021-08-04T22:20:17.214Z"
   },
   {
    "duration": 432,
    "start_time": "2021-08-04T22:21:00.354Z"
   },
   {
    "duration": 506,
    "start_time": "2021-08-04T22:23:27.943Z"
   },
   {
    "duration": 434,
    "start_time": "2021-08-04T22:25:44.570Z"
   },
   {
    "duration": 425,
    "start_time": "2021-08-04T22:27:13.189Z"
   },
   {
    "duration": 408,
    "start_time": "2021-08-04T22:29:21.915Z"
   },
   {
    "duration": 431,
    "start_time": "2021-08-04T22:29:31.049Z"
   },
   {
    "duration": 392,
    "start_time": "2021-08-04T22:31:26.736Z"
   },
   {
    "duration": 421,
    "start_time": "2021-08-04T22:31:49.614Z"
   },
   {
    "duration": 1704,
    "start_time": "2021-08-04T22:35:29.018Z"
   },
   {
    "duration": 408,
    "start_time": "2021-08-04T22:35:50.657Z"
   },
   {
    "duration": 283,
    "start_time": "2021-08-04T22:36:40.752Z"
   },
   {
    "duration": 288,
    "start_time": "2021-08-04T22:36:49.905Z"
   },
   {
    "duration": 367,
    "start_time": "2021-08-04T22:37:24.897Z"
   },
   {
    "duration": 476,
    "start_time": "2021-08-04T22:37:44.382Z"
   },
   {
    "duration": 492,
    "start_time": "2021-08-04T22:40:36.146Z"
   },
   {
    "duration": 79674,
    "start_time": "2021-08-04T22:41:56.594Z"
   },
   {
    "duration": 1728,
    "start_time": "2021-08-04T22:56:51.391Z"
   },
   {
    "duration": 1611,
    "start_time": "2021-08-04T22:57:24.550Z"
   },
   {
    "duration": 716,
    "start_time": "2021-08-04T22:57:48.505Z"
   },
   {
    "duration": 699,
    "start_time": "2021-08-04T22:57:52.549Z"
   },
   {
    "duration": 597,
    "start_time": "2021-08-04T23:02:23.968Z"
   },
   {
    "duration": 421,
    "start_time": "2021-08-04T23:03:11.513Z"
   },
   {
    "duration": 418,
    "start_time": "2021-08-04T23:05:47.644Z"
   },
   {
    "duration": 411,
    "start_time": "2021-08-04T23:07:07.330Z"
   },
   {
    "duration": 81931,
    "start_time": "2021-08-04T23:14:32.269Z"
   },
   {
    "duration": 1092,
    "start_time": "2021-08-04T23:22:24.349Z"
   },
   {
    "duration": 875,
    "start_time": "2021-08-04T23:22:52.418Z"
   },
   {
    "duration": 1323,
    "start_time": "2021-08-04T23:23:30.553Z"
   },
   {
    "duration": 5111,
    "start_time": "2021-08-04T23:23:52.730Z"
   },
   {
    "duration": 833,
    "start_time": "2021-08-04T23:24:47.568Z"
   },
   {
    "duration": 452,
    "start_time": "2021-08-04T23:25:24.794Z"
   },
   {
    "duration": 462,
    "start_time": "2021-08-04T23:26:11.686Z"
   },
   {
    "duration": 4,
    "start_time": "2021-08-04T23:36:42.900Z"
   },
   {
    "duration": 345,
    "start_time": "2021-08-04T23:38:36.731Z"
   },
   {
    "duration": 360,
    "start_time": "2021-08-04T23:39:39.706Z"
   },
   {
    "duration": 7,
    "start_time": "2021-08-04T23:39:49.756Z"
   },
   {
    "duration": 332,
    "start_time": "2021-08-05T09:55:49.800Z"
   },
   {
    "duration": 924,
    "start_time": "2021-08-05T09:55:54.268Z"
   },
   {
    "duration": 133,
    "start_time": "2021-08-05T09:55:55.196Z"
   },
   {
    "duration": 950,
    "start_time": "2021-08-05T09:55:55.333Z"
   },
   {
    "duration": 694,
    "start_time": "2021-08-05T09:55:56.287Z"
   },
   {
    "duration": 428,
    "start_time": "2021-08-05T09:55:56.984Z"
   },
   {
    "duration": 312,
    "start_time": "2021-08-05T09:55:57.414Z"
   },
   {
    "duration": 375,
    "start_time": "2021-08-05T09:55:57.729Z"
   },
   {
    "duration": 486,
    "start_time": "2021-08-05T09:55:58.108Z"
   },
   {
    "duration": 464,
    "start_time": "2021-08-05T09:55:58.597Z"
   },
   {
    "duration": 431,
    "start_time": "2021-08-05T09:55:59.063Z"
   },
   {
    "duration": 410,
    "start_time": "2021-08-05T09:55:59.497Z"
   },
   {
    "duration": 387,
    "start_time": "2021-08-05T09:55:59.909Z"
   },
   {
    "duration": 499,
    "start_time": "2021-08-05T09:56:00.298Z"
   },
   {
    "duration": 412,
    "start_time": "2021-08-05T09:56:00.799Z"
   },
   {
    "duration": 419,
    "start_time": "2021-08-05T09:56:01.213Z"
   },
   {
    "duration": 414,
    "start_time": "2021-08-05T09:56:01.634Z"
   },
   {
    "duration": 29,
    "start_time": "2021-08-05T09:56:02.055Z"
   },
   {
    "duration": 84,
    "start_time": "2021-08-05T09:56:48.723Z"
   },
   {
    "duration": 37,
    "start_time": "2021-08-05T09:56:52.809Z"
   },
   {
    "duration": 28,
    "start_time": "2021-08-05T09:57:18.543Z"
   },
   {
    "duration": 316,
    "start_time": "2021-08-05T09:59:01.139Z"
   },
   {
    "duration": 275,
    "start_time": "2021-08-05T09:59:16.952Z"
   },
   {
    "duration": 27,
    "start_time": "2021-08-05T09:59:41.539Z"
   },
   {
    "duration": 314,
    "start_time": "2021-08-05T10:01:54.730Z"
   },
   {
    "duration": 9,
    "start_time": "2021-08-05T10:02:31.908Z"
   },
   {
    "duration": 271,
    "start_time": "2021-08-05T10:05:22.744Z"
   },
   {
    "duration": 141,
    "start_time": "2021-08-05T10:10:16.224Z"
   },
   {
    "duration": 87,
    "start_time": "2021-08-05T10:10:53.799Z"
   },
   {
    "duration": 265,
    "start_time": "2021-08-05T10:11:11.065Z"
   },
   {
    "duration": 293,
    "start_time": "2021-08-05T10:12:18.409Z"
   },
   {
    "duration": 25,
    "start_time": "2021-08-05T10:12:38.787Z"
   },
   {
    "duration": 26,
    "start_time": "2021-08-05T10:13:01.561Z"
   },
   {
    "duration": 295,
    "start_time": "2021-08-05T10:13:33.482Z"
   },
   {
    "duration": 6408,
    "start_time": "2021-08-05T10:13:47.585Z"
   },
   {
    "duration": 24,
    "start_time": "2021-08-05T10:14:35.923Z"
   },
   {
    "duration": 638,
    "start_time": "2021-08-05T10:16:55.410Z"
   },
   {
    "duration": 280,
    "start_time": "2021-08-05T10:17:37.602Z"
   },
   {
    "duration": 25,
    "start_time": "2021-08-05T10:17:42.543Z"
   },
   {
    "duration": 338,
    "start_time": "2021-08-05T10:19:40.741Z"
   },
   {
    "duration": 119,
    "start_time": "2021-08-05T10:43:06.333Z"
   },
   {
    "duration": 520,
    "start_time": "2021-08-05T10:45:33.558Z"
   },
   {
    "duration": 36,
    "start_time": "2021-08-05T10:46:14.171Z"
   },
   {
    "duration": 44,
    "start_time": "2021-08-05T10:53:18.435Z"
   },
   {
    "duration": 23,
    "start_time": "2021-08-05T10:54:36.744Z"
   },
   {
    "duration": 300,
    "start_time": "2021-08-05T10:55:25.795Z"
   },
   {
    "duration": 298,
    "start_time": "2021-08-05T10:55:58.546Z"
   },
   {
    "duration": 7957,
    "start_time": "2021-08-05T10:57:39.976Z"
   },
   {
    "duration": 24,
    "start_time": "2021-08-05T10:57:55.078Z"
   },
   {
    "duration": 38,
    "start_time": "2021-08-05T10:58:11.558Z"
   },
   {
    "duration": 21,
    "start_time": "2021-08-05T11:02:57.699Z"
   },
   {
    "duration": 23,
    "start_time": "2021-08-05T11:03:26.535Z"
   },
   {
    "duration": 34,
    "start_time": "2021-08-05T11:03:37.463Z"
   },
   {
    "duration": 611,
    "start_time": "2021-08-05T11:06:07.540Z"
   },
   {
    "duration": 658,
    "start_time": "2021-08-05T11:06:26.872Z"
   },
   {
    "duration": 45,
    "start_time": "2021-08-05T11:07:01.629Z"
   },
   {
    "duration": 42,
    "start_time": "2021-08-05T11:15:49.414Z"
   },
   {
    "duration": 45,
    "start_time": "2021-08-05T11:15:56.232Z"
   },
   {
    "duration": 43,
    "start_time": "2021-08-05T11:16:20.296Z"
   },
   {
    "duration": 44,
    "start_time": "2021-08-05T11:16:33.391Z"
   },
   {
    "duration": 43,
    "start_time": "2021-08-05T11:16:49.779Z"
   },
   {
    "duration": 43,
    "start_time": "2021-08-05T11:25:27.532Z"
   },
   {
    "duration": 28,
    "start_time": "2021-08-05T11:26:08.646Z"
   },
   {
    "duration": 558,
    "start_time": "2021-08-05T20:57:54.850Z"
   },
   {
    "duration": 991,
    "start_time": "2021-08-05T20:58:01.708Z"
   },
   {
    "duration": 140,
    "start_time": "2021-08-05T20:58:02.701Z"
   },
   {
    "duration": 830,
    "start_time": "2021-08-05T20:58:02.843Z"
   },
   {
    "duration": 568,
    "start_time": "2021-08-05T20:58:03.675Z"
   },
   {
    "duration": 423,
    "start_time": "2021-08-05T20:58:04.246Z"
   },
   {
    "duration": 327,
    "start_time": "2021-08-05T20:58:04.672Z"
   },
   {
    "duration": 363,
    "start_time": "2021-08-05T20:58:05.001Z"
   },
   {
    "duration": 424,
    "start_time": "2021-08-05T20:58:05.367Z"
   },
   {
    "duration": 399,
    "start_time": "2021-08-05T20:58:05.794Z"
   },
   {
    "duration": 437,
    "start_time": "2021-08-05T20:58:06.196Z"
   },
   {
    "duration": 398,
    "start_time": "2021-08-05T20:58:06.635Z"
   },
   {
    "duration": 383,
    "start_time": "2021-08-05T20:58:07.036Z"
   },
   {
    "duration": 477,
    "start_time": "2021-08-05T20:58:07.421Z"
   },
   {
    "duration": 400,
    "start_time": "2021-08-05T20:58:07.901Z"
   },
   {
    "duration": 391,
    "start_time": "2021-08-05T20:58:08.304Z"
   },
   {
    "duration": 378,
    "start_time": "2021-08-05T20:58:08.697Z"
   },
   {
    "duration": 436,
    "start_time": "2021-08-05T20:58:09.078Z"
   },
   {
    "duration": 612,
    "start_time": "2021-08-05T20:58:17.891Z"
   },
   {
    "duration": 562,
    "start_time": "2021-08-05T20:58:49.038Z"
   },
   {
    "duration": 707,
    "start_time": "2021-08-05T20:59:24.428Z"
   },
   {
    "duration": 554,
    "start_time": "2021-08-05T20:59:42.951Z"
   },
   {
    "duration": 568,
    "start_time": "2021-08-05T20:59:53.339Z"
   },
   {
    "duration": 573,
    "start_time": "2021-08-05T21:00:03.253Z"
   },
   {
    "duration": 1246,
    "start_time": "2021-08-05T21:00:52.486Z"
   },
   {
    "duration": 434,
    "start_time": "2021-08-05T21:01:04.326Z"
   },
   {
    "duration": 61,
    "start_time": "2021-08-05T21:02:55.447Z"
   },
   {
    "duration": 82,
    "start_time": "2021-08-05T21:03:21.904Z"
   },
   {
    "duration": 100,
    "start_time": "2021-08-05T21:03:34.437Z"
   },
   {
    "duration": 433,
    "start_time": "2021-08-05T21:03:47.558Z"
   },
   {
    "duration": 456,
    "start_time": "2021-08-05T21:07:24.947Z"
   },
   {
    "duration": 57,
    "start_time": "2021-08-05T21:07:49.042Z"
   },
   {
    "duration": 465,
    "start_time": "2021-08-05T21:10:50.801Z"
   },
   {
    "duration": 455,
    "start_time": "2021-08-05T21:10:56.889Z"
   },
   {
    "duration": 427,
    "start_time": "2021-08-05T21:15:20.769Z"
   },
   {
    "duration": 62,
    "start_time": "2021-08-05T21:15:26.766Z"
   },
   {
    "duration": 455,
    "start_time": "2021-08-05T21:15:35.656Z"
   },
   {
    "duration": 268,
    "start_time": "2021-08-05T21:23:38.975Z"
   },
   {
    "duration": 217,
    "start_time": "2021-08-05T21:23:43.683Z"
   },
   {
    "duration": 295,
    "start_time": "2021-08-05T21:24:27.684Z"
   },
   {
    "duration": 393,
    "start_time": "2021-08-05T21:24:42.887Z"
   },
   {
    "duration": 314,
    "start_time": "2021-08-05T21:26:20.476Z"
   },
   {
    "duration": 267,
    "start_time": "2021-08-05T21:42:05.960Z"
   },
   {
    "duration": 272,
    "start_time": "2021-08-05T21:42:22.835Z"
   },
   {
    "duration": 208,
    "start_time": "2021-08-05T21:42:52.815Z"
   },
   {
    "duration": 432,
    "start_time": "2021-08-05T21:43:35.902Z"
   },
   {
    "duration": 348,
    "start_time": "2021-08-05T21:43:55.960Z"
   },
   {
    "duration": 313,
    "start_time": "2021-08-05T21:46:18.546Z"
   },
   {
    "duration": 481,
    "start_time": "2021-08-05T21:47:39.561Z"
   },
   {
    "duration": 484,
    "start_time": "2021-08-05T21:47:56.753Z"
   },
   {
    "duration": 358,
    "start_time": "2021-08-05T21:48:19.145Z"
   },
   {
    "duration": 445,
    "start_time": "2021-08-05T21:49:50.274Z"
   },
   {
    "duration": 251,
    "start_time": "2021-08-05T21:53:14.831Z"
   },
   {
    "duration": 329,
    "start_time": "2021-08-05T21:53:53.497Z"
   },
   {
    "duration": 368,
    "start_time": "2021-08-05T21:55:04.815Z"
   },
   {
    "duration": 356,
    "start_time": "2021-08-05T21:55:40.728Z"
   },
   {
    "duration": 344,
    "start_time": "2021-08-05T21:56:14.593Z"
   },
   {
    "duration": 371,
    "start_time": "2021-08-05T21:56:32.205Z"
   },
   {
    "duration": 213,
    "start_time": "2021-08-05T21:56:37.889Z"
   },
   {
    "duration": 92,
    "start_time": "2021-08-05T21:57:09.335Z"
   },
   {
    "duration": 429,
    "start_time": "2021-08-05T21:57:16.100Z"
   },
   {
    "duration": 93,
    "start_time": "2021-08-05T21:57:21.693Z"
   },
   {
    "duration": 704,
    "start_time": "2021-08-05T21:57:33.410Z"
   },
   {
    "duration": 350,
    "start_time": "2021-08-05T21:58:27.172Z"
   },
   {
    "duration": 361,
    "start_time": "2021-08-05T21:59:31.708Z"
   },
   {
    "duration": 619,
    "start_time": "2021-08-05T21:59:56.147Z"
   },
   {
    "duration": 347,
    "start_time": "2021-08-05T22:00:08.091Z"
   },
   {
    "duration": 398,
    "start_time": "2021-08-05T22:00:33.940Z"
   },
   {
    "duration": 888,
    "start_time": "2021-08-05T22:01:10.429Z"
   },
   {
    "duration": 265,
    "start_time": "2021-08-05T22:17:13.955Z"
   },
   {
    "duration": 13,
    "start_time": "2021-08-05T22:17:20.756Z"
   },
   {
    "duration": 262,
    "start_time": "2021-08-05T22:49:57.979Z"
   },
   {
    "duration": 12,
    "start_time": "2021-08-05T22:50:51.823Z"
   },
   {
    "duration": 13,
    "start_time": "2021-08-05T22:51:12.339Z"
   },
   {
    "duration": 1265,
    "start_time": "2021-08-06T11:42:08.454Z"
   },
   {
    "duration": 201,
    "start_time": "2021-08-06T11:42:09.722Z"
   },
   {
    "duration": 1423,
    "start_time": "2021-08-06T11:42:09.927Z"
   },
   {
    "duration": 894,
    "start_time": "2021-08-06T11:42:11.354Z"
   },
   {
    "duration": 482,
    "start_time": "2021-08-06T11:42:12.251Z"
   },
   {
    "duration": 331,
    "start_time": "2021-08-06T11:42:12.736Z"
   },
   {
    "duration": 374,
    "start_time": "2021-08-06T11:42:13.069Z"
   },
   {
    "duration": 454,
    "start_time": "2021-08-06T11:42:13.447Z"
   },
   {
    "duration": 432,
    "start_time": "2021-08-06T11:42:13.904Z"
   },
   {
    "duration": 447,
    "start_time": "2021-08-06T11:42:14.338Z"
   },
   {
    "duration": 422,
    "start_time": "2021-08-06T11:42:14.788Z"
   },
   {
    "duration": 677,
    "start_time": "2021-08-06T11:42:15.212Z"
   },
   {
    "duration": 770,
    "start_time": "2021-08-06T11:42:15.892Z"
   },
   {
    "duration": 622,
    "start_time": "2021-08-06T11:42:16.665Z"
   },
   {
    "duration": 623,
    "start_time": "2021-08-06T11:42:17.290Z"
   },
   {
    "duration": 621,
    "start_time": "2021-08-06T11:42:17.916Z"
   },
   {
    "duration": 441,
    "start_time": "2021-08-06T11:42:18.540Z"
   },
   {
    "duration": 12,
    "start_time": "2021-08-06T11:42:18.983Z"
   },
   {
    "duration": 11,
    "start_time": "2021-08-06T12:26:41.634Z"
   },
   {
    "duration": 6601,
    "start_time": "2021-08-06T12:27:41.878Z"
   },
   {
    "duration": 356,
    "start_time": "2021-08-06T12:27:54.083Z"
   },
   {
    "duration": 41,
    "start_time": "2021-08-06T12:29:03.130Z"
   },
   {
    "duration": 435,
    "start_time": "2021-08-06T12:30:17.789Z"
   },
   {
    "duration": 47,
    "start_time": "2021-08-06T12:39:11.192Z"
   },
   {
    "duration": 44,
    "start_time": "2021-08-06T12:40:03.893Z"
   },
   {
    "duration": 43,
    "start_time": "2021-08-06T13:44:43.672Z"
   },
   {
    "duration": 40,
    "start_time": "2021-08-06T13:45:31.820Z"
   },
   {
    "duration": 41,
    "start_time": "2021-08-06T13:47:14.276Z"
   },
   {
    "duration": 43,
    "start_time": "2021-08-06T13:47:45.198Z"
   },
   {
    "duration": 8668,
    "start_time": "2021-08-06T14:18:59.943Z"
   },
   {
    "duration": 134,
    "start_time": "2021-08-06T14:19:35.639Z"
   },
   {
    "duration": 8823,
    "start_time": "2021-08-06T14:19:40.322Z"
   },
   {
    "duration": 8940,
    "start_time": "2021-08-06T14:20:01.029Z"
   },
   {
    "duration": 8583,
    "start_time": "2021-08-06T14:20:50.019Z"
   },
   {
    "duration": 40,
    "start_time": "2021-08-06T14:26:26.849Z"
   },
   {
    "duration": 41,
    "start_time": "2021-08-06T14:35:25.657Z"
   },
   {
    "duration": 41,
    "start_time": "2021-08-06T14:35:58.870Z"
   },
   {
    "duration": 657,
    "start_time": "2021-08-06T17:26:57.862Z"
   },
   {
    "duration": 89,
    "start_time": "2021-08-06T17:26:58.522Z"
   },
   {
    "duration": 516,
    "start_time": "2021-08-06T17:26:58.613Z"
   },
   {
    "duration": 391,
    "start_time": "2021-08-06T17:26:59.131Z"
   },
   {
    "duration": 271,
    "start_time": "2021-08-06T17:26:59.524Z"
   },
   {
    "duration": 198,
    "start_time": "2021-08-06T17:26:59.797Z"
   },
   {
    "duration": 236,
    "start_time": "2021-08-06T17:26:59.997Z"
   },
   {
    "duration": 283,
    "start_time": "2021-08-06T17:27:00.235Z"
   },
   {
    "duration": 284,
    "start_time": "2021-08-06T17:27:00.520Z"
   },
   {
    "duration": 293,
    "start_time": "2021-08-06T17:27:00.806Z"
   },
   {
    "duration": 276,
    "start_time": "2021-08-06T17:27:01.101Z"
   },
   {
    "duration": 278,
    "start_time": "2021-08-06T17:27:01.379Z"
   },
   {
    "duration": 359,
    "start_time": "2021-08-06T17:27:01.659Z"
   },
   {
    "duration": 279,
    "start_time": "2021-08-06T17:27:02.020Z"
   },
   {
    "duration": 260,
    "start_time": "2021-08-06T17:27:02.300Z"
   },
   {
    "duration": 272,
    "start_time": "2021-08-06T17:27:02.562Z"
   },
   {
    "duration": 231,
    "start_time": "2021-08-06T17:27:02.835Z"
   },
   {
    "duration": 284,
    "start_time": "2021-08-06T17:27:03.068Z"
   },
   {
    "duration": 209,
    "start_time": "2021-08-06T17:27:58.662Z"
   },
   {
    "duration": 195,
    "start_time": "2021-08-06T17:36:32.625Z"
   },
   {
    "duration": 193,
    "start_time": "2021-08-06T17:37:20.019Z"
   },
   {
    "duration": 200,
    "start_time": "2021-08-06T17:38:23.489Z"
   },
   {
    "duration": 28,
    "start_time": "2021-08-06T17:42:26.576Z"
   },
   {
    "duration": 313,
    "start_time": "2021-08-06T17:46:09.662Z"
   },
   {
    "duration": 83,
    "start_time": "2021-08-06T17:46:27.908Z"
   },
   {
    "duration": 1676,
    "start_time": "2021-08-06T17:46:39.609Z"
   },
   {
    "duration": 320,
    "start_time": "2021-08-06T17:47:03.562Z"
   },
   {
    "duration": 423,
    "start_time": "2021-08-06T17:54:04.345Z"
   },
   {
    "duration": 297,
    "start_time": "2021-08-06T17:54:06.839Z"
   },
   {
    "duration": 996,
    "start_time": "2021-08-06T17:55:54.296Z"
   },
   {
    "duration": 291,
    "start_time": "2021-08-06T17:56:35.078Z"
   },
   {
    "duration": 281,
    "start_time": "2021-08-06T18:04:28.714Z"
   },
   {
    "duration": 3337,
    "start_time": "2021-08-06T18:06:06.822Z"
   },
   {
    "duration": 199,
    "start_time": "2021-08-06T18:06:59.304Z"
   },
   {
    "duration": 595,
    "start_time": "2021-08-06T18:08:37.080Z"
   },
   {
    "duration": 3508,
    "start_time": "2021-08-06T18:08:44.809Z"
   },
   {
    "duration": 615,
    "start_time": "2021-08-06T18:18:12.574Z"
   },
   {
    "duration": 412,
    "start_time": "2021-08-06T18:19:18.075Z"
   },
   {
    "duration": 295,
    "start_time": "2021-08-06T18:19:23.983Z"
   },
   {
    "duration": 232,
    "start_time": "2021-08-06T18:29:55.035Z"
   },
   {
    "duration": 399,
    "start_time": "2021-08-06T18:31:15.203Z"
   },
   {
    "duration": 199,
    "start_time": "2021-08-06T18:36:59.169Z"
   },
   {
    "duration": 197,
    "start_time": "2021-08-06T18:37:13.009Z"
   },
   {
    "duration": 195,
    "start_time": "2021-08-06T18:37:57.535Z"
   },
   {
    "duration": 186,
    "start_time": "2021-08-06T18:38:39.071Z"
   },
   {
    "duration": 133,
    "start_time": "2021-08-06T18:38:44.404Z"
   },
   {
    "duration": 358,
    "start_time": "2021-08-06T18:38:56.305Z"
   },
   {
    "duration": 521,
    "start_time": "2021-08-06T18:39:41.852Z"
   },
   {
    "duration": 185,
    "start_time": "2021-08-06T18:41:21.965Z"
   },
   {
    "duration": 178,
    "start_time": "2021-08-06T18:59:21.451Z"
   },
   {
    "duration": 23,
    "start_time": "2021-08-06T18:59:38.281Z"
   },
   {
    "duration": 205,
    "start_time": "2021-08-06T19:01:00.096Z"
   },
   {
    "duration": 15,
    "start_time": "2021-08-06T19:01:19.298Z"
   },
   {
    "duration": 362,
    "start_time": "2021-08-06T19:04:06.424Z"
   },
   {
    "duration": 25,
    "start_time": "2021-08-06T19:04:15.445Z"
   },
   {
    "duration": 189,
    "start_time": "2021-08-06T19:04:58.858Z"
   },
   {
    "duration": 25,
    "start_time": "2021-08-06T19:41:34.570Z"
   },
   {
    "duration": 343,
    "start_time": "2021-08-06T19:42:08.227Z"
   },
   {
    "duration": 199,
    "start_time": "2021-08-06T19:47:00.344Z"
   },
   {
    "duration": 225,
    "start_time": "2021-08-06T19:47:08.636Z"
   },
   {
    "duration": 189,
    "start_time": "2021-08-06T19:47:27.584Z"
   },
   {
    "duration": 26,
    "start_time": "2021-08-06T19:49:18.702Z"
   },
   {
    "duration": 196,
    "start_time": "2021-08-06T19:58:16.527Z"
   },
   {
    "duration": 192,
    "start_time": "2021-08-06T19:58:37.751Z"
   },
   {
    "duration": 444,
    "start_time": "2021-08-06T20:06:11.739Z"
   },
   {
    "duration": 441,
    "start_time": "2021-08-06T20:06:54.094Z"
   },
   {
    "duration": 228,
    "start_time": "2021-08-06T20:07:08.079Z"
   },
   {
    "duration": 25,
    "start_time": "2021-08-06T20:19:29.359Z"
   },
   {
    "duration": 758,
    "start_time": "2021-08-06T20:23:32.201Z"
   },
   {
    "duration": 26,
    "start_time": "2021-08-06T20:23:44.311Z"
   },
   {
    "duration": 25,
    "start_time": "2021-08-06T20:24:19.671Z"
   },
   {
    "duration": 27,
    "start_time": "2021-08-06T20:24:51.310Z"
   },
   {
    "duration": 60,
    "start_time": "2021-08-06T20:25:19.368Z"
   },
   {
    "duration": 22,
    "start_time": "2021-08-06T20:25:23.550Z"
   },
   {
    "duration": 31,
    "start_time": "2021-08-06T20:39:11.654Z"
   },
   {
    "duration": 24,
    "start_time": "2021-08-06T20:39:27.959Z"
   },
   {
    "duration": 4261,
    "start_time": "2021-08-06T21:01:44.678Z"
   },
   {
    "duration": 22,
    "start_time": "2021-08-06T21:06:07.298Z"
   },
   {
    "duration": 4991,
    "start_time": "2021-08-06T21:08:33.856Z"
   },
   {
    "duration": 25,
    "start_time": "2021-08-06T21:09:16.116Z"
   },
   {
    "duration": 24,
    "start_time": "2021-08-06T21:11:22.476Z"
   },
   {
    "duration": 21,
    "start_time": "2021-08-06T21:11:34.712Z"
   },
   {
    "duration": 62,
    "start_time": "2021-08-06T21:13:20.503Z"
   },
   {
    "duration": 64,
    "start_time": "2021-08-06T21:13:59.876Z"
   },
   {
    "duration": 220,
    "start_time": "2021-08-06T21:14:08.857Z"
   },
   {
    "duration": 66,
    "start_time": "2021-08-06T21:15:05.650Z"
   },
   {
    "duration": 23,
    "start_time": "2021-08-06T21:16:11.504Z"
   },
   {
    "duration": 26,
    "start_time": "2021-08-06T21:16:29.466Z"
   },
   {
    "duration": 25,
    "start_time": "2021-08-06T21:17:15.982Z"
   },
   {
    "duration": 24,
    "start_time": "2021-08-06T21:17:34.786Z"
   },
   {
    "duration": 310,
    "start_time": "2021-08-06T21:22:02.334Z"
   },
   {
    "duration": 27,
    "start_time": "2021-08-06T21:22:15.787Z"
   },
   {
    "duration": 98,
    "start_time": "2021-08-06T21:22:28.342Z"
   },
   {
    "duration": 81,
    "start_time": "2021-08-06T21:22:28.442Z"
   },
   {
    "duration": 479,
    "start_time": "2021-08-06T21:22:28.525Z"
   },
   {
    "duration": 262,
    "start_time": "2021-08-06T21:22:29.006Z"
   },
   {
    "duration": 303,
    "start_time": "2021-08-06T21:22:29.269Z"
   },
   {
    "duration": 191,
    "start_time": "2021-08-06T21:22:29.574Z"
   },
   {
    "duration": 218,
    "start_time": "2021-08-06T21:22:29.766Z"
   },
   {
    "duration": 278,
    "start_time": "2021-08-06T21:22:29.987Z"
   },
   {
    "duration": 268,
    "start_time": "2021-08-06T21:22:30.267Z"
   },
   {
    "duration": 278,
    "start_time": "2021-08-06T21:22:30.537Z"
   },
   {
    "duration": 265,
    "start_time": "2021-08-06T21:22:30.817Z"
   },
   {
    "duration": 258,
    "start_time": "2021-08-06T21:22:31.085Z"
   },
   {
    "duration": 293,
    "start_time": "2021-08-06T21:22:31.344Z"
   },
   {
    "duration": 266,
    "start_time": "2021-08-06T21:22:31.639Z"
   },
   {
    "duration": 329,
    "start_time": "2021-08-06T21:22:31.907Z"
   },
   {
    "duration": 269,
    "start_time": "2021-08-06T21:22:32.237Z"
   },
   {
    "duration": 26,
    "start_time": "2021-08-06T21:22:32.508Z"
   },
   {
    "duration": 49,
    "start_time": "2021-08-06T21:22:32.536Z"
   },
   {
    "duration": 27,
    "start_time": "2021-08-06T21:45:00.874Z"
   },
   {
    "duration": 928,
    "start_time": "2021-08-06T21:57:08.568Z"
   },
   {
    "duration": 830,
    "start_time": "2021-08-06T21:57:48.596Z"
   },
   {
    "duration": 32,
    "start_time": "2021-08-06T21:58:02.328Z"
   },
   {
    "duration": 686,
    "start_time": "2021-08-06T21:58:14.979Z"
   },
   {
    "duration": 31,
    "start_time": "2021-08-06T21:58:21.803Z"
   },
   {
    "duration": 25,
    "start_time": "2021-08-06T21:59:38.773Z"
   },
   {
    "duration": 746,
    "start_time": "2021-08-06T22:07:00.702Z"
   },
   {
    "duration": 864,
    "start_time": "2021-08-06T22:07:09.803Z"
   },
   {
    "duration": 877,
    "start_time": "2021-08-06T22:08:10.483Z"
   },
   {
    "duration": 59,
    "start_time": "2021-08-06T22:08:44.577Z"
   },
   {
    "duration": 62,
    "start_time": "2021-08-06T22:08:53.109Z"
   },
   {
    "duration": 844,
    "start_time": "2021-08-06T22:09:21.045Z"
   },
   {
    "duration": 60,
    "start_time": "2021-08-06T22:11:34.852Z"
   },
   {
    "duration": 975,
    "start_time": "2021-08-06T22:11:41.672Z"
   },
   {
    "duration": 1266,
    "start_time": "2021-08-13T22:28:53.012Z"
   },
   {
    "duration": 143,
    "start_time": "2021-08-13T22:28:54.281Z"
   },
   {
    "duration": 1256,
    "start_time": "2021-08-13T22:28:54.427Z"
   },
   {
    "duration": 1288,
    "start_time": "2021-08-13T22:28:55.686Z"
   },
   {
    "duration": 712,
    "start_time": "2021-08-13T22:28:56.977Z"
   },
   {
    "duration": 515,
    "start_time": "2021-08-13T22:28:57.692Z"
   },
   {
    "duration": 600,
    "start_time": "2021-08-13T22:28:58.210Z"
   },
   {
    "duration": 739,
    "start_time": "2021-08-13T22:28:58.816Z"
   },
   {
    "duration": 531,
    "start_time": "2021-08-13T22:28:59.563Z"
   },
   {
    "duration": 467,
    "start_time": "2021-08-13T22:29:00.097Z"
   },
   {
    "duration": 423,
    "start_time": "2021-08-13T22:29:00.567Z"
   },
   {
    "duration": 412,
    "start_time": "2021-08-13T22:29:00.993Z"
   },
   {
    "duration": 539,
    "start_time": "2021-08-13T22:29:01.407Z"
   },
   {
    "duration": 525,
    "start_time": "2021-08-13T22:29:01.948Z"
   },
   {
    "duration": 410,
    "start_time": "2021-08-13T22:29:02.475Z"
   },
   {
    "duration": 411,
    "start_time": "2021-08-13T22:29:02.887Z"
   },
   {
    "duration": 45,
    "start_time": "2021-08-13T22:29:03.301Z"
   },
   {
    "duration": 1620,
    "start_time": "2021-08-13T22:29:03.363Z"
   },
   {
    "duration": 1912,
    "start_time": "2021-08-13T22:38:05.086Z"
   },
   {
    "duration": 44,
    "start_time": "2021-08-13T22:52:10.642Z"
   },
   {
    "duration": 1795,
    "start_time": "2021-08-13T22:55:01.138Z"
   },
   {
    "duration": 43,
    "start_time": "2021-08-13T23:01:14.883Z"
   },
   {
    "duration": 398,
    "start_time": "2021-08-13T23:02:36.140Z"
   },
   {
    "duration": 50,
    "start_time": "2021-08-13T23:04:06.492Z"
   },
   {
    "duration": 50,
    "start_time": "2021-08-13T23:27:45.039Z"
   },
   {
    "duration": 49,
    "start_time": "2021-08-13T23:28:09.340Z"
   },
   {
    "duration": 48,
    "start_time": "2021-08-13T23:28:18.402Z"
   },
   {
    "duration": 130,
    "start_time": "2021-08-13T23:28:42.166Z"
   },
   {
    "duration": 56,
    "start_time": "2021-08-13T23:28:55.601Z"
   },
   {
    "duration": 51,
    "start_time": "2021-08-13T23:29:38.857Z"
   },
   {
    "duration": 51,
    "start_time": "2021-08-13T23:30:05.129Z"
   },
   {
    "duration": 377,
    "start_time": "2021-08-13T23:34:36.131Z"
   },
   {
    "duration": 51,
    "start_time": "2021-08-13T23:34:50.889Z"
   },
   {
    "duration": 54,
    "start_time": "2021-08-13T23:35:02.731Z"
   },
   {
    "duration": 112,
    "start_time": "2021-08-13T23:36:14.312Z"
   },
   {
    "duration": 427,
    "start_time": "2021-08-13T23:36:29.816Z"
   },
   {
    "duration": 437,
    "start_time": "2021-08-13T23:37:37.360Z"
   },
   {
    "duration": 437,
    "start_time": "2021-08-13T23:37:51.340Z"
   },
   {
    "duration": 439,
    "start_time": "2021-08-13T23:38:19.762Z"
   },
   {
    "duration": 54,
    "start_time": "2021-08-13T23:38:40.651Z"
   },
   {
    "duration": 402,
    "start_time": "2021-08-13T23:38:52.998Z"
   },
   {
    "duration": 398,
    "start_time": "2021-08-13T23:55:35.292Z"
   },
   {
    "duration": 43,
    "start_time": "2021-08-13T23:55:47.728Z"
   },
   {
    "duration": 42,
    "start_time": "2021-08-13T23:56:27.233Z"
   },
   {
    "duration": 73,
    "start_time": "2021-08-13T23:56:49.435Z"
   },
   {
    "duration": 378,
    "start_time": "2021-08-14T00:03:26.739Z"
   },
   {
    "duration": 405,
    "start_time": "2021-08-14T00:07:07.773Z"
   },
   {
    "duration": 370,
    "start_time": "2021-08-14T00:07:24.817Z"
   },
   {
    "duration": 403,
    "start_time": "2021-08-14T00:07:37.074Z"
   },
   {
    "duration": 63,
    "start_time": "2021-08-14T00:07:46.907Z"
   },
   {
    "duration": 336,
    "start_time": "2021-08-14T00:09:49.689Z"
   },
   {
    "duration": 365,
    "start_time": "2021-08-14T00:21:47.387Z"
   },
   {
    "duration": 386,
    "start_time": "2021-08-14T00:21:55.525Z"
   },
   {
    "duration": 370,
    "start_time": "2021-08-14T11:42:02.848Z"
   },
   {
    "duration": 941,
    "start_time": "2021-08-14T11:42:08.950Z"
   },
   {
    "duration": 136,
    "start_time": "2021-08-14T11:42:09.894Z"
   },
   {
    "duration": 849,
    "start_time": "2021-08-14T11:42:10.033Z"
   },
   {
    "duration": 571,
    "start_time": "2021-08-14T11:42:10.885Z"
   },
   {
    "duration": 425,
    "start_time": "2021-08-14T11:42:11.458Z"
   },
   {
    "duration": 325,
    "start_time": "2021-08-14T11:42:11.885Z"
   },
   {
    "duration": 374,
    "start_time": "2021-08-14T11:42:12.212Z"
   },
   {
    "duration": 448,
    "start_time": "2021-08-14T11:42:12.589Z"
   },
   {
    "duration": 431,
    "start_time": "2021-08-14T11:42:13.040Z"
   },
   {
    "duration": 434,
    "start_time": "2021-08-14T11:42:13.473Z"
   },
   {
    "duration": 418,
    "start_time": "2021-08-14T11:42:13.909Z"
   },
   {
    "duration": 397,
    "start_time": "2021-08-14T11:42:14.329Z"
   },
   {
    "duration": 517,
    "start_time": "2021-08-14T11:42:14.728Z"
   },
   {
    "duration": 421,
    "start_time": "2021-08-14T11:42:15.247Z"
   },
   {
    "duration": 411,
    "start_time": "2021-08-14T11:42:15.671Z"
   },
   {
    "duration": 413,
    "start_time": "2021-08-14T11:42:16.084Z"
   },
   {
    "duration": 55,
    "start_time": "2021-08-14T11:42:16.500Z"
   },
   {
    "duration": 45,
    "start_time": "2021-08-14T11:42:16.558Z"
   },
   {
    "duration": 45,
    "start_time": "2021-08-14T11:44:34.342Z"
   },
   {
    "duration": 320,
    "start_time": "2021-08-14T11:46:47.408Z"
   },
   {
    "duration": 362,
    "start_time": "2021-08-14T11:47:01.708Z"
   },
   {
    "duration": 263,
    "start_time": "2021-08-14T11:47:15.725Z"
   },
   {
    "duration": 312,
    "start_time": "2021-08-14T11:47:31.042Z"
   },
   {
    "duration": 21,
    "start_time": "2021-08-14T11:47:42.626Z"
   },
   {
    "duration": 43,
    "start_time": "2021-08-14T11:48:06.708Z"
   },
   {
    "duration": 46,
    "start_time": "2021-08-14T11:48:28.098Z"
   },
   {
    "duration": 267,
    "start_time": "2021-08-14T11:48:38.785Z"
   },
   {
    "duration": 47,
    "start_time": "2021-08-14T11:50:34.149Z"
   },
   {
    "duration": 48,
    "start_time": "2021-08-14T11:50:42.894Z"
   },
   {
    "duration": 64,
    "start_time": "2021-08-14T13:28:03.314Z"
   },
   {
    "duration": 62,
    "start_time": "2021-08-14T13:28:14.917Z"
   },
   {
    "duration": 326,
    "start_time": "2021-08-14T13:33:07.060Z"
   },
   {
    "duration": 601,
    "start_time": "2021-08-14T13:45:49.942Z"
   },
   {
    "duration": 328,
    "start_time": "2021-08-14T13:46:01.313Z"
   },
   {
    "duration": 1269,
    "start_time": "2021-08-14T13:47:00.749Z"
   },
   {
    "duration": 309,
    "start_time": "2021-08-14T13:47:25.330Z"
   },
   {
    "duration": 319,
    "start_time": "2021-08-14T13:47:53.803Z"
   },
   {
    "duration": 409,
    "start_time": "2021-08-14T15:38:47.385Z"
   },
   {
    "duration": 7,
    "start_time": "2021-08-14T15:39:09.033Z"
   },
   {
    "duration": 36,
    "start_time": "2021-08-14T15:39:31.048Z"
   },
   {
    "duration": 265,
    "start_time": "2021-08-14T15:46:42.731Z"
   },
   {
    "duration": 263,
    "start_time": "2021-08-14T15:46:47.923Z"
   },
   {
    "duration": 252,
    "start_time": "2021-08-14T15:47:21.897Z"
   },
   {
    "duration": 82,
    "start_time": "2021-08-14T15:51:00.320Z"
   },
   {
    "duration": 335,
    "start_time": "2021-08-14T15:51:34.574Z"
   },
   {
    "duration": 22,
    "start_time": "2021-08-14T15:52:02.262Z"
   },
   {
    "duration": 39,
    "start_time": "2021-08-14T15:52:21.293Z"
   },
   {
    "duration": 25,
    "start_time": "2021-08-14T15:53:01.464Z"
   },
   {
    "duration": 6669,
    "start_time": "2021-08-14T15:54:37.729Z"
   },
   {
    "duration": 277,
    "start_time": "2021-08-14T15:55:25.908Z"
   },
   {
    "duration": 28,
    "start_time": "2021-08-14T15:55:38.480Z"
   },
   {
    "duration": 26,
    "start_time": "2021-08-14T15:55:52.337Z"
   },
   {
    "duration": 6421,
    "start_time": "2021-08-14T15:56:02.961Z"
   },
   {
    "duration": 307,
    "start_time": "2021-08-14T15:56:24.808Z"
   },
   {
    "duration": 275,
    "start_time": "2021-08-14T15:56:36.387Z"
   },
   {
    "duration": 35,
    "start_time": "2021-08-14T15:56:57.750Z"
   },
   {
    "duration": 45,
    "start_time": "2021-08-14T15:57:14.204Z"
   },
   {
    "duration": 627,
    "start_time": "2021-08-16T16:40:02.120Z"
   },
   {
    "duration": 1215,
    "start_time": "2021-08-16T16:40:11.457Z"
   },
   {
    "duration": 152,
    "start_time": "2021-08-16T16:40:12.674Z"
   },
   {
    "duration": 892,
    "start_time": "2021-08-16T16:40:12.829Z"
   },
   {
    "duration": 686,
    "start_time": "2021-08-16T16:40:13.724Z"
   },
   {
    "duration": 452,
    "start_time": "2021-08-16T16:40:14.413Z"
   },
   {
    "duration": 347,
    "start_time": "2021-08-16T16:40:14.867Z"
   },
   {
    "duration": 383,
    "start_time": "2021-08-16T16:40:15.217Z"
   },
   {
    "duration": 526,
    "start_time": "2021-08-16T16:40:15.604Z"
   },
   {
    "duration": 451,
    "start_time": "2021-08-16T16:40:16.133Z"
   },
   {
    "duration": 432,
    "start_time": "2021-08-16T16:40:16.589Z"
   },
   {
    "duration": 435,
    "start_time": "2021-08-16T16:40:17.024Z"
   },
   {
    "duration": 539,
    "start_time": "2021-08-16T16:40:17.461Z"
   },
   {
    "duration": 521,
    "start_time": "2021-08-16T16:40:18.002Z"
   },
   {
    "duration": 431,
    "start_time": "2021-08-16T16:40:18.525Z"
   },
   {
    "duration": 511,
    "start_time": "2021-08-16T16:40:18.958Z"
   },
   {
    "duration": 596,
    "start_time": "2021-08-16T16:40:19.473Z"
   },
   {
    "duration": 49,
    "start_time": "2021-08-16T16:40:20.072Z"
   },
   {
    "duration": 388,
    "start_time": "2021-08-16T16:40:20.124Z"
   },
   {
    "duration": 108,
    "start_time": "2021-08-16T16:40:20.515Z"
   },
   {
    "duration": 86,
    "start_time": "2021-08-16T16:40:58.493Z"
   },
   {
    "duration": 446,
    "start_time": "2021-08-17T23:06:27.539Z"
   },
   {
    "duration": 877,
    "start_time": "2021-08-17T23:06:34.936Z"
   },
   {
    "duration": 130,
    "start_time": "2021-08-17T23:06:35.815Z"
   },
   {
    "duration": 812,
    "start_time": "2021-08-17T23:06:35.948Z"
   },
   {
    "duration": 557,
    "start_time": "2021-08-17T23:06:36.763Z"
   },
   {
    "duration": 421,
    "start_time": "2021-08-17T23:06:37.322Z"
   },
   {
    "duration": 315,
    "start_time": "2021-08-17T23:06:37.746Z"
   },
   {
    "duration": 372,
    "start_time": "2021-08-17T23:06:38.063Z"
   },
   {
    "duration": 470,
    "start_time": "2021-08-17T23:06:38.438Z"
   },
   {
    "duration": 403,
    "start_time": "2021-08-17T23:06:38.912Z"
   },
   {
    "duration": 417,
    "start_time": "2021-08-17T23:06:39.318Z"
   },
   {
    "duration": 415,
    "start_time": "2021-08-17T23:06:39.737Z"
   },
   {
    "duration": 421,
    "start_time": "2021-08-17T23:06:40.154Z"
   },
   {
    "duration": 544,
    "start_time": "2021-08-17T23:06:40.578Z"
   },
   {
    "duration": 408,
    "start_time": "2021-08-17T23:06:41.124Z"
   },
   {
    "duration": 405,
    "start_time": "2021-08-17T23:06:41.534Z"
   },
   {
    "duration": 406,
    "start_time": "2021-08-17T23:06:41.942Z"
   },
   {
    "duration": 55,
    "start_time": "2021-08-17T23:06:42.351Z"
   },
   {
    "duration": 354,
    "start_time": "2021-08-17T23:06:42.408Z"
   },
   {
    "duration": 78,
    "start_time": "2021-08-17T23:06:42.764Z"
   },
   {
    "duration": 77,
    "start_time": "2021-08-17T23:07:59.654Z"
   },
   {
    "duration": 97,
    "start_time": "2021-08-17T23:30:17.713Z"
   },
   {
    "duration": 295,
    "start_time": "2021-08-17T23:34:45.745Z"
   },
   {
    "duration": 289,
    "start_time": "2021-08-17T23:46:44.923Z"
   },
   {
    "duration": 810,
    "start_time": "2021-08-17T23:51:56.480Z"
   },
   {
    "duration": 340,
    "start_time": "2021-08-17T23:52:21.834Z"
   },
   {
    "duration": 3,
    "start_time": "2021-08-17T23:56:51.422Z"
   },
   {
    "duration": 288,
    "start_time": "2021-08-17T23:57:43.239Z"
   },
   {
    "duration": 1374,
    "start_time": "2021-08-18T00:08:51.846Z"
   },
   {
    "duration": 339,
    "start_time": "2021-08-18T00:09:12.407Z"
   },
   {
    "duration": 340,
    "start_time": "2021-08-18T00:19:29.661Z"
   },
   {
    "duration": 650,
    "start_time": "2021-08-18T06:03:36.906Z"
   },
   {
    "duration": 83,
    "start_time": "2021-08-18T06:03:37.558Z"
   },
   {
    "duration": 353,
    "start_time": "2021-08-18T06:03:37.643Z"
   },
   {
    "duration": 132889,
    "start_time": "2021-08-18T06:03:37.998Z"
   },
   {
    "duration": 358,
    "start_time": "2021-08-18T06:05:50.889Z"
   },
   {
    "duration": 293,
    "start_time": "2021-08-18T06:05:51.248Z"
   },
   {
    "duration": 219,
    "start_time": "2021-08-18T06:05:51.543Z"
   },
   {
    "duration": 265,
    "start_time": "2021-08-18T06:05:51.764Z"
   },
   {
    "duration": 312,
    "start_time": "2021-08-18T06:05:52.031Z"
   },
   {
    "duration": 310,
    "start_time": "2021-08-18T06:05:52.345Z"
   },
   {
    "duration": 256,
    "start_time": "2021-08-18T06:05:52.657Z"
   },
   {
    "duration": 249,
    "start_time": "2021-08-18T06:05:52.916Z"
   },
   {
    "duration": 298,
    "start_time": "2021-08-18T06:05:53.167Z"
   },
   {
    "duration": 262,
    "start_time": "2021-08-18T06:05:53.467Z"
   },
   {
    "duration": 257,
    "start_time": "2021-08-18T06:05:53.731Z"
   },
   {
    "duration": 264,
    "start_time": "2021-08-18T06:05:53.990Z"
   },
   {
    "duration": 23,
    "start_time": "2021-08-18T06:05:54.256Z"
   },
   {
    "duration": 231,
    "start_time": "2021-08-18T06:05:54.281Z"
   },
   {
    "duration": 67,
    "start_time": "2021-08-18T06:05:54.514Z"
   },
   {
    "duration": 205,
    "start_time": "2021-08-18T06:05:54.583Z"
   },
   {
    "duration": 211,
    "start_time": "2021-08-18T06:05:54.790Z"
   },
   {
    "duration": 209,
    "start_time": "2021-08-18T06:05:55.003Z"
   },
   {
    "duration": 334,
    "start_time": "2021-08-18T06:05:55.215Z"
   },
   {
    "duration": 343,
    "start_time": "2021-08-18T06:09:21.024Z"
   },
   {
    "duration": 27,
    "start_time": "2021-08-18T06:09:53.676Z"
   },
   {
    "duration": 6,
    "start_time": "2021-08-18T06:10:11.087Z"
   },
   {
    "duration": 313,
    "start_time": "2021-08-19T13:55:31.466Z"
   },
   {
    "duration": 896,
    "start_time": "2021-08-19T13:55:36.414Z"
   },
   {
    "duration": 128,
    "start_time": "2021-08-19T13:55:37.313Z"
   },
   {
    "duration": 1141,
    "start_time": "2021-08-19T13:55:37.444Z"
   },
   {
    "duration": 785,
    "start_time": "2021-08-19T13:55:38.588Z"
   },
   {
    "duration": 974,
    "start_time": "2021-08-19T13:55:38.404Z"
   },
   {
    "duration": 972,
    "start_time": "2021-08-19T13:55:38.408Z"
   },
   {
    "duration": 965,
    "start_time": "2021-08-19T13:55:38.418Z"
   },
   {
    "duration": 951,
    "start_time": "2021-08-19T13:55:38.433Z"
   },
   {
    "duration": 948,
    "start_time": "2021-08-19T13:55:38.438Z"
   },
   {
    "duration": 946,
    "start_time": "2021-08-19T13:55:38.441Z"
   },
   {
    "duration": 943,
    "start_time": "2021-08-19T13:55:38.445Z"
   },
   {
    "duration": 939,
    "start_time": "2021-08-19T13:55:38.451Z"
   },
   {
    "duration": 937,
    "start_time": "2021-08-19T13:55:38.455Z"
   },
   {
    "duration": 936,
    "start_time": "2021-08-19T13:55:38.458Z"
   },
   {
    "duration": 933,
    "start_time": "2021-08-19T13:55:38.462Z"
   },
   {
    "duration": 931,
    "start_time": "2021-08-19T13:55:38.466Z"
   },
   {
    "duration": 928,
    "start_time": "2021-08-19T13:55:38.470Z"
   },
   {
    "duration": 915,
    "start_time": "2021-08-19T13:55:38.485Z"
   },
   {
    "duration": 909,
    "start_time": "2021-08-19T13:55:38.492Z"
   },
   {
    "duration": 907,
    "start_time": "2021-08-19T13:55:38.495Z"
   },
   {
    "duration": 904,
    "start_time": "2021-08-19T13:55:38.500Z"
   },
   {
    "duration": 950,
    "start_time": "2021-08-19T13:55:38.504Z"
   },
   {
    "duration": 949,
    "start_time": "2021-08-19T13:55:38.507Z"
   },
   {
    "duration": 946,
    "start_time": "2021-08-19T13:55:38.511Z"
   },
   {
    "duration": 957,
    "start_time": "2021-08-19T13:55:38.514Z"
   },
   {
    "duration": 694,
    "start_time": "2021-08-19T13:56:50.821Z"
   },
   {
    "duration": 416,
    "start_time": "2021-08-19T14:13:18.894Z"
   },
   {
    "duration": 237,
    "start_time": "2021-08-19T14:24:03.953Z"
   },
   {
    "duration": 206,
    "start_time": "2021-08-19T14:24:04.194Z"
   },
   {
    "duration": 1151,
    "start_time": "2021-08-19T14:24:04.406Z"
   },
   {
    "duration": 694,
    "start_time": "2021-08-19T14:24:05.566Z"
   },
   {
    "duration": 461,
    "start_time": "2021-08-19T14:24:06.264Z"
   },
   {
    "duration": 366,
    "start_time": "2021-08-19T14:24:06.727Z"
   },
   {
    "duration": 478,
    "start_time": "2021-08-19T14:24:07.095Z"
   },
   {
    "duration": 474,
    "start_time": "2021-08-19T14:24:07.577Z"
   },
   {
    "duration": 455,
    "start_time": "2021-08-19T14:24:08.062Z"
   },
   {
    "duration": 465,
    "start_time": "2021-08-19T14:24:08.519Z"
   },
   {
    "duration": 872,
    "start_time": "2021-08-19T14:24:08.986Z"
   },
   {
    "duration": 673,
    "start_time": "2021-08-19T14:24:09.863Z"
   },
   {
    "duration": 555,
    "start_time": "2021-08-19T14:24:10.539Z"
   },
   {
    "duration": 457,
    "start_time": "2021-08-19T14:24:11.097Z"
   },
   {
    "duration": 458,
    "start_time": "2021-08-19T14:24:11.557Z"
   },
   {
    "duration": 440,
    "start_time": "2021-08-19T14:24:12.018Z"
   },
   {
    "duration": 137,
    "start_time": "2021-08-19T14:24:12.461Z"
   },
   {
    "duration": 388,
    "start_time": "2021-08-19T14:24:12.600Z"
   },
   {
    "duration": 143,
    "start_time": "2021-08-19T14:24:12.991Z"
   },
   {
    "duration": 556,
    "start_time": "2021-08-19T14:24:13.137Z"
   },
   {
    "duration": 367,
    "start_time": "2021-08-19T14:24:13.696Z"
   },
   {
    "duration": 375,
    "start_time": "2021-08-19T14:24:14.068Z"
   },
   {
    "duration": 468,
    "start_time": "2021-08-19T14:24:14.448Z"
   },
   {
    "duration": 281,
    "start_time": "2021-08-19T14:24:14.918Z"
   },
   {
    "duration": 966,
    "start_time": "2021-08-19T14:24:14.235Z"
   },
   {
    "duration": 257,
    "start_time": "2021-08-19T14:50:59.206Z"
   },
   {
    "duration": 261,
    "start_time": "2021-08-19T14:51:16.557Z"
   },
   {
    "duration": 337,
    "start_time": "2021-08-19T16:25:48.618Z"
   },
   {
    "duration": 11904,
    "start_time": "2021-08-19T16:25:54.624Z"
   },
   {
    "duration": 261,
    "start_time": "2021-08-19T16:26:31.700Z"
   },
   {
    "duration": 11801,
    "start_time": "2021-08-19T16:29:19.927Z"
   },
   {
    "duration": 3937,
    "start_time": "2021-08-19T16:46:07.575Z"
   },
   {
    "duration": 21610,
    "start_time": "2021-08-19T16:46:37.088Z"
   },
   {
    "duration": 4189,
    "start_time": "2021-08-19T16:52:28.984Z"
   },
   {
    "duration": 173,
    "start_time": "2021-08-19T16:53:18.778Z"
   },
   {
    "duration": 6327,
    "start_time": "2021-08-19T16:53:36.620Z"
   },
   {
    "duration": 6970,
    "start_time": "2021-08-19T16:53:55.335Z"
   },
   {
    "duration": 251,
    "start_time": "2021-08-19T16:54:16.986Z"
   },
   {
    "duration": 7,
    "start_time": "2021-08-19T16:54:31.312Z"
   },
   {
    "duration": 9,
    "start_time": "2021-08-19T16:54:55.588Z"
   },
   {
    "duration": 6148,
    "start_time": "2021-08-19T16:55:22.254Z"
   },
   {
    "duration": 258,
    "start_time": "2021-08-19T17:03:36.187Z"
   },
   {
    "duration": 1008,
    "start_time": "2021-08-19T17:03:50.530Z"
   },
   {
    "duration": 1749,
    "start_time": "2021-08-19T17:04:14.562Z"
   },
   {
    "duration": 8,
    "start_time": "2021-08-19T17:04:32.386Z"
   },
   {
    "duration": 21657,
    "start_time": "2021-08-19T17:04:50.177Z"
   },
   {
    "duration": 30750,
    "start_time": "2021-08-19T17:07:16.043Z"
   },
   {
    "duration": 39020,
    "start_time": "2021-08-19T17:08:08.630Z"
   },
   {
    "duration": 291,
    "start_time": "2021-08-19T17:22:35.545Z"
   },
   {
    "duration": 6507,
    "start_time": "2021-08-19T17:53:19.856Z"
   },
   {
    "duration": 50233,
    "start_time": "2021-08-19T18:48:34.378Z"
   },
   {
    "duration": 289,
    "start_time": "2021-08-19T20:02:06.784Z"
   },
   {
    "duration": 529,
    "start_time": "2021-08-19T20:02:13.231Z"
   },
   {
    "duration": 629,
    "start_time": "2021-08-19T20:02:31.434Z"
   },
   {
    "duration": 507,
    "start_time": "2021-08-19T20:03:17.163Z"
   },
   {
    "duration": 1455,
    "start_time": "2021-08-19T20:03:26.113Z"
   },
   {
    "duration": 706,
    "start_time": "2021-08-19T20:04:08.398Z"
   },
   {
    "duration": 421,
    "start_time": "2021-08-19T20:04:36.341Z"
   },
   {
    "duration": 332,
    "start_time": "2021-08-19T20:05:06.869Z"
   },
   {
    "duration": 433,
    "start_time": "2021-08-19T20:05:38.556Z"
   },
   {
    "duration": 325,
    "start_time": "2021-08-19T20:05:55.583Z"
   },
   {
    "duration": 366,
    "start_time": "2021-08-19T20:06:03.871Z"
   },
   {
    "duration": 372,
    "start_time": "2021-08-19T20:06:16.694Z"
   },
   {
    "duration": 321,
    "start_time": "2021-08-19T20:06:22.070Z"
   },
   {
    "duration": 437,
    "start_time": "2021-08-19T20:06:29.470Z"
   },
   {
    "duration": 418,
    "start_time": "2021-08-19T20:07:36.113Z"
   },
   {
    "duration": 507,
    "start_time": "2021-08-19T20:08:19.656Z"
   },
   {
    "duration": 418,
    "start_time": "2021-08-19T20:11:12.348Z"
   },
   {
    "duration": 448,
    "start_time": "2021-08-19T20:11:48.581Z"
   },
   {
    "duration": 424,
    "start_time": "2021-08-19T20:12:13.675Z"
   },
   {
    "duration": 4,
    "start_time": "2021-08-19T20:12:51.421Z"
   },
   {
    "duration": 7149,
    "start_time": "2021-08-19T22:02:40.563Z"
   },
   {
    "duration": 293,
    "start_time": "2021-08-19T22:03:50.415Z"
   },
   {
    "duration": 277,
    "start_time": "2021-08-19T22:04:09.995Z"
   },
   {
    "duration": 1041,
    "start_time": "2021-08-19T22:04:22.740Z"
   },
   {
    "duration": 296,
    "start_time": "2021-08-19T22:04:30.502Z"
   },
   {
    "duration": 271,
    "start_time": "2021-08-19T22:05:37.076Z"
   },
   {
    "duration": 782,
    "start_time": "2021-08-19T22:05:53.383Z"
   },
   {
    "duration": 889,
    "start_time": "2021-08-19T22:06:01.830Z"
   },
   {
    "duration": 414,
    "start_time": "2021-08-19T22:14:37.162Z"
   },
   {
    "duration": 423,
    "start_time": "2021-08-19T22:14:56.951Z"
   },
   {
    "duration": 430,
    "start_time": "2021-08-19T22:16:15.862Z"
   },
   {
    "duration": 1179,
    "start_time": "2021-08-19T22:16:21.408Z"
   },
   {
    "duration": 801,
    "start_time": "2021-08-19T22:16:39.766Z"
   },
   {
    "duration": 413,
    "start_time": "2021-08-19T22:17:21.124Z"
   },
   {
    "duration": 787,
    "start_time": "2021-08-19T22:17:47.887Z"
   },
   {
    "duration": 419,
    "start_time": "2021-08-19T22:18:15.422Z"
   },
   {
    "duration": 856,
    "start_time": "2021-08-19T22:56:59.800Z"
   },
   {
    "duration": 416,
    "start_time": "2021-08-20T10:30:50.292Z"
   },
   {
    "duration": 1064,
    "start_time": "2021-08-20T10:30:55.593Z"
   },
   {
    "duration": 128,
    "start_time": "2021-08-20T10:30:56.663Z"
   },
   {
    "duration": 838,
    "start_time": "2021-08-20T10:30:56.795Z"
   },
   {
    "duration": 1587,
    "start_time": "2021-08-20T10:30:57.636Z"
   },
   {
    "duration": 453,
    "start_time": "2021-08-20T10:30:59.227Z"
   },
   {
    "duration": 356,
    "start_time": "2021-08-20T10:30:59.683Z"
   },
   {
    "duration": 395,
    "start_time": "2021-08-20T10:31:00.042Z"
   },
   {
    "duration": 433,
    "start_time": "2021-08-20T10:31:00.442Z"
   },
   {
    "duration": 471,
    "start_time": "2021-08-20T10:31:00.878Z"
   },
   {
    "duration": 465,
    "start_time": "2021-08-20T10:31:01.352Z"
   },
   {
    "duration": 523,
    "start_time": "2021-08-20T10:31:01.819Z"
   },
   {
    "duration": 412,
    "start_time": "2021-08-20T10:31:02.345Z"
   },
   {
    "duration": 460,
    "start_time": "2021-08-20T10:31:02.759Z"
   },
   {
    "duration": 454,
    "start_time": "2021-08-20T10:31:03.222Z"
   },
   {
    "duration": 841,
    "start_time": "2021-08-20T10:31:03.679Z"
   },
   {
    "duration": 425,
    "start_time": "2021-08-20T10:31:04.522Z"
   },
   {
    "duration": 421,
    "start_time": "2021-08-20T10:31:04.950Z"
   },
   {
    "duration": 45,
    "start_time": "2021-08-20T10:31:05.374Z"
   },
   {
    "duration": 387,
    "start_time": "2021-08-20T10:31:05.422Z"
   },
   {
    "duration": 113,
    "start_time": "2021-08-20T10:31:05.811Z"
   },
   {
    "duration": 366,
    "start_time": "2021-08-20T10:31:05.927Z"
   },
   {
    "duration": 348,
    "start_time": "2021-08-20T10:31:06.296Z"
   },
   {
    "duration": 432,
    "start_time": "2021-08-20T10:31:06.661Z"
   },
   {
    "duration": 402,
    "start_time": "2021-08-20T10:31:07.095Z"
   },
   {
    "duration": 415,
    "start_time": "2021-08-20T10:31:07.499Z"
   },
   {
    "duration": 1061,
    "start_time": "2021-08-20T10:31:06.856Z"
   },
   {
    "duration": 335,
    "start_time": "2021-08-20T10:31:14.455Z"
   },
   {
    "duration": 409,
    "start_time": "2021-08-20T10:31:34.413Z"
   },
   {
    "duration": 115,
    "start_time": "2021-08-20T10:31:57.585Z"
   },
   {
    "duration": 3,
    "start_time": "2021-08-20T11:19:30.431Z"
   },
   {
    "duration": 451,
    "start_time": "2021-08-20T11:20:09.970Z"
   }
  ],
  "kernelspec": {
   "display_name": "Python 3 (ipykernel)",
   "language": "python",
   "name": "python3"
  },
  "language_info": {
   "codemirror_mode": {
    "name": "ipython",
    "version": 3
   },
   "file_extension": ".py",
   "mimetype": "text/x-python",
   "name": "python",
   "nbconvert_exporter": "python",
   "pygments_lexer": "ipython3",
   "version": "3.7.8"
  },
  "toc": {
   "base_numbering": 1,
   "nav_menu": {},
   "number_sections": true,
   "sideBar": true,
   "skip_h1_title": true,
   "title_cell": "Содержание",
   "title_sidebar": "Contents",
   "toc_cell": true,
   "toc_position": {
    "height": "calc(100% - 180px)",
    "left": "10px",
    "top": "150px",
    "width": "226.528px"
   },
   "toc_section_display": true,
   "toc_window_display": true
  }
 },
 "nbformat": 4,
 "nbformat_minor": 2
}
